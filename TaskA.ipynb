{
  "cells": [
    {
      "cell_type": "markdown",
      "metadata": {
        "id": "ALrsepd2GP0x"
      },
      "source": [
        "# EMit - Emotions in Italian\n",
        "## Emotion and Target detection\n",
        "### Emanuele Muzio - 0766230\n",
        "Il presente notebook rappresenta un'illustrazione dello svolgimento dei due task del contest EMit (Emotions in Italian):\n",
        "- il primo task, o Task A, è mirato alla classificazione dei sentimenti espressi dai messaggi sui social media riguardanti i prodotti RAI\n",
        "- il secondo task, o Task B, è mirato alla classificazione del target del messaggio, se sul topic o sulla direzione\n",
        "Entrambi i task sono classificazione multiclasse e multilabel (nel Task A abbiamo 8 emozioni di base, più _Love_, nel Task B il target può essere uno dei due, entrambi o nessuno).\n",
        "\n",
        "Ai fini della valutazione dei due task, sono stati forniti dei dataset da utilizzare sia per l'addestramento che per i test, comprensivi di annotazioni.\n",
        "\n",
        "Per i test del modello sono stati forniti nello specifico due dataset: uno con dati presi all'interno del dominio dei messaggi relativi alle trasmissioni RAI, uno con dati presi fuori da questo dominio (detti OOD, Out of Domain)."
      ]
    },
    {
      "cell_type": "code",
      "source": [
        "!pip install nltk torch torchmetrics transformers emot pandas scikit-learn\n",
        "env = 'colab'"
      ],
      "metadata": {
        "id": "G-umei68GV3K"
      },
      "execution_count": null,
      "outputs": []
    },
    {
      "cell_type": "code",
      "source": [
        "from google.colab import drive\n",
        "\n",
        "root = '.'\n",
        "\n",
        "if env == 'colab':\n",
        "  drive.mount('/content/drive')\n",
        "  root = '/content/drive/MyDrive/NLP'\n",
        "else:\n",
        "  root = '/content/'"
      ],
      "metadata": {
        "colab": {
          "base_uri": "https://localhost:8080/"
        },
        "id": "GOukA51KnXYV",
        "outputId": "4c0f801b-9088-4144-8031-c4490377140d"
      },
      "execution_count": 8,
      "outputs": [
        {
          "output_type": "stream",
          "name": "stdout",
          "text": [
            "Drive already mounted at /content/drive; to attempt to forcibly remount, call drive.mount(\"/content/drive\", force_remount=True).\n"
          ]
        }
      ]
    },
    {
      "cell_type": "code",
      "execution_count": 9,
      "metadata": {
        "id": "ty1qtSTyGP0z"
      },
      "outputs": [],
      "source": [
        "import pandas as pd\n",
        "import nltk\n",
        "from nltk.corpus import stopwords\n",
        "import matplotlib.pyplot as plt\n",
        "from sklearn.model_selection import train_test_split\n",
        "from tqdm.notebook import tqdm\n",
        "import copy, os\n",
        "import numpy as np\n",
        "from sklearn.metrics import classification_report as cr, f1_score as f1\n",
        "import seaborn as sns\n",
        "import random as rand\n",
        "import pickle\n",
        "import matplotlib.image as mpimg\n",
        "\n",
        "#Import torch\n",
        "import torch\n",
        "from torch import nn\n",
        "from torch.utils.data import DataLoader, Dataset\n",
        "from torch.optim import Adam\n",
        "from torchmetrics.classification import MultilabelAccuracy\n",
        "from transformers import AutoTokenizer, AutoModel\n",
        "\n",
        "# Gestione delle emoji\n",
        "import emot as emot_imp\n",
        "emot = emot_imp.core.emot()"
      ]
    },
    {
      "cell_type": "markdown",
      "metadata": {
        "id": "RerXrA1KGP00"
      },
      "source": [
        "## Task A: Emotion detection\n",
        "\n",
        "Per andare a ricercare la massima precisione (sia per quanto riguarda i dati che il modello), verranno effettuate diverse prove:\n",
        "- dati: verranno effettuati dei test usando sia dei dati preprocessati che i dati originali (dal momento che il blocco BERT-like del nostro modello trae informazioni anche da punteggiatura, stopwords ecc...)\n",
        "- modello: verranno testati diverse combinazioni di iperparametri usando un approccio randomizzato per trovare il modello migliore (valutato tramite F1 score)\n",
        "\n",
        "Per il primo task, procediamo in due step, partendo dal preprocessing del testo (rimozione stopwords, hashtag, menzioni, keyword RT, collegamenti ipertestuali) per poi andare alla classificazione.\n",
        "\n",
        "Per la tokenizzazione del testo è stato scelto un modello multilingua (dal momento che i messaggi riguardano un'emittente italiana) case-sensitive.\n",
        "\n",
        "Il supporto alle emoji/emoticons è stato aggiunto rilevando quelle presenti nel testo e facendo un resize del modello per poterle gestire.\n",
        "\n",
        "Il modello BERT-like da HuggingFace utilizzato è il seguente: _bert-base-multilingual-cased_."
      ]
    },
    {
      "cell_type": "code",
      "execution_count": 10,
      "metadata": {
        "colab": {
          "base_uri": "https://localhost:8080/",
          "height": 336,
          "referenced_widgets": [
            "a47ad1b7bba845f4bcb976347949c000",
            "e91b0f39a48e42a99b144f22b3eaa954",
            "781223e7aa484217b44268958555c7c8",
            "7d13b9e53b5a400380a9e9709ac8c7ef",
            "beefbaab65934374a2189b74c89d289c",
            "4f29669e89dc49eca8a723cae8b65be1",
            "679766c2485b4befba3bcc7354e095fb",
            "077c8c9b03ea4e268e1c6a543be746c5",
            "d252912b241b445da56fc586f4b26120",
            "6b5a0876a55f45838a500dae29addf42",
            "08a7fc94d0d14a348a8bd596bc28bdba",
            "9fdce6fe39174815ad7ad40becdf336f",
            "f300abd6aefe46818f657d162fbc8189",
            "b35bd8e1839a4425ac20ca36116705be",
            "c250b4c1926e4a30b4d25511cfc4ee1f",
            "10268fc3290948bb9f71890408a86b94",
            "d9edcd1d8f3143778290cb56a00234b9",
            "025a81f80a0a48c98ebd82b761aad8a9",
            "8493ea4a38f14e01a514bd02f94f6059",
            "6f7143d495674f04bd2acd4c5b90c730",
            "0080d66e2e7c4d7bb2db985914a7a22d",
            "fcb1ab1813a64a64bd736c7097a5c1e9",
            "e054bd1b2ed0435780c20788be2ee250",
            "a56c929daa6d439181fee1153080ceff",
            "c4a978210dc748bc8032e145219aaa6f",
            "4e985d7d3e09480f82a26ef47deb2367",
            "c79a598a413e4b1fb06b719a3b0ca726",
            "92c726883e1244c798cbfacb7e514c6d",
            "a67e8ed96ee74ea4b2f0c7ef3ad50a6d",
            "97114cc687cf4adb80252a887f46ee07",
            "77f5c9a3843541baa107844d6ea92e5b",
            "f278589dda094f5b978787d892f623e1",
            "717af83f52ec4c5e8c66f359dd206d76",
            "32d4c63b692944d1a587a787bced79f4",
            "c980543c7d9847b4932ff65b1859d479",
            "b435118f76454cce98e9b92b55ea3630",
            "8231c939aac344d5be9ccc9294708c1c",
            "0a8d3c231fa648d3b2e59417b0d45ab8",
            "5f599953136b40c9825b88feadd5433d",
            "184a7965663b4f80946d1b73e704085a",
            "e798699e156c450b8ea00dbbde4d1ad4",
            "90b11d94b65843fabab711361dfe1093",
            "8f78c3679bf943a5bb81d85f755a91d8",
            "8317ee34cdb0420d82549e38faf69fb8",
            "7c14a73b9c93461292d66b2bffb60083",
            "890d7b2152da41648de3aa36781a35d7",
            "000ce8519b9b489984a4e256d0edec50",
            "1c12c48a46654539a942ec5096b455b4",
            "ded7eaac6f9f4e77bdceff2d4eee9815",
            "2a73c8323afe4b58b8478d427848ebe0",
            "0408878701a04d05b957521a0da2c86f",
            "85bebeb6179f401190e388349454f124",
            "74693eedcb1a43bc999c16c3b839bf5d",
            "7f9ceeaa064b4bfab65c6d643026fecf",
            "865bed000cc746948fdb25d3741b4bcc"
          ]
        },
        "id": "VW9NXDt8GP00",
        "outputId": "c7d8e963-08a9-40f5-fb9e-b47ae27168e8"
      },
      "outputs": [
        {
          "output_type": "stream",
          "name": "stderr",
          "text": [
            "/usr/local/lib/python3.10/dist-packages/huggingface_hub/utils/_token.py:88: UserWarning: \n",
            "The secret `HF_TOKEN` does not exist in your Colab secrets.\n",
            "To authenticate with the Hugging Face Hub, create a token in your settings tab (https://huggingface.co/settings/tokens), set it as secret in your Google Colab and restart your session.\n",
            "You will be able to reuse this secret in all of your notebooks.\n",
            "Please note that authentication is recommended but still optional to access public models or datasets.\n",
            "  warnings.warn(\n"
          ]
        },
        {
          "output_type": "display_data",
          "data": {
            "text/plain": [
              "tokenizer_config.json:   0%|          | 0.00/49.0 [00:00<?, ?B/s]"
            ],
            "application/vnd.jupyter.widget-view+json": {
              "version_major": 2,
              "version_minor": 0,
              "model_id": "a47ad1b7bba845f4bcb976347949c000"
            }
          },
          "metadata": {}
        },
        {
          "output_type": "display_data",
          "data": {
            "text/plain": [
              "config.json:   0%|          | 0.00/625 [00:00<?, ?B/s]"
            ],
            "application/vnd.jupyter.widget-view+json": {
              "version_major": 2,
              "version_minor": 0,
              "model_id": "9fdce6fe39174815ad7ad40becdf336f"
            }
          },
          "metadata": {}
        },
        {
          "output_type": "display_data",
          "data": {
            "text/plain": [
              "vocab.txt:   0%|          | 0.00/996k [00:00<?, ?B/s]"
            ],
            "application/vnd.jupyter.widget-view+json": {
              "version_major": 2,
              "version_minor": 0,
              "model_id": "e054bd1b2ed0435780c20788be2ee250"
            }
          },
          "metadata": {}
        },
        {
          "output_type": "display_data",
          "data": {
            "text/plain": [
              "tokenizer.json:   0%|          | 0.00/1.96M [00:00<?, ?B/s]"
            ],
            "application/vnd.jupyter.widget-view+json": {
              "version_major": 2,
              "version_minor": 0,
              "model_id": "32d4c63b692944d1a587a787bced79f4"
            }
          },
          "metadata": {}
        },
        {
          "output_type": "display_data",
          "data": {
            "text/plain": [
              "model.safetensors:   0%|          | 0.00/714M [00:00<?, ?B/s]"
            ],
            "application/vnd.jupyter.widget-view+json": {
              "version_major": 2,
              "version_minor": 0,
              "model_id": "7c14a73b9c93461292d66b2bffb60083"
            }
          },
          "metadata": {}
        },
        {
          "output_type": "stream",
          "name": "stderr",
          "text": [
            "[nltk_data] Downloading package stopwords to /root/nltk_data...\n",
            "[nltk_data]   Unzipping corpora/stopwords.zip.\n"
          ]
        }
      ],
      "source": [
        "data = pd.read_csv(f\"{root}/release/emit_2023-v1/emit_train_A.csv\")\n",
        "text_prep = data[\"text\"]\n",
        "text = data[\"text\"]\n",
        "emotions = data.drop([\"id\",\"text\"], axis=1)\n",
        "emotions_prep = data.drop([\"id\",\"text\"], axis=1)\n",
        "model_name = 'bert-base-multilingual-cased'\n",
        "tokenizer = AutoTokenizer.from_pretrained(model_name)\n",
        "model = AutoModel.from_pretrained(model_name)\n",
        "nltk.download('stopwords')\n",
        "stopwords_it = stopwords.words('italian')\n",
        "X_keywords = ['RT', 'FAV']"
      ]
    },
    {
      "cell_type": "code",
      "execution_count": 11,
      "metadata": {
        "id": "AnWAPKe6GP00"
      },
      "outputs": [],
      "source": [
        "# Funzione che raccoglie i principali 4 controlli che vengono effettuati sul testo, ovvero:\n",
        "# - presenza di menzioni ad altri utenti\n",
        "# - presenza di collegamenti esterni\n",
        "# - presenza di keyword relative a X (RT, FAV, quest'ultima non presente nei nostri dati)\n",
        "# - presenza di stop-words in lingua italiana dalla lista fornita dal NaturalLanguageToolKit\n",
        "\n",
        "def preprocess(text):\n",
        "    new_text = []\n",
        "    for t in text.split(\" \"):\n",
        "        if t.startswith('@') and len(t) > 1 or t.startswith('http') or t in X_keywords or t.lower() in stopwords_it:\n",
        "            continue\n",
        "        else:\n",
        "            new_text.append(t)\n",
        "    return \" \".join(new_text)\n",
        "\n",
        "# Funzione per l'estrazione degli hashtag dai messaggi\n",
        "\n",
        "def getHashtags(text):\n",
        "    hashtags = []\n",
        "    for t in text.split(\" \"):\n",
        "        if t.startswith('#') and len(t) > 1:\n",
        "            hashtags.append(t)\n",
        "        else:\n",
        "            continue\n",
        "    return hashtags\n",
        "\n",
        "# Funzione per la rimozione degli hashtag dai messaggi\n",
        "\n",
        "def removeHashTags(text):\n",
        "    new_text = []\n",
        "    for t in text.split(\" \"):\n",
        "        if t.startswith('#') and len(t) > 1:\n",
        "            continue\n",
        "        else:\n",
        "            new_text.append(t)\n",
        "    return \" \".join(new_text)\n",
        "\n",
        "def intersection(lst1, lst2):\n",
        "    lst3 = [value for value in lst1 if value in lst2]\n",
        "    return lst3"
      ]
    },
    {
      "cell_type": "markdown",
      "metadata": {
        "id": "TnDSfrjQGP01"
      },
      "source": [
        "### Task A: Preprocessing\n",
        "Al fine di valutare soltanto le parti più importanti dei messaggi, con un contributo semantico più corposo, sono state prese diverse decisioni:\n",
        "- Eliminazione delle menzioni degli utenti (nomi utenti già oscurati nel dataset utilizzato)\n",
        "- Eliminazione delle stopword da NLTK\n",
        "- Eliminazione delle keyword legate a X (RT per i retweet e FAV per i messaggi preferiti)\n",
        "- Eliminazione link esterni\n",
        "- Eliminazione hashtag"
      ]
    },
    {
      "cell_type": "markdown",
      "metadata": {
        "id": "DmKm03Q2GP01"
      },
      "source": [
        "Controlliamo innanzitutto l'integrità dei dati di addestramento"
      ]
    },
    {
      "cell_type": "code",
      "execution_count": 12,
      "metadata": {
        "colab": {
          "base_uri": "https://localhost:8080/"
        },
        "id": "fS22aHu2GP01",
        "outputId": "bc2c924d-c632-4fc0-a83c-422a20bc1c1c"
      },
      "outputs": [
        {
          "output_type": "execute_result",
          "data": {
            "text/plain": [
              "id              0\n",
              "text            0\n",
              "Anger           0\n",
              "Anticipation    0\n",
              "Disgust         0\n",
              "Fear            0\n",
              "Joy             0\n",
              "Love            0\n",
              "Neutral         0\n",
              "Sadness         0\n",
              "Surprise        0\n",
              "Trust           0\n",
              "dtype: int64"
            ]
          },
          "metadata": {},
          "execution_count": 12
        }
      ],
      "source": [
        "data.isna().sum()"
      ]
    },
    {
      "cell_type": "markdown",
      "metadata": {
        "id": "gPPEMgefGP01"
      },
      "source": [
        "Non è necessario fare imputazione in quanto non ci sono dati mancanti all'interno del dataset di addestramento."
      ]
    },
    {
      "cell_type": "markdown",
      "metadata": {
        "id": "n83p0L6vGP01"
      },
      "source": [
        "Controlliamo anche velocemente quali sono le emozioni maggiormente espresse nei messaggi.\n",
        "\n",
        "Possiamo vedere come i messaggi esprimano emozioni variegate (con un picco nei messaggi di fiducia/incoraggiamento e un minimo nei messaggi che esprimono timore o paura, fatto comprensibile dal momento che la maggior parte dei commenti riguarda trasmissioni in onda)."
      ]
    },
    {
      "cell_type": "code",
      "execution_count": 13,
      "metadata": {
        "colab": {
          "base_uri": "https://localhost:8080/",
          "height": 447
        },
        "id": "ln62veltGP01",
        "outputId": "2fcb06d5-5565-4404-80b2-1c6c686ceb3c"
      },
      "outputs": [
        {
          "output_type": "execute_result",
          "data": {
            "text/plain": [
              "<BarContainer object of 10 artists>"
            ]
          },
          "metadata": {},
          "execution_count": 13
        },
        {
          "output_type": "display_data",
          "data": {
            "text/plain": [
              "<Figure size 640x480 with 1 Axes>"
            ],
            "image/png": "[encoded data removed]"
          },
          "metadata": {}
        }
      ],
      "source": [
        "plt.barh(emotions.columns, [emotions[column].sum() for column in emotions.columns])"
      ]
    },
    {
      "cell_type": "markdown",
      "metadata": {
        "id": "yTUQ2__dGP01"
      },
      "source": [
        "Possiamo adesso procedere al preprocessing del testo."
      ]
    },
    {
      "cell_type": "code",
      "execution_count": 14,
      "metadata": {
        "id": "OF44hBPdGP01"
      },
      "outputs": [],
      "source": [
        "text_prep = text_prep.apply(preprocess)"
      ]
    },
    {
      "cell_type": "markdown",
      "metadata": {
        "id": "G6Lx7XbgGP02"
      },
      "source": [
        "Dopo questo primo passo, è sorto un dubbio riguardante l'utilità degli hashtag e la conseguente decisione sul mantenerli o meno.\n",
        "La scelta finale è stata quella di rimuoverli, dal momento che gli hashtag più diffusi almeno in questa prima fase non aggiungono molto valore al testo essendo relativi al topic (generalmente il nome del programma televisivo interessato).\n",
        "\n",
        "Potrebbe essere interessante mantenere queste informazioni per fare uno studio di sentiment analysis differenziata per singolo programma televisivo, tuttavia non è il focus principale del progetto.\n",
        "\n",
        "Sono stati rilevati in totale 1126 hashtag unici su 5990 totali (in riferimento ai dati di addestramento), con una distribuzione sbilanciata fortemente verso i 20-30 circa più usati, che sono risultati essere hashtag relativi appunto al nome della trasmissione televisiva oggetto del testo."
      ]
    },
    {
      "cell_type": "code",
      "execution_count": 15,
      "metadata": {
        "id": "GPR4SI31GP02"
      },
      "outputs": [],
      "source": [
        "hashtag_list = list(map(getHashtags, text_prep))\n",
        "hashtags = []\n",
        "\n",
        "for h in hashtag_list:\n",
        "    hashtags.extend(h)\n",
        "\n",
        "hashtags = list(sorted(hashtags))\n",
        "unique_hashtags = list(set(hashtags))\n",
        "hasht_count = [hashtags.count(h) for h in unique_hashtags]\n",
        "\n",
        "sorted_h = [x for _, x in sorted(zip(hasht_count, unique_hashtags), reverse=True)]\n",
        "sorted_h_c = list(sorted(hasht_count,reverse=True))"
      ]
    },
    {
      "cell_type": "code",
      "execution_count": 16,
      "metadata": {
        "colab": {
          "base_uri": "https://localhost:8080/",
          "height": 470
        },
        "id": "OYaao8tCGP02",
        "outputId": "e4fc66b9-9f20-4427-8cc7-0cd301fdfa61"
      },
      "outputs": [
        {
          "output_type": "execute_result",
          "data": {
            "text/plain": [
              "<BarContainer object of 25 artists>"
            ]
          },
          "metadata": {},
          "execution_count": 16
        },
        {
          "output_type": "display_data",
          "data": {
            "text/plain": [
              "<Figure size 640x480 with 1 Axes>"
            ],
            "image/png": "[encoded data removed]"
          },
          "metadata": {}
        }
      ],
      "source": [
        "plt.title(\"Top 25 Hashtag più frequenti\")\n",
        "plt.barh(sorted_h[:25], sorted_h_c[:25])"
      ]
    },
    {
      "cell_type": "code",
      "execution_count": 17,
      "metadata": {
        "id": "U6OSqQwkGP02"
      },
      "outputs": [],
      "source": [
        "text_prep = text_prep.apply(removeHashTags)"
      ]
    },
    {
      "cell_type": "markdown",
      "metadata": {
        "id": "NVdXWZOyGP02"
      },
      "source": [
        "Alcuni messaggi sono composti soltanto da menzioni\n",
        "o semplici hashtag, per cui facciamo una veloce pulizia prima di procedere\n",
        "(al contrario, alcuni messaggi non verrebbero processati dal tokenizer, causando degli errori)"
      ]
    },
    {
      "cell_type": "code",
      "execution_count": 18,
      "metadata": {
        "id": "K5WsMnEsGP02"
      },
      "outputs": [],
      "source": [
        "for i in range(len(text_prep)):\n",
        "    if(len(text_prep[i]) == 0):\n",
        "        text_prep.drop(i, axis=0, inplace=True)\n",
        "        emotions_prep.drop(i, axis=0, inplace=True)"
      ]
    },
    {
      "cell_type": "markdown",
      "metadata": {
        "id": "KAwUVz1cGP02"
      },
      "source": [
        "Prima di procedere alla classificazione vera e propria, dobbiamo adattare il tokenizer alla presenza delle emoji nel testo, elemento importante per l'interpretazione dei messaggi.\n",
        "\n",
        "Facciamo quindi una ricerca di emoji ed emoticons presenti e aggiungiamole al tokenizer tramite la funzione add_tokens(), per poi fare un resize del modello e completare questo step."
      ]
    },
    {
      "cell_type": "code",
      "execution_count": 19,
      "metadata": {
        "colab": {
          "base_uri": "https://localhost:8080/"
        },
        "id": "l6XxfhurGP02",
        "outputId": "90064814-bb09-4cd0-db03-16925a07a25f"
      },
      "outputs": [
        {
          "output_type": "stream",
          "name": "stderr",
          "text": [
            "/usr/lib/python3.10/multiprocessing/popen_fork.py:66: RuntimeWarning: os.fork() was called. os.fork() is incompatible with multithreaded code, and JAX is multithreaded, so this will likely lead to a deadlock.\n",
            "  self.pid = os.fork()\n"
          ]
        }
      ],
      "source": [
        "bulk_emoji = emot.bulk_emoji(text_prep)\n",
        "\n",
        "unique_emoji = []\n",
        "\n",
        "for i in range(len(bulk_emoji)):\n",
        "    res = bulk_emoji[i]\n",
        "    if res['flag']:\n",
        "        unique_emoji.extend(res['value'])\n",
        "\n",
        "unique_emoji = list(set(unique_emoji))\n",
        "\n",
        "emoji_to_add = set(unique_emoji) - set(tokenizer.vocab.keys())"
      ]
    },
    {
      "cell_type": "code",
      "execution_count": 20,
      "metadata": {
        "id": "jAftr0dYGP02"
      },
      "outputs": [],
      "source": [
        "bulk_emoticons = emot.bulk_emoticons(text_prep)\n",
        "\n",
        "unique_emoticons = []\n",
        "\n",
        "for i in range(len(bulk_emoticons)):\n",
        "    res = bulk_emoticons[i]\n",
        "    if res['flag']:\n",
        "        unique_emoticons.extend(res['value'])\n",
        "\n",
        "unique_emoticons = list(set(unique_emoticons))\n",
        "\n",
        "emoticons_to_add = set(unique_emoticons) - set(tokenizer.vocab.keys())"
      ]
    },
    {
      "cell_type": "code",
      "execution_count": 21,
      "metadata": {
        "id": "Zl0rvKtDGP02"
      },
      "outputs": [],
      "source": [
        "new_tokens = []\n",
        "new_tokens.extend(emoji_to_add)\n",
        "new_tokens.extend(emoticons_to_add)"
      ]
    },
    {
      "cell_type": "code",
      "execution_count": 22,
      "metadata": {
        "colab": {
          "base_uri": "https://localhost:8080/"
        },
        "id": "ev9tp0KdGP02",
        "outputId": "da78dc69-3542-4c80-d118-2fd6e44879d9"
      },
      "outputs": [
        {
          "output_type": "stream",
          "name": "stdout",
          "text": [
            "Adding: 261 emoji/emoticons\n"
          ]
        }
      ],
      "source": [
        "print(f\"Adding: {len(new_tokens)} emoji/emoticons\")"
      ]
    },
    {
      "cell_type": "code",
      "execution_count": 23,
      "metadata": {
        "colab": {
          "base_uri": "https://localhost:8080/"
        },
        "id": "-qKkG4XsGP03",
        "outputId": "e5fe1f5c-ab38-4357-98dc-e5b8ab8e83ce"
      },
      "outputs": [
        {
          "output_type": "execute_result",
          "data": {
            "text/plain": [
              "Embedding(119808, 768)"
            ]
          },
          "metadata": {},
          "execution_count": 23
        }
      ],
      "source": [
        "tokenizer.add_tokens(list(new_tokens))\n",
        "model.resize_token_embeddings(len(tokenizer))"
      ]
    },
    {
      "cell_type": "markdown",
      "metadata": {
        "id": "tNGGSYDWGP03"
      },
      "source": [
        "Vediamo adesso di stabilire brevemente una lunghezza massima in parole dei messaggi.\n",
        "\n",
        "Possiamo vedere come la stragrande maggioranza dei messaggi abbia una lunghezza inferiore a 25-30 parole, per cui useremo 30 come tetto massimo."
      ]
    },
    {
      "cell_type": "code",
      "execution_count": 24,
      "metadata": {
        "colab": {
          "base_uri": "https://localhost:8080/",
          "height": 430
        },
        "id": "0yTS6gYqGP03",
        "outputId": "d0aab732-a797-4f10-ad99-5d4e5177fa4c"
      },
      "outputs": [
        {
          "output_type": "display_data",
          "data": {
            "text/plain": [
              "<Figure size 640x480 with 1 Axes>"
            ],
            "image/png": "[encoded data removed]"
          },
          "metadata": {}
        }
      ],
      "source": [
        "plt.hist([len(t.split(' ')) for t in text_prep])\n",
        "MAX_LEN = 30"
      ]
    },
    {
      "cell_type": "markdown",
      "metadata": {
        "id": "nwtmqXHiGP03"
      },
      "source": [
        "Vediamo come appare il testo dei messaggi dopo questa operazione di pulizia"
      ]
    },
    {
      "cell_type": "code",
      "execution_count": 25,
      "metadata": {
        "colab": {
          "base_uri": "https://localhost:8080/"
        },
        "id": "P3Ru52UCGP03",
        "outputId": "dc199ea3-914e-4398-e55f-d68159a8f680"
      },
      "outputs": [
        {
          "output_type": "stream",
          "name": "stdout",
          "text": [
            "@user Appunto Maurizio 😁 e i loro marchio di fabbrica 😉 \n",
            " Appunto Maurizio 😁 marchio fabbrica 😉\n"
          ]
        }
      ],
      "source": [
        "print(text[5], '\\n',text_prep[5])"
      ]
    },
    {
      "cell_type": "markdown",
      "metadata": {
        "id": "mhzrmJWZGP03"
      },
      "source": [
        "### Task A: Classificazione\n",
        "\n",
        "Arrivati a questo punto, dobbiamo per prima cosa addestrare il nostro classificatore per il task che dovrà svolgere.\n",
        "\n",
        "La struttura adottata sarà composta da un BTE (Bidirectional Transformer Encoder) per l'encoding degli embeddings generati dal tokenizer.\n",
        "A questa base aggiungiamo un layer dense e infine una sigmoide che ci permette di fare la classificazione multi-label richiesta.\n",
        "\n",
        "Procediamo a passare tutti i dati etichettati al nostro classificatore.\n",
        "\n",
        "Sfruttiamo, se possibile, l'architettura CUDA."
      ]
    },
    {
      "cell_type": "code",
      "execution_count": 26,
      "metadata": {
        "colab": {
          "base_uri": "https://localhost:8080/"
        },
        "id": "x9qcMwvOGP03",
        "outputId": "92d04636-dd28-406d-f4c8-846ec6d903f2"
      },
      "outputs": [
        {
          "output_type": "stream",
          "name": "stdout",
          "text": [
            "Using cuda device\n"
          ]
        }
      ],
      "source": [
        "device = (\"cpu\")\n",
        "\n",
        "if torch.cuda.is_available():\n",
        "    torch.cuda.empty_cache()\n",
        "    device = (\"cuda\")\n",
        "\n",
        "print(f\"Using {device} device\")"
      ]
    },
    {
      "cell_type": "markdown",
      "metadata": {
        "id": "ik-90b5DGP03"
      },
      "source": [
        "Definiamo in anticipo la struttura del nostro dataset sfruttando le API di Pytorch: trasformeremo infatti i nostri dataset attraverso un dataloader, classe che ci permette di dividere in batch i nostri dati durante l'addestramento."
      ]
    },
    {
      "cell_type": "code",
      "execution_count": 27,
      "metadata": {
        "id": "CLwhgn97GP03"
      },
      "outputs": [],
      "source": [
        "# inputs: testi dei messaggi\n",
        "# labels: target relativo alle reali emozioni espresse dal messaggio, es. [0, 0, 1, 0...]\n",
        "# tokenizer: il tokenizer a cui abbiamo aggiunto le emoji precedentemente\n",
        "# MAX_LEN: lunghezza massima oltre il quale il tokenizer effettuerà un truncate sui messaggi\n",
        "\n",
        "class _Dataset(Dataset):\n",
        "    def __init__(self, inputs, labels, tokenizer, MAX_LEN, transform=None):\n",
        "        self.transform = transform\n",
        "        self.inputs = inputs\n",
        "        self.labels = [torch.tensor(l) for l in labels]\n",
        "        self.tokenizer = tokenizer\n",
        "        self.MAX_LEN = MAX_LEN\n",
        "\n",
        "    def __len__(self):\n",
        "        return len(self.inputs)\n",
        "\n",
        "    # Estraiamo tramite tokenizer gli id dell'input da passare al modello\n",
        "    # Dobbiamo infatti lavorare con gli embeddings per\n",
        "    # poter classificare il nostro testo\n",
        "\n",
        "    def __getitem__(self, idx):\n",
        "        inputs = tokenizer(self.inputs.iloc[idx], add_special_tokens=True,\n",
        "                            return_tensors='pt', padding='max_length',\n",
        "                            max_length = self.MAX_LEN, truncation=True)\n",
        "        labels = self.labels[idx]\n",
        "        return {\n",
        "            'ids': inputs['input_ids'],\n",
        "            'mask': inputs['attention_mask'],\n",
        "            'token_type_ids': inputs['token_type_ids'],\n",
        "            'labels': labels\n",
        "        }"
      ]
    },
    {
      "cell_type": "markdown",
      "metadata": {
        "id": "wQ65Ke8uGP04"
      },
      "source": [
        "Andiamo adesso a definire la struttura del nostro classificatore, che possiamo dividere in due macro blocchi:\n",
        "- blocco BERT-like che gestisce l'input (ovvero i dati testuali tokenizzati)\n",
        "- blocco di classificazione multi-classe multi-label (principalmente un layer dense e una sigmoide in uscita)\n",
        "\n",
        "Ci interessa in particolare andare a recuperare l'ultimo strato nascosto del blocco BERT-like in modo da passarlo al classificatore e ottenere le logits."
      ]
    },
    {
      "cell_type": "code",
      "execution_count": 28,
      "metadata": {
        "id": "DdHnB4hSGP04"
      },
      "outputs": [],
      "source": [
        "\n",
        "\n",
        "class BTEClassifier(nn.Module):\n",
        "    def __init__(self, dropout, num_classes, bte):\n",
        "        super(BTEClassifier, self).__init__()\n",
        "        self.bte = bte # Blocco BTE - Bidirectional Transformer Encoder\n",
        "        self.classifier = nn.Sequential(\n",
        "            nn.Dropout(dropout), # Layer di dropout,\n",
        "            nn.Linear(768, num_classes), # Layer dense su cui fare fine tuning\n",
        "            nn.Sigmoid()\n",
        "        )\n",
        "\n",
        "    def forward(self, ids, mask, token_type_ids):\n",
        "        output = self.bte(ids, attention_mask = mask, token_type_ids = token_type_ids).last_hidden_state\n",
        "        output = output[:,0,:]\n",
        "        output = self.classifier(output)\n",
        "        return output"
      ]
    },
    {
      "cell_type": "markdown",
      "metadata": {
        "id": "Ks3uvdvzGP04"
      },
      "source": [
        "E' stato scelto di implementare un piccolo meccanismo di early stopping per l'addestramento in modo da velocizzare il processo e non sprecare inutilmente tempo su configurazioni non particolarmente proficue di iperparametri della rete.\n",
        "\n",
        "E' stato poi impostato con un livello di pazienza molto sensibile e un delta ragionevolmente alto in base ai risultati osservati (ovvero generalmente una minimizzazione della loss lenta) e a causa dei rallentamenti osservati con il procedere dell'addestramento."
      ]
    },
    {
      "cell_type": "code",
      "execution_count": 29,
      "metadata": {
        "id": "s-G5QwqwGP04"
      },
      "outputs": [],
      "source": [
        "class EarlyStopper:\n",
        "    def __init__(self, patience=1, min_delta=0):\n",
        "        self.patience = patience\n",
        "        self.min_delta = min_delta\n",
        "        self.counter = 0\n",
        "        self.min_validation_loss = float('inf')\n",
        "\n",
        "    # Ad ogni epoca, se non è stato osservato un miglioramento vero e proprio per più di n epoche\n",
        "    # (dove n = patience dell'early stopper) verrà interrotto l'addestramento di quel modello\n",
        "\n",
        "    def early_stop(self, validation_loss):\n",
        "        if validation_loss < self.min_validation_loss:\n",
        "            self.min_validation_loss = validation_loss\n",
        "            self.counter = 0\n",
        "        elif validation_loss > (self.min_validation_loss + self.min_delta):\n",
        "            self.counter += 1\n",
        "            if self.counter >= self.patience:\n",
        "                return True\n",
        "        return False"
      ]
    },
    {
      "cell_type": "markdown",
      "metadata": {
        "id": "-t8AqLnbGP04"
      },
      "source": [
        "Vediamo adesso il loop di addestramento, dal momento che andremo a fare fine tuning del modello per adattarlo ai nostri dati:\n",
        "- segnaliamo a pytorch l'inizio dell'addestramento tramite invocazione del metodo _.train()_\n",
        "- calcoliamo la loss sui risultati ottenuti tramite Binary Cross-Entropy\n",
        "- aggiornamento del gradiente trmaite funzione _.backward()_\n",
        "- tramite optimizer (Adam nel nostro caso) faccio un singolo step di ottimizzazione (_.step()_)\n",
        "- aggiorno la loss e l'accuracy dell'epoca (quest'ultima misurata tramite la MultiLabelAccuracy da Pytorch) e ripeto"
      ]
    },
    {
      "cell_type": "code",
      "execution_count": 30,
      "metadata": {
        "id": "KKlbEpGKGP04"
      },
      "outputs": [],
      "source": [
        "def train(model, dataloader, loss, accuracy, optimizer, device):\n",
        "    model.train()\n",
        "\n",
        "    epoch_acc = 0\n",
        "    epoch_loss = 0\n",
        "\n",
        "    for d in dataloader:\n",
        "        (ids, mask, token_type_ids, labels_) = d.values()\n",
        "\n",
        "        optimizer.zero_grad()\n",
        "\n",
        "        input_ids = ids.squeeze(1).to(device)\n",
        "        input_mask = mask.squeeze(1).to(device)\n",
        "        input_token_type_ids = token_type_ids.squeeze(1).to(device)\n",
        "        labels_ = labels_.squeeze(1).to(device).float()\n",
        "\n",
        "        output = model(input_ids, input_mask, input_token_type_ids)\n",
        "\n",
        "        batch_loss = loss(output, labels_)\n",
        "        batch_loss.backward()\n",
        "        optimizer.step()\n",
        "\n",
        "        epoch_loss += batch_loss.item()\n",
        "        epoch_acc += accuracy(output, labels_).item()\n",
        "\n",
        "        input_ids = input_ids.detach().cpu()\n",
        "        input_mask = input_mask.detach().cpu()\n",
        "        input_token_type_ids = input_token_type_ids.detach().cpu()\n",
        "        labels_ = labels_.detach().cpu()\n",
        "\n",
        "    return epoch_loss/len(dataloader), epoch_acc/len(dataloader)"
      ]
    },
    {
      "cell_type": "markdown",
      "metadata": {
        "id": "yROG_Z-5GP05"
      },
      "source": [
        "Passiamo invece alla fase di valiazione:\n",
        "- informo il modello che siamo in fase di valutazione (_.eval()_) e che non ho necessità di avere informazioni sul gradiente (_.no grad()_)\n",
        "- aggiorno loss e accuracy del modello come in fase di addestramento, e se durante quest'epoca ho raggiunto l'accuracy massima ottenuta fino ad ora, conservo il risultato e i pesi, effettuando un salvataggio dello stato del modello"
      ]
    },
    {
      "cell_type": "code",
      "execution_count": 31,
      "metadata": {
        "id": "sEjya2JyGP05"
      },
      "outputs": [],
      "source": [
        "def val(model, dataloader, loss, accuracy, device, best_acc, best_weights):\n",
        "    model.eval()\n",
        "\n",
        "    epoch_acc = 0\n",
        "    epoch_loss = 0\n",
        "\n",
        "    with torch.no_grad():\n",
        "        for d in dataloader:\n",
        "            (ids, mask, token_type_ids, labels_) = d.values()\n",
        "\n",
        "            input_ids = ids.squeeze(1).to(device)\n",
        "            input_mask = mask.squeeze(1).to(device)\n",
        "            input_token_type_ids = token_type_ids.squeeze(1).to(device)\n",
        "            labels_ = labels_.squeeze(1).to(device).float()\n",
        "\n",
        "            output = model(input_ids, input_mask, input_token_type_ids)\n",
        "\n",
        "            batch_loss = loss(output, labels_)\n",
        "            epoch_loss += batch_loss.item()\n",
        "\n",
        "            epoch_acc += accuracy(output, labels_).item()\n",
        "\n",
        "            input_ids = input_ids.detach().cpu()\n",
        "            input_mask = input_mask.detach().cpu()\n",
        "            input_token_type_ids = input_token_type_ids.detach().cpu()\n",
        "            labels_ = labels_.detach().cpu()\n",
        "\n",
        "        acc = float(epoch_acc/len(dataloader))\n",
        "        if acc > best_acc:\n",
        "            best_acc = acc\n",
        "            best_weights = copy.deepcopy(model.state_dict())\n",
        "\n",
        "    return epoch_loss/len(dataloader), epoch_acc/len(dataloader), best_acc, best_weights"
      ]
    },
    {
      "cell_type": "markdown",
      "metadata": {
        "id": "pT-_n4VfGP05"
      },
      "source": [
        "Vediamo adesso il ciclo completo di addestramento:\n",
        "- passaggio dei dataset ai dataloader\n",
        "- per ogni epoca:\n",
        "    - misuro loss e accuracy per quell'epoca\n",
        "    - effettuo la validazione\n",
        "    - faccio un controllo tramite meccanismo di early stopping definito in precedenza\n",
        "    - ripeto fino a incontrare i criteri di early stop o a completamento del loop"
      ]
    },
    {
      "cell_type": "code",
      "execution_count": 32,
      "metadata": {
        "id": "msJBdnZlGP06"
      },
      "outputs": [],
      "source": [
        "def evaluate(model, epochs, optimizer, device, train_data, val_data,\n",
        "               batch_size, accuracy, loss, early_stopper):\n",
        "\n",
        "  train_dataloader = DataLoader(train_data, batch_size=batch_size, shuffle=True)\n",
        "  val_dataloader = DataLoader(val_data, batch_size=batch_size)\n",
        "\n",
        "  # liste dei valori di loss e accuracy epoca per epoca per il plot\n",
        "  train_loss = []\n",
        "  val_loss = []\n",
        "\n",
        "  train_acc = []\n",
        "  val_acc = []\n",
        "  best_acc = - np.inf\n",
        "  best_weights = None\n",
        "\n",
        "  # Ciclo di addestramento\n",
        "  for epoch in tqdm(range(1, epochs+1)):\n",
        "    epoch_train_loss, epoch_train_acc = train(model, train_dataloader, loss, accuracy, optimizer, device)\n",
        "    train_loss.append(epoch_train_loss)\n",
        "    train_acc.append(epoch_train_acc)\n",
        "\n",
        "    epoch_val_loss, epoch_val_acc, best_acc, best_weights = val(model, val_dataloader, loss, accuracy, device, best_acc, best_weights)\n",
        "    val_loss.append(epoch_val_loss)\n",
        "    val_acc.append(epoch_val_acc)\n",
        "\n",
        "    if early_stopper.early_stop(epoch_val_loss):\n",
        "      break\n",
        "\n",
        "    print(f\"\\nTrain loss: {epoch_train_loss:6.4f} Val loss: {epoch_val_loss:6.4f}\")\n",
        "    print(f\"Train accuracy: {(epoch_train_acc):6.4f} Val accuracy: {(epoch_val_acc):6.4f}\")\n",
        "\n",
        "  return train_loss, val_loss, train_acc, val_acc, best_acc, best_weights"
      ]
    },
    {
      "cell_type": "markdown",
      "metadata": {
        "id": "jwU_YxqIGP06"
      },
      "source": [
        "L'inferenza sul modello addestrato verrà infine effettuata in questo modo, assegnando una label se la rispettiva logit supera il valore di 0.5 (o equivalentemente il 50% di probabilità)."
      ]
    },
    {
      "cell_type": "code",
      "execution_count": 33,
      "metadata": {
        "id": "rtp3c29eGP06"
      },
      "outputs": [],
      "source": [
        "def predict(model, dataset):\n",
        "    dataloader = DataLoader(dataset)\n",
        "    predictions = []\n",
        "\n",
        "    with torch.no_grad():\n",
        "        for d in tqdm(dataloader):\n",
        "            (ids, mask, token_type_ids, labels_) = d.values()\n",
        "\n",
        "            input_ids = ids.squeeze(1).to(device)\n",
        "            input_mask = mask.squeeze(1).to(device)\n",
        "            input_token_type_ids = token_type_ids.squeeze(1).to(device)\n",
        "            labels_ = labels_.squeeze(1).to(device).float()\n",
        "\n",
        "            output = model(input_ids, input_mask, input_token_type_ids)\n",
        "\n",
        "            output = output.squeeze(0).detach().cpu().tolist()\n",
        "            pred = [1 if o > .5 else 0 for o in output]\n",
        "            input_ids= input_ids.detach().cpu()\n",
        "            input_mask = input_mask.detach().cpu()\n",
        "            input_token_type_ids = input_token_type_ids.detach().cpu()\n",
        "            labels_ = labels_.detach().cpu()\n",
        "            predictions.append(pred)\n",
        "\n",
        "    return predictions"
      ]
    },
    {
      "cell_type": "markdown",
      "metadata": {
        "id": "ousspbPPGP06"
      },
      "source": [
        "Come detto in precedenza, è stato usato un approccio simil Randomized Search CV, ovvero:\n",
        "\n",
        "A partire dalla seguente griglia di iperparametri, sono state effettuati in totale 8 addestramenti (4 per i testi preprocessati, 4 per quelli non preprocessati).\n",
        "\n",
        "Per ogni addestramento, sono stati presi casualmente dei parametri (in modo tale ovviamente da non incappare in due addestramenti con gli stessi parametri) e salvati pesi e history dell'addestramento (iperparametri usati, train e validation loss/accuracy nel tempo).\n",
        "\n",
        "I grafici sono stati salvati per non dover ripetere l'addestramento in futuro, così come i file .pt contenenti i pesi.\n",
        "\n",
        "Non è possibile condividere tramite github i pesi a causa delle dimensioni dei singoli file (circa 6-700MB), tuttavia è possibile richiederli e verranno condivisi per eventuali prove e/o miglioramenti."
      ]
    },
    {
      "cell_type": "code",
      "execution_count": 34,
      "metadata": {
        "id": "hZfnamgyGP06"
      },
      "outputs": [],
      "source": [
        "hyperparameters = {\n",
        "    'dropout' : [0, 0.1, 0.2],\n",
        "    'batch_size' : [16, 32, 64],\n",
        "    'epochs' : [5, 10, 15, 20, 25, 30],\n",
        "    'lr' : [1e-5, 1e-6],\n",
        "    'max_len' : MAX_LEN,\n",
        "    'num_classes' : 10,\n",
        "}\n",
        "\n",
        "loss = nn.BCELoss()"
      ]
    },
    {
      "cell_type": "code",
      "execution_count": 35,
      "metadata": {
        "id": "3dIuofczGP07"
      },
      "outputs": [],
      "source": [
        "X_train, X_val, Y_train, Y_val = train_test_split(text, emotions.to_numpy(), test_size=0.3)\n",
        "train_dataset = _Dataset(X_train, Y_train, tokenizer, hyperparameters['max_len'])\n",
        "val_dataset = _Dataset(X_val, Y_val, tokenizer, hyperparameters['max_len'])\n",
        "\n",
        "X_train_prep, X_val_prep, Y_train_prep, Y_val_prep = train_test_split(text_prep, emotions_prep.to_numpy(), test_size=0.3)\n",
        "train_dataset_prep = _Dataset(X_train_prep, Y_train_prep, tokenizer, hyperparameters['max_len'])\n",
        "val_dataset_prep = _Dataset(X_val_prep, Y_val_prep, tokenizer, hyperparameters['max_len'])"
      ]
    },
    {
      "cell_type": "markdown",
      "metadata": {
        "id": "DFuPPajlGP07"
      },
      "source": [
        "Salviamo i risultati serializzandoli tramite il pacchetto pickle (i file non sono disponbili su github per lo stesso motivo per cui non lo sono i pesi, tuttavia i risultati sono mostrati a seguire tramite grafici)."
      ]
    },
    {
      "cell_type": "code",
      "execution_count": 36,
      "metadata": {
        "id": "a_y6UeAaGP07"
      },
      "outputs": [],
      "source": [
        "runs = []\n",
        "n_runs = 4\n",
        "run = None\n",
        "i = 0\n",
        "\n",
        "if not os.path.exists(f'{root}/task_A'):\n",
        "  os.mkdir(f'{root}/task_A')\n",
        "\n",
        "if not os.path.exists(f'{root}/task_A/best_weights.pt'):\n",
        "    os.mkdir(f'{root}/task_A/runs')\n",
        "    while i < n_runs:\n",
        "        if torch.cuda.is_available():\n",
        "            torch.cuda.empty_cache()\n",
        "        accuracy = MultilabelAccuracy(num_labels=10).to(device)\n",
        "\n",
        "        dropout = rand.choice(hyperparameters['dropout'])\n",
        "        lr = rand.choice(hyperparameters['lr'])\n",
        "        epochs = rand.choice(hyperparameters['epochs'])\n",
        "        batch_size = rand.choice(hyperparameters['batch_size'])\n",
        "        run = [dropout, lr, epochs, batch_size]\n",
        "\n",
        "        if run in runs:\n",
        "            continue\n",
        "\n",
        "        i = i + 1\n",
        "\n",
        "        os.mkdir(f'{root}/task_A/runs/{i}')\n",
        "\n",
        "        runs.append(run)\n",
        "\n",
        "        early_stopper = EarlyStopper(patience=1, min_delta=0.008)\n",
        "        classifier = BTEClassifier(dropout, hyperparameters['num_classes'], model).to(device)\n",
        "        optimizer = Adam(classifier.parameters(), lr=lr)\n",
        "\n",
        "        train_loss, val_loss, train_acc, val_acc, best_acc, best_weights = evaluate(\n",
        "            classifier,\n",
        "            epochs,\n",
        "            optimizer,\n",
        "            device,\n",
        "            train_dataset,\n",
        "            val_dataset,\n",
        "            batch_size,\n",
        "            accuracy,\n",
        "            loss,\n",
        "            early_stopper\n",
        "        )\n",
        "\n",
        "        classifier = classifier.cpu()\n",
        "        accuracy = accuracy.cpu()\n",
        "\n",
        "        hist = {\n",
        "              \"epochs\" : epochs,\n",
        "              \"dropout\" : dropout,\n",
        "              \"lr\" : lr,\n",
        "              \"batch_size\" : batch_size,\n",
        "              \"train_loss\" : train_loss,\n",
        "              \"val_loss\" : val_loss,\n",
        "              \"train_acc\" : train_acc,\n",
        "              \"val_acc\" : val_acc,\n",
        "              \"best_acc\" : best_acc\n",
        "        }\n",
        "\n",
        "        torch.save(best_weights, f'{root}/task_A/runs/{i}/weights.pt')\n",
        "        with open(f'{root}/task_A/runs/{i}/hist.pkl', 'wb') as handle:\n",
        "          save = {\n",
        "            \"hist\" : hist,\n",
        "            \"run\" : run\n",
        "          }\n",
        "          pickle.dump(save, handle)\n",
        "          handle.close()"
      ]
    },
    {
      "cell_type": "code",
      "execution_count": 37,
      "metadata": {
        "id": "ox5x-cVsGP07"
      },
      "outputs": [],
      "source": [
        "if not os.path.exists(f'{root}/task_A/train.png'):\n",
        "    fig, (ax) = plt.subplots( nrows=2, ncols=2, figsize=(10, 10))\n",
        "    n_epochs = list(range(0, 22, 2))\n",
        "\n",
        "    for i in range(2):\n",
        "        for j in range(2):\n",
        "            file = open(f'{root}/task_A/runs/{(i * 2) + j + 1}/hist.pkl', 'rb')\n",
        "            r = pickle.load(file)\n",
        "            hist = r['hist']\n",
        "            file.close()\n",
        "            ax[i][j].set_title(f\"Lr:{hist['lr']}, epochs:{hist['epochs']}, \\ndropout:{hist['dropout']}, batch:{hist['batch_size']}\")\n",
        "            ax[i][j].plot(hist['train_loss'], label='training loss')\n",
        "            ax[i][j].plot(hist['val_loss'], label='val loss')\n",
        "            ax[i][j].legend(loc='lower right')\n",
        "            ax[i][j].set_xticks(n_epochs)\n",
        "\n",
        "    plt.show()\n",
        "    fig.savefig(f'{root}/task_A/train.png')\n",
        "    plt.close(fig)"
      ]
    },
    {
      "cell_type": "markdown",
      "source": [
        "![No preprocess train](https://drive.google.com/uc?id=1iXBAbY43_Tw1WSnjK1D2mLcDbZCirxGb)"
      ],
      "metadata": {
        "id": "SQAQtJgKs18S"
      }
    },
    {
      "cell_type": "markdown",
      "metadata": {
        "id": "AsztE-sZGP07"
      },
      "source": [
        "Facciamo lo stesso ma per i dati preprocessati"
      ]
    },
    {
      "cell_type": "code",
      "execution_count": 40,
      "metadata": {
        "id": "TMkuckXuGP07"
      },
      "outputs": [],
      "source": [
        "prep_runs = []\n",
        "prep_run = None\n",
        "i = 0\n",
        "\n",
        "if not os.path.exists(f'{root}/task_A/best_prep_weights.pt'):\n",
        "    os.mkdir(f'{root}/task_A/prep_runs')\n",
        "    while i < n_runs:\n",
        "        if torch.cuda.is_available():\n",
        "            torch.cuda.empty_cache()\n",
        "        accuracy = MultilabelAccuracy(num_labels=10).to(device)\n",
        "\n",
        "        dropout = rand.choice(hyperparameters['dropout'])\n",
        "        lr = rand.choice(hyperparameters['lr'])\n",
        "        epochs = rand.choice(hyperparameters['epochs'])\n",
        "        batch_size = rand.choice(hyperparameters['batch_size'])\n",
        "        prep_run = [dropout, lr, epochs, batch_size]\n",
        "\n",
        "        if prep_run in prep_runs:\n",
        "            continue\n",
        "\n",
        "        i = i + 1\n",
        "\n",
        "        os.mkdir(f'{root}/task_A/prep_runs/{i}')\n",
        "\n",
        "        prep_runs.append(prep_run)\n",
        "\n",
        "        early_stopper = EarlyStopper(patience=1, min_delta=0.008)\n",
        "        classifier = BTEClassifier(dropout, hyperparameters['num_classes'], model).to(device)\n",
        "        optimizer = Adam(classifier.parameters(), lr=lr)\n",
        "\n",
        "        train_loss, val_loss, train_acc, val_acc, best_acc, best_weights = evaluate(\n",
        "            classifier,\n",
        "            epochs,\n",
        "            optimizer,\n",
        "            device,\n",
        "            train_dataset,\n",
        "            val_dataset,\n",
        "            batch_size,\n",
        "            accuracy,\n",
        "            loss,\n",
        "            early_stopper\n",
        "        )\n",
        "\n",
        "        classifier = classifier.cpu()\n",
        "        accuracy = accuracy.cpu()\n",
        "\n",
        "        hist = {\n",
        "              \"epochs\" : epochs,\n",
        "              \"dropout\" : dropout,\n",
        "              \"lr\" : lr,\n",
        "              \"batch_size\" : batch_size,\n",
        "              \"train_loss\" : train_loss,\n",
        "              \"val_loss\" : val_loss,\n",
        "              \"train_acc\" : train_acc,\n",
        "              \"val_acc\" : val_acc,\n",
        "              \"best_acc\" : best_acc\n",
        "        }\n",
        "\n",
        "        torch.save(best_weights, f'{root}/task_A/prep_runs/{i}/weights.pt')\n",
        "        with open(f'{root}/task_A/prep_runs/{i}/hist.pkl', 'wb') as handle:\n",
        "          save = {\n",
        "            \"hist\" : hist,\n",
        "            \"run\" : run\n",
        "          }\n",
        "          pickle.dump(save, handle)\n",
        "          handle.close()"
      ]
    },
    {
      "cell_type": "code",
      "execution_count": 41,
      "metadata": {
        "id": "gr0euQgXGP08"
      },
      "outputs": [],
      "source": [
        "if not os.path.exists(f'{root}/task_A/train_prep.png'):\n",
        "    fig, (ax) = plt.subplots( nrows=2, ncols=2, figsize=(10, 10))\n",
        "    n_epochs = list(range(0, 22, 2))\n",
        "\n",
        "    for i in range(2):\n",
        "        for j in range(2):\n",
        "            file = open(f'{root}/task_A/prep_runs/{(i * 2) + j + 1}/hist.pkl', 'rb')\n",
        "            r = pickle.load(file)\n",
        "            hist = r['hist']\n",
        "            ax[i][j].set_title(f\"Lr:{hist['lr']}, epochs:{hist['epochs']}, \\ndropout:{hist['dropout']}, batch:{hist['batch_size']}\")\n",
        "            ax[i][j].plot(hist['train_loss'], label='training loss')\n",
        "            ax[i][j].plot(hist['val_loss'], label='val loss')\n",
        "            ax[i][j].legend(loc='lower right')\n",
        "            ax[i][j].set_xticks(n_epochs)\n",
        "            file.close()\n",
        "\n",
        "    plt.show()\n",
        "    fig.savefig(f'{root}/task_A/train_prep.png')\n",
        "    plt.close(fig)"
      ]
    },
    {
      "cell_type": "markdown",
      "source": [
        "![Preprocess train](https://drive.google.com/uc?id=1sPFlXhJvG9D3YKXhtPzdOCNJt7kT4ZMx)"
      ],
      "metadata": {
        "id": "3XMhM2aqvKBQ"
      }
    },
    {
      "cell_type": "markdown",
      "metadata": {
        "id": "oU-ahZRJGP08"
      },
      "source": [
        "Procediamo adesso a caricare i dati su cui fare test (sia id che ood)"
      ]
    },
    {
      "cell_type": "code",
      "execution_count": 42,
      "metadata": {
        "id": "8HCYKrsJGP08"
      },
      "outputs": [],
      "source": [
        "classes = emotions.columns\n",
        "\n",
        "test = pd.read_csv(f\"{root}/release/emit_2023-test-labels/emit_test.csv\")\n",
        "test_prep = test.copy()\n",
        "\n",
        "test_ood = pd.read_csv(f\"{root}/release/emit_2023-test-labels/emit_test_ood.csv\")\n",
        "test_ood_prep = test_ood.copy()\n",
        "\n",
        "test.drop([\"Topic\", \"Direction\"], axis=1, inplace=True)\n",
        "test_ood.drop([\"Topic\", \"Direction\"], axis=1, inplace=True)\n",
        "\n",
        "test_prep.drop([\"Topic\", \"Direction\"], axis=1, inplace=True)\n",
        "test_ood_prep.drop([\"Topic\", \"Direction\"], axis=1, inplace=True)\n",
        "\n",
        "test_prep['text'] = test_prep['text'].apply(preprocess).apply(removeHashTags)\n",
        "test_ood_prep['text'] = test_ood_prep['text'].apply(preprocess).apply(removeHashTags)\n",
        "\n",
        "test_prep = test_prep.loc[test_prep['text'].str.len() > 0]\n",
        "test_ood_prep = test_ood_prep.loc[test_ood_prep['text'].str.len() > 0]\n",
        "\n",
        "test_prep_dataset = _Dataset(test_prep['text'], test_prep.drop(['id','text'], axis=1).to_numpy(), tokenizer, hyperparameters['max_len'])\n",
        "test_ood_prep_dataset = _Dataset(test_ood_prep['text'], test_ood_prep.drop(['id','text'], axis=1).to_numpy(), tokenizer, hyperparameters['max_len'])\n",
        "\n",
        "test_dataset = _Dataset(test['text'], test.drop(['id','text'], axis=1).to_numpy(), tokenizer, hyperparameters['max_len'])\n",
        "test_ood_dataset = _Dataset(test_ood['text'], test_ood.drop(['id','text'], axis=1).to_numpy(), tokenizer, hyperparameters['max_len'])"
      ]
    },
    {
      "cell_type": "code",
      "source": [
        "import shutil"
      ],
      "metadata": {
        "id": "Qo4uOitD5QJ5"
      },
      "execution_count": 43,
      "outputs": []
    },
    {
      "cell_type": "markdown",
      "metadata": {
        "id": "wI49CrXQGP08"
      },
      "source": [
        "Generiamo per ogni dataset (4 in totali: no prep ood e in-domain, prep ood e in-domain) le nostre predizioni.\n",
        "\n",
        "Su queste poi andremo a valutare i risultati usando come metrica l'F1 score, in particolare impostando la media per ogni dato con il parametro _macro_, ovvero calcoliamo la metrica per ogni label per trovare la media NON pesata (non teniamo conto sbilanciamenti relativi alle label)."
      ]
    },
    {
      "cell_type": "code",
      "execution_count": 44,
      "metadata": {
        "id": "Ze-NkavmGP08"
      },
      "outputs": [],
      "source": [
        "if not os.path.exists(f'{root}/task_A/heatmap.png'):\n",
        "    preds = []\n",
        "    preds_ood = []\n",
        "    for i in range(4):\n",
        "\n",
        "        weights = torch.load(f'{root}/task_A/runs/{i + 1}/weights.pt')\n",
        "\n",
        "        classifier = BTEClassifier(0, hyperparameters['num_classes'], model).to(device)\n",
        "        classifier.load_state_dict(weights)\n",
        "\n",
        "        preds.append(predict(classifier, test_dataset))\n",
        "        preds_ood.append(predict(classifier, test_ood_dataset))\n",
        "\n",
        "    target = test[classes].to_numpy()\n",
        "    target_ood = test_ood[classes].to_numpy()\n",
        "\n",
        "    f1_scores = [f1(pred, target, average='macro') for pred in preds]\n",
        "    f1_ood_scores = [f1(ood_pred, target_ood, average='macro') for ood_pred in preds_ood]\n",
        "\n",
        "    best_index = f1_scores.index(max(f1_scores))\n",
        "\n",
        "    file = open(f'{root}/task_A/runs/{best_index + 1}/hist.pkl', 'rb')\n",
        "    data = pickle.load(file)\n",
        "    best_hyperp = data['hist']\n",
        "    file.close()\n",
        "\n",
        "    best_index_ood = f1_ood_scores.index(max(f1_ood_scores))\n",
        "\n",
        "    file = open(f'{root}/task_A/runs/{best_index_ood + 1}/hist.pkl', 'rb')\n",
        "    data = pickle.load(file)\n",
        "    best_ood_hyperp = data['hist']\n",
        "    file.close()\n",
        "\n",
        "    # Salviamo i risultati migliori ottenuti\n",
        "    # (in termini di f1 score, la stessa metrica usata come evaluation del task in generale di evalita)\n",
        "\n",
        "    if not os.path.exists(f'{root}/task_A/best_weights.pt'):\n",
        "        shutil.copyfile(f'{root}/runs/{best_index + 1}/weights.pt', f'{root}/task_A/best_weights.pt')\n",
        "        shutil.copyfile(f'{root}/task_A/runs/{best_index_ood + 1}/weights.pt', f'{root}/task_A/best_ood_weights.pt')\n",
        "\n",
        "    # Generiamo le heatmap tramite seaborn dopo aver generato il report di classificazione\n",
        "    # usiamo classification_report da sklearn\n",
        "\n",
        "    fig, ax = plt.subplots(nrows=2, figsize=(10, 10))\n",
        "\n",
        "    ax[0].set_title('In domain')\n",
        "    ax[1].set_title('OOD')\n",
        "    report = cr(preds[best_index], target, target_names=classes, output_dict=True)\n",
        "    report_ood = cr(preds_ood[best_index], target, target_names=classes, output_dict=True)\n",
        "    sns.heatmap(pd.DataFrame(report).iloc[:-1, :].T, annot=True, ax=ax[0]).get_figure()\n",
        "    sns.heatmap(pd.DataFrame(report_ood).iloc[:-1, :].T, annot=True, ax=ax[1]).get_figure()\n",
        "    fig.savefig(f'{root}/task_A/heatmap.png')\n",
        "\n",
        "    recap = open(f\"{root}/task_A/recap.csv\", \"w\")\n",
        "    txt = [\n",
        "        \"lr,epochs,batch_size,dropout,ood,f1-score\",\n",
        "        f\"{best_hyperp['lr']},{best_hyperp['epochs']},{best_hyperp['batch_size']},{best_hyperp['dropout']},False,{max(f1_scores)}\",\n",
        "        f\"{best_ood_hyperp['lr']},{best_ood_hyperp['epochs']},{best_ood_hyperp['batch_size']}, {best_ood_hyperp['dropout']},True,{max(f1_ood_scores)}\"\n",
        "    ]\n",
        "    recap.write(\"\\n\".join(txt))\n",
        "    recap.close()"
      ]
    },
    {
      "cell_type": "markdown",
      "source": [
        "![No preprocess heatmap](https://drive.google.com/uc?id=19t0cPO_tcS9yg5R9i2XkHS_xo6__xQ8W)"
      ],
      "metadata": {
        "id": "PS39IS2Pv4H1"
      }
    },
    {
      "cell_type": "code",
      "execution_count": 48,
      "metadata": {
        "id": "VqNdBW1UGP08"
      },
      "outputs": [],
      "source": [
        "if not os.path.exists(f'{root}/task_A/heatmap_prep.png'):\n",
        "    preds_prep = []\n",
        "    preds_ood_prep = []\n",
        "    for i in range(4):\n",
        "\n",
        "        weights = torch.load(f'{root}/task_A/prep_runs/{i + 1}/weights.pt')\n",
        "\n",
        "        classifier = BTEClassifier(0, hyperparameters['num_classes'], model).to(device)\n",
        "        classifier.load_state_dict(weights)\n",
        "\n",
        "        preds_prep.append(predict(classifier, test_prep_dataset))\n",
        "        preds_ood_prep.append(predict(classifier, test_ood_prep_dataset))\n",
        "\n",
        "    target_prep = test_prep[classes].to_numpy()\n",
        "    target_prep_ood = test_ood_prep[classes].to_numpy()\n",
        "\n",
        "    f1_prep_scores = [f1(pred_prep, target_prep, average='macro') for pred_prep in preds_prep]\n",
        "    f1_prep_ood_scores = [f1(ood_prep_pred, target_prep_ood, average='macro') for ood_prep_pred in preds_ood_prep]\n",
        "\n",
        "    best_prep_index = f1_prep_scores.index(max(f1_prep_scores))\n",
        "    best_prep_index_ood = f1_prep_ood_scores.index(max(f1_prep_ood_scores))\n",
        "\n",
        "    file = open(f'{root}/task_A/prep_runs/{best_prep_index + 1}/hist.pkl', 'rb')\n",
        "    data = pickle.load(file)\n",
        "    best_prep_hyperp = data['hist']\n",
        "    file.close()\n",
        "\n",
        "    file = open(f'{root}/task_A/prep_runs/{best_prep_index_ood + 1}/hist.pkl', 'rb')\n",
        "    data = pickle.load(file)\n",
        "    best_prep_ood_hyperp = data['hist']\n",
        "    file.close()\n",
        "\n",
        "    if not os.path.exists(f'{root}/task_A/best_prep_weights.pt'):\n",
        "        shutil.copyfile(f'{root}/task_A/prep_runs/{best_prep_index + 1}/weights.pt', f'{root}/task_A/best_prep_weights.pt')\n",
        "        shutil.copyfile(f'{root}/task_A/prep_runs/{best_prep_index_ood + 1}/weights.pt', f'{root}/task_A/best_prep_ood_weights.pt')\n",
        "    fig, ax = plt.subplots(nrows=2, figsize=(10, 10))\n",
        "\n",
        "    ax[0].set_title('In domain')\n",
        "    ax[1].set_title('OOD')\n",
        "    report_prep = cr(preds_prep[best_prep_index], target_prep, target_names=classes, output_dict=True)\n",
        "    report_ood_prep = cr(preds_ood_prep[best_prep_index], target_prep, target_names=classes, output_dict=True)\n",
        "    sns.heatmap(pd.DataFrame(report_prep).iloc[:-1, :].T, annot=True, ax=ax[0]).get_figure()\n",
        "    sns.heatmap(pd.DataFrame(report_ood_prep).iloc[:-1, :].T, annot=True, ax=ax[1]).get_figure()\n",
        "    fig.savefig(f'{root}/task_A/heatmap.png')\n",
        "\n",
        "    recap = open(f\"{root}/task_A/recap_prep.csv\", \"w\")\n",
        "    txt = [\n",
        "        \"lr,epochs,batch_size,dropout,ood,f1-score\",\n",
        "        f\"{best_prep_hyperp['lr']},{best_prep_hyperp['epochs']},{best_prep_hyperp['batch_size']},{best_prep_hyperp['dropout']},False,{max(f1_prep_scores)}\",\n",
        "        f\"{best_prep_ood_hyperp['lr']},{best_prep_ood_hyperp['epochs']},{best_prep_ood_hyperp['batch_size']}, {best_prep_ood_hyperp['dropout']},True,{max(f1_prep_ood_scores)}\"\n",
        "    ]\n",
        "    recap.write(\"\\n\".join(txt))\n",
        "    recap.close()"
      ]
    },
    {
      "cell_type": "markdown",
      "source": [
        "![Preprocess heatmap](https://drive.google.com/uc?id=1nCmq7sZX9WUvkbqQxjJDAUm7608MJTok)"
      ],
      "metadata": {
        "id": "ahiFCEyZvase"
      }
    },
    {
      "cell_type": "markdown",
      "metadata": {
        "id": "XS6kJAIQGP09"
      },
      "source": [
        "Salviamo infine un veloce recap dei migliori risultati ottenuti in dei file _.txt_"
      ]
    },
    {
      "cell_type": "code",
      "execution_count": 49,
      "metadata": {
        "id": "66iNcvgnGP09"
      },
      "outputs": [],
      "source": [
        "def scientificNotation(x):\n",
        "    return '{:.0e}'.format(float(str(x).rstrip('0')))\n",
        "\n",
        "def truncateFloat(x):\n",
        "    return '%.2f'%(x)"
      ]
    },
    {
      "cell_type": "code",
      "execution_count": 50,
      "metadata": {
        "id": "C-1qxcCUGP09",
        "colab": {
          "base_uri": "https://localhost:8080/",
          "height": 112
        },
        "outputId": "704cd188-3e74-4167-dea9-3cf153d3ffa1"
      },
      "outputs": [
        {
          "output_type": "execute_result",
          "data": {
            "text/plain": [
              "      lr  epochs  batch_size  dropout    ood f1-score\n",
              "0  1e-05      10          16        0  False     0.29\n",
              "1  1e-05      10          16        0   True     0.29"
            ],
            "text/html": [
              "\n",
              "  <div id=\"df-935831fc-fd8f-4a91-9210-9186e25febae\" class=\"colab-df-container\">\n",
              "    <div>\n",
              "<style scoped>\n",
              "    .dataframe tbody tr th:only-of-type {\n",
              "        vertical-align: middle;\n",
              "    }\n",
              "\n",
              "    .dataframe tbody tr th {\n",
              "        vertical-align: top;\n",
              "    }\n",
              "\n",
              "    .dataframe thead th {\n",
              "        text-align: right;\n",
              "    }\n",
              "</style>\n",
              "<table border=\"1\" class=\"dataframe\">\n",
              "  <thead>\n",
              "    <tr style=\"text-align: right;\">\n",
              "      <th></th>\n",
              "      <th>lr</th>\n",
              "      <th>epochs</th>\n",
              "      <th>batch_size</th>\n",
              "      <th>dropout</th>\n",
              "      <th>ood</th>\n",
              "      <th>f1-score</th>\n",
              "    </tr>\n",
              "  </thead>\n",
              "  <tbody>\n",
              "    <tr>\n",
              "      <th>0</th>\n",
              "      <td>1e-05</td>\n",
              "      <td>10</td>\n",
              "      <td>16</td>\n",
              "      <td>0</td>\n",
              "      <td>False</td>\n",
              "      <td>0.29</td>\n",
              "    </tr>\n",
              "    <tr>\n",
              "      <th>1</th>\n",
              "      <td>1e-05</td>\n",
              "      <td>10</td>\n",
              "      <td>16</td>\n",
              "      <td>0</td>\n",
              "      <td>True</td>\n",
              "      <td>0.29</td>\n",
              "    </tr>\n",
              "  </tbody>\n",
              "</table>\n",
              "</div>\n",
              "    <div class=\"colab-df-buttons\">\n",
              "\n",
              "  <div class=\"colab-df-container\">\n",
              "    <button class=\"colab-df-convert\" onclick=\"convertToInteractive('df-935831fc-fd8f-4a91-9210-9186e25febae')\"\n",
              "            title=\"Convert this dataframe to an interactive table.\"\n",
              "            style=\"display:none;\">\n",
              "\n",
              "  <svg xmlns=\"http://www.w3.org/2000/svg\" height=\"24px\" viewBox=\"0 -960 960 960\">\n",
              "    <path d=\"M120-120v-720h720v720H120Zm60-500h600v-160H180v160Zm220 220h160v-160H400v160Zm0 220h160v-160H400v160ZM180-400h160v-160H180v160Zm440 0h160v-160H620v160ZM180-180h160v-160H180v160Zm440 0h160v-160H620v160Z\"/>\n",
              "  </svg>\n",
              "    </button>\n",
              "\n",
              "  <style>\n",
              "    .colab-df-container {\n",
              "      display:flex;\n",
              "      gap: 12px;\n",
              "    }\n",
              "\n",
              "    .colab-df-convert {\n",
              "      background-color: #E8F0FE;\n",
              "      border: none;\n",
              "      border-radius: 50%;\n",
              "      cursor: pointer;\n",
              "      display: none;\n",
              "      fill: #1967D2;\n",
              "      height: 32px;\n",
              "      padding: 0 0 0 0;\n",
              "      width: 32px;\n",
              "    }\n",
              "\n",
              "    .colab-df-convert:hover {\n",
              "      background-color: #E2EBFA;\n",
              "      box-shadow: 0px 1px 2px rgba(60, 64, 67, 0.3), 0px 1px 3px 1px rgba(60, 64, 67, 0.15);\n",
              "      fill: #174EA6;\n",
              "    }\n",
              "\n",
              "    .colab-df-buttons div {\n",
              "      margin-bottom: 4px;\n",
              "    }\n",
              "\n",
              "    [theme=dark] .colab-df-convert {\n",
              "      background-color: #3B4455;\n",
              "      fill: #D2E3FC;\n",
              "    }\n",
              "\n",
              "    [theme=dark] .colab-df-convert:hover {\n",
              "      background-color: #434B5C;\n",
              "      box-shadow: 0px 1px 3px 1px rgba(0, 0, 0, 0.15);\n",
              "      filter: drop-shadow(0px 1px 2px rgba(0, 0, 0, 0.3));\n",
              "      fill: #FFFFFF;\n",
              "    }\n",
              "  </style>\n",
              "\n",
              "    <script>\n",
              "      const buttonEl =\n",
              "        document.querySelector('#df-935831fc-fd8f-4a91-9210-9186e25febae button.colab-df-convert');\n",
              "      buttonEl.style.display =\n",
              "        google.colab.kernel.accessAllowed ? 'block' : 'none';\n",
              "\n",
              "      async function convertToInteractive(key) {\n",
              "        const element = document.querySelector('#df-935831fc-fd8f-4a91-9210-9186e25febae');\n",
              "        const dataTable =\n",
              "          await google.colab.kernel.invokeFunction('convertToInteractive',\n",
              "                                                    [key], {});\n",
              "        if (!dataTable) return;\n",
              "\n",
              "        const docLinkHtml = 'Like what you see? Visit the ' +\n",
              "          '<a target=\"_blank\" href=https://colab.research.google.com/notebooks/data_table.ipynb>data table notebook</a>'\n",
              "          + ' to learn more about interactive tables.';\n",
              "        element.innerHTML = '';\n",
              "        dataTable['output_type'] = 'display_data';\n",
              "        await google.colab.output.renderOutput(dataTable, element);\n",
              "        const docLink = document.createElement('div');\n",
              "        docLink.innerHTML = docLinkHtml;\n",
              "        element.appendChild(docLink);\n",
              "      }\n",
              "    </script>\n",
              "  </div>\n",
              "\n",
              "\n",
              "<div id=\"df-e23503a0-1aa3-45cd-84c9-88424eb6a5c9\">\n",
              "  <button class=\"colab-df-quickchart\" onclick=\"quickchart('df-e23503a0-1aa3-45cd-84c9-88424eb6a5c9')\"\n",
              "            title=\"Suggest charts\"\n",
              "            style=\"display:none;\">\n",
              "\n",
              "<svg xmlns=\"http://www.w3.org/2000/svg\" height=\"24px\"viewBox=\"0 0 24 24\"\n",
              "     width=\"24px\">\n",
              "    <g>\n",
              "        <path d=\"M19 3H5c-1.1 0-2 .9-2 2v14c0 1.1.9 2 2 2h14c1.1 0 2-.9 2-2V5c0-1.1-.9-2-2-2zM9 17H7v-7h2v7zm4 0h-2V7h2v10zm4 0h-2v-4h2v4z\"/>\n",
              "    </g>\n",
              "</svg>\n",
              "  </button>\n",
              "\n",
              "<style>\n",
              "  .colab-df-quickchart {\n",
              "      --bg-color: #E8F0FE;\n",
              "      --fill-color: #1967D2;\n",
              "      --hover-bg-color: #E2EBFA;\n",
              "      --hover-fill-color: #174EA6;\n",
              "      --disabled-fill-color: #AAA;\n",
              "      --disabled-bg-color: #DDD;\n",
              "  }\n",
              "\n",
              "  [theme=dark] .colab-df-quickchart {\n",
              "      --bg-color: #3B4455;\n",
              "      --fill-color: #D2E3FC;\n",
              "      --hover-bg-color: #434B5C;\n",
              "      --hover-fill-color: #FFFFFF;\n",
              "      --disabled-bg-color: #3B4455;\n",
              "      --disabled-fill-color: #666;\n",
              "  }\n",
              "\n",
              "  .colab-df-quickchart {\n",
              "    background-color: var(--bg-color);\n",
              "    border: none;\n",
              "    border-radius: 50%;\n",
              "    cursor: pointer;\n",
              "    display: none;\n",
              "    fill: var(--fill-color);\n",
              "    height: 32px;\n",
              "    padding: 0;\n",
              "    width: 32px;\n",
              "  }\n",
              "\n",
              "  .colab-df-quickchart:hover {\n",
              "    background-color: var(--hover-bg-color);\n",
              "    box-shadow: 0 1px 2px rgba(60, 64, 67, 0.3), 0 1px 3px 1px rgba(60, 64, 67, 0.15);\n",
              "    fill: var(--button-hover-fill-color);\n",
              "  }\n",
              "\n",
              "  .colab-df-quickchart-complete:disabled,\n",
              "  .colab-df-quickchart-complete:disabled:hover {\n",
              "    background-color: var(--disabled-bg-color);\n",
              "    fill: var(--disabled-fill-color);\n",
              "    box-shadow: none;\n",
              "  }\n",
              "\n",
              "  .colab-df-spinner {\n",
              "    border: 2px solid var(--fill-color);\n",
              "    border-color: transparent;\n",
              "    border-bottom-color: var(--fill-color);\n",
              "    animation:\n",
              "      spin 1s steps(1) infinite;\n",
              "  }\n",
              "\n",
              "  @keyframes spin {\n",
              "    0% {\n",
              "      border-color: transparent;\n",
              "      border-bottom-color: var(--fill-color);\n",
              "      border-left-color: var(--fill-color);\n",
              "    }\n",
              "    20% {\n",
              "      border-color: transparent;\n",
              "      border-left-color: var(--fill-color);\n",
              "      border-top-color: var(--fill-color);\n",
              "    }\n",
              "    30% {\n",
              "      border-color: transparent;\n",
              "      border-left-color: var(--fill-color);\n",
              "      border-top-color: var(--fill-color);\n",
              "      border-right-color: var(--fill-color);\n",
              "    }\n",
              "    40% {\n",
              "      border-color: transparent;\n",
              "      border-right-color: var(--fill-color);\n",
              "      border-top-color: var(--fill-color);\n",
              "    }\n",
              "    60% {\n",
              "      border-color: transparent;\n",
              "      border-right-color: var(--fill-color);\n",
              "    }\n",
              "    80% {\n",
              "      border-color: transparent;\n",
              "      border-right-color: var(--fill-color);\n",
              "      border-bottom-color: var(--fill-color);\n",
              "    }\n",
              "    90% {\n",
              "      border-color: transparent;\n",
              "      border-bottom-color: var(--fill-color);\n",
              "    }\n",
              "  }\n",
              "</style>\n",
              "\n",
              "  <script>\n",
              "    async function quickchart(key) {\n",
              "      const quickchartButtonEl =\n",
              "        document.querySelector('#' + key + ' button');\n",
              "      quickchartButtonEl.disabled = true;  // To prevent multiple clicks.\n",
              "      quickchartButtonEl.classList.add('colab-df-spinner');\n",
              "      try {\n",
              "        const charts = await google.colab.kernel.invokeFunction(\n",
              "            'suggestCharts', [key], {});\n",
              "      } catch (error) {\n",
              "        console.error('Error during call to suggestCharts:', error);\n",
              "      }\n",
              "      quickchartButtonEl.classList.remove('colab-df-spinner');\n",
              "      quickchartButtonEl.classList.add('colab-df-quickchart-complete');\n",
              "    }\n",
              "    (() => {\n",
              "      let quickchartButtonEl =\n",
              "        document.querySelector('#df-e23503a0-1aa3-45cd-84c9-88424eb6a5c9 button');\n",
              "      quickchartButtonEl.style.display =\n",
              "        google.colab.kernel.accessAllowed ? 'block' : 'none';\n",
              "    })();\n",
              "  </script>\n",
              "</div>\n",
              "    </div>\n",
              "  </div>\n"
            ],
            "application/vnd.google.colaboratory.intrinsic+json": {
              "type": "dataframe",
              "variable_name": "recap_csv",
              "summary": "{\n  \"name\": \"recap_csv\",\n  \"rows\": 2,\n  \"fields\": [\n    {\n      \"column\": \"lr\",\n      \"properties\": {\n        \"dtype\": \"string\",\n        \"num_unique_values\": 1,\n        \"samples\": [\n          \"1e-05\"\n        ],\n        \"semantic_type\": \"\",\n        \"description\": \"\"\n      }\n    },\n    {\n      \"column\": \"epochs\",\n      \"properties\": {\n        \"dtype\": \"number\",\n        \"std\": 0,\n        \"min\": 10,\n        \"max\": 10,\n        \"num_unique_values\": 1,\n        \"samples\": [\n          10\n        ],\n        \"semantic_type\": \"\",\n        \"description\": \"\"\n      }\n    },\n    {\n      \"column\": \"batch_size\",\n      \"properties\": {\n        \"dtype\": \"number\",\n        \"std\": 0,\n        \"min\": 16,\n        \"max\": 16,\n        \"num_unique_values\": 1,\n        \"samples\": [\n          16\n        ],\n        \"semantic_type\": \"\",\n        \"description\": \"\"\n      }\n    },\n    {\n      \"column\": \"dropout\",\n      \"properties\": {\n        \"dtype\": \"number\",\n        \"std\": 0,\n        \"min\": 0,\n        \"max\": 0,\n        \"num_unique_values\": 1,\n        \"samples\": [\n          0\n        ],\n        \"semantic_type\": \"\",\n        \"description\": \"\"\n      }\n    },\n    {\n      \"column\": \"ood\",\n      \"properties\": {\n        \"dtype\": \"boolean\",\n        \"num_unique_values\": 2,\n        \"samples\": [\n          true\n        ],\n        \"semantic_type\": \"\",\n        \"description\": \"\"\n      }\n    },\n    {\n      \"column\": \"f1-score\",\n      \"properties\": {\n        \"dtype\": \"string\",\n        \"num_unique_values\": 1,\n        \"samples\": [\n          \"0.29\"\n        ],\n        \"semantic_type\": \"\",\n        \"description\": \"\"\n      }\n    }\n  ]\n}"
            }
          },
          "metadata": {},
          "execution_count": 50
        }
      ],
      "source": [
        "recap_csv = pd.read_csv(f'{root}/task_A/recap.csv', sep=',')\n",
        "\n",
        "recap_csv['lr'] = recap_csv['lr'].apply(scientificNotation)\n",
        "recap_csv['f1-score'] = recap_csv['f1-score'].apply(truncateFloat)\n",
        "\n",
        "recap_csv.head()"
      ]
    },
    {
      "cell_type": "code",
      "execution_count": 51,
      "metadata": {
        "id": "lCEJ8LsIGP09",
        "colab": {
          "base_uri": "https://localhost:8080/",
          "height": 112
        },
        "outputId": "8db331d0-572a-4f0b-fabe-afdce84f81c9"
      },
      "outputs": [
        {
          "output_type": "execute_result",
          "data": {
            "text/plain": [
              "      lr  epochs  batch_size  dropout    ood f1-score\n",
              "0  1e-05       5          16      0.1  False     0.33\n",
              "1  1e-05       5          16      0.1   True     0.30"
            ],
            "text/html": [
              "\n",
              "  <div id=\"df-ef332f57-d43c-4e0e-91d4-921af057d13c\" class=\"colab-df-container\">\n",
              "    <div>\n",
              "<style scoped>\n",
              "    .dataframe tbody tr th:only-of-type {\n",
              "        vertical-align: middle;\n",
              "    }\n",
              "\n",
              "    .dataframe tbody tr th {\n",
              "        vertical-align: top;\n",
              "    }\n",
              "\n",
              "    .dataframe thead th {\n",
              "        text-align: right;\n",
              "    }\n",
              "</style>\n",
              "<table border=\"1\" class=\"dataframe\">\n",
              "  <thead>\n",
              "    <tr style=\"text-align: right;\">\n",
              "      <th></th>\n",
              "      <th>lr</th>\n",
              "      <th>epochs</th>\n",
              "      <th>batch_size</th>\n",
              "      <th>dropout</th>\n",
              "      <th>ood</th>\n",
              "      <th>f1-score</th>\n",
              "    </tr>\n",
              "  </thead>\n",
              "  <tbody>\n",
              "    <tr>\n",
              "      <th>0</th>\n",
              "      <td>1e-05</td>\n",
              "      <td>5</td>\n",
              "      <td>16</td>\n",
              "      <td>0.1</td>\n",
              "      <td>False</td>\n",
              "      <td>0.33</td>\n",
              "    </tr>\n",
              "    <tr>\n",
              "      <th>1</th>\n",
              "      <td>1e-05</td>\n",
              "      <td>5</td>\n",
              "      <td>16</td>\n",
              "      <td>0.1</td>\n",
              "      <td>True</td>\n",
              "      <td>0.30</td>\n",
              "    </tr>\n",
              "  </tbody>\n",
              "</table>\n",
              "</div>\n",
              "    <div class=\"colab-df-buttons\">\n",
              "\n",
              "  <div class=\"colab-df-container\">\n",
              "    <button class=\"colab-df-convert\" onclick=\"convertToInteractive('df-ef332f57-d43c-4e0e-91d4-921af057d13c')\"\n",
              "            title=\"Convert this dataframe to an interactive table.\"\n",
              "            style=\"display:none;\">\n",
              "\n",
              "  <svg xmlns=\"http://www.w3.org/2000/svg\" height=\"24px\" viewBox=\"0 -960 960 960\">\n",
              "    <path d=\"M120-120v-720h720v720H120Zm60-500h600v-160H180v160Zm220 220h160v-160H400v160Zm0 220h160v-160H400v160ZM180-400h160v-160H180v160Zm440 0h160v-160H620v160ZM180-180h160v-160H180v160Zm440 0h160v-160H620v160Z\"/>\n",
              "  </svg>\n",
              "    </button>\n",
              "\n",
              "  <style>\n",
              "    .colab-df-container {\n",
              "      display:flex;\n",
              "      gap: 12px;\n",
              "    }\n",
              "\n",
              "    .colab-df-convert {\n",
              "      background-color: #E8F0FE;\n",
              "      border: none;\n",
              "      border-radius: 50%;\n",
              "      cursor: pointer;\n",
              "      display: none;\n",
              "      fill: #1967D2;\n",
              "      height: 32px;\n",
              "      padding: 0 0 0 0;\n",
              "      width: 32px;\n",
              "    }\n",
              "\n",
              "    .colab-df-convert:hover {\n",
              "      background-color: #E2EBFA;\n",
              "      box-shadow: 0px 1px 2px rgba(60, 64, 67, 0.3), 0px 1px 3px 1px rgba(60, 64, 67, 0.15);\n",
              "      fill: #174EA6;\n",
              "    }\n",
              "\n",
              "    .colab-df-buttons div {\n",
              "      margin-bottom: 4px;\n",
              "    }\n",
              "\n",
              "    [theme=dark] .colab-df-convert {\n",
              "      background-color: #3B4455;\n",
              "      fill: #D2E3FC;\n",
              "    }\n",
              "\n",
              "    [theme=dark] .colab-df-convert:hover {\n",
              "      background-color: #434B5C;\n",
              "      box-shadow: 0px 1px 3px 1px rgba(0, 0, 0, 0.15);\n",
              "      filter: drop-shadow(0px 1px 2px rgba(0, 0, 0, 0.3));\n",
              "      fill: #FFFFFF;\n",
              "    }\n",
              "  </style>\n",
              "\n",
              "    <script>\n",
              "      const buttonEl =\n",
              "        document.querySelector('#df-ef332f57-d43c-4e0e-91d4-921af057d13c button.colab-df-convert');\n",
              "      buttonEl.style.display =\n",
              "        google.colab.kernel.accessAllowed ? 'block' : 'none';\n",
              "\n",
              "      async function convertToInteractive(key) {\n",
              "        const element = document.querySelector('#df-ef332f57-d43c-4e0e-91d4-921af057d13c');\n",
              "        const dataTable =\n",
              "          await google.colab.kernel.invokeFunction('convertToInteractive',\n",
              "                                                    [key], {});\n",
              "        if (!dataTable) return;\n",
              "\n",
              "        const docLinkHtml = 'Like what you see? Visit the ' +\n",
              "          '<a target=\"_blank\" href=https://colab.research.google.com/notebooks/data_table.ipynb>data table notebook</a>'\n",
              "          + ' to learn more about interactive tables.';\n",
              "        element.innerHTML = '';\n",
              "        dataTable['output_type'] = 'display_data';\n",
              "        await google.colab.output.renderOutput(dataTable, element);\n",
              "        const docLink = document.createElement('div');\n",
              "        docLink.innerHTML = docLinkHtml;\n",
              "        element.appendChild(docLink);\n",
              "      }\n",
              "    </script>\n",
              "  </div>\n",
              "\n",
              "\n",
              "<div id=\"df-2ef0edbd-7dd2-4112-8fcc-6cee3305518d\">\n",
              "  <button class=\"colab-df-quickchart\" onclick=\"quickchart('df-2ef0edbd-7dd2-4112-8fcc-6cee3305518d')\"\n",
              "            title=\"Suggest charts\"\n",
              "            style=\"display:none;\">\n",
              "\n",
              "<svg xmlns=\"http://www.w3.org/2000/svg\" height=\"24px\"viewBox=\"0 0 24 24\"\n",
              "     width=\"24px\">\n",
              "    <g>\n",
              "        <path d=\"M19 3H5c-1.1 0-2 .9-2 2v14c0 1.1.9 2 2 2h14c1.1 0 2-.9 2-2V5c0-1.1-.9-2-2-2zM9 17H7v-7h2v7zm4 0h-2V7h2v10zm4 0h-2v-4h2v4z\"/>\n",
              "    </g>\n",
              "</svg>\n",
              "  </button>\n",
              "\n",
              "<style>\n",
              "  .colab-df-quickchart {\n",
              "      --bg-color: #E8F0FE;\n",
              "      --fill-color: #1967D2;\n",
              "      --hover-bg-color: #E2EBFA;\n",
              "      --hover-fill-color: #174EA6;\n",
              "      --disabled-fill-color: #AAA;\n",
              "      --disabled-bg-color: #DDD;\n",
              "  }\n",
              "\n",
              "  [theme=dark] .colab-df-quickchart {\n",
              "      --bg-color: #3B4455;\n",
              "      --fill-color: #D2E3FC;\n",
              "      --hover-bg-color: #434B5C;\n",
              "      --hover-fill-color: #FFFFFF;\n",
              "      --disabled-bg-color: #3B4455;\n",
              "      --disabled-fill-color: #666;\n",
              "  }\n",
              "\n",
              "  .colab-df-quickchart {\n",
              "    background-color: var(--bg-color);\n",
              "    border: none;\n",
              "    border-radius: 50%;\n",
              "    cursor: pointer;\n",
              "    display: none;\n",
              "    fill: var(--fill-color);\n",
              "    height: 32px;\n",
              "    padding: 0;\n",
              "    width: 32px;\n",
              "  }\n",
              "\n",
              "  .colab-df-quickchart:hover {\n",
              "    background-color: var(--hover-bg-color);\n",
              "    box-shadow: 0 1px 2px rgba(60, 64, 67, 0.3), 0 1px 3px 1px rgba(60, 64, 67, 0.15);\n",
              "    fill: var(--button-hover-fill-color);\n",
              "  }\n",
              "\n",
              "  .colab-df-quickchart-complete:disabled,\n",
              "  .colab-df-quickchart-complete:disabled:hover {\n",
              "    background-color: var(--disabled-bg-color);\n",
              "    fill: var(--disabled-fill-color);\n",
              "    box-shadow: none;\n",
              "  }\n",
              "\n",
              "  .colab-df-spinner {\n",
              "    border: 2px solid var(--fill-color);\n",
              "    border-color: transparent;\n",
              "    border-bottom-color: var(--fill-color);\n",
              "    animation:\n",
              "      spin 1s steps(1) infinite;\n",
              "  }\n",
              "\n",
              "  @keyframes spin {\n",
              "    0% {\n",
              "      border-color: transparent;\n",
              "      border-bottom-color: var(--fill-color);\n",
              "      border-left-color: var(--fill-color);\n",
              "    }\n",
              "    20% {\n",
              "      border-color: transparent;\n",
              "      border-left-color: var(--fill-color);\n",
              "      border-top-color: var(--fill-color);\n",
              "    }\n",
              "    30% {\n",
              "      border-color: transparent;\n",
              "      border-left-color: var(--fill-color);\n",
              "      border-top-color: var(--fill-color);\n",
              "      border-right-color: var(--fill-color);\n",
              "    }\n",
              "    40% {\n",
              "      border-color: transparent;\n",
              "      border-right-color: var(--fill-color);\n",
              "      border-top-color: var(--fill-color);\n",
              "    }\n",
              "    60% {\n",
              "      border-color: transparent;\n",
              "      border-right-color: var(--fill-color);\n",
              "    }\n",
              "    80% {\n",
              "      border-color: transparent;\n",
              "      border-right-color: var(--fill-color);\n",
              "      border-bottom-color: var(--fill-color);\n",
              "    }\n",
              "    90% {\n",
              "      border-color: transparent;\n",
              "      border-bottom-color: var(--fill-color);\n",
              "    }\n",
              "  }\n",
              "</style>\n",
              "\n",
              "  <script>\n",
              "    async function quickchart(key) {\n",
              "      const quickchartButtonEl =\n",
              "        document.querySelector('#' + key + ' button');\n",
              "      quickchartButtonEl.disabled = true;  // To prevent multiple clicks.\n",
              "      quickchartButtonEl.classList.add('colab-df-spinner');\n",
              "      try {\n",
              "        const charts = await google.colab.kernel.invokeFunction(\n",
              "            'suggestCharts', [key], {});\n",
              "      } catch (error) {\n",
              "        console.error('Error during call to suggestCharts:', error);\n",
              "      }\n",
              "      quickchartButtonEl.classList.remove('colab-df-spinner');\n",
              "      quickchartButtonEl.classList.add('colab-df-quickchart-complete');\n",
              "    }\n",
              "    (() => {\n",
              "      let quickchartButtonEl =\n",
              "        document.querySelector('#df-2ef0edbd-7dd2-4112-8fcc-6cee3305518d button');\n",
              "      quickchartButtonEl.style.display =\n",
              "        google.colab.kernel.accessAllowed ? 'block' : 'none';\n",
              "    })();\n",
              "  </script>\n",
              "</div>\n",
              "    </div>\n",
              "  </div>\n"
            ],
            "application/vnd.google.colaboratory.intrinsic+json": {
              "type": "dataframe",
              "variable_name": "recap_prep_csv",
              "summary": "{\n  \"name\": \"recap_prep_csv\",\n  \"rows\": 2,\n  \"fields\": [\n    {\n      \"column\": \"lr\",\n      \"properties\": {\n        \"dtype\": \"string\",\n        \"num_unique_values\": 1,\n        \"samples\": [\n          \"1e-05\"\n        ],\n        \"semantic_type\": \"\",\n        \"description\": \"\"\n      }\n    },\n    {\n      \"column\": \"epochs\",\n      \"properties\": {\n        \"dtype\": \"number\",\n        \"std\": 0,\n        \"min\": 5,\n        \"max\": 5,\n        \"num_unique_values\": 1,\n        \"samples\": [\n          5\n        ],\n        \"semantic_type\": \"\",\n        \"description\": \"\"\n      }\n    },\n    {\n      \"column\": \"batch_size\",\n      \"properties\": {\n        \"dtype\": \"number\",\n        \"std\": 0,\n        \"min\": 16,\n        \"max\": 16,\n        \"num_unique_values\": 1,\n        \"samples\": [\n          16\n        ],\n        \"semantic_type\": \"\",\n        \"description\": \"\"\n      }\n    },\n    {\n      \"column\": \"dropout\",\n      \"properties\": {\n        \"dtype\": \"number\",\n        \"std\": 0.0,\n        \"min\": 0.1,\n        \"max\": 0.1,\n        \"num_unique_values\": 1,\n        \"samples\": [\n          0.1\n        ],\n        \"semantic_type\": \"\",\n        \"description\": \"\"\n      }\n    },\n    {\n      \"column\": \"ood\",\n      \"properties\": {\n        \"dtype\": \"boolean\",\n        \"num_unique_values\": 2,\n        \"samples\": [\n          true\n        ],\n        \"semantic_type\": \"\",\n        \"description\": \"\"\n      }\n    },\n    {\n      \"column\": \"f1-score\",\n      \"properties\": {\n        \"dtype\": \"string\",\n        \"num_unique_values\": 2,\n        \"samples\": [\n          \"0.30\"\n        ],\n        \"semantic_type\": \"\",\n        \"description\": \"\"\n      }\n    }\n  ]\n}"
            }
          },
          "metadata": {},
          "execution_count": 51
        }
      ],
      "source": [
        "recap_prep_csv = pd.read_csv(f'{root}/task_A/recap_prep.csv', sep=',')\n",
        "\n",
        "recap_prep_csv['lr'] = recap_prep_csv['lr'].apply(scientificNotation)\n",
        "recap_prep_csv['f1-score'] = recap_prep_csv['f1-score'].apply(truncateFloat)\n",
        "\n",
        "recap_prep_csv.head()"
      ]
    },
    {
      "cell_type": "markdown",
      "source": [
        "### Generazione CSV\n",
        "\n",
        "Procediamo infine con la generazione del csv contenente le predizioni usando pesi che ci hanno permesso di ottenere risultati migliori, ovvero quelli del modello testato su dati in domain e che si è servito di preprocessing delle stringhe."
      ],
      "metadata": {
        "id": "3KY_RyPQk1jM"
      }
    },
    {
      "cell_type": "code",
      "source": [
        "best_weights = torch.load(f'{root}/task_A/best_prep_weights.pt')\n",
        "\n",
        "best_classifier = BTEClassifier(0, hyperparameters['num_classes'], model).to(device)\n",
        "best_classifier.load_state_dict(best_weights)\n",
        "\n",
        "csv_preds = predict(best_classifier, test_prep_dataset)\n",
        "csv_ood_preds = predict(best_classifier, test_ood_prep_dataset)"
      ],
      "metadata": {
        "id": "j8G9usIpmBqH",
        "outputId": "677c97ad-6b1a-4090-abcf-e44350892da1",
        "colab": {
          "base_uri": "https://localhost:8080/",
          "height": 81,
          "referenced_widgets": [
            "3b8cdffd32d049478569b79389c2c6df",
            "b136d020afdd494592e7a732f9ef6689",
            "c65b4dc828f5434f83022f8f0d371690",
            "58a942b0bbe84a47997399135e3921e8",
            "825e142ef41b4536975fe111c2fce34d",
            "06f5d46225104541baa070207db33ff5",
            "bba29447587b4245a165adaf4dd92747",
            "d6288e632a5243b7be10df9da122c940",
            "7f33881a35374d2fb0214e7b03fe9263",
            "534b14784532450d89667906f83e3b4f",
            "76c64ee72e5f4232855a8dd8803838cb",
            "ee183743b2594bf29e22cd1cf5e24371",
            "657ebb5554f146c8b6ef7af238dfc0b9",
            "b05c88b9ab044af2aeeb203c8b636555",
            "a4a3c20730534cb8a79b477d83045729",
            "3729f515a6b040c2b83d7ec1dfa8cd3b",
            "e5f5adb6bc804b4d9bfacbee8e534539",
            "8b141c7887954b8db7174eef450ad3f2",
            "5cce0646fa9e404494adb7234c958aea",
            "3e387eaedbcc4554aedfa4b5e95743a5",
            "99aa82126ca44768814eda79f4ef0af8",
            "c61923ee94cf45b69f87b4fb7591c5df"
          ]
        }
      },
      "execution_count": 66,
      "outputs": [
        {
          "output_type": "display_data",
          "data": {
            "text/plain": [
              "  0%|          | 0/1000 [00:00<?, ?it/s]"
            ],
            "application/vnd.jupyter.widget-view+json": {
              "version_major": 2,
              "version_minor": 0,
              "model_id": "3b8cdffd32d049478569b79389c2c6df"
            }
          },
          "metadata": {}
        },
        {
          "output_type": "display_data",
          "data": {
            "text/plain": [
              "  0%|          | 0/1000 [00:00<?, ?it/s]"
            ],
            "application/vnd.jupyter.widget-view+json": {
              "version_major": 2,
              "version_minor": 0,
              "model_id": "ee183743b2594bf29e22cd1cf5e24371"
            }
          },
          "metadata": {}
        }
      ]
    },
    {
      "cell_type": "code",
      "source": [
        "indom_file = f\"{root}/task_A/Muzio_SubtaskA_in-domain_run1.csv\"\n",
        "indom_csv = open(indom_file, \"w\")\n",
        "\n",
        "header = [\"id,Anger,Anticipation,Disgust,Fear,Joy,Love,Neutral,Sadness,Surprise,Trust\"]\n",
        "content = []\n",
        "content.append(header)\n",
        "\n",
        "for i in range(len(csv_preds)):\n",
        "  csv_pred = ','.join(str(x) for x in csv_preds[i])\n",
        "  row = test_prep['id'].iloc[i]\n",
        "  content.append(f'{row},{csv_pred}')\n",
        "\n",
        "print(content)\n",
        "\n",
        "indom_csv.write(\"\\n\".join(content))\n",
        "indom_csv.close()"
      ],
      "metadata": {
        "id": "09vwvAX4pb3g",
        "outputId": "9d47b6fe-33a9-4e12-bf9e-4753fff1625a",
        "colab": {
          "base_uri": "https://localhost:8080/"
        }
      },
      "execution_count": 110,
      "outputs": [
        {
          "output_type": "stream",
          "name": "stdout",
          "text": [
            "[['id,Anger,Anticipation,Disgust,Fear,Joy,Love,Neutral,Sadness,Surprise,Trust'], '246b5a294b3208be6800067b9f0f9e87,0,0,0,0,0,0,1,0,0,0', '611f78bf3db6c71f0ed053459889fd4b,0,0,0,0,0,0,0,0,0,0', 'd37b6e59c8ba22a23755566c7797f69a,0,0,0,0,0,0,0,0,0,1', '60cbfcc1eeaed1d8adf8fd7b3bc17dba,0,0,0,0,0,0,1,0,0,0', '601019dedf4f3be95e8f601fae0dc820,0,0,0,0,0,0,1,0,0,0', 'ef55a179c14bbfca1e052fc5495bfa30,0,0,0,0,0,0,0,0,0,1', '2874d9b95323f22c7cf02d0e4d9e22e7,0,0,0,0,0,0,0,0,0,0', 'e19125d24e43c437a3eecd9399561a3f,0,0,0,0,0,0,0,0,0,1', '2c83d54985efcaea58ed7ccb6811264e,0,0,0,0,0,0,0,0,0,0', '2c305cb1abc6fa7ecb609656fd837b09,0,0,0,0,0,0,0,0,0,1', 'c820ec8ef056d42ef4f50efed43be239,0,0,0,0,0,0,0,0,0,0', '4adb987328f79367d6bf778b364f2c64,0,0,0,0,0,0,0,0,0,0', '0c16d8768c0cf57ea77b3e92d08b91e1,0,0,0,0,0,0,0,0,1,0', '1b91b197af03c39ee47836fd2e872cc4,0,0,0,0,0,0,1,0,0,0', 'ebd13e934154f71b163f2dfaade404ee,0,0,0,0,0,0,0,0,0,0', 'effef71c1a84c2688e2aa8ae29a238f6,0,0,0,0,0,0,0,0,0,0', '7502c9b746ec4503852fbf585d6839e5,0,0,0,0,0,0,0,0,0,0', 'ee2a71ba1508b28e697d3ce9c849a049,0,0,1,0,0,0,0,0,0,0', '1af176ebe10a3510e64dd389a360be22,0,0,0,0,0,0,0,0,0,0', '8f3f6c2f06d430cce9c459083f8ba8f5,0,0,0,0,0,0,0,1,0,0', '445803e8182f97d9a84a464a16acec60,0,0,1,0,0,0,0,0,0,0', 'fb043b907be03502aff8bfd0befd8ef7,0,0,0,0,0,0,0,0,0,0', 'ff430f6ae128f155800e818e9f197dc3,0,0,0,0,0,0,0,0,0,1', 'a9b784d2bcd7d90ee775eacdc2609a9b,0,0,0,0,0,0,0,0,0,0', 'ca1d3851f62de6fed6e7ec51413a5966,0,0,0,0,1,0,0,0,0,0', 'caf3cfbf16568332a44bde177aba0cf6,0,0,0,0,0,0,0,0,0,1', 'b249f80174f42e5fd1e51c514766556f,0,0,0,0,0,0,0,0,1,0', '254a710a51eeb7d0e074e15f85c08232,0,0,0,0,0,0,0,0,0,1', 'c0d67fdb6f0ce3827265fa3acdd25271,0,0,0,0,0,0,0,0,0,0', '5158e4258f6b25c63b3fd85154e1ee9d,0,0,0,0,0,0,0,0,0,0', '48e845d7488af6df1151b0ccd72475d6,0,0,0,0,0,0,0,0,0,0', 'd203a4fa26047d848104fad90d45c77b,0,0,0,0,0,0,0,0,0,0', '3e2cf48137252188b9f4ad293080eb94,0,0,1,0,0,0,0,0,0,0', 'bfe0574b5dd26544ce95425b8c07619d,0,0,1,0,0,0,0,0,0,0', 'ae176809ff0f11086d39b0130b5f1ed9,0,0,0,0,0,0,0,0,0,1', 'e7b84fd7537843b455fa06c215ad32de,0,0,0,0,0,0,1,0,0,0', 'ac9cea3054e2c1649dab2e4cde940fac,0,0,0,0,0,0,1,0,0,0', '8e508b21aaf85c5184021441b697f2c6,0,0,0,0,0,0,0,0,0,0', 'c67ffb6fa89e3b9d5fdd62e64783c3e8,0,0,0,0,0,0,1,0,0,0', 'd2fcd72f53d7179920936377976b0856,0,0,0,0,0,0,0,0,0,0', '5d2827427643d787ea6f5ad6c21fa382,0,0,1,0,0,0,0,0,0,0', 'd312b11131e9f6f5bbdcf493feb9f1d5,0,0,0,0,0,0,1,0,0,0', 'bf94142ed6928f4474082a39ce9aad40,0,0,0,0,1,0,0,0,0,0', '4629a6b3e4ca7c44c8d275e135672e8f,0,0,0,0,0,0,0,0,0,1', '7d331bf6a5a62285d4333b08595b61e9,0,0,0,0,1,0,0,0,0,0', '9e5cc0b26989d6d896eadec3b267f2e7,0,0,1,0,0,0,0,0,0,0', 'd734c9679d933308fed879fe54e94254,0,0,0,0,0,0,0,0,0,1', '34b9b0e2d258418ddb7c33d2354431f8,0,0,0,0,0,0,0,0,0,0', 'a4b09787209443bae367c16a953cc551,0,0,0,0,0,0,0,0,0,1', '6f637d6caed7dafd4c9634377f00d184,0,0,1,0,0,0,0,0,0,0', '237dbbc76107cdebc24180cd345fe02f,0,0,0,0,0,0,0,0,0,1', '1c3af77dcff584bb4f138b605a260ff5,0,0,0,0,0,0,1,0,0,0', 'f5ac19e0686c4e9a7cbc03445e0fb169,0,0,0,0,0,0,1,0,0,0', '1de641bcc0d8081baebd913d98c369da,0,0,0,0,1,0,0,0,0,0', '1cfe53e48c52714c9c01653a81d53aff,0,0,0,0,0,0,0,0,0,1', '32c2d9d350641d82be56f73c93dae3b2,0,0,0,0,0,0,0,0,0,1', 'd201ad1de967fb0a755ec0a1b81fc8cb,0,0,0,0,0,0,0,0,0,1', 'f7f0c0c3d964a7755d853d94cdc2cce8,0,0,0,0,0,0,0,0,0,0', '4e85dbbd53750c6abf2416d4867f89a6,0,0,0,0,0,0,1,0,0,0', 'e364331f181da2f519c9a6253c358369,0,0,0,0,0,0,0,0,0,0', 'ecff4c96cbede704c6505774c84a0702,0,0,0,0,0,0,0,0,0,0', '88dc719cf1990045f5814999caf8a79a,0,0,0,0,0,0,0,0,0,1', '3e4d9d5f30699abf54f0a35d570a0bc0,0,0,0,0,0,0,1,0,0,0', 'd034291bc2b23e1daa3f0be6855aaaeb,0,0,0,0,0,0,0,1,0,0', 'ab1cdfaa615749420791f560cc1675fc,0,0,0,0,0,0,0,0,0,1', '12e0b68ba3b9d48522d00dc25a56d811,0,0,0,0,0,0,0,0,0,1', '42a59b1e39e2ee7d6769c48bcbf9e5b5,0,0,0,0,0,0,0,0,0,1', '54de3b40bff9e9c75c2aac4cefd4034f,0,0,0,0,0,0,0,0,0,0', 'ac444a00063597c8cf6e928764840cec,0,0,0,0,0,0,1,0,0,0', '1936bad81a12fe78d1ffdfe544e567fc,0,0,0,0,0,0,0,0,0,0', 'ebf9c99cc49fe801bbb5ef564d8d244a,0,0,1,0,0,0,0,0,0,0', '51256362dfbaba7aa68d0fe142b6d652,0,1,0,0,0,0,0,0,0,1', 'ab23c8c332fa895495bc7f1360ec2aba,0,0,0,0,0,0,0,0,0,0', '89da7d682b87a84d628b863ab4445735,0,0,0,0,0,0,0,0,0,1', '904a5b2cb48ec97450ae17c10b2ad8df,0,0,0,0,0,0,0,0,0,0', 'ad31e140aa422dacf833af763b3e3a2d,0,0,0,0,0,0,0,0,0,0', '01a1bf24f23cb2475c68e43949cf7d52,0,0,1,0,0,0,0,0,0,0', '0804c96b6809a5ea13a709709fe09bf9,0,0,0,0,1,0,0,0,0,0', 'd55cdc1c74acdf97fb92c03b07830f0a,0,0,0,0,0,0,0,0,0,0', 'ef80e25306fa31155726478e32a5f8cf,0,0,0,0,0,0,0,0,0,1', 'a7b43910eff09bdde6e08d4e5a573086,0,0,0,0,0,0,0,0,0,0', '1bb2f200af6f4709cad76661519611f8,0,0,0,0,0,0,0,0,0,0', '21f721c7dc8425587a0053d2018772f5,0,0,0,0,0,0,0,0,1,0', 'bc6f57a8a4aaf75046840804d55cb6bb,0,0,0,0,0,0,0,0,1,0', '3e378193488cd1a927523867245d780f,0,0,0,0,0,0,0,0,0,0', '233f6efc05bb1490a927da4c11fedec3,0,0,0,0,0,0,0,0,0,1', 'ede18912cefa3ba0b09897169c87ea99,0,0,0,0,0,0,0,0,0,0', '0823dce9b74d85fe8731612b6efd768f,0,0,0,0,0,0,0,0,0,0', '3565cb8bf98bdb8896937f362fa6deb6,0,0,0,0,0,0,0,0,0,1', 'b994feb4d26f80258e8f8f1e47dce606,0,0,0,0,0,0,0,0,0,1', 'b4dc9ade22db144f4aeaa7018f9e7334,0,0,0,0,0,0,0,0,1,0', '582556b37caa6f34399d047d97263499,0,0,0,0,0,0,0,0,0,0', 'c64c366d25d0cca518b7de24a314b438,0,0,0,0,0,0,0,0,0,0', '92a90c4b3c85f9177fe3f3165f8fb836,0,0,1,0,0,0,0,0,0,0', '7159011a4439c384d310afc17ffc5518,0,0,0,0,0,0,0,0,0,1', 'f56ebdafe5f1ef19950862b64d0477e3,0,0,0,0,0,0,0,0,0,0', '8dbb8fb3ac8f0a7f68edf79a9b59800a,0,0,0,0,0,0,1,0,0,0', '599daedce8094bf50e29d15e690a3fbc,0,0,0,0,0,0,0,0,0,0', 'ecb5814d6aab21839f2a7627af9e8330,0,0,0,0,0,0,0,0,0,1', 'b92b682c962114442150684b73f338d7,0,0,1,0,0,0,0,0,0,0', 'fbabb67cf17c35a33279c66f8dce1b30,0,0,1,0,0,0,0,1,0,0', 'eff3e9b62ece000ac34de8a36ca91394,0,0,0,0,0,0,0,0,0,0', 'cd67915ad69b7e2d87139a37443a4d41,0,1,0,0,0,0,0,0,0,0', '2f2324dc8660964d1fe040503327f06a,0,0,0,0,0,0,1,0,0,0', 'bd9cd2a6a7e47329391da05bb842f29d,0,0,1,0,0,0,0,0,0,0', 'e8737641d2efa6a80532cc07509ffdac,0,0,0,0,0,0,0,0,0,0', '21dd6b8ff7b3c979420bfab50d0397de,1,0,1,0,0,0,0,0,0,0', 'bce3edaa4a3c6a0a3ae7b835d4f0f08f,0,0,0,0,0,0,1,0,0,0', 'b2c09a4e7008fd1fd07f1ca5cdd9aa64,0,0,0,0,0,0,1,0,0,0', '737da4bc3c1eb3e9df24fcac7a51b932,0,0,0,0,0,0,0,0,0,1', '2a3c370d7c803ad0e24cd835099ecb0e,0,0,0,0,0,0,1,0,0,0', 'fe93b87d288dfe9816c6bde55a2b8d13,0,0,0,0,0,0,0,0,0,1', '97dc138d217a13c114aea4acf2f716bb,0,0,0,0,0,0,0,0,0,0', '2439189a576966812d306d88f4cedb73,0,0,0,0,0,0,0,0,0,0', 'a449c383a8982eb5cbcf0e438f74fc3b,0,0,0,0,0,0,0,0,0,0', 'bbcd4c4a851ddb333ccf2715933c219f,0,0,0,0,0,0,0,0,1,0', '976926d4b2b092de791b994e09d706f4,0,0,0,0,0,0,1,0,0,0', '83fb0b8cd4d1ff90c00a423f444c4799,0,0,0,0,0,0,0,0,1,0', '1a4ffd5766a398b20e0f412e48283a3b,0,0,0,0,0,0,0,0,1,0', 'cfd0443704f56d1443322fc5bc785c24,0,0,0,0,0,0,0,0,0,0', '3e92f0b7723526952add7709a0f77e53,0,1,0,0,0,0,0,0,0,0', 'aa8f36c96fbb40c64279df04df99af74,0,0,0,0,0,0,0,0,0,0', '7fa01eb735d0cc586131f9ddb39785d3,0,0,0,0,0,0,1,0,0,0', 'f4fad2e30d87de39dc2aff81472d579d,0,0,1,0,0,0,0,0,0,0', '36dfc46d3dd03511b748d462ff9b6c0b,0,0,0,0,0,0,0,0,0,0', '283ec5ccaba52a5c7db95871335685c3,0,0,0,0,0,0,1,0,0,0', '6f66b9459407547409815dbd538247e5,0,0,0,0,0,0,1,0,0,0', 'daf596458a26fbfe4cc9eb7937a10e1f,0,0,0,0,0,0,0,0,1,0', 'cc93fc860368cfcf22098e7fafdb6110,0,0,0,0,0,0,0,0,0,1', 'afc18650064c530bd4f4e8a0d89aaba1,0,0,0,0,0,0,1,0,0,0', '068a05d7d8c948f4289eb0af0e75651d,0,0,0,0,0,0,1,0,0,0', '6c9a2002d459d1782cacc59555eaf44e,0,0,0,0,0,0,0,0,0,0', 'c4c602c9fb9e2266c6c6d42bedcb7b90,0,0,0,0,0,0,0,0,0,0', '69c9c814178f561f7bb9ef4a347cc011,0,0,0,0,1,0,0,0,0,0', 'd4b5462344fabea37bf72585fba21175,0,0,1,0,0,0,0,0,0,0', 'fe142c227dc67565d798042185a7a4b3,0,0,0,0,1,0,0,0,0,0', '5078791601090aebd3b3273f24b8b5b1,0,0,0,0,0,0,0,0,0,1', '3b969dab78541a6fb60f408f7bbc2bd1,0,0,0,0,0,0,0,0,0,0', '651c4679605b5e91de2d1ae1bb5c61d8,0,0,0,0,0,0,0,0,0,1', '4c6243ed5b0a5f9ac7362ac233c21f8a,0,0,0,0,1,0,0,0,0,0', '305ed74a394cdd35d5b420aa566b6e15,0,0,1,0,0,0,0,0,0,0', 'f4c43794d1b3b8588c50f63fbbad571d,0,0,0,0,0,0,0,0,1,0', 'ee9bf5f4d37b1e942f31905682b15199,0,0,0,0,0,0,0,0,0,0', 'a0bf9f9a22203cb9fd3643141b264203,0,0,0,0,0,0,1,0,0,0', 'd1993ad056f99205db00ef575625de37,0,0,0,0,0,0,0,0,0,1', '632b8fd54cd6e2b22f1c087b48a33d49,0,0,1,0,0,0,0,1,0,0', 'b93f2469b51aaa7f3250bed742722bca,0,0,0,0,0,0,0,0,0,0', '2841affb8158009072ceb693d388d455,0,0,0,0,0,0,0,0,0,0', '5cb2f8312f62a63f955b732d3fb43344,0,0,0,0,0,0,0,0,0,0', '345cb3ce6f60c995dc91d8d39afb5cc4,0,0,0,0,0,0,0,0,1,0', 'b4d57ca1f926d03790eceb5247f2b3f1,0,0,0,0,0,0,0,0,0,1', '7151df595d1490aacd617daa80b18920,0,0,0,0,0,0,0,0,0,1', '651c6ac94e50eb563c438b56f3fd6c7e,0,0,0,0,0,0,0,0,0,0', '069787b2097f126ad26e4ba9f4e95021,0,0,0,0,0,0,0,0,0,0', 'a3ea22e71d11d132df4717b235304fe9,0,0,0,0,0,0,0,0,0,0', '4e2f48fbcf8adcb12363f4a4dc8e04f1,0,0,0,0,0,0,0,0,0,1', 'ffa24c6cc5e2c8acacc41f8810b306a9,0,0,0,0,0,0,0,0,0,0', 'dfc985171de0928cce0b4d022ef5ab45,0,0,0,0,0,0,0,0,0,0', '3105e43458e06392e0c175e3a96c8dd9,0,0,0,0,0,0,0,0,0,0', '107a5a6406db3bc472883701873b3c5c,0,0,0,0,0,0,0,0,0,1', 'd25098f36d72250a774fc119bed230e9,0,0,0,0,0,0,0,0,0,1', '28f9347c22d9636ffb20a415b601ee91,0,0,1,0,0,0,0,0,0,0', '139fd828fa192a97ddaeba5f68283263,0,0,0,0,0,0,1,0,0,0', '20fd1f1ed322cb4afa9548deffe78a47,0,0,0,0,0,0,0,0,0,0', 'cffe31d017eb7d3ecdce0bb03410e148,0,0,0,0,0,0,0,0,0,0', 'a8ae9d74130993462c321ea66ed23a82,0,0,0,0,1,0,0,0,0,0', '4066cc2000ed886acbd2ef1bfb0d638b,0,0,0,0,0,0,0,0,0,1', 'b96dcffbc954c8384234edeb6fc7949a,0,0,0,0,0,0,0,1,0,0', '7a6dc3c0778b4be8b77bf2276ccb06d6,0,0,0,0,0,0,0,0,0,0', 'b744ac4ad49b8b8ddeb893c9bf7bcd80,0,0,0,0,0,0,0,0,0,0', '20d3e3c8edb3b73a9417b6d96bb210bf,0,0,0,0,0,0,0,0,0,0', '4880144e109d41c1c70d776fc9e4a02c,0,0,0,0,0,0,1,0,0,0', 'bc1289bdbd177f0e09dab19493613d45,0,0,0,0,0,0,1,0,0,0', 'a9b3a9be716cb4cb2090197bf72e0645,0,0,0,0,0,0,1,0,0,0', '3a8a6614526a29070890c3149f95d8bf,0,0,0,0,1,0,0,0,0,0', '6d70ebcc267ac14a86ee5a0fb5e46c38,0,0,0,0,0,0,0,0,1,0', 'aac54a697f86f19276965dddc836588a,0,1,0,0,0,0,0,0,0,0', '1a6d5a6d7fc8899312bb8bee2f5766aa,0,0,0,0,0,0,0,0,0,0', '5599b975c3b49a3630a4c0b8dc5846bb,0,0,0,0,0,0,0,0,0,0', '34f2cf7fce95cb7df4596f13a75e7293,0,0,0,0,0,0,0,0,0,0', 'c71766edbf341df82925d83124fef4f4,0,0,0,0,0,0,0,0,0,0', 'ba50ab147a5e2af59ae70a561ffae256,0,0,0,0,0,0,0,0,0,0', 'ceb33fa3df385067c435ae7e14515bb9,0,0,1,0,0,0,0,0,0,0', 'c836cd2d3af2915225ad287cb3c99aa1,0,0,0,0,0,0,0,0,1,0', 'f2981fda835fc2074ba50e07d2f3c277,0,0,0,0,0,0,0,0,0,0', '438c92dd5d73699130b7559de2ff2dcf,0,0,0,0,0,0,1,0,0,0', '27859b244fc7f8561b0033fd842d5d73,0,1,0,0,0,0,0,0,0,1', '2741bfe3b0498da173e1392a2fac436e,0,0,0,0,0,0,0,0,0,1', 'd6fe4b821989b9b52ded720e358a4ce5,0,0,0,0,0,0,1,0,0,0', 'f19fbb637879744a8ab44a77f84f3088,0,0,1,0,0,0,0,0,0,0', '0c96218a8018b87c76e215a34fb142b7,0,0,0,0,0,0,0,0,1,0', '224ba27d7ea019c9f238d44b9283331e,0,0,0,0,0,0,0,0,1,0', 'f1488c95355906542c77f109ccca9fcd,0,0,0,0,0,0,0,0,0,0', 'bc9be12f4c9ddaa08b8f693e6400c902,0,0,0,0,0,0,0,0,0,0', '48773d4ad60008e255685f532355f43f,0,1,0,0,0,0,0,0,0,0', '928567da1cd6bead07a78de628f7ca73,0,0,0,0,0,0,0,0,1,0', '61c33be3389233eb14b311fa8c3d7191,0,0,0,0,0,0,0,0,1,0', 'c90e48b173b40b273fe6c8d5ffa6fdda,0,0,1,0,0,0,0,0,0,0', '23952a138596974e0049aabf4a6b6f6c,0,0,0,0,0,0,1,0,0,0', '1f242a5105b7c8852378ba1d654b774d,0,0,0,0,0,0,0,0,0,0', '44d09054ce98bf4d84f071b09b16fc38,0,0,0,0,1,0,0,0,0,0', 'b3711b8ffc7bbef8e0928e4e60ef2b93,0,0,0,0,0,0,0,0,0,0', 'a1ef07bc1be500a7377c24454654016e,0,0,0,0,0,0,0,0,0,0', '1623241d6246e32133e5b7777ab42272,0,0,0,0,0,0,0,0,1,0', '6d361216a1947b9ffb56c0ceda000c60,0,0,0,0,0,0,1,0,0,0', '19312129d9b653bd51e3dea18b830941,0,0,0,0,0,0,0,0,0,1', '2ced971fd1e72b8ed333f48b213ce286,0,0,0,0,0,0,1,0,0,0', 'f43ec63a82fc232aa993b5460cad8fe6,0,0,0,0,0,0,0,0,0,1', 'ec545006047936e85341aeb4dfc727de,0,0,0,0,0,0,0,0,0,1', 'f2dc2ca4f96dba809dce09841598ed0c,0,0,0,0,0,0,1,0,0,0', '46df366c8db161924fe90ca1965f2790,0,0,0,0,0,0,0,0,0,0', '4d3538eb4e2e4b0dca8afc7d1e4bb82e,0,0,0,0,0,0,0,0,0,1', '362ae7d3966924a27b04a6d6bcf3921e,0,0,0,0,0,0,0,0,0,0', '6b7590a40e48e6d3657bfe006aab9751,0,0,0,0,0,0,0,0,0,0', '57ce2c3cbc033e132b9997a3ed091a9a,0,0,0,0,0,0,0,0,0,1', '9bac142b6258e0b36234b2a1cbb21cd4,0,0,0,0,0,0,0,0,0,1', '37bb21795063364505bd25f2965c04ee,0,1,0,0,0,0,0,0,0,0', 'ecd9ea0dd919e107c5c24e939fc30a8e,0,0,0,0,0,0,0,0,0,1', '292b130a7a347ed84ea3ca15a147b0e5,0,0,0,0,0,0,0,0,0,0', '576c732c0112b4bde5d520695aa13cd7,0,0,0,0,0,0,0,0,0,0', '387949582b071978aea007fa09304d5e,0,0,0,0,0,0,1,0,0,0', 'a752c731ff72d906c5b8dd46f2fdeaa7,0,0,0,0,0,0,0,0,0,1', '2518f3df44ecffa4d107f1e82f9b9248,0,0,0,0,0,0,0,0,0,0', '55a1fe68ce15dac71874bb6f77482e37,0,0,0,0,0,0,0,0,0,0', '890388b7f3957a1756eeb917fe8eb144,0,0,0,0,0,0,0,0,0,0', 'f056ebab36a61a6ded5b537141f0fd0e,0,0,0,0,1,0,0,0,0,0', 'd54f8fc0ddfc645f2a418ab6024b5c9b,0,0,0,0,0,0,0,0,0,1', '9272803b4e38b918a264f765bc611158,0,0,0,0,0,0,0,0,0,0', 'e0908e8eec6101288481e08aec565b1b,0,0,0,0,0,0,0,0,0,0', '1d3015180c9172fbbe072a7d878114cc,0,0,0,0,0,0,1,0,0,0', '95f00798e3fe1e0961ade6bdd14f6265,0,0,0,0,0,0,0,0,0,1', '3d83793bf95d11bec1f7ccace129c39b,0,0,0,0,0,0,0,0,0,0', '33e9601899c1d8821c968108d1089898,0,0,0,0,0,0,0,0,1,0', '06c40d966ed6ce1b4498f6f55061bb6a,0,0,0,0,0,0,0,0,0,0', 'ef921993d980b2c5bedae29ddbc61584,0,0,0,0,0,0,1,0,0,0', '8b2b488977e4f37e55acb621d037fc8d,0,1,0,0,0,0,0,0,0,0', '9809a45981bdf259cade65e898c9c4ae,0,0,0,0,0,0,0,0,0,0', '45d74736cc07d031d8f497dd5d56e4ec,0,0,0,0,0,0,0,0,0,1', '587544272defd7eadf8fe2c049338ffc,0,0,0,0,0,0,0,0,0,0', 'd999bf1b156abae923b3340faf87c738,0,0,0,0,0,0,1,0,0,0', 'd423152f8e6a886a7a3652975ed4ae23,0,0,1,0,0,0,0,0,0,0', '5cfe4e23e34f557b3838bbde8946861c,0,0,0,0,0,0,1,0,0,0', '187ec9455f56a45e56ed3a88b616576a,0,0,1,0,0,0,0,0,0,0', 'c9f7dc7e9cf1b66d173868254a4316fd,0,0,0,0,0,0,0,0,0,0', '3b1ddc46e21cb0f3f36d10d30255c74e,0,0,0,0,0,0,0,0,0,1', '116188f33881f74f3bb1cad00ffc6bc0,0,0,0,0,0,0,0,0,0,0', 'ee229355c6d652de0c352c97321cea37,0,0,0,0,0,0,0,0,0,0', '7a4f22bf8b37706bf99d5073bfe2327a,0,0,0,0,0,0,0,0,0,1', '9eb90e1f197480dac0784996591bf2dd,0,0,0,0,0,0,0,0,0,0', '69f4f407176f3d03d01d9113019113bd,0,0,0,0,0,0,0,0,0,0', '494a5406d7a5e17967ca6164143dcc81,0,0,1,0,0,0,0,0,0,0', 'f1f625ae9fe6ff66c1326e97fc19c63d,0,0,0,0,0,0,0,0,0,0', '1db50702a1524123beaf9e74407f281f,0,0,0,0,0,0,0,0,0,0', 'dfed50b680c22f877d6ae2b4f25d3dec,0,1,0,0,0,0,0,0,0,0', '6057243d56d352c2e61964e1220fc85a,0,0,0,0,0,0,0,0,0,1', '252b7aaaff4b684c7bd557cd4537e95f,0,0,0,0,0,0,0,0,0,0', '3c8b7e06ab98d550b0d75fb4e05d74ca,0,0,0,0,0,0,0,0,0,1', '41bdde7c014f8ddb5d2d08c99679de01,0,0,0,0,0,1,0,0,0,1', 'f46adb43ff5b3a9cb1091cba823510d8,0,1,0,0,0,0,0,0,0,0', 'cc46d2815cc719e91596a0b8073af965,0,0,0,0,0,0,0,0,0,0', 'b9ebde23c97796fc883f2de9f17182d8,0,0,0,0,0,0,0,0,1,0', '127ad2e9c0ca7199a5ead888f0ea319d,0,1,0,0,0,0,0,0,0,0', 'ccd6e1c5c7d192de2a92175eb8a1c687,0,0,0,0,0,0,0,1,0,0', '4ea0b9dcf55565ba5ca83a9e17336863,0,0,0,0,0,0,0,0,0,1', '97e747ec78a42e5ca12c4225f26e3f33,0,0,0,0,0,0,0,0,0,0', 'd336d42aa8f6793a93639e0b35d4aa0b,0,0,0,0,0,0,0,0,0,0', '1d7d2683791ccd24655a5679990a40d7,0,0,1,0,0,0,0,0,0,0', '30ee954a9eb7ec147880e304322b1902,0,0,0,0,0,0,1,0,0,0', 'd4e9bd010c2284cd244bb0a78655572e,0,0,1,0,0,0,0,0,0,0', 'ab4506c89bf8e982207075f4668069ad,0,0,0,0,1,0,0,0,0,0', 'fa51c94911e51273e89faf3bf269a2e1,0,0,0,0,0,0,1,0,0,0', '11e06c4af4dc683a49d1d0bb8416c2e7,0,0,1,0,0,0,0,0,0,0', '8babaec39414b225b2680f568ada0eba,0,0,0,0,0,0,0,0,0,0', '13ea7377b9c6aa357beedfccc6a473d9,0,0,0,0,0,0,0,0,0,0', 'fe5056f3a23433673c6cc91c03052f36,0,0,0,0,0,0,0,0,0,1', 'aff0df02184b556df319d4551d2f7db6,0,0,0,0,0,0,0,0,0,0', '09a35346b4603fa05a70ff378b9bde45,0,0,0,0,0,0,1,0,0,0', 'be1a876674e056c8e748b6e497fde02a,0,1,0,0,0,0,0,0,0,1', '76672dd7290bb4971537407479ee06a9,0,0,0,0,0,0,0,0,0,0', '235e85ff121325daf1ba6e03b6061286,0,0,0,0,0,0,0,0,0,0', 'fe541cd5f6de29a6a42cb13ab541f8a4,0,0,1,0,0,0,0,0,0,0', '1c719e2f33f8ac994159179227feee30,0,0,0,0,0,0,0,0,0,1', 'e66c491757d9d8d838f8c0614c838e41,0,0,0,0,0,0,0,0,0,1', 'e9c43919bd2cb796dde5e90dd9c32ccc,0,0,0,0,0,0,1,0,0,0', '82b60ef347d940a3907ef31ea66af27b,0,0,1,0,0,0,0,0,0,0', 'db88375cfa465779b70a6bd6a5dcb9b5,0,0,0,0,1,0,0,0,0,0', 'f45c8e180efc3f13cbf99f4285196ff8,0,0,0,0,0,0,0,0,0,0', '62a7a5d5ac3703944503dceade0d8bae,0,0,0,0,0,0,0,0,0,0', '126871ffc54c60eeb8e6bbbae773aab0,0,0,0,0,0,0,0,0,0,0', 'f9a9408a993e93687a9eb2192d388ff7,0,0,0,0,0,0,0,0,0,0', '301bd37982380e3b91f6219092ac7e00,0,0,0,0,1,0,0,0,0,0', '732ffb79aaa54dfff778128602c8c99d,0,1,0,0,0,0,0,0,0,0', '26ff78d070f5288b78ef3fde9101e726,0,0,0,0,0,0,0,0,0,1', 'd3e4747848a477bea9c10b57a85ecd83,0,0,1,0,0,0,0,0,0,0', '585c819f5432a8481e86b608bef5da1e,0,0,0,0,0,0,0,0,0,0', 'ebc0c9c470833125e4cbd803b36e89d1,0,0,0,0,0,0,1,0,0,0', 'b6de9d1b81d88f8573d441d1b486b310,0,0,0,0,0,0,0,0,0,0', '3c18ef60efbe1ae049cd59fb553da55d,1,0,1,0,0,0,0,0,0,0', '3ce230dbab78167d039b5aa37583b163,0,0,0,0,0,0,0,0,0,0', 'f82142bf143ba099909a1a077b9888b0,0,0,1,0,0,0,0,0,0,0', '36224ad21a55a9704ec19f5f9b24e668,0,0,0,0,0,0,0,0,0,0', 'd7dfaf3eae229ae7a4e191261cbdcd36,0,0,0,0,0,0,0,0,1,0', '93460c358df5728e34330530532cffec,0,1,0,0,0,0,0,0,0,0', '13db9d174b05126156042200fc7ed867,0,0,0,0,0,0,0,0,1,0', 'd72b2a48160053f40ffd9c2bcc1dd0c1,0,0,0,0,0,0,0,0,0,0', '2f23f806bbb1df339688856eaa606d81,0,0,0,0,0,0,0,0,1,0', '9355c349120a3c2ed7c688f341dee63b,0,0,0,0,0,0,0,0,1,0', '6b8ed31a3db3e33f49bc7051c3d1c077,0,0,0,0,0,0,0,0,0,0', 'b1c89e6b3a80b7985e611838e93b2fcd,0,0,0,0,0,0,0,0,0,1', '137bb79613e5657990776570bb09db72,0,0,0,0,0,0,0,0,0,0', 'bee5fc002d692abbeaeff296897deec4,0,0,0,0,0,0,0,0,0,0', '8c5840e4bfc3e9fe55f6c87f0b95a1b8,0,0,0,0,0,0,0,0,0,0', 'c109f87c6e8d02f8b19221a440f3dfb2,0,0,1,0,0,0,0,0,0,0', '0dc118211e17a0b9949c1a7dd9840749,0,0,0,0,0,0,1,0,0,0', 'e08f93a91be83ecd6151b0821c329fc8,0,0,0,0,0,0,1,0,0,0', 'e3f29778dcf3d7bcf7ad93439fc68d77,0,0,0,0,0,0,0,0,0,0', '126875393036591e44c922bc136fbb23,0,0,0,0,1,0,0,0,0,0', 'c5ee7bb20eae0532565c1ddba461440c,0,0,0,0,0,0,0,0,1,0', '80a045c7c98b48dab2c5f5b04039ccaa,0,0,0,0,0,0,0,0,0,1', '8588e29f7dec76ce798baef77c7ae539,0,0,0,0,0,0,0,0,0,0', '2f2200a91c2e3858208e0aeca5375149,0,0,0,0,0,0,0,0,0,0', '3abd25f35b4dee87c37d4ffe1bb4f7c6,0,0,1,0,0,0,0,0,0,0', 'a212bce0d0d8bb03c2420bc357e8af34,0,0,0,0,0,0,0,0,0,1', 'b482c921b2a8bad4feed9b2929e0b7b8,0,0,0,0,0,0,0,0,0,1', '74e6804430338efdff2385fd76ec8f51,0,0,1,0,0,0,0,0,0,0', 'e72081b5bd9c8a1415841004b862d705,0,0,0,0,0,0,0,0,0,0', '82e3fc3e9fa06efcc4129c2d3ef11b97,0,0,0,0,0,0,0,0,0,1', 'f53dc016b4ba947ee8fba3a9af987d2b,0,0,0,0,0,0,1,0,0,0', '5f93bfd8cc212baffccb70ccda0cf1a1,0,0,0,0,0,0,0,0,0,1', 'd0b6debd626bb0a7b9a7b542689e92ca,0,0,0,0,0,0,0,0,0,0', '00356a7ec273b8a245c08272465c52ee,0,0,0,0,0,0,0,0,0,1', 'a43297b641ae5c707e9657fe308b15b8,0,0,0,0,0,0,0,0,0,0', '7075c1fbcdc3988c6ff7c1fc61800709,0,0,1,0,0,0,0,0,0,0', '434a0f6ae3307708e947f339664b33f2,0,0,0,0,1,0,0,0,0,0', 'e2cb9c9d7b47ad7f6333bd3faed77195,0,0,0,0,0,0,0,0,0,1', 'fdee7798d322aeccecd2f2fb95065a35,0,0,0,0,0,0,0,0,0,1', 'af8c6eaa01491fcf5580b64d31827490,0,0,0,0,0,0,0,0,0,0', '25b07042cc3379653504790f71504c88,0,0,1,0,0,0,0,0,0,0', 'dcf1cbc03922f48f6dd46e831fc44b80,0,0,0,0,0,0,0,0,0,0', '88131689f65c580ca405a68265d68078,0,0,0,0,0,0,0,0,0,0', '17989666b5ae7d9bb90b89b18c1a3f7e,0,0,1,0,0,0,0,0,0,0', '88d54d128226f9a5529681c44b06f64b,0,0,0,0,0,0,0,0,1,0', 'ac839c8020100a5e273cccc6fab0cece,0,0,0,0,0,0,0,0,0,0', '49d7b0a9b00aba1a9261d77965e06eeb,0,0,0,0,0,0,0,0,0,1', 'cebf490103abd4acb18bb0baa2fc70ef,0,0,0,0,0,0,0,0,0,1', 'bdf2e71f2d02854ab629f1f4d261e4be,0,0,0,0,0,0,0,0,1,0', '38782cb6ac6ef259d208bc97d2179c0e,0,0,0,0,0,0,0,1,0,0', '6304bd7f8159c5d26c8b7aba54c1b5ef,0,0,0,0,0,0,0,0,1,0', '6d2a90b933eafc8f84f52bd7529b60be,0,0,0,0,0,0,0,0,0,0', 'daabe4d4f98c7c124068c5fcc2f1e187,0,0,0,0,0,0,0,0,0,1', 'fd76388f847a29ac0fee0e2ed8446b26,0,0,0,0,0,0,0,0,0,0', '5b7ff78cd854fb1d693a796459994abb,0,0,1,0,0,0,0,0,0,0', '56375ac1fe0b27c13be5cfb7f7dd381f,0,0,0,0,0,0,1,0,0,0', 'abb7277d205c12c00cb0a84da481dce0,0,0,0,0,0,0,1,0,0,0', 'f20468a9d00556e96156463690dd6c1d,0,0,0,0,0,0,0,0,0,1', '182562f5339e2160e20863a4d288091c,0,0,0,0,0,0,0,0,0,1', '45995838409d3afeb4aeecd23612b5e7,0,0,1,0,0,0,0,0,0,0', '126c6d0413631a069c111491319d2277,0,0,0,0,0,0,1,0,0,0', '052582db138119e830f8ac65a663debc,0,0,0,0,0,0,0,0,0,0', '9a5937b8fe4ad5d06457fc7748a3b546,0,0,0,0,1,0,0,0,0,0', 'cd4e67e9db3549d058d9690288a8f82e,0,0,0,0,0,0,0,0,0,1', '2a9f88cfbf817b13cad51da1b98a7e4c,0,1,0,0,0,0,0,0,0,0', 'da21ca153b1c48640a1f05bd730b3b2f,0,0,0,0,0,0,0,0,0,1', '21fe1b36658986074d0dfe3787a2593f,0,1,0,0,0,0,0,0,0,0', 'f20b279ab2d19f1bb393b9f9534da813,0,0,0,0,0,0,0,0,0,0', '2cecaa96b81884030fb5464d549ddb2f,0,0,0,0,0,0,0,0,0,0', '7b305632e357bab6c8c674cd8d248f31,0,0,0,0,0,0,0,0,0,1', 'f6bc3e0e0384583e77042cc99383134a,0,0,0,0,0,0,0,0,0,0', '975a33b464f6423eec2858e14bbf7ae6,0,0,0,0,0,0,0,0,1,0', 'cebe8a886636f06ba0fc08c1f7c2b3b4,0,1,0,0,0,0,0,0,0,0', 'dfe23f7729477404d70a3a82ac6aca13,0,0,0,0,0,0,0,0,0,0', '92df1d7c76735935e24b00ca0ec1e6e6,0,0,0,0,0,0,0,0,0,0', 'a650983c80797dc5ebcaa025ad7bb77c,0,0,0,0,0,0,0,0,1,0', '62a3b000a8c55f5db6ba36e08b6627bb,0,0,0,0,0,0,0,0,1,0', 'c197fac5606f0e8b29a44ab897c6a03c,0,0,0,0,0,0,0,0,0,1', '0f58c0fc56045f8afabee3983acdd6c6,0,0,1,0,0,0,0,0,0,0', 'c7ba9da9889d43edecb924006d2b48f4,0,0,0,0,0,0,0,0,0,0', '1ce05d54c59c5101fe00f2926e330e0d,0,0,0,0,0,0,0,0,0,0', '4ea55ab25d84df83e26d19d85fab2536,0,0,0,0,0,0,0,0,0,0', '2a276f2939a0484ada67a3c358dc7974,0,0,0,0,0,0,0,0,0,0', '5c808bc637374653e531d7e7e35d6348,0,0,1,0,0,0,0,0,0,0', 'a920fb41c1bfb3debd4868878fd3cb36,0,0,0,0,0,0,0,0,0,1', '47469163be90abdbcf47ba51d35fb3bb,0,0,1,0,0,0,0,0,0,0', '312875bdc3e3359736f61ffc47354ec4,0,0,0,0,0,0,0,0,0,0', '9eae6469a649fe5804c7cb0e6659be37,0,1,0,0,0,0,0,0,0,1', '7db8259e9316a6a42960365ea51913e5,0,0,1,0,0,0,0,0,0,0', '6c4776fdb4f52d304d135b9f202b9ee9,0,0,0,0,0,0,0,1,0,0', '55b205896ec538298e4986d7f9f556a5,0,0,1,0,0,0,0,0,0,0', 'c977e1e45e9fd9ccd9fcbebd14a0ec1f,0,0,0,0,0,0,0,0,0,0', 'dac27e8b56aeddc07133c5efd345b914,0,0,0,0,0,0,0,0,0,0', '6fed26f6e608d005b0218cd4e0479367,0,0,0,0,0,0,0,0,0,1', '76f2c0c4004f6cd1c99e717247181abb,0,0,0,0,0,0,0,0,0,0', 'b758c16be31d3da46caf8fbf6315fcd1,0,0,0,0,0,0,1,0,0,0', 'd7166e92b77644011c4129a32c8304a7,0,0,0,0,0,0,1,0,0,0', '8faef90b2b64ed40690813d792d3009d,0,0,0,0,0,0,0,0,0,1', 'e9d10534a99840f962fa942a64dd6f08,0,0,0,0,0,0,0,0,0,1', '2aceec6d325342be947c915435322328,0,0,0,0,0,0,0,0,0,1', 'e3e3663969b9eda1684956b997d1a916,0,0,0,0,0,0,0,0,0,0', 'b8979fcaa8d22896f683dbe2bc6b1139,0,0,0,0,0,0,0,0,0,0', '03d3cb4f71ff4f283292678de1e49e25,0,0,0,0,0,0,0,0,0,0', 'abece4cc1348cd7be9e21e08175cc069,0,0,1,0,0,0,0,0,0,0', '3668014563fef4c8a50858ac72a4789a,0,0,0,0,0,0,0,0,0,0', '923b00a83a57d4af14d55fe8dc0359ff,0,0,0,0,0,0,0,0,0,0', 'c6f350e38c3778c43f4874d9627fc93c,0,0,0,0,0,0,0,0,0,1', '088ddf7d7c04f30b2cb4b31c867603f3,0,0,0,0,0,0,0,0,0,0', '198608125ac0340f59b6b6063b38c03c,0,0,0,0,0,0,0,0,0,1', '05e028f2c31b6b5c85f5f681eb7acb56,1,0,1,0,0,0,0,0,0,0', '04b42dd4f17e80ac0c6bf127666a8a73,0,0,0,0,0,0,0,0,0,0', '0f8f39d3e07eefe1e7de43d1ed038c04,0,0,0,0,0,0,0,0,0,1', '6332c51d3fa768b8bfe5c206dcb0a35c,0,0,0,0,0,0,0,0,0,0', 'b7567769fd181a0502156c2afda5549e,0,0,1,0,0,0,0,0,0,0', 'afd0c53edf9cbb0c30f46e4d8f436b9d,0,0,0,0,1,0,0,0,0,0', '8b29c7c84447f4e5d3b6425d3fabf909,0,0,0,0,0,0,0,0,0,0', '8138f140e8c45b3b6df74dbe06602710,0,0,0,0,0,0,0,0,1,0', '011aba97c2ffad56daf14ac6a51d4f80,0,0,0,0,0,0,0,0,1,0', 'c6378373e0ab8871266196eb081132c4,0,1,0,0,0,0,0,0,0,0', 'd15ea315a479b325a77f5b46588e9419,0,0,0,0,0,0,0,0,0,0', 'b83844ea560ef38813f3994eadf6ddd3,0,0,0,0,0,0,0,1,0,0', '0fc76e76abffe95465a91f5ef47fe718,0,0,0,0,0,0,0,0,0,1', '029e5fbde39692208e2d3c03e17333ca,0,0,0,0,0,0,1,0,0,0', '6dbf57d42810ebb91900ca035a5a5289,0,0,0,0,0,0,0,0,0,0', '980ad6230de37e5606793624d3e986e9,0,0,0,0,0,0,0,0,1,0', '5ffb782b4f1244073b1893de1256c526,0,0,0,0,0,0,0,0,0,0', '1f671579c98ab6599902fae101fe745d,1,0,1,0,0,0,0,0,0,0', '879d2f116229729981cb06c1936fd97d,0,0,0,0,0,0,0,0,0,1', '0939222b506b5b74b10c81ea937c1784,0,0,0,0,0,0,0,0,0,0', 'ea2466bcefee2a9e45dd51be0e3e8c4a,0,0,0,0,0,0,0,1,0,0', '5c873c462455b86ebb83493e524b163d,0,0,1,0,0,0,0,0,0,0', '1597a5c82e15d8967adc2957c9744929,0,0,0,0,1,0,0,0,0,0', '77f4af01eaa7787e99d95b97d8724e8d,0,0,0,0,0,0,0,0,0,0', 'a6bb99f05ca4519478c3257fb9984ff9,0,0,0,0,0,0,0,0,0,1', '0dd3af78e8459eeb4aa111d544866fe9,0,0,0,0,0,0,0,0,0,1', 'eeff9a7001aacf1ef9026dcfce26d070,0,0,0,0,0,0,0,0,1,0', '2c4d099e78a186828f5661d52fe5d406,0,0,0,0,0,0,0,0,0,0', 'f2726f1dd752ff48b204b389f1b5ca78,0,0,0,0,0,0,1,0,0,0', '9949b4002edef1d92c32901a7b852f0c,0,0,1,0,0,0,0,0,0,0', '4a6649cafaa72f898b52433b077ccfec,0,0,0,0,0,0,1,0,0,0', 'b25cfef9b969b1b843977fc7efaabc6a,0,0,0,0,0,0,0,0,0,1', 'b4e720c87263d441fcd50eaad22d6206,0,0,0,0,0,0,0,0,0,1', 'fa6a9870ce59488f26ecfd217fc29e52,0,0,0,0,0,0,0,0,0,1', '1b2caf74d9a86466ff7b323738b669e1,0,0,0,0,0,0,0,0,0,0', 'a0f37eac882cef19bd61dee1a8fbe041,0,0,0,0,0,0,0,0,0,0', '93edbd911814faf273add65e33f25759,0,0,0,0,0,0,0,0,0,1', '3d67e399fb6082bd9e832fd376c073a2,0,0,0,0,0,0,1,0,0,0', '0f3d667bb73c3dcf6a6b02be63ab7a4b,0,1,0,0,0,0,0,0,0,0', 'a506264924ecb4bb9b972e6ce888a495,0,0,0,0,0,0,0,0,0,1', 'a9083042cfd36e0c88e36dd57bd472fe,0,0,0,0,0,0,0,0,0,0', 'd073f598ad3cd21a2942a9743794aa41,0,0,1,0,0,0,0,0,0,0', 'd119ef71d7983eaca2e6256e4b8b4405,0,1,0,0,0,0,0,0,0,0', '7a02be4a407f1b14cded0f5a3061a949,0,0,1,0,0,0,0,0,0,0', 'e52bddace9e827d0b59377703e997c37,0,0,0,0,0,0,0,0,0,0', '2a5fff25edd6021ea16f50db25841589,0,0,0,0,0,0,0,0,0,0', 'e9557a5018695c601ec3775f19a3f966,0,0,0,0,0,0,0,0,0,1', 'bb0302fae7478744955a9994be61e2c3,0,0,0,0,1,0,0,0,0,0', '25dbd2da835a18297c11746d4ecdb8a3,0,0,0,0,0,0,0,0,0,1', '4de42ac89b424be2a3026c4f1e3cebba,0,0,0,0,0,0,0,0,1,0', '83f0de5691607b325904f29acf0a8b13,0,0,0,0,0,0,0,0,0,0', '86439a4385a1e75ddb5a9f42ce1ca690,0,0,0,0,0,0,0,0,0,0', '0aaf6aad0fcae981f31ba50a2c57bdfc,0,0,0,0,0,0,0,0,0,1', '34e11d746f185f2bd403ea477b8cb033,0,0,0,0,0,0,0,0,0,0', '26e5a53dbcbaee7b69b1f746b0de3af0,0,0,0,0,0,0,0,0,0,1', '1fa8b577a599ac039d41eda35966d480,0,0,0,0,1,0,0,0,0,0', '9578256e214a40b3af1a4d3870b5ce6b,0,0,0,0,0,0,0,0,0,0', 'f3b16788a4be2582d512a1e1eb1aaceb,0,0,0,0,0,0,1,0,0,0', '4f89786d44ebe808800ba905e39ac02e,0,0,0,0,0,0,0,0,0,1', '7a33bcce4c3976a574aaff79f9ae1e3a,0,0,0,0,0,0,0,0,0,0', 'b55448500906efba57df7473dc3c348c,0,0,0,0,0,0,0,0,0,0', 'e5f3dd705cd51ced387e7277605652ad,0,0,1,0,0,0,0,0,0,0', 'b86b503e2526759c296a4655f617f886,0,0,0,0,0,0,0,0,0,1', '57857626538708d15cd7475705538346,0,0,0,0,0,0,0,0,0,0', '32ab6b30dd0fe3870c19d46b002077e1,0,0,1,0,0,0,0,0,0,0', '72fd1b369a1419f2a71954b042b66607,0,0,0,0,0,0,0,0,0,0', '39d44164da7875a23f3f3e4a188d8ab8,0,0,0,0,0,0,1,0,0,0', '6ba1472f6ffef4e6088591ccf9dfccea,0,0,0,0,0,0,0,0,0,0', '4fcbb748458991b709f8d36debb1a3d8,0,0,0,0,0,0,0,0,0,1', 'fd561964219257b0cb5295f73a105ee6,0,0,0,0,0,0,0,0,1,0', '121e8ce4ff6e2c16fb5de66194e2c7b7,0,0,0,0,0,0,0,0,0,0', '8231f38e45edb13a3556520d06a177c0,0,0,0,0,0,0,1,0,0,0', 'f9594e8da54581f80f59b50cc8689ea7,0,0,0,0,0,0,0,0,0,1', '8460e3c104327c6f745cc79ae312d594,0,0,1,0,0,0,0,0,0,0', '5529acaf8c2b938d475958418af8f64b,0,0,0,0,0,0,0,0,0,0', 'c450bfb00dcffeb4b5b44fbd2167fe05,0,0,0,0,0,0,0,0,0,1', 'a67e1900a68b1ebd11ecef19217da848,0,0,0,0,1,0,0,0,0,0', 'ab3ff66815fe10024c38a893ca44e330,0,0,0,0,0,0,0,0,0,1', '470cff1aa1ad73392e6a9ada20c0b1d3,0,1,0,0,0,0,0,0,0,0', '5fe97a53f2d2f82e4f0ad40e36bf2189,0,0,0,0,0,0,1,0,0,0', 'c756b2b032b4774dabe96eb31d6df3a2,0,0,0,0,0,0,0,0,0,1', '4feac01af7850403a29458de547fd1ec,0,0,0,0,0,0,0,0,0,0', '1b855100a62e194eb788120b340a5ded,0,0,0,0,1,0,0,0,0,0', '827dd6c059f4b007e0e3261d9d07d072,0,0,0,0,0,0,0,0,0,0', 'bcff5f87539ace2eafc01065c968253a,0,0,0,0,0,0,0,0,0,0', 'a36a435c712159618e0f634325b934d3,0,0,0,0,0,0,0,0,0,0', '02c8d188d05f31f6045a33ca9191d50a,0,0,0,0,0,0,0,0,0,0', '9682942b649296f5c5d94497d9d63a28,0,0,0,0,0,0,0,0,0,0', 'd3c4aa1aa34ee1ed2d934cf0cfb9e7e2,0,0,0,0,0,0,0,0,0,1', '4425f3d2c2c95e7837577a3106b951c1,0,0,1,0,0,0,0,0,0,0', 'c63fe918d9b45621bc1bc6fc0d04cbcd,0,0,0,0,0,0,0,0,0,0', 'cd39148fef28b19f62660cf8d805f006,0,0,0,0,0,0,0,0,0,0', '27a241e1c95b071e6b6456a8001c71e6,0,0,0,0,0,0,1,0,0,0', '6088340ca05d74e1c25fd45c0632e087,0,0,0,0,0,0,0,0,0,0', '680d4044f471e070a841c437bd921812,0,0,0,0,0,0,0,0,0,0', '091d59e00b106c54858822c8d321d18a,0,0,0,0,0,0,0,0,0,0', '0f78029c07dd52a3f8ab131c5326adc1,0,0,1,0,0,0,0,0,0,0', '1c932889f0ae92e89dd8296ab3b2d868,0,0,0,0,0,0,0,0,0,1', '15b82cf46adf139740a1f04d243ccf81,0,0,0,0,0,0,0,0,0,1', '8278a9ff24a56b6de7f61ef66d50df9b,0,0,0,0,0,0,0,0,0,0', '46fff7c1880ae71755bc9db816c5d02c,0,0,1,0,0,0,0,0,0,0', '37d26d65bc8eee569805849bc68feb42,0,0,0,0,0,0,0,0,0,0', '106395f0e4c4213f1efb97d2dff855fb,0,0,0,0,0,0,0,0,0,0', 'ea9abec0f923f60b7bbbd88642b05199,0,0,1,0,0,0,0,0,0,0', 'e8b0c2060762dd17b87544d1c96f5ba2,0,0,0,0,0,0,0,0,0,0', '1c24f4214fb22a548441ab630adbda2f,0,0,0,0,0,0,0,0,1,0', 'bf381f46fc8c8df261874829d5866a7f,0,0,0,0,0,0,1,0,0,0', 'b7edcd9ab549ff69caa5e5075930b5e2,0,0,1,0,0,0,0,0,0,0', 'd86448aa724568f77d76b07af1fe17d9,0,0,0,0,0,0,0,0,0,1', '5c169efe0dbeaeb1f87f0779387107e2,0,0,0,0,0,0,0,0,0,0', '861fb99e9d8f0a5aac54cf85400b62c0,0,0,1,0,0,0,0,0,0,0', '4e9e5433f891cbba29158dbc6e58590a,0,0,0,0,0,0,0,0,0,1', 'b60d44bb0d07f5b8d3063f55eecb1a32,0,0,0,0,0,0,1,0,0,0', 'c94866f1e9d1578ba88fb7b04e1512ba,0,0,0,0,0,0,1,0,0,0', '8b82b045efe50c80f16488a35a06360a,0,0,0,0,0,0,0,0,0,0', '15ff116f3edadeb72a35a05329cb732d,0,0,0,0,0,0,0,0,0,1', 'e4587c8800193dd6aa9dc190cc379f18,0,0,0,0,0,0,0,0,1,0', '31dd90c33d7f1723bf48c59def3ab57e,0,0,0,0,0,0,0,0,0,1', 'b8551a3aa6bd69a3cf932d55d732429b,0,0,0,0,0,0,0,0,0,1', '62f385ed0d85861a1ff99c9b308f872e,0,0,0,0,0,0,0,0,0,0', 'ba58e0361298a822f0f01e59bdcbdc4d,0,0,0,0,0,0,0,0,1,0', 'b7ac982225366dd8104113bff8211a52,0,0,1,0,0,0,0,0,0,0', '0780cc95567b2f6180b95b3e760543f3,0,0,0,0,0,0,1,0,0,0', 'b6a654263a9edb722cdeaf97aa9cdd6e,0,0,0,0,0,0,0,0,0,0', '9fe14137a9d4c0caef7c490585baccef,0,1,0,0,0,0,0,0,0,0', '9a962e6b19d0f1ded3249a0f61b5c3b1,0,0,0,0,0,0,0,0,0,0', 'c8e08dd4a10301707a07fd78c7802782,0,0,1,0,0,0,0,0,0,0', 'fab47b57e140a9293e19789361c0e33e,0,0,0,0,0,0,0,0,0,0', 'ca5693f8d702a4f507b19a74622f91d9,0,0,0,0,0,0,0,0,1,0', '6b62b772336921bf836380b3220be4bb,0,0,0,0,1,0,0,0,0,0', '8f93f130993e59c1d323fe8500101599,0,0,0,0,0,0,1,0,0,0', '742b4ae295e88185b4774546b73fdf50,0,0,1,0,0,0,0,0,0,0', 'cbbbfcf78a2829e6a60b02068838570f,0,0,0,0,0,0,0,0,0,1', 'eb31e443f958b47ee2d1785e7b7fca33,0,0,0,0,0,0,0,0,0,0', '3473b210367128de1ed1a897a6364818,0,1,0,0,0,0,0,0,0,0', '7186bd0b8f6fa6171893e18f9e8a4b1b,0,0,0,0,0,0,0,0,0,1', 'cdbd8fffaf2a5085a7e2b99b248b6f88,0,0,0,0,0,0,0,0,0,0', 'be40bfffaec511cf9701d1e60449d42c,0,0,0,0,0,0,0,0,0,0', 'b211df85bd87f3d9e3f450ea4fab5ac0,0,0,0,0,0,0,0,0,0,1', '7ff1b69433096555816866c6931cbd12,0,0,0,0,0,0,0,0,0,0', 'e79de5a952f10773f5aeeaa5c2fef9b3,0,0,0,0,0,0,0,0,0,1', 'c82c40a625a177b558f913f1284636b7,0,0,0,0,0,0,0,0,0,0', '335ffc83c276ab21b8280f92c3aecc85,1,0,1,0,0,0,0,0,0,0', '8e05d7311f496b0f8238122c033f96e1,0,0,0,0,0,0,0,0,0,0', '789f0d3f6c57716783ddcf6832fef765,0,0,0,0,0,0,0,0,0,0', 'e3b16ae9ae3f37051f00da59dadf0753,0,0,0,0,0,0,0,0,0,1', '44964322f8e1b47e5dbed519712ba529,0,0,1,0,0,0,0,0,0,0', '9cad9040632ba59221764ecb50e0b24f,0,0,1,0,0,0,0,0,0,0', '0780b1d9f1ecd5e784a108a227cf6132,0,0,0,0,0,0,0,0,1,0', 'd45eec3bab4d52d1dbd1ec2944a9e369,0,0,0,0,0,0,0,0,0,0', 'b9bfe4534a6c00a17a13caa97b7e702f,0,0,0,0,0,0,1,0,0,0', '5741d35de8ff1b2e45b5ff1cffd5e945,0,0,0,0,0,0,0,0,0,1', 'b51ef20883057bd08dd6ee9bc02a9763,0,1,0,0,0,0,0,0,0,0', 'c7b7df3d1bd81469da62631d5353049a,0,0,1,0,0,0,0,0,0,0', 'c18f2d8f26d204083fe575054fdb5bdd,0,0,0,0,0,0,1,0,0,0', 'abb08962cbf7d5bc082f12378300daf2,0,0,0,0,0,0,1,0,0,0', '41b6a7a1de91748d3a839e24987a3de7,0,0,1,0,0,0,0,0,0,0', 'c1834e997f3f9d7088e478cd91b03115,0,0,0,0,0,0,0,0,1,0', 'ddf912079c3349dedb18d30d5f03f063,0,0,0,0,0,0,0,0,0,0', '4f9d3e20ab7557fe3e84742eb9c02ea0,0,0,0,0,0,0,0,0,0,0', '019008a626de8653ff33653232baec72,0,0,0,0,0,0,0,0,0,0', 'f550f40092ed816e775b7e6666428e0b,0,0,1,0,0,0,0,0,0,0', '221a4da0ccd1e0f5af3b045dee66b2c2,0,0,0,0,0,0,0,0,1,0', '032e055480f0f4efa6625bb60004a2b8,0,0,0,0,0,0,0,0,0,0', '30ade7c2957c15af82993726f79a8a53,0,0,0,0,0,1,0,0,0,1', '05640641c27b9e026a22d693e0304488,0,0,0,0,0,0,1,0,0,0', '51889088fd67ab2dd8d0cf17113089d0,0,0,0,0,0,1,0,0,0,1', '476eb08a1555b7681f240109299ee200,0,0,0,0,0,0,0,0,0,0', 'f21d3d09127fe5882a5379a4dfdfbf1d,0,0,0,0,0,0,0,0,0,1', 'bd2ae42938549fca65e4462d4ba72cb8,0,0,0,0,0,0,0,0,0,1', '620a54113e1c2e98bde825a1122558c9,0,0,0,0,0,0,0,0,0,0', '8a037fb586a0a43619bd9b70467ba441,0,0,0,0,0,0,0,0,0,0', '6011bd6b2409d5012f556f59c0a2c0f9,0,1,0,0,0,0,0,0,0,1', '45426b7c80750fee0c13216178168cb1,0,0,0,0,0,0,0,0,0,0', 'ae309d2885d63a2e90cecda15633a876,0,0,0,0,0,0,0,0,0,0', 'e03c51898d708d0bfffe6a093babf91f,0,0,1,0,0,0,0,0,0,0', '29e6029b4ee23de35f06a04dbef2eb72,0,0,0,0,0,0,0,0,1,0', 'ad59848b128e16f2b05ab87c499bb1a7,0,0,0,0,0,0,0,0,0,1', 'c82a374563eab732b62f240057969cd0,0,0,0,0,0,0,0,0,0,0', '47e2fb6c37209812fee19ace8247aa7b,0,0,1,0,0,0,0,0,0,0', 'd6242d5ee20f78e45ccc649f0a6a84e6,0,0,0,0,0,0,1,0,0,0', '6cb332c25d641b055fee38dd794f49ce,0,0,0,0,0,0,0,0,0,0', '7113452b2df886ebed0a201508fd3d4f,0,0,0,0,0,0,0,0,0,0', '526ed0d029b3fb9a51c5d61b36c0561a,0,0,0,0,0,0,0,0,0,0', 'e411adde589ca4735bd45f1109bd9d04,0,0,0,0,0,0,1,0,0,0', '440fbbc7a54f0e9f9a6364f2ce3d6fb2,0,0,0,0,0,0,0,0,0,1', '9bf2e4b55b23a79e7569d34fdac928ad,0,0,0,0,0,0,1,0,0,0', '864d1727d627492a1eadc6a4f8aa2dff,0,0,0,0,0,0,0,0,0,0', 'b7fe8b862ed4086a1b79b47e1365624e,0,0,0,0,0,0,0,0,0,1', '0a3f7f221eb257ad93ee47d8d7adead7,0,0,0,0,0,0,0,0,0,0', '0a3c64cfdeeeece20bbf3101eb081b98,0,0,0,0,0,0,0,0,0,1', '170d49fafef4c9db7aba085726326de1,0,0,1,0,0,0,0,1,0,0', '837228964d0f0f44660927e0fe2ea797,1,0,1,0,0,0,0,0,0,0', 'ca34fadce99218a3f5ba1a1d536ca761,0,0,0,0,0,0,0,1,0,0', 'b6f13cc92cdf05aceaa22d2c324829d7,0,0,0,0,0,0,0,0,0,0', 'b641b62c381714f0b2a885b4dd3533c2,0,0,0,0,0,0,1,0,0,0', '300e55309728c13d0c44ae6a50499a6a,0,0,0,0,0,0,0,0,0,0', '2631f533ff2d18089e1edeaa41032140,0,0,0,0,0,0,1,0,0,0', '0989deb7e9fad06cbf2784b97e813360,0,0,0,0,0,0,0,0,1,0', '04e78bf7e789a386186bf1d175b41b86,0,0,0,0,0,0,0,0,1,0', 'c2fcad8d6711fe8fea1e3752e830465a,0,0,0,0,0,0,0,0,0,1', '61353127586996a174d1295ce0df1a2b,0,0,0,0,1,0,0,0,0,0', '8c6a4bd6f2c07477a3fb418e0675442e,0,0,0,0,0,0,0,0,0,0', 'edaf61fa08f45451c4248bd78313f23b,0,0,0,0,0,0,0,0,0,0', 'eb31630efcea6a84358b758ae94173f1,0,0,0,0,0,0,0,0,0,0', 'f942573d4f8353e28153ad58371b87b9,0,0,0,0,0,0,0,0,0,0', '48add34f097424ab35ba5d60e1e3687b,0,0,0,0,0,0,1,0,0,0', '8f72cf10d42414f3bd6f2e7f2dcbd6b6,1,0,1,0,0,0,0,0,0,0', 'f409278d5a76ff013d27d9858cac3f27,0,0,0,0,0,0,0,1,0,0', '30801c277af3ff5651c3c9eb8d10f5b9,0,0,0,0,0,0,0,0,0,1', '139f4cba98ace6e800962583064d90f6,0,0,0,0,0,0,0,0,0,0', '6ee1c6c34c9f5057c87a17d17fd00ab0,0,0,0,0,0,0,0,0,0,0', 'e52ff8348e41d9f7699b82fed17b5d7a,0,0,0,0,0,0,0,0,0,1', '94f7d5e7b3df099846d54de3869e222b,0,0,0,0,0,0,0,0,0,1', 'b9e0778bbc84889694ea938e2734847d,0,0,0,0,0,0,0,0,0,0', 'dae0735460a4a6d4fd3458de7c31122d,0,0,0,0,0,0,1,0,0,0', 'adc6b16e23458d6d665c741af2de0238,0,0,1,0,0,0,0,0,0,0', 'b55d482dc82a673cc5db918a8564eeb1,0,0,0,0,0,0,0,0,0,0', '359cbfc9a1a56468a1a470c1a2a24434,0,0,0,0,0,0,0,0,0,0', '5512ab72e4d4393e10d689ae0fc20bdd,0,0,0,0,0,0,1,0,0,0', 'b994df9c378685fb4ef5a484492568f4,0,0,0,0,0,0,1,0,0,0', 'ab3e1e33c69bbf587771a8657bbd018d,0,0,0,0,0,0,1,0,0,0', '49fc4d55f59d200e2c507917ba8c15fa,0,0,0,0,0,0,0,0,0,1', 'e35edebe8d43f5c18e5be2037118cd5c,0,0,0,0,1,0,0,0,0,0', '4600a8d4b42cddea86d28a3e1feca054,0,0,0,0,0,0,0,0,0,0', '1e814eca04b01109989e0e3b39eda320,0,0,0,0,0,0,0,0,0,0', '9a460fc6720480693a7dc7a294c154cb,0,0,0,0,0,0,1,0,0,0', 'cbf1b5604f155558eb8401610c17de50,1,0,1,0,0,0,0,0,0,0', 'e843b5433ce7fb6443e2960194816c08,0,0,0,0,0,0,0,0,0,1', 'db3872e0dbfd56b9d5a6a38f978661f6,0,0,0,0,0,0,0,0,0,0', '44ef193d6002dc8800aa37c2b4325a64,0,0,0,0,0,0,0,0,0,1', '9ca08a343f08979bdea9b616c1bfef7a,1,0,1,0,0,0,0,0,0,0', 'cd9ee0abae6981e00ac8ac1b5d3b1c03,0,0,0,0,0,0,0,0,0,0', 'de48350e6d808e498e0d411e9793b28f,0,0,0,0,0,0,1,0,0,0', '9c8e37b29f0bf408e07343cd52e05b50,0,0,0,0,0,0,0,0,0,0', 'cd3666bd3be999550b43a3d2df81a17e,0,0,0,0,0,0,0,0,0,0', '6d14714deb81e0124aa3e3026111350e,0,1,0,0,0,0,0,0,0,0', 'aa4bd7eb82f81b70165dd6c2d7926bd3,0,0,0,0,0,0,1,0,0,0', '57716949ae3a9fcf824cfd4afccb5e59,0,0,0,0,0,0,0,0,0,0', '4b5bf06314ed9b5bb7792d4153a6ca0a,0,0,0,0,1,0,0,0,0,0', 'a9d203c0719049f0b8d9ea994a9e959e,0,0,1,0,0,0,0,0,0,0', '1be744814ff51ee3f65d9dd5f6e4f090,0,0,0,0,0,0,0,0,0,0', '76d5503d9d95f24c256a191bfef7437f,0,0,0,0,0,0,0,1,0,0', '5413cc8112c1b98b4d76fd867b88c812,0,0,1,0,0,0,0,0,0,0', 'ede8a8c371d80004cf226ad71e89e3b8,0,0,0,0,0,0,1,0,0,0', '08961c87c2dfadda19ffec16051d6623,0,0,0,0,1,0,0,0,0,0', '44dc3820e2bbab70a8a835c2076e5a6d,0,0,1,0,0,0,0,0,0,0', 'eca85557a4e2c207026163438470fab5,0,0,1,0,0,0,0,0,0,0', '307501e4f8dfcdb4a721893d13c9f04c,0,0,1,0,0,0,0,0,0,0', '4cf0a4a9836f86abd97655e50cd88d87,0,0,0,0,0,0,0,0,0,0', 'c106cd73f4a3d5fb8053c7994158e2ba,0,0,0,0,0,0,0,0,0,1', 'c465c319a0d96ca6fe6d95999bcbe8a6,0,0,0,0,0,0,0,0,0,1', '86cb53d7865a1e527c59e531028faccc,0,0,0,0,0,0,0,0,0,0', 'a42ecec9c05fe0fbe035d23194a74512,0,0,0,0,0,0,0,0,0,0', '797535307965668141ce4b2c8d513377,0,0,0,0,0,0,0,0,0,1', '3da5f98fe7c6f4de2ca9c4cedc5eb32b,0,0,0,0,0,1,0,0,0,0', '164bdf31cd69891ec13fad64d3b97897,0,1,0,0,0,0,0,0,0,1', 'ea5258f97c033fcd185f3576dc58fcc8,0,1,0,0,0,0,0,0,0,0', '2201f62202b859e5b9f9bb425f154a1c,0,0,1,0,0,0,0,0,0,0', '8e3fd97b8b4b14898fb5c981618aed67,0,0,0,0,0,0,0,0,0,1', 'fe9439c12ed235a75a45b861fc95f667,0,0,0,0,1,0,0,0,0,0', '1c7c57aa6c3bb5f2a1db33c80707d350,0,0,0,0,0,0,0,0,0,1', 'be955ad5e3eac69dba23131605e3e022,0,0,0,0,0,0,0,0,1,0', '3786e6790ef0d5f6eccdcbd024d7cc4d,0,0,0,0,0,0,0,0,0,1', '13b57a8e7d1af26ecd090d547d545bcc,0,0,0,0,0,0,0,0,0,0', 'd9f56cb8fda9fe66613e79b61b30b322,0,0,1,0,0,0,0,0,0,0', 'ba3f4c1e02e462eefa70f27c19863dc7,0,0,0,0,0,0,1,0,0,0', '12ed45300b351df32c7e8409d310adf2,0,0,1,0,0,0,0,0,0,0', '982f85a907de1d94d5bd35d0d152d0a7,0,0,0,0,0,0,0,1,0,0', '35af4846a31d57f85cd7e4c3e15386a8,0,0,0,0,0,0,0,0,0,0', 'e1f0be562ad675c11632b4d2d87bf34e,0,0,0,0,0,0,0,0,0,1', '32e573113442dd79517c1c7153a2c371,0,0,0,0,0,0,0,0,0,1', 'e1f64f390e3b177ee32bf607a9f36262,0,0,0,0,0,0,0,0,0,1', '61a0e46b6af54fd693b180cb3a65511a,0,0,0,0,0,0,0,0,0,0', '11b34539605de7bfa246d11dd2f39c0e,0,0,0,0,0,0,0,0,0,0', 'a5c436264d9f74a5f88bd58ee0952bbb,0,0,0,0,0,0,1,0,0,0', '8907f6de785955fa698a5f9ca89f7703,0,0,0,0,0,0,0,0,0,1', '2d4555a32fca3da6c782c434c5d4e44d,0,0,0,0,0,0,0,0,0,1', '94f75cd396a5ffebae57d96a65eb42fb,0,0,0,0,0,0,0,0,1,0', '1c9c1edbcd31ade9a3526779fa466145,0,0,0,0,0,0,0,0,0,0', '2868a0df39e6e0af1799543576704480,1,0,1,0,0,0,0,0,0,0', 'dd70a3d0b526dcf13ff1898cec1c4123,0,0,0,0,0,0,0,0,0,1', 'fc8934e1bed5022df4525f4450d5e8bd,0,0,1,0,0,0,0,0,0,0', '80a69006680362dee0a6cd51b69c25b7,0,0,0,0,0,0,0,0,0,0', '5b610675e3bf20bf65ea1aa11ddcc505,0,0,0,0,0,0,0,0,0,0', '57d65142b28f6aad82aead59da376e22,0,0,0,0,0,0,0,0,0,0', '71d200047a9bed05e6a21747a001cdf5,0,0,0,0,0,0,0,0,0,0', 'effed3623acbb2aef48c3a544d78771c,0,0,0,0,0,0,0,0,0,1', 'a001df5f35eb2a395679529ba6363aac,0,0,0,0,0,0,0,0,0,0', '33ddadc6216eb68a77e8265a194420ba,0,0,0,0,0,0,0,0,0,0', '8bb7949738db3ccb6332ce3825e9579b,0,0,0,0,0,0,0,0,0,0', '121889d996a50b969ac5373dc02ce9d9,0,0,0,0,0,0,0,0,0,0', 'dab61603fb115751672aaf818b443223,0,0,0,0,0,0,0,0,0,0', '7b54434fe06709c5a0cb91320220df76,0,0,0,0,0,0,0,0,0,0', '31fe4f447951cb0471cacb2168eefd4a,0,0,0,0,0,0,0,0,0,0', 'd3c5ffb51422d637710af4ebeabaf514,0,0,1,0,0,0,0,0,0,0', '37667c7ce2d47b01293de45846cf0917,0,0,0,0,0,0,0,0,0,0', '54ec92fc4d1d9b22e0ece9ed2ff9ad0f,0,0,0,0,0,0,0,0,0,1', 'aa1361615cfabda164c645d60670a85b,0,0,0,0,0,0,0,0,0,1', '3c0c0d7b89ca6d8d64543a05289b9020,0,0,0,0,1,0,0,0,0,0', 'ff7af68010682caf93d4a2e0a99c484f,0,0,0,0,0,0,0,0,1,0', '7ecbab4c7653c469796af851653e7728,0,0,0,0,0,0,0,0,0,0', 'db7e63d015c3477af0559fcdd517ac66,0,0,0,0,0,0,0,0,0,1', 'c83e9a658fc60d466b6ca70ca059352d,0,0,0,0,0,0,0,0,0,1', 'a76eef84ec7aacafa3072fba3aff37b5,0,0,0,0,0,0,0,0,0,0', '14c8a55ec05532ea0aabfac4ebee739d,0,0,0,0,0,0,0,0,0,1', '9983dce2a39e20767295ead2d9f71b44,0,0,0,0,0,1,0,0,0,1', '7d9608d6a6eab4132bcdc351b89c7a5c,0,0,0,0,0,0,0,0,0,0', '668ae257f067f0d6923bac8c48b0b3c8,0,0,0,0,0,0,0,0,0,1', '38cd243997ca2aaf1892633f79f0395c,0,0,0,0,0,0,0,0,1,0', 'bbadbcfea7964c9762bf4e9cab6e11cd,0,0,0,0,0,0,0,0,0,0', '4c335989714bb864cad8fae0700dfbc7,0,0,0,0,0,0,0,0,0,0', '6f6d72f8754c97eecf9bb208d0e464f2,0,0,0,0,0,0,0,0,0,0', '5d3c5f5b18562e648c1bbe38bd5d244a,0,0,0,0,0,0,0,0,0,0', '80b80df7b01a83e88022fc50b22870bb,0,0,0,0,0,0,1,0,0,0', 'e11176fdac9e9bcca300483e2a9169c8,0,0,1,0,0,0,0,0,0,0', '28754f85a64406ec8a25cf105a9aff65,0,0,0,0,0,0,0,0,0,0', 'e0f9229e5c165fb09dea5c577aafb2e6,0,0,0,0,0,0,1,0,0,0', '68b72d1549b6f42687f4940f974046a1,0,0,0,0,0,0,0,0,0,1', '7b5040d522a935046f04d8dbe7525db0,0,0,0,0,0,0,0,0,0,0', 'ff1275772a8a5c6b391b23cdc5c759e5,0,0,0,0,0,0,0,0,0,0', '91230a0b079b6264be21a05e60ac2744,0,0,0,0,0,0,0,0,0,0', '083737cd71617fe7f9b1cb676d5f95ad,0,0,1,0,0,0,0,0,0,0', 'cfca1ecef9e06f4ba7b8255f4db06285,0,0,0,0,0,0,0,0,0,1', '36a5beceb114aecfcb9fd3fb6aecf47b,0,0,0,0,0,0,0,0,0,0', '4852876de1701a142c96a8e2b7b74ee3,0,0,0,0,0,1,0,0,0,1', '469203b7fea14bb4d42f7787f06adca4,0,0,0,0,0,0,0,0,0,0', '3336d340ba2abc8123c96817abec3c00,0,0,0,0,0,0,0,0,0,0', '601e457f138bd843de6cad9970b22d9c,0,0,0,0,0,0,0,0,0,0', '588eb241a285380058b1a408d8286035,0,0,0,0,0,0,0,0,0,0', '7f35e2aedb8824e6ea644b43852af528,0,0,1,0,0,0,0,0,0,0', '902f4869cbdb82fa02b789e32fccd4f3,0,0,0,0,0,0,0,0,0,0', '6fec6b293de14c517cec3071d867a485,0,0,0,0,0,0,0,0,0,0', '00dbf9943196d562635bca6a49fcc4f9,0,0,0,0,0,0,0,0,0,0', '0cbae8b02bfde2f6823e876afb26e7fe,0,0,0,0,0,0,0,0,0,0', 'b04f1cdf65d124f32ad7a5fe6f099467,0,0,0,0,0,0,0,0,0,0', '8e935807bfb3562ab9af2c39b5fe19e5,0,0,0,0,0,0,0,0,0,1', '4135e60fd87ea0058197baa076e5cd93,0,0,0,0,0,0,0,0,0,0', 'b5f44627ce2a03945c1493337d3457fa,0,0,0,0,0,0,0,0,0,0', '99d669cc2c4b1bf5b7e5a14ee922ad35,0,0,0,0,0,0,1,0,0,0', '0875bc99b75137ab3355d08007ed4aea,0,0,0,0,0,0,0,0,0,0', 'f66a7c2591499872d4c2debee7c1149d,0,0,1,0,0,0,0,0,0,0', '7ff3c29ccbb16ce9ef9036a81174efdd,0,0,0,0,0,0,0,0,0,0', '64e1e4473fb8bb2d11c49bd7f4319f1d,0,0,0,0,0,0,1,0,0,0', '634b05cdaad130bf7b94c084ee21bd01,0,0,0,0,0,0,0,0,0,1', '15a15af997467779166f7084e8e3e222,0,0,0,0,0,0,0,0,0,1', 'e810edc6f204434d1235d4d920851962,0,0,0,0,0,0,0,0,0,0', '944f4d6f74642758fe9d1bab7a53f952,0,0,0,0,0,0,0,0,0,1', 'ef7389718ef1769dd4ecb3688a18ea52,0,0,1,0,0,0,0,0,0,0', '5e5e16b8019c30268313afc1a0f1aa47,0,0,0,0,0,0,0,0,0,0', '13683c86926a33ed9c128b202474c797,0,0,0,0,0,0,1,0,0,0', '8f56b23b2f0edcb0cb17be0728b1da89,0,0,0,0,0,1,0,0,0,1', '377dfc721c9eac8a041111f5d07eb37e,0,0,0,0,0,0,0,0,0,0', '4b391810f80dd1799f33ee4c468a54b3,0,0,0,0,0,0,0,0,0,0', '34a315edbaeb0753a4a6711cb8980478,0,0,0,0,0,0,0,0,0,1', 'd14fa8790b7ffe1e1239166dbf7b14ae,0,0,0,0,0,0,0,0,0,0', 'c94c8037027e1c2e5eac322da5159c1c,0,0,0,0,0,0,0,0,0,1', 'b41da53aab440e03d84714974db74330,0,0,0,0,0,0,0,0,0,0', '9c2170d93913a4e8dcc6c82309d999bd,0,0,0,0,0,0,0,0,0,0', 'c691825695d0934ab41121e45acfe63f,0,0,0,0,0,0,0,0,0,0', 'f31e8ef2189be6b87e0de1c6b2e83fe1,0,0,0,0,0,0,0,0,0,0', '74d8288847e4af83143dd2668e90e3fa,0,0,0,0,1,0,0,0,0,0', '60465f287611fe5e14c95648df5f0d41,0,0,1,0,0,0,0,0,0,0', '7c0797921a442258d14dd363c7a3242f,0,0,0,0,0,0,0,0,0,0', 'f50a804c2fb9cdd728f90c10d1680d44,0,0,0,0,0,0,1,0,0,0', '2c10bccdcd8d9142beeb8f7142aa8fc3,0,0,0,0,1,0,0,0,0,0', '88d8dfea96431d63f3580700e50c6ad5,0,0,0,0,1,0,0,0,0,0', 'b8cb9ac3ae1f483a4fe643633c1c393e,0,0,0,0,0,0,0,0,0,0', '5d2bddcf050da432da0d3a6180d453e7,0,0,0,0,0,0,0,0,0,0', '2da0d7c2ed637ae68026903e29065f17,0,0,0,0,0,0,1,0,0,0', 'a4e71992a954692a30572cc8b2ceab07,0,1,0,0,0,0,0,0,0,0', 'e72c8b04b8c081575e65c3818cdeb00d,0,0,1,0,0,0,0,0,0,0', 'c7f186889ce0ee74004ab1314a703be8,0,0,0,0,0,0,0,0,1,0', '9ca1894e8e9512ab2b9f9270f1edeb70,0,0,0,0,0,0,0,0,0,1', 'abc851dca1c8119e1d3b781ec652bf80,0,0,0,0,0,0,0,0,0,0', '78cfcc2100b23b8762c09b4ce900002c,0,0,1,0,0,0,0,0,0,0', '9f0dc90ae0eb2057f6de93b1505e51da,0,0,0,0,0,0,0,0,0,0', '749142a053caff105bf49d1f2abf733a,0,0,0,0,0,0,0,0,1,0', '1929d0834e4eabaf08ff7e5777c2a001,0,0,0,0,0,0,0,0,0,0', '23f3447f8b781868850a7fe2c8aa8d04,0,0,0,0,0,0,0,0,0,0', 'e59f6083b98ef01a41b98a7e9874a2c0,0,0,0,0,0,0,0,0,0,0', '77c6852fa4efdab51a7b68d9db0399d3,0,0,0,0,0,0,0,0,0,1', '8d02b8193050a0bf14eb7aa7ffb7945b,0,0,0,0,0,0,0,0,0,1', '5158e8162232da97c721b1271deb9a28,0,0,0,0,0,0,0,0,0,0', '27c21c465bcbbe580193173fac5475b2,0,1,0,0,0,0,0,0,0,0', 'e9747c97d0a7b5176d9db213c94a3cac,0,0,0,0,0,0,1,0,0,0', '423df0a6a237e51bd1d3a7d85bcf8715,0,0,1,0,0,0,0,0,0,0', '452d8b01734acb98cb20a10e3609b0ab,0,0,0,0,0,0,0,0,0,1', 'db8ffa975cc2d846f514828c973291c3,0,0,0,0,0,0,0,0,1,0', '798a6250c1eceba6d81378fc29f26825,0,0,0,0,0,0,0,0,0,1', '7aab3e73280c25ba339976989fc99d55,0,0,0,0,0,0,0,0,0,1', '1ed65f78325025afc073dadf7d5b9998,0,0,0,0,0,0,0,0,0,1', '981f7acd89fdd74eebd4bae21d1a78be,0,0,1,0,0,0,0,0,0,0', 'ecde175e706e2b5a4a63a9c056e62272,0,0,0,0,0,0,0,0,0,1', '052487689a5479ce05977434171f2222,0,0,0,0,0,0,0,0,1,0', 'b4e67bb5d1267ba14e402996cccf24d1,0,0,0,0,0,0,0,0,0,1', '530b1b205fbf8bd969f471e55e6e4c81,0,0,1,0,0,0,0,1,0,0', '63d5ebe8b10034b9b7f3273bea4fceb9,1,0,1,0,0,0,0,0,0,0', '76aa1148c714c2d1add9eb12161234e9,0,0,0,0,0,0,0,0,0,0', '8692793ee72b36047082f571eb0e23fa,0,0,0,0,0,0,0,0,0,0', 'd695ad13118bff124eb8ab2369cc70d1,0,0,0,0,0,0,0,0,0,0', 'a9640a0cf3f07c134d659f5fd3660475,0,0,0,0,0,0,0,0,0,1', '430c009ed6af8f273ed2b28d6abe9229,0,0,0,0,0,0,0,0,0,0', '577431268af22a89231285ecee91b715,0,0,0,0,0,0,0,0,0,0', '1d64450208a5ac26790dc458acad65d2,0,0,0,0,0,0,0,0,0,1', '1af2544edbbe2ec3be05d38fb295a232,0,0,0,0,0,0,0,0,0,0', 'e564fe91c846efdb47aad93b294082b4,0,1,0,0,0,0,0,0,0,1', '53d131b32e8d9cdce2c519660e6cddb0,0,0,0,0,0,0,0,0,0,0', '8ea1bc036932657229edd4ad84b2050d,0,0,0,0,0,0,0,0,0,1', '9dd362b94baa1016f685aa213cfb8fc2,0,0,0,0,0,0,0,0,0,1', 'cf375aae69df57522096ea950c402d46,0,0,1,0,0,0,0,1,0,0', 'acea26803527610906fa1d01835c7f1b,0,0,0,0,0,0,0,0,0,0', '07d1888866b70861e06ac24415b1f53a,0,0,0,0,0,0,0,0,0,0', '385928b4757e304ed9ecab49ff937cdc,0,0,0,0,0,0,1,0,0,0', 'ea9304e39cdae818ebd33f02025dc495,0,0,0,0,1,0,0,0,0,0', 'ed79774cfdc04537a3c1bbacd324c34c,0,0,0,0,0,0,0,0,0,0', 'b4205249b5dd802d026454f5d6f82125,0,1,0,0,0,0,0,0,0,0', 'cc344a7098ad33b5c8f9855dfe3bbb03,0,0,0,0,0,0,0,0,0,1', '67dbf8658f5edae83da762801785e5fe,0,0,0,0,0,0,0,0,0,0', '604e99fae54468942861d8adc15bf0ec,0,0,0,0,0,0,1,0,0,0', '56dd63030ca7d73944315e7f0d215372,0,0,0,0,0,0,0,0,0,0', '419fc43d5a0f79cb2e80756e601a457f,0,0,0,0,0,0,0,0,1,0', '82a24eacbbdfa68cd2d351e5c1e728ce,0,0,0,0,0,0,0,0,0,0', '838d1c724b6ec1c7ef7831809ab67b86,0,0,0,0,0,0,0,0,0,0', '679ed48c665f8fe32176bf6a39229f15,0,0,0,0,0,0,0,0,0,0', '78d6ee8d1a78900c1facce4982174266,0,0,0,0,0,0,0,0,0,0', '382729f3d6c7e2fb379b07ea793c8499,0,0,0,0,0,0,0,0,0,0', 'a161f9bde9f520301a5beba68657291e,0,0,0,0,0,0,0,0,0,0', '7bb87984d1cfc1057a535c276d33fb63,0,0,0,0,0,0,0,0,0,0', '46ccbf129d706228c3263397cd3f471b,0,0,0,0,0,0,1,0,0,0', '09a314c3e6b75e8d3809ac085cffc7f0,0,0,0,0,0,0,0,0,0,1', 'e66ad1e70920b18cebcd12766a56278b,0,0,0,0,0,0,0,0,0,0', '2b0e6bc0a901afd6dbf4d04cbd51ac27,0,0,1,0,0,0,0,0,0,0', '6b4c7df1fc522bd8ba89dbe26e953755,0,0,0,0,0,0,1,0,0,0', '5e97e32b1c03748b209bb54adeb1df37,0,0,0,0,0,0,1,0,0,0', '6a027dfe5d2fb41377a5986198f79766,0,0,1,0,0,0,0,0,0,0', '2ddebb17570be1c9f3ee2cf3ef717517,0,0,0,0,0,0,0,0,0,0', '92f55a84ce5643c3f49c217339f91e1c,0,0,0,0,0,0,0,0,0,0', '0d78eda3d88295b10caf4feeadb2f1a8,0,0,1,0,0,0,0,0,0,0', 'da2fb532357c3de3ee1327d0514a11df,0,0,0,0,0,0,1,0,0,0', '3a3e3a1771257beb879b1a32f357cc74,0,0,0,0,0,0,0,0,0,0', '11c4018ec52e77b5cd9aa4bf19c59700,0,1,0,0,0,0,0,0,0,0', 'c8b38563990668d92d73547617998b55,0,0,0,0,0,0,0,0,0,0', '0c121c4751eba6581184581e2c471c46,0,0,0,0,0,0,0,0,0,0', '18f7a7a6ab6b5b4309bf22062c49fb34,0,0,0,0,0,0,0,0,0,0', 'f837326c799024141379eb5fbca586f2,0,0,0,0,0,0,0,0,0,0', 'de9712da54c86afe7c90fd4bee61df13,0,0,0,0,0,0,0,0,0,0', '2451e22908555cfdf771777448e96603,0,0,0,0,0,0,0,0,0,0', '943c7480c25577fca90e8ec688d2a48a,0,0,0,0,0,0,0,0,0,0', '9c0d559bd9f78be269d4b5490c702740,0,0,0,0,0,0,0,0,0,0', '2ea05561b9f950b14a4a552e4b561d84,0,0,0,0,0,0,0,0,0,0', '612e13d024095645ddff618329464155,0,0,0,0,0,0,0,1,0,0', '485fcacc3312e7e6ee91505a4978e390,0,0,0,0,0,0,1,0,0,0', '43e3648cb73e08fa8dab509acc93a0cf,0,1,0,0,0,0,0,0,0,0', '9ca0c7d720d3a028e572ca4a7a83513e,0,0,0,0,0,0,1,0,0,0', '0491c34f56b9caa2ab632a9e1e128596,0,0,0,0,0,0,1,0,0,0', '358f9228792b4ceb89f4fa741f516781,0,0,0,0,0,0,0,0,0,0', '1214cbaa39ca511b35dfee766d0739ae,0,0,0,0,0,0,1,0,0,0', '8e9ee56f70ff20cf1689439f77f9b7e7,0,0,0,0,0,0,0,0,0,0', 'b18fe74ec37b04332436a5ec7209e6a8,0,0,0,0,0,0,1,0,0,0', 'e76d94fb12bfc13febd78347b066172b,0,0,0,0,0,0,0,0,0,0', 'cd0bfa75343748218f4f790dd6be02d1,0,0,0,0,0,0,0,0,0,0', '5bd1cc29b6f43fd09e39bf557deadb72,0,0,0,0,0,0,0,0,0,0', '717577eff30c09a00343e14c0e88c44b,0,0,0,0,0,0,0,0,1,0', 'a2a2e891cc2b6098d39447cbee399cdd,0,0,1,0,0,0,0,0,0,0', '7eddaff41a9ccf62b097b7a7874ae765,0,0,0,0,0,0,0,0,0,0', '97a401a58be2558752435f0b13d14ff5,1,0,1,0,0,0,0,0,0,0', 'ace680f03f7363054e07b347ac9e54a6,0,0,0,0,0,0,1,0,0,0', 'c4fedb6bc7f484cc1a7fa61959dfe222,0,0,0,0,0,0,0,0,0,0', '0871bcbc994b2ac53e8a980a384b7af3,0,0,0,0,0,0,0,0,0,1', 'fc259a64143b2caf0ac43856d1795385,0,1,0,0,0,0,0,0,0,0', 'ecb5c64718a2a9252d48385d6429648e,0,0,0,0,0,0,0,0,0,0', '849394b7242c082cfc3d5bd9ef48ea19,0,0,0,0,1,0,0,0,0,0', '8e62ead9b4faba4557c311c316b3c456,0,0,0,0,0,0,0,0,0,1', 'fe39df9088ccdec41388ffc2612d27c1,0,0,0,0,0,0,1,0,0,0', 'e36679e510951a0e36b1ffdf26232f22,0,0,0,0,0,0,0,0,0,1', 'b4c52e38eeefc76c27f7a8887e8490c7,0,0,0,0,0,0,1,0,0,0', '83b44aa45f7c794bc361cf63d67daed1,0,0,0,0,0,0,0,1,0,0', '0b36e7a26a91c0c05b58dfb37fbde683,0,0,0,0,0,0,0,0,0,0', '2e6cc15ce6042444a3396322655f4a4b,0,0,0,0,0,0,1,0,0,0', 'ee6d34f64ef5413dc829d3df067327b0,0,0,0,0,0,0,0,0,0,1', 'd3ef84df36fe934a10d910ffcb79ef6a,0,0,0,0,0,0,0,0,0,0', 'f16cdfc7d2a10251993890e325ebbeb9,0,0,0,0,0,0,0,0,1,0', 'd07c6d6c73e71591d5369b5b12d107e5,0,0,1,0,0,0,0,0,0,0', '5e6b1df23b99c3bf0aef6cb752e69f91,0,0,0,0,0,0,0,0,0,1', '781f63a652103f49b5aaa2ec250a3285,0,0,0,0,0,0,0,0,0,0', '0efc1db16c9398529143aef7030355f9,0,0,0,0,0,0,0,0,0,0', 'cd5a029ab053b10a71a7434343d9c622,0,0,0,0,0,0,0,0,0,1', 'be838ef0e2a6cc6741970586dd6043cb,0,0,0,0,0,0,0,0,0,0', '65a5584daf950d7603b227e9a8ead644,0,0,1,0,0,0,0,0,0,0', '246427578f9a1e09d7a9e2c1f5f0014d,0,0,0,0,0,0,0,0,0,1', '5941319ca557c7237c051b50c97cd224,1,0,1,0,0,0,0,0,0,0', '2fff123888dab4b1916351581a27cf5c,0,0,0,0,0,0,0,0,0,1', '54928cb1b1fb7b413d07aecb1f430b3f,0,0,0,0,0,0,1,0,0,0', '74317f77a46f7b69ffb14fcb4494f18b,0,0,0,0,0,0,0,0,0,1', '32a8b163f12fb02f64a2c280bccc007a,0,0,0,0,0,0,0,0,0,0', 'd85824d30d9d1d82203a6ff8c63190f7,0,0,0,0,0,0,0,0,0,1', '45d75a4e682e00284a93dc73ec5e8ad8,0,0,0,0,0,0,0,0,0,1', '98520b00fa1203efc308131fc99328e5,0,0,1,0,0,0,0,0,0,0', '78f77e4e338e743f3258a05700fd3f6a,0,0,0,0,0,0,0,0,0,0', 'd9571aea1d3a24128a3247e6d48f6c7f,0,1,0,0,0,0,0,0,0,0', '0de8eb65908706943257427c522c9bc3,0,0,0,0,0,0,0,0,0,0', '4197db6c2036ddcdab0e518950c8a505,0,0,0,0,0,0,0,0,0,0', 'ddcfad8a4d731755a177c9da8df58b4f,0,0,0,0,0,1,0,0,0,1', '2eb0f1d4688101d3e1f1aa4e6edff387,0,0,0,0,0,0,0,1,0,0', '5c971bf1ed5687586e50e1a47c5f6791,0,0,0,0,0,0,0,0,0,1', '8aefc1034837e4438ed72d4ebfbf0b1b,0,0,0,0,0,0,0,0,0,1', '11fb48fd6cdd4053ed12133dc5dbb3b1,0,0,0,0,0,0,0,0,0,0', '69a10f8ad8d66447adf5dec135f03b49,0,0,0,0,0,0,0,0,0,1', 'a30a2406ddebbd25b69c593e4d652fa0,0,0,0,0,0,0,0,0,0,0', '6b412e5651c4fec20bf75545d50bd244,0,0,0,0,0,0,0,0,0,1', 'f466120bf52fe69141185e759f677bd6,0,0,1,0,0,0,0,0,0,0', 'c59c191f5c6bb811a04425440cbefc08,0,0,0,0,0,0,0,0,0,0', 'fd22f90b9a2ec410b6643401c88f80a4,0,0,0,0,0,0,0,0,0,0', '686221f811f06aea2fc87a1357c23f36,0,0,1,0,0,0,0,0,0,0', '89051ef0a8e8b26c4f2d2f218b076389,0,0,1,0,0,0,0,0,0,0', '4e01cde3db742ba5626b7c3244ed040a,0,0,0,0,0,0,0,0,0,0', 'bf7ff879c8597ad6195ad33f694cea35,0,0,0,0,0,0,0,0,0,0', 'a701885398263d3c460ab65e52f6b8aa,0,0,0,0,0,0,0,0,0,0', '802ef0471fc9b6c27b9e6d0a61e158d9,1,0,1,0,0,0,0,0,0,0', '312082211b180ced6588b341b30c2deb,0,0,1,0,0,0,0,0,0,0', 'be364e76b19b2396bcab46952132b4e3,0,0,0,0,0,0,0,0,0,0', '55130e7204d9fdeccf9d4fb5ea658e38,0,0,1,0,0,0,0,0,0,0', 'c1dcba643c4b2d4b4fdff2fed6156833,0,0,0,0,0,0,1,0,0,0', 'f5cd1e08ee508e6b7a425b6804e6882e,0,0,0,0,0,0,0,0,0,1', '39f2b9cec185a4ff7f8e6b0d2333228c,0,0,0,0,0,0,0,0,0,0', 'c691cbfaee3013bf48d64d19fd5f0501,0,1,0,0,0,0,0,0,0,0', '08161ec0205eb8c73addc8d138e9bfdc,0,0,0,0,0,0,0,0,0,1', '0e62d7a4eff3df62bbae061c6d33fc79,0,0,0,0,0,0,0,0,1,0', '2607a26491910fa5d862f078fc28bf3f,0,0,0,0,0,0,0,0,0,1', '096397c6722dc677699365eb14bfdcbc,0,0,0,0,0,0,1,0,0,0', 'cb3bec86b6eb44e40306684da8190cca,1,0,1,0,0,0,0,0,0,0', '0c07963dc2ba54c9f3ef092c3da23d5f,0,0,0,0,0,0,0,0,0,1', '732690640afb499e7c1bd31e1aeb593f,0,0,0,0,0,0,0,0,0,0', 'b7074bfbcd41a819a860cdddd794341e,0,0,0,0,0,0,0,0,0,0', 'e7b7af909b51c1a12ae248a1521a9aa2,0,1,0,0,0,0,0,0,0,0', 'd8a90950d81fe958891bb8471b600352,0,0,0,0,0,0,1,0,0,0', '3601636f176dc4f1ae3829baf47bcc1c,0,0,0,0,0,0,0,0,0,0', '4915ae535a49d0d68535c0a6e6ec0eb4,0,0,0,0,0,0,0,0,1,0', '720ae217fdb95670841dfb7dcb6134b2,0,0,0,0,0,0,0,0,1,0', '405208a475a02912244f9956d70e42c6,0,0,1,0,0,0,0,0,0,0', '3fa792b3827e2f91790d00931dade31a,0,0,0,0,0,0,0,0,0,0', '7bb021d41b0d55ceb2ea9628a2e5c677,0,0,1,0,0,0,0,0,0,0', '27a90e55631185c2e41ac06c5f6af2c2,0,0,1,0,0,0,0,0,0,0', '7dfb7f20243850611c37d54a2da27a52,0,0,0,0,0,0,0,0,0,0', 'ca365209ac8ede47b319fa7dd1db04aa,0,0,0,0,0,0,0,0,0,0', 'a07c753bd39126737d3dae7730ea2cb5,0,0,0,0,0,0,0,0,0,1', 'a2dba58b52e38ce02b1a1efc5775fe10,0,0,0,0,0,0,0,0,0,0', '6469701ba093968791604b225060c2ad,0,0,0,0,0,0,1,0,0,0', '4c31e50ea403e3acdc85bd1ea437efee,0,1,0,0,0,0,0,0,0,0', '06ee6012d682817868b74fdc01213a24,0,0,0,0,0,0,0,0,0,0', '74745f7a2546a02a9ce51f61c5dc6446,0,0,0,0,0,0,0,0,0,1', '7db29b67a40fe8d953e456be045719be,0,1,0,0,0,0,0,0,0,0', '3af542f98b48b69f49f9c69a62fe502a,0,0,0,0,0,0,0,0,0,0', 'ea6b1719edfb2348279c7c0af620e2d2,0,0,1,0,0,0,0,0,0,0', 'b37695af56e240f25d9aca3abdd7f5f6,0,0,0,0,0,0,0,0,0,0', '38ace1f2ff53b9066b17bb7fac40b5b4,0,0,0,0,0,0,0,0,0,0', '466bf7c92f45859f2eab986ebbdc0c1c,0,0,0,0,0,0,0,0,0,0', '93b64f119e391a6a6252cc9a74c71a1b,0,0,0,0,0,0,1,0,0,0', '8bd94841a1040fca1243e74508471aed,0,0,0,0,0,0,0,0,0,0', 'ddef39c96d41d4898c9191e5e5c4ed36,0,0,0,0,0,0,0,0,0,0', '6650c36463b528a78eeef82684bdac8e,0,0,0,0,0,0,0,0,0,0', '6b546484460e2e25b6ae1d1c80a9dee8,0,1,0,0,0,0,0,0,0,0', '7a911ef4dbbc8a69586735b2cb6dc6c5,1,0,1,0,0,0,0,0,0,0', 'f1c4073987942a3f88445acec072d87a,0,1,0,0,0,0,0,0,0,0', '24b37a9ed796804d11b7a30cf1183a6c,0,0,0,0,0,0,0,0,0,1', '8b170e7813bb1f2dbcbb1c3ccba0356b,0,0,1,0,0,0,0,0,0,0', 'e4ae809f785f290fb2a6d468d8a805aa,0,0,0,0,0,0,1,0,0,0', 'a5ef9242326cbb72d72b63d8ade23b7b,0,0,0,0,0,0,0,0,0,0', 'a4167c7de1105a1dbed924d7f5066335,0,0,0,0,0,0,0,0,1,0', '693d5c060b3fecff0d8f8bc2a98db7d3,0,0,0,0,0,0,0,0,1,0', 'b97ed1faf605dbeadcf2c0434469c87b,0,0,0,0,0,0,1,0,0,0', 'dc37d0841d4de40be65e159bcd0ad22e,0,1,0,0,0,0,0,0,0,0', 'a260e3ae693bcd3a868f54ad4bce5c5e,0,0,1,0,0,0,0,0,0,0', '7042ebcb9a8635fe56eed2a918247581,0,0,0,0,0,0,0,1,0,0', 'b9bb75cf76f6601f6e7894438ffc9eb2,0,0,0,0,0,0,0,0,0,1', '9fc751aefa6c799687b9a79987990c70,0,0,0,0,0,0,1,0,0,0', '86342d4d319e878e1f507995ba11ff21,0,0,0,0,0,0,0,0,0,1', '1b7f2d06ee93efc25f1ffd16bc68d24f,0,0,0,0,0,0,0,0,0,1', '556963d9a887e272d6a08e7323b3d22b,0,0,0,0,0,0,0,0,0,1', 'db6aec94f32781cbb74f6eeefdb8ade9,0,0,0,0,0,0,0,0,0,0', '996ea17960c949fe861268a7b6c8df6b,0,0,0,0,0,0,0,0,0,1', '4f5847c3151bccb4c670f4cf3a041d4b,0,0,0,0,0,0,0,1,0,0', '768ea7d4cdd2fc786678753805222970,0,0,0,0,0,0,0,1,0,0', 'cc522639135ff5340be4f8e249da9230,1,0,1,0,0,0,0,0,0,0', '893321078db2b309ad9edc975b3a3e55,0,0,0,0,0,0,0,0,0,1', '285b1d12ef0bfa633d6d0dd7d1603a31,0,0,0,0,0,0,0,0,0,1', '663a50b2fbc692f68701f67998398055,0,0,0,0,0,0,0,0,0,0', 'f07ac1e6f9b9f8012d0045b303af35f2,0,0,0,0,0,0,1,0,0,0', '605cc4953c5b141a2adca137951574e9,0,0,0,0,0,0,1,0,0,0', '6c70dc38ed9a1b73f6615af7fe6890e4,0,0,0,0,0,0,0,0,0,0', 'f0dc5b33eea5e00ae480941965e08f8d,0,0,0,0,0,0,0,0,1,0', '53645b5e8b319925b88c04c65ad88d10,0,0,0,0,0,0,0,0,0,1', '521b88c62b3c9b53f1391325979d1534,0,0,0,0,0,0,0,0,1,0']\n"
          ]
        }
      ]
    },
    {
      "cell_type": "markdown",
      "metadata": {
        "id": "APCtrn3OGP09"
      },
      "source": [
        "## Conclusione\n",
        "\n",
        "Effettuando sia operazioni di preprocessing sul testo, sia variazioni in termini di iperparametri del nostro modello, i risultati esposti poco prima sono stati i migliori ottenuti, nonostante i risultati non siano esattamente soddisfacenti (sopratutto sui dati OOD).\n",
        "\n",
        "In particolare, i risultati ottenuti su dati preprocessati e OOD sono stati quelli con il punteggio più alto.\n",
        "\n",
        "Possiamo notare come orientativamente le classificazioni con accuracy più alta siano state quelle sulle etichette più frequenti (avevamo già osservato uno sbilanciamento delle etichette).\n",
        "\n",
        "Eventuali modifiche che potrebbero venire adoperate per risultati migliori potrebbero essere:\n",
        "- operazioni di data augmentation (dal momento che i dati di addestramento ammontano a neanche 6000 messaggi totali)\n",
        "- ulteriori tentativi di variazione sugli iperparametri\n",
        "\n",
        "Sono state effettuate prove usando sia una delle GPU messe a disposizione dal piano Pro di Google Colab, che una configurazione con 32GB di RAM e una 3060ti con 8 GB di VRAM, ed è emerso che a lungo andare una saturazione della memoria della GPU ha un impatto drastico sulla velocità di addestramento (fattore discriminante sulla scelta ahimé delle epoche). Senza dubbio un addestramento che spazia dalle 30 alle 50 epoche con un learning rate molto basso (dal momento che andiamo a fare fine tuning su un modello già esistente, parte fondamentale per la sequence classification) potrebbe essere una scelta ideale per mirare a uno score generale più elevato."
      ]
    }
  ],
  "metadata": {
    "kernelspec": {
      "display_name": "Python 3",
      "name": "python3"
    },
    "language_info": {
      "codemirror_mode": {
        "name": "ipython",
        "version": 3
      },
      "file_extension": ".py",
      "mimetype": "text/x-python",
      "name": "python",
      "nbconvert_exporter": "python",
      "pygments_lexer": "ipython3",
      "version": "3.10.14"
    },
    "colab": {
      "provenance": [],
      "gpuType": "L4",
      "machine_shape": "hm"
    },
    "accelerator": "GPU",
    "widgets": {
      "application/vnd.jupyter.widget-state+json": {
        "a47ad1b7bba845f4bcb976347949c000": {
          "model_module": "@jupyter-widgets/controls",
          "model_name": "HBoxModel",
          "model_module_version": "1.5.0",
          "state": {
            "_dom_classes": [],
            "_model_module": "@jupyter-widgets/controls",
            "_model_module_version": "1.5.0",
            "_model_name": "HBoxModel",
            "_view_count": null,
            "_view_module": "@jupyter-widgets/controls",
            "_view_module_version": "1.5.0",
            "_view_name": "HBoxView",
            "box_style": "",
            "children": [
              "IPY_MODEL_e91b0f39a48e42a99b144f22b3eaa954",
              "IPY_MODEL_781223e7aa484217b44268958555c7c8",
              "IPY_MODEL_7d13b9e53b5a400380a9e9709ac8c7ef"
            ],
            "layout": "IPY_MODEL_beefbaab65934374a2189b74c89d289c"
          }
        },
        "e91b0f39a48e42a99b144f22b3eaa954": {
          "model_module": "@jupyter-widgets/controls",
          "model_name": "HTMLModel",
          "model_module_version": "1.5.0",
          "state": {
            "_dom_classes": [],
            "_model_module": "@jupyter-widgets/controls",
            "_model_module_version": "1.5.0",
            "_model_name": "HTMLModel",
            "_view_count": null,
            "_view_module": "@jupyter-widgets/controls",
            "_view_module_version": "1.5.0",
            "_view_name": "HTMLView",
            "description": "",
            "description_tooltip": null,
            "layout": "IPY_MODEL_4f29669e89dc49eca8a723cae8b65be1",
            "placeholder": "​",
            "style": "IPY_MODEL_679766c2485b4befba3bcc7354e095fb",
            "value": "tokenizer_config.json: 100%"
          }
        },
        "781223e7aa484217b44268958555c7c8": {
          "model_module": "@jupyter-widgets/controls",
          "model_name": "FloatProgressModel",
          "model_module_version": "1.5.0",
          "state": {
            "_dom_classes": [],
            "_model_module": "@jupyter-widgets/controls",
            "_model_module_version": "1.5.0",
            "_model_name": "FloatProgressModel",
            "_view_count": null,
            "_view_module": "@jupyter-widgets/controls",
            "_view_module_version": "1.5.0",
            "_view_name": "ProgressView",
            "bar_style": "success",
            "description": "",
            "description_tooltip": null,
            "layout": "IPY_MODEL_077c8c9b03ea4e268e1c6a543be746c5",
            "max": 49,
            "min": 0,
            "orientation": "horizontal",
            "style": "IPY_MODEL_d252912b241b445da56fc586f4b26120",
            "value": 49
          }
        },
        "7d13b9e53b5a400380a9e9709ac8c7ef": {
          "model_module": "@jupyter-widgets/controls",
          "model_name": "HTMLModel",
          "model_module_version": "1.5.0",
          "state": {
            "_dom_classes": [],
            "_model_module": "@jupyter-widgets/controls",
            "_model_module_version": "1.5.0",
            "_model_name": "HTMLModel",
            "_view_count": null,
            "_view_module": "@jupyter-widgets/controls",
            "_view_module_version": "1.5.0",
            "_view_name": "HTMLView",
            "description": "",
            "description_tooltip": null,
            "layout": "IPY_MODEL_6b5a0876a55f45838a500dae29addf42",
            "placeholder": "​",
            "style": "IPY_MODEL_08a7fc94d0d14a348a8bd596bc28bdba",
            "value": " 49.0/49.0 [00:00&lt;00:00, 4.17kB/s]"
          }
        },
        "beefbaab65934374a2189b74c89d289c": {
          "model_module": "@jupyter-widgets/base",
          "model_name": "LayoutModel",
          "model_module_version": "1.2.0",
          "state": {
            "_model_module": "@jupyter-widgets/base",
            "_model_module_version": "1.2.0",
            "_model_name": "LayoutModel",
            "_view_count": null,
            "_view_module": "@jupyter-widgets/base",
            "_view_module_version": "1.2.0",
            "_view_name": "LayoutView",
            "align_content": null,
            "align_items": null,
            "align_self": null,
            "border": null,
            "bottom": null,
            "display": null,
            "flex": null,
            "flex_flow": null,
            "grid_area": null,
            "grid_auto_columns": null,
            "grid_auto_flow": null,
            "grid_auto_rows": null,
            "grid_column": null,
            "grid_gap": null,
            "grid_row": null,
            "grid_template_areas": null,
            "grid_template_columns": null,
            "grid_template_rows": null,
            "height": null,
            "justify_content": null,
            "justify_items": null,
            "left": null,
            "margin": null,
            "max_height": null,
            "max_width": null,
            "min_height": null,
            "min_width": null,
            "object_fit": null,
            "object_position": null,
            "order": null,
            "overflow": null,
            "overflow_x": null,
            "overflow_y": null,
            "padding": null,
            "right": null,
            "top": null,
            "visibility": null,
            "width": null
          }
        },
        "4f29669e89dc49eca8a723cae8b65be1": {
          "model_module": "@jupyter-widgets/base",
          "model_name": "LayoutModel",
          "model_module_version": "1.2.0",
          "state": {
            "_model_module": "@jupyter-widgets/base",
            "_model_module_version": "1.2.0",
            "_model_name": "LayoutModel",
            "_view_count": null,
            "_view_module": "@jupyter-widgets/base",
            "_view_module_version": "1.2.0",
            "_view_name": "LayoutView",
            "align_content": null,
            "align_items": null,
            "align_self": null,
            "border": null,
            "bottom": null,
            "display": null,
            "flex": null,
            "flex_flow": null,
            "grid_area": null,
            "grid_auto_columns": null,
            "grid_auto_flow": null,
            "grid_auto_rows": null,
            "grid_column": null,
            "grid_gap": null,
            "grid_row": null,
            "grid_template_areas": null,
            "grid_template_columns": null,
            "grid_template_rows": null,
            "height": null,
            "justify_content": null,
            "justify_items": null,
            "left": null,
            "margin": null,
            "max_height": null,
            "max_width": null,
            "min_height": null,
            "min_width": null,
            "object_fit": null,
            "object_position": null,
            "order": null,
            "overflow": null,
            "overflow_x": null,
            "overflow_y": null,
            "padding": null,
            "right": null,
            "top": null,
            "visibility": null,
            "width": null
          }
        },
        "679766c2485b4befba3bcc7354e095fb": {
          "model_module": "@jupyter-widgets/controls",
          "model_name": "DescriptionStyleModel",
          "model_module_version": "1.5.0",
          "state": {
            "_model_module": "@jupyter-widgets/controls",
            "_model_module_version": "1.5.0",
            "_model_name": "DescriptionStyleModel",
            "_view_count": null,
            "_view_module": "@jupyter-widgets/base",
            "_view_module_version": "1.2.0",
            "_view_name": "StyleView",
            "description_width": ""
          }
        },
        "077c8c9b03ea4e268e1c6a543be746c5": {
          "model_module": "@jupyter-widgets/base",
          "model_name": "LayoutModel",
          "model_module_version": "1.2.0",
          "state": {
            "_model_module": "@jupyter-widgets/base",
            "_model_module_version": "1.2.0",
            "_model_name": "LayoutModel",
            "_view_count": null,
            "_view_module": "@jupyter-widgets/base",
            "_view_module_version": "1.2.0",
            "_view_name": "LayoutView",
            "align_content": null,
            "align_items": null,
            "align_self": null,
            "border": null,
            "bottom": null,
            "display": null,
            "flex": null,
            "flex_flow": null,
            "grid_area": null,
            "grid_auto_columns": null,
            "grid_auto_flow": null,
            "grid_auto_rows": null,
            "grid_column": null,
            "grid_gap": null,
            "grid_row": null,
            "grid_template_areas": null,
            "grid_template_columns": null,
            "grid_template_rows": null,
            "height": null,
            "justify_content": null,
            "justify_items": null,
            "left": null,
            "margin": null,
            "max_height": null,
            "max_width": null,
            "min_height": null,
            "min_width": null,
            "object_fit": null,
            "object_position": null,
            "order": null,
            "overflow": null,
            "overflow_x": null,
            "overflow_y": null,
            "padding": null,
            "right": null,
            "top": null,
            "visibility": null,
            "width": null
          }
        },
        "d252912b241b445da56fc586f4b26120": {
          "model_module": "@jupyter-widgets/controls",
          "model_name": "ProgressStyleModel",
          "model_module_version": "1.5.0",
          "state": {
            "_model_module": "@jupyter-widgets/controls",
            "_model_module_version": "1.5.0",
            "_model_name": "ProgressStyleModel",
            "_view_count": null,
            "_view_module": "@jupyter-widgets/base",
            "_view_module_version": "1.2.0",
            "_view_name": "StyleView",
            "bar_color": null,
            "description_width": ""
          }
        },
        "6b5a0876a55f45838a500dae29addf42": {
          "model_module": "@jupyter-widgets/base",
          "model_name": "LayoutModel",
          "model_module_version": "1.2.0",
          "state": {
            "_model_module": "@jupyter-widgets/base",
            "_model_module_version": "1.2.0",
            "_model_name": "LayoutModel",
            "_view_count": null,
            "_view_module": "@jupyter-widgets/base",
            "_view_module_version": "1.2.0",
            "_view_name": "LayoutView",
            "align_content": null,
            "align_items": null,
            "align_self": null,
            "border": null,
            "bottom": null,
            "display": null,
            "flex": null,
            "flex_flow": null,
            "grid_area": null,
            "grid_auto_columns": null,
            "grid_auto_flow": null,
            "grid_auto_rows": null,
            "grid_column": null,
            "grid_gap": null,
            "grid_row": null,
            "grid_template_areas": null,
            "grid_template_columns": null,
            "grid_template_rows": null,
            "height": null,
            "justify_content": null,
            "justify_items": null,
            "left": null,
            "margin": null,
            "max_height": null,
            "max_width": null,
            "min_height": null,
            "min_width": null,
            "object_fit": null,
            "object_position": null,
            "order": null,
            "overflow": null,
            "overflow_x": null,
            "overflow_y": null,
            "padding": null,
            "right": null,
            "top": null,
            "visibility": null,
            "width": null
          }
        },
        "08a7fc94d0d14a348a8bd596bc28bdba": {
          "model_module": "@jupyter-widgets/controls",
          "model_name": "DescriptionStyleModel",
          "model_module_version": "1.5.0",
          "state": {
            "_model_module": "@jupyter-widgets/controls",
            "_model_module_version": "1.5.0",
            "_model_name": "DescriptionStyleModel",
            "_view_count": null,
            "_view_module": "@jupyter-widgets/base",
            "_view_module_version": "1.2.0",
            "_view_name": "StyleView",
            "description_width": ""
          }
        },
        "9fdce6fe39174815ad7ad40becdf336f": {
          "model_module": "@jupyter-widgets/controls",
          "model_name": "HBoxModel",
          "model_module_version": "1.5.0",
          "state": {
            "_dom_classes": [],
            "_model_module": "@jupyter-widgets/controls",
            "_model_module_version": "1.5.0",
            "_model_name": "HBoxModel",
            "_view_count": null,
            "_view_module": "@jupyter-widgets/controls",
            "_view_module_version": "1.5.0",
            "_view_name": "HBoxView",
            "box_style": "",
            "children": [
              "IPY_MODEL_f300abd6aefe46818f657d162fbc8189",
              "IPY_MODEL_b35bd8e1839a4425ac20ca36116705be",
              "IPY_MODEL_c250b4c1926e4a30b4d25511cfc4ee1f"
            ],
            "layout": "IPY_MODEL_10268fc3290948bb9f71890408a86b94"
          }
        },
        "f300abd6aefe46818f657d162fbc8189": {
          "model_module": "@jupyter-widgets/controls",
          "model_name": "HTMLModel",
          "model_module_version": "1.5.0",
          "state": {
            "_dom_classes": [],
            "_model_module": "@jupyter-widgets/controls",
            "_model_module_version": "1.5.0",
            "_model_name": "HTMLModel",
            "_view_count": null,
            "_view_module": "@jupyter-widgets/controls",
            "_view_module_version": "1.5.0",
            "_view_name": "HTMLView",
            "description": "",
            "description_tooltip": null,
            "layout": "IPY_MODEL_d9edcd1d8f3143778290cb56a00234b9",
            "placeholder": "​",
            "style": "IPY_MODEL_025a81f80a0a48c98ebd82b761aad8a9",
            "value": "config.json: 100%"
          }
        },
        "b35bd8e1839a4425ac20ca36116705be": {
          "model_module": "@jupyter-widgets/controls",
          "model_name": "FloatProgressModel",
          "model_module_version": "1.5.0",
          "state": {
            "_dom_classes": [],
            "_model_module": "@jupyter-widgets/controls",
            "_model_module_version": "1.5.0",
            "_model_name": "FloatProgressModel",
            "_view_count": null,
            "_view_module": "@jupyter-widgets/controls",
            "_view_module_version": "1.5.0",
            "_view_name": "ProgressView",
            "bar_style": "success",
            "description": "",
            "description_tooltip": null,
            "layout": "IPY_MODEL_8493ea4a38f14e01a514bd02f94f6059",
            "max": 625,
            "min": 0,
            "orientation": "horizontal",
            "style": "IPY_MODEL_6f7143d495674f04bd2acd4c5b90c730",
            "value": 625
          }
        },
        "c250b4c1926e4a30b4d25511cfc4ee1f": {
          "model_module": "@jupyter-widgets/controls",
          "model_name": "HTMLModel",
          "model_module_version": "1.5.0",
          "state": {
            "_dom_classes": [],
            "_model_module": "@jupyter-widgets/controls",
            "_model_module_version": "1.5.0",
            "_model_name": "HTMLModel",
            "_view_count": null,
            "_view_module": "@jupyter-widgets/controls",
            "_view_module_version": "1.5.0",
            "_view_name": "HTMLView",
            "description": "",
            "description_tooltip": null,
            "layout": "IPY_MODEL_0080d66e2e7c4d7bb2db985914a7a22d",
            "placeholder": "​",
            "style": "IPY_MODEL_fcb1ab1813a64a64bd736c7097a5c1e9",
            "value": " 625/625 [00:00&lt;00:00, 57.4kB/s]"
          }
        },
        "10268fc3290948bb9f71890408a86b94": {
          "model_module": "@jupyter-widgets/base",
          "model_name": "LayoutModel",
          "model_module_version": "1.2.0",
          "state": {
            "_model_module": "@jupyter-widgets/base",
            "_model_module_version": "1.2.0",
            "_model_name": "LayoutModel",
            "_view_count": null,
            "_view_module": "@jupyter-widgets/base",
            "_view_module_version": "1.2.0",
            "_view_name": "LayoutView",
            "align_content": null,
            "align_items": null,
            "align_self": null,
            "border": null,
            "bottom": null,
            "display": null,
            "flex": null,
            "flex_flow": null,
            "grid_area": null,
            "grid_auto_columns": null,
            "grid_auto_flow": null,
            "grid_auto_rows": null,
            "grid_column": null,
            "grid_gap": null,
            "grid_row": null,
            "grid_template_areas": null,
            "grid_template_columns": null,
            "grid_template_rows": null,
            "height": null,
            "justify_content": null,
            "justify_items": null,
            "left": null,
            "margin": null,
            "max_height": null,
            "max_width": null,
            "min_height": null,
            "min_width": null,
            "object_fit": null,
            "object_position": null,
            "order": null,
            "overflow": null,
            "overflow_x": null,
            "overflow_y": null,
            "padding": null,
            "right": null,
            "top": null,
            "visibility": null,
            "width": null
          }
        },
        "d9edcd1d8f3143778290cb56a00234b9": {
          "model_module": "@jupyter-widgets/base",
          "model_name": "LayoutModel",
          "model_module_version": "1.2.0",
          "state": {
            "_model_module": "@jupyter-widgets/base",
            "_model_module_version": "1.2.0",
            "_model_name": "LayoutModel",
            "_view_count": null,
            "_view_module": "@jupyter-widgets/base",
            "_view_module_version": "1.2.0",
            "_view_name": "LayoutView",
            "align_content": null,
            "align_items": null,
            "align_self": null,
            "border": null,
            "bottom": null,
            "display": null,
            "flex": null,
            "flex_flow": null,
            "grid_area": null,
            "grid_auto_columns": null,
            "grid_auto_flow": null,
            "grid_auto_rows": null,
            "grid_column": null,
            "grid_gap": null,
            "grid_row": null,
            "grid_template_areas": null,
            "grid_template_columns": null,
            "grid_template_rows": null,
            "height": null,
            "justify_content": null,
            "justify_items": null,
            "left": null,
            "margin": null,
            "max_height": null,
            "max_width": null,
            "min_height": null,
            "min_width": null,
            "object_fit": null,
            "object_position": null,
            "order": null,
            "overflow": null,
            "overflow_x": null,
            "overflow_y": null,
            "padding": null,
            "right": null,
            "top": null,
            "visibility": null,
            "width": null
          }
        },
        "025a81f80a0a48c98ebd82b761aad8a9": {
          "model_module": "@jupyter-widgets/controls",
          "model_name": "DescriptionStyleModel",
          "model_module_version": "1.5.0",
          "state": {
            "_model_module": "@jupyter-widgets/controls",
            "_model_module_version": "1.5.0",
            "_model_name": "DescriptionStyleModel",
            "_view_count": null,
            "_view_module": "@jupyter-widgets/base",
            "_view_module_version": "1.2.0",
            "_view_name": "StyleView",
            "description_width": ""
          }
        },
        "8493ea4a38f14e01a514bd02f94f6059": {
          "model_module": "@jupyter-widgets/base",
          "model_name": "LayoutModel",
          "model_module_version": "1.2.0",
          "state": {
            "_model_module": "@jupyter-widgets/base",
            "_model_module_version": "1.2.0",
            "_model_name": "LayoutModel",
            "_view_count": null,
            "_view_module": "@jupyter-widgets/base",
            "_view_module_version": "1.2.0",
            "_view_name": "LayoutView",
            "align_content": null,
            "align_items": null,
            "align_self": null,
            "border": null,
            "bottom": null,
            "display": null,
            "flex": null,
            "flex_flow": null,
            "grid_area": null,
            "grid_auto_columns": null,
            "grid_auto_flow": null,
            "grid_auto_rows": null,
            "grid_column": null,
            "grid_gap": null,
            "grid_row": null,
            "grid_template_areas": null,
            "grid_template_columns": null,
            "grid_template_rows": null,
            "height": null,
            "justify_content": null,
            "justify_items": null,
            "left": null,
            "margin": null,
            "max_height": null,
            "max_width": null,
            "min_height": null,
            "min_width": null,
            "object_fit": null,
            "object_position": null,
            "order": null,
            "overflow": null,
            "overflow_x": null,
            "overflow_y": null,
            "padding": null,
            "right": null,
            "top": null,
            "visibility": null,
            "width": null
          }
        },
        "6f7143d495674f04bd2acd4c5b90c730": {
          "model_module": "@jupyter-widgets/controls",
          "model_name": "ProgressStyleModel",
          "model_module_version": "1.5.0",
          "state": {
            "_model_module": "@jupyter-widgets/controls",
            "_model_module_version": "1.5.0",
            "_model_name": "ProgressStyleModel",
            "_view_count": null,
            "_view_module": "@jupyter-widgets/base",
            "_view_module_version": "1.2.0",
            "_view_name": "StyleView",
            "bar_color": null,
            "description_width": ""
          }
        },
        "0080d66e2e7c4d7bb2db985914a7a22d": {
          "model_module": "@jupyter-widgets/base",
          "model_name": "LayoutModel",
          "model_module_version": "1.2.0",
          "state": {
            "_model_module": "@jupyter-widgets/base",
            "_model_module_version": "1.2.0",
            "_model_name": "LayoutModel",
            "_view_count": null,
            "_view_module": "@jupyter-widgets/base",
            "_view_module_version": "1.2.0",
            "_view_name": "LayoutView",
            "align_content": null,
            "align_items": null,
            "align_self": null,
            "border": null,
            "bottom": null,
            "display": null,
            "flex": null,
            "flex_flow": null,
            "grid_area": null,
            "grid_auto_columns": null,
            "grid_auto_flow": null,
            "grid_auto_rows": null,
            "grid_column": null,
            "grid_gap": null,
            "grid_row": null,
            "grid_template_areas": null,
            "grid_template_columns": null,
            "grid_template_rows": null,
            "height": null,
            "justify_content": null,
            "justify_items": null,
            "left": null,
            "margin": null,
            "max_height": null,
            "max_width": null,
            "min_height": null,
            "min_width": null,
            "object_fit": null,
            "object_position": null,
            "order": null,
            "overflow": null,
            "overflow_x": null,
            "overflow_y": null,
            "padding": null,
            "right": null,
            "top": null,
            "visibility": null,
            "width": null
          }
        },
        "fcb1ab1813a64a64bd736c7097a5c1e9": {
          "model_module": "@jupyter-widgets/controls",
          "model_name": "DescriptionStyleModel",
          "model_module_version": "1.5.0",
          "state": {
            "_model_module": "@jupyter-widgets/controls",
            "_model_module_version": "1.5.0",
            "_model_name": "DescriptionStyleModel",
            "_view_count": null,
            "_view_module": "@jupyter-widgets/base",
            "_view_module_version": "1.2.0",
            "_view_name": "StyleView",
            "description_width": ""
          }
        },
        "e054bd1b2ed0435780c20788be2ee250": {
          "model_module": "@jupyter-widgets/controls",
          "model_name": "HBoxModel",
          "model_module_version": "1.5.0",
          "state": {
            "_dom_classes": [],
            "_model_module": "@jupyter-widgets/controls",
            "_model_module_version": "1.5.0",
            "_model_name": "HBoxModel",
            "_view_count": null,
            "_view_module": "@jupyter-widgets/controls",
            "_view_module_version": "1.5.0",
            "_view_name": "HBoxView",
            "box_style": "",
            "children": [
              "IPY_MODEL_a56c929daa6d439181fee1153080ceff",
              "IPY_MODEL_c4a978210dc748bc8032e145219aaa6f",
              "IPY_MODEL_4e985d7d3e09480f82a26ef47deb2367"
            ],
            "layout": "IPY_MODEL_c79a598a413e4b1fb06b719a3b0ca726"
          }
        },
        "a56c929daa6d439181fee1153080ceff": {
          "model_module": "@jupyter-widgets/controls",
          "model_name": "HTMLModel",
          "model_module_version": "1.5.0",
          "state": {
            "_dom_classes": [],
            "_model_module": "@jupyter-widgets/controls",
            "_model_module_version": "1.5.0",
            "_model_name": "HTMLModel",
            "_view_count": null,
            "_view_module": "@jupyter-widgets/controls",
            "_view_module_version": "1.5.0",
            "_view_name": "HTMLView",
            "description": "",
            "description_tooltip": null,
            "layout": "IPY_MODEL_92c726883e1244c798cbfacb7e514c6d",
            "placeholder": "​",
            "style": "IPY_MODEL_a67e8ed96ee74ea4b2f0c7ef3ad50a6d",
            "value": "vocab.txt: 100%"
          }
        },
        "c4a978210dc748bc8032e145219aaa6f": {
          "model_module": "@jupyter-widgets/controls",
          "model_name": "FloatProgressModel",
          "model_module_version": "1.5.0",
          "state": {
            "_dom_classes": [],
            "_model_module": "@jupyter-widgets/controls",
            "_model_module_version": "1.5.0",
            "_model_name": "FloatProgressModel",
            "_view_count": null,
            "_view_module": "@jupyter-widgets/controls",
            "_view_module_version": "1.5.0",
            "_view_name": "ProgressView",
            "bar_style": "success",
            "description": "",
            "description_tooltip": null,
            "layout": "IPY_MODEL_97114cc687cf4adb80252a887f46ee07",
            "max": 995526,
            "min": 0,
            "orientation": "horizontal",
            "style": "IPY_MODEL_77f5c9a3843541baa107844d6ea92e5b",
            "value": 995526
          }
        },
        "4e985d7d3e09480f82a26ef47deb2367": {
          "model_module": "@jupyter-widgets/controls",
          "model_name": "HTMLModel",
          "model_module_version": "1.5.0",
          "state": {
            "_dom_classes": [],
            "_model_module": "@jupyter-widgets/controls",
            "_model_module_version": "1.5.0",
            "_model_name": "HTMLModel",
            "_view_count": null,
            "_view_module": "@jupyter-widgets/controls",
            "_view_module_version": "1.5.0",
            "_view_name": "HTMLView",
            "description": "",
            "description_tooltip": null,
            "layout": "IPY_MODEL_f278589dda094f5b978787d892f623e1",
            "placeholder": "​",
            "style": "IPY_MODEL_717af83f52ec4c5e8c66f359dd206d76",
            "value": " 996k/996k [00:00&lt;00:00, 49.2MB/s]"
          }
        },
        "c79a598a413e4b1fb06b719a3b0ca726": {
          "model_module": "@jupyter-widgets/base",
          "model_name": "LayoutModel",
          "model_module_version": "1.2.0",
          "state": {
            "_model_module": "@jupyter-widgets/base",
            "_model_module_version": "1.2.0",
            "_model_name": "LayoutModel",
            "_view_count": null,
            "_view_module": "@jupyter-widgets/base",
            "_view_module_version": "1.2.0",
            "_view_name": "LayoutView",
            "align_content": null,
            "align_items": null,
            "align_self": null,
            "border": null,
            "bottom": null,
            "display": null,
            "flex": null,
            "flex_flow": null,
            "grid_area": null,
            "grid_auto_columns": null,
            "grid_auto_flow": null,
            "grid_auto_rows": null,
            "grid_column": null,
            "grid_gap": null,
            "grid_row": null,
            "grid_template_areas": null,
            "grid_template_columns": null,
            "grid_template_rows": null,
            "height": null,
            "justify_content": null,
            "justify_items": null,
            "left": null,
            "margin": null,
            "max_height": null,
            "max_width": null,
            "min_height": null,
            "min_width": null,
            "object_fit": null,
            "object_position": null,
            "order": null,
            "overflow": null,
            "overflow_x": null,
            "overflow_y": null,
            "padding": null,
            "right": null,
            "top": null,
            "visibility": null,
            "width": null
          }
        },
        "92c726883e1244c798cbfacb7e514c6d": {
          "model_module": "@jupyter-widgets/base",
          "model_name": "LayoutModel",
          "model_module_version": "1.2.0",
          "state": {
            "_model_module": "@jupyter-widgets/base",
            "_model_module_version": "1.2.0",
            "_model_name": "LayoutModel",
            "_view_count": null,
            "_view_module": "@jupyter-widgets/base",
            "_view_module_version": "1.2.0",
            "_view_name": "LayoutView",
            "align_content": null,
            "align_items": null,
            "align_self": null,
            "border": null,
            "bottom": null,
            "display": null,
            "flex": null,
            "flex_flow": null,
            "grid_area": null,
            "grid_auto_columns": null,
            "grid_auto_flow": null,
            "grid_auto_rows": null,
            "grid_column": null,
            "grid_gap": null,
            "grid_row": null,
            "grid_template_areas": null,
            "grid_template_columns": null,
            "grid_template_rows": null,
            "height": null,
            "justify_content": null,
            "justify_items": null,
            "left": null,
            "margin": null,
            "max_height": null,
            "max_width": null,
            "min_height": null,
            "min_width": null,
            "object_fit": null,
            "object_position": null,
            "order": null,
            "overflow": null,
            "overflow_x": null,
            "overflow_y": null,
            "padding": null,
            "right": null,
            "top": null,
            "visibility": null,
            "width": null
          }
        },
        "a67e8ed96ee74ea4b2f0c7ef3ad50a6d": {
          "model_module": "@jupyter-widgets/controls",
          "model_name": "DescriptionStyleModel",
          "model_module_version": "1.5.0",
          "state": {
            "_model_module": "@jupyter-widgets/controls",
            "_model_module_version": "1.5.0",
            "_model_name": "DescriptionStyleModel",
            "_view_count": null,
            "_view_module": "@jupyter-widgets/base",
            "_view_module_version": "1.2.0",
            "_view_name": "StyleView",
            "description_width": ""
          }
        },
        "97114cc687cf4adb80252a887f46ee07": {
          "model_module": "@jupyter-widgets/base",
          "model_name": "LayoutModel",
          "model_module_version": "1.2.0",
          "state": {
            "_model_module": "@jupyter-widgets/base",
            "_model_module_version": "1.2.0",
            "_model_name": "LayoutModel",
            "_view_count": null,
            "_view_module": "@jupyter-widgets/base",
            "_view_module_version": "1.2.0",
            "_view_name": "LayoutView",
            "align_content": null,
            "align_items": null,
            "align_self": null,
            "border": null,
            "bottom": null,
            "display": null,
            "flex": null,
            "flex_flow": null,
            "grid_area": null,
            "grid_auto_columns": null,
            "grid_auto_flow": null,
            "grid_auto_rows": null,
            "grid_column": null,
            "grid_gap": null,
            "grid_row": null,
            "grid_template_areas": null,
            "grid_template_columns": null,
            "grid_template_rows": null,
            "height": null,
            "justify_content": null,
            "justify_items": null,
            "left": null,
            "margin": null,
            "max_height": null,
            "max_width": null,
            "min_height": null,
            "min_width": null,
            "object_fit": null,
            "object_position": null,
            "order": null,
            "overflow": null,
            "overflow_x": null,
            "overflow_y": null,
            "padding": null,
            "right": null,
            "top": null,
            "visibility": null,
            "width": null
          }
        },
        "77f5c9a3843541baa107844d6ea92e5b": {
          "model_module": "@jupyter-widgets/controls",
          "model_name": "ProgressStyleModel",
          "model_module_version": "1.5.0",
          "state": {
            "_model_module": "@jupyter-widgets/controls",
            "_model_module_version": "1.5.0",
            "_model_name": "ProgressStyleModel",
            "_view_count": null,
            "_view_module": "@jupyter-widgets/base",
            "_view_module_version": "1.2.0",
            "_view_name": "StyleView",
            "bar_color": null,
            "description_width": ""
          }
        },
        "f278589dda094f5b978787d892f623e1": {
          "model_module": "@jupyter-widgets/base",
          "model_name": "LayoutModel",
          "model_module_version": "1.2.0",
          "state": {
            "_model_module": "@jupyter-widgets/base",
            "_model_module_version": "1.2.0",
            "_model_name": "LayoutModel",
            "_view_count": null,
            "_view_module": "@jupyter-widgets/base",
            "_view_module_version": "1.2.0",
            "_view_name": "LayoutView",
            "align_content": null,
            "align_items": null,
            "align_self": null,
            "border": null,
            "bottom": null,
            "display": null,
            "flex": null,
            "flex_flow": null,
            "grid_area": null,
            "grid_auto_columns": null,
            "grid_auto_flow": null,
            "grid_auto_rows": null,
            "grid_column": null,
            "grid_gap": null,
            "grid_row": null,
            "grid_template_areas": null,
            "grid_template_columns": null,
            "grid_template_rows": null,
            "height": null,
            "justify_content": null,
            "justify_items": null,
            "left": null,
            "margin": null,
            "max_height": null,
            "max_width": null,
            "min_height": null,
            "min_width": null,
            "object_fit": null,
            "object_position": null,
            "order": null,
            "overflow": null,
            "overflow_x": null,
            "overflow_y": null,
            "padding": null,
            "right": null,
            "top": null,
            "visibility": null,
            "width": null
          }
        },
        "717af83f52ec4c5e8c66f359dd206d76": {
          "model_module": "@jupyter-widgets/controls",
          "model_name": "DescriptionStyleModel",
          "model_module_version": "1.5.0",
          "state": {
            "_model_module": "@jupyter-widgets/controls",
            "_model_module_version": "1.5.0",
            "_model_name": "DescriptionStyleModel",
            "_view_count": null,
            "_view_module": "@jupyter-widgets/base",
            "_view_module_version": "1.2.0",
            "_view_name": "StyleView",
            "description_width": ""
          }
        },
        "32d4c63b692944d1a587a787bced79f4": {
          "model_module": "@jupyter-widgets/controls",
          "model_name": "HBoxModel",
          "model_module_version": "1.5.0",
          "state": {
            "_dom_classes": [],
            "_model_module": "@jupyter-widgets/controls",
            "_model_module_version": "1.5.0",
            "_model_name": "HBoxModel",
            "_view_count": null,
            "_view_module": "@jupyter-widgets/controls",
            "_view_module_version": "1.5.0",
            "_view_name": "HBoxView",
            "box_style": "",
            "children": [
              "IPY_MODEL_c980543c7d9847b4932ff65b1859d479",
              "IPY_MODEL_b435118f76454cce98e9b92b55ea3630",
              "IPY_MODEL_8231c939aac344d5be9ccc9294708c1c"
            ],
            "layout": "IPY_MODEL_0a8d3c231fa648d3b2e59417b0d45ab8"
          }
        },
        "c980543c7d9847b4932ff65b1859d479": {
          "model_module": "@jupyter-widgets/controls",
          "model_name": "HTMLModel",
          "model_module_version": "1.5.0",
          "state": {
            "_dom_classes": [],
            "_model_module": "@jupyter-widgets/controls",
            "_model_module_version": "1.5.0",
            "_model_name": "HTMLModel",
            "_view_count": null,
            "_view_module": "@jupyter-widgets/controls",
            "_view_module_version": "1.5.0",
            "_view_name": "HTMLView",
            "description": "",
            "description_tooltip": null,
            "layout": "IPY_MODEL_5f599953136b40c9825b88feadd5433d",
            "placeholder": "​",
            "style": "IPY_MODEL_184a7965663b4f80946d1b73e704085a",
            "value": "tokenizer.json: 100%"
          }
        },
        "b435118f76454cce98e9b92b55ea3630": {
          "model_module": "@jupyter-widgets/controls",
          "model_name": "FloatProgressModel",
          "model_module_version": "1.5.0",
          "state": {
            "_dom_classes": [],
            "_model_module": "@jupyter-widgets/controls",
            "_model_module_version": "1.5.0",
            "_model_name": "FloatProgressModel",
            "_view_count": null,
            "_view_module": "@jupyter-widgets/controls",
            "_view_module_version": "1.5.0",
            "_view_name": "ProgressView",
            "bar_style": "success",
            "description": "",
            "description_tooltip": null,
            "layout": "IPY_MODEL_e798699e156c450b8ea00dbbde4d1ad4",
            "max": 1961828,
            "min": 0,
            "orientation": "horizontal",
            "style": "IPY_MODEL_90b11d94b65843fabab711361dfe1093",
            "value": 1961828
          }
        },
        "8231c939aac344d5be9ccc9294708c1c": {
          "model_module": "@jupyter-widgets/controls",
          "model_name": "HTMLModel",
          "model_module_version": "1.5.0",
          "state": {
            "_dom_classes": [],
            "_model_module": "@jupyter-widgets/controls",
            "_model_module_version": "1.5.0",
            "_model_name": "HTMLModel",
            "_view_count": null,
            "_view_module": "@jupyter-widgets/controls",
            "_view_module_version": "1.5.0",
            "_view_name": "HTMLView",
            "description": "",
            "description_tooltip": null,
            "layout": "IPY_MODEL_8f78c3679bf943a5bb81d85f755a91d8",
            "placeholder": "​",
            "style": "IPY_MODEL_8317ee34cdb0420d82549e38faf69fb8",
            "value": " 1.96M/1.96M [00:00&lt;00:00, 4.28MB/s]"
          }
        },
        "0a8d3c231fa648d3b2e59417b0d45ab8": {
          "model_module": "@jupyter-widgets/base",
          "model_name": "LayoutModel",
          "model_module_version": "1.2.0",
          "state": {
            "_model_module": "@jupyter-widgets/base",
            "_model_module_version": "1.2.0",
            "_model_name": "LayoutModel",
            "_view_count": null,
            "_view_module": "@jupyter-widgets/base",
            "_view_module_version": "1.2.0",
            "_view_name": "LayoutView",
            "align_content": null,
            "align_items": null,
            "align_self": null,
            "border": null,
            "bottom": null,
            "display": null,
            "flex": null,
            "flex_flow": null,
            "grid_area": null,
            "grid_auto_columns": null,
            "grid_auto_flow": null,
            "grid_auto_rows": null,
            "grid_column": null,
            "grid_gap": null,
            "grid_row": null,
            "grid_template_areas": null,
            "grid_template_columns": null,
            "grid_template_rows": null,
            "height": null,
            "justify_content": null,
            "justify_items": null,
            "left": null,
            "margin": null,
            "max_height": null,
            "max_width": null,
            "min_height": null,
            "min_width": null,
            "object_fit": null,
            "object_position": null,
            "order": null,
            "overflow": null,
            "overflow_x": null,
            "overflow_y": null,
            "padding": null,
            "right": null,
            "top": null,
            "visibility": null,
            "width": null
          }
        },
        "5f599953136b40c9825b88feadd5433d": {
          "model_module": "@jupyter-widgets/base",
          "model_name": "LayoutModel",
          "model_module_version": "1.2.0",
          "state": {
            "_model_module": "@jupyter-widgets/base",
            "_model_module_version": "1.2.0",
            "_model_name": "LayoutModel",
            "_view_count": null,
            "_view_module": "@jupyter-widgets/base",
            "_view_module_version": "1.2.0",
            "_view_name": "LayoutView",
            "align_content": null,
            "align_items": null,
            "align_self": null,
            "border": null,
            "bottom": null,
            "display": null,
            "flex": null,
            "flex_flow": null,
            "grid_area": null,
            "grid_auto_columns": null,
            "grid_auto_flow": null,
            "grid_auto_rows": null,
            "grid_column": null,
            "grid_gap": null,
            "grid_row": null,
            "grid_template_areas": null,
            "grid_template_columns": null,
            "grid_template_rows": null,
            "height": null,
            "justify_content": null,
            "justify_items": null,
            "left": null,
            "margin": null,
            "max_height": null,
            "max_width": null,
            "min_height": null,
            "min_width": null,
            "object_fit": null,
            "object_position": null,
            "order": null,
            "overflow": null,
            "overflow_x": null,
            "overflow_y": null,
            "padding": null,
            "right": null,
            "top": null,
            "visibility": null,
            "width": null
          }
        },
        "184a7965663b4f80946d1b73e704085a": {
          "model_module": "@jupyter-widgets/controls",
          "model_name": "DescriptionStyleModel",
          "model_module_version": "1.5.0",
          "state": {
            "_model_module": "@jupyter-widgets/controls",
            "_model_module_version": "1.5.0",
            "_model_name": "DescriptionStyleModel",
            "_view_count": null,
            "_view_module": "@jupyter-widgets/base",
            "_view_module_version": "1.2.0",
            "_view_name": "StyleView",
            "description_width": ""
          }
        },
        "e798699e156c450b8ea00dbbde4d1ad4": {
          "model_module": "@jupyter-widgets/base",
          "model_name": "LayoutModel",
          "model_module_version": "1.2.0",
          "state": {
            "_model_module": "@jupyter-widgets/base",
            "_model_module_version": "1.2.0",
            "_model_name": "LayoutModel",
            "_view_count": null,
            "_view_module": "@jupyter-widgets/base",
            "_view_module_version": "1.2.0",
            "_view_name": "LayoutView",
            "align_content": null,
            "align_items": null,
            "align_self": null,
            "border": null,
            "bottom": null,
            "display": null,
            "flex": null,
            "flex_flow": null,
            "grid_area": null,
            "grid_auto_columns": null,
            "grid_auto_flow": null,
            "grid_auto_rows": null,
            "grid_column": null,
            "grid_gap": null,
            "grid_row": null,
            "grid_template_areas": null,
            "grid_template_columns": null,
            "grid_template_rows": null,
            "height": null,
            "justify_content": null,
            "justify_items": null,
            "left": null,
            "margin": null,
            "max_height": null,
            "max_width": null,
            "min_height": null,
            "min_width": null,
            "object_fit": null,
            "object_position": null,
            "order": null,
            "overflow": null,
            "overflow_x": null,
            "overflow_y": null,
            "padding": null,
            "right": null,
            "top": null,
            "visibility": null,
            "width": null
          }
        },
        "90b11d94b65843fabab711361dfe1093": {
          "model_module": "@jupyter-widgets/controls",
          "model_name": "ProgressStyleModel",
          "model_module_version": "1.5.0",
          "state": {
            "_model_module": "@jupyter-widgets/controls",
            "_model_module_version": "1.5.0",
            "_model_name": "ProgressStyleModel",
            "_view_count": null,
            "_view_module": "@jupyter-widgets/base",
            "_view_module_version": "1.2.0",
            "_view_name": "StyleView",
            "bar_color": null,
            "description_width": ""
          }
        },
        "8f78c3679bf943a5bb81d85f755a91d8": {
          "model_module": "@jupyter-widgets/base",
          "model_name": "LayoutModel",
          "model_module_version": "1.2.0",
          "state": {
            "_model_module": "@jupyter-widgets/base",
            "_model_module_version": "1.2.0",
            "_model_name": "LayoutModel",
            "_view_count": null,
            "_view_module": "@jupyter-widgets/base",
            "_view_module_version": "1.2.0",
            "_view_name": "LayoutView",
            "align_content": null,
            "align_items": null,
            "align_self": null,
            "border": null,
            "bottom": null,
            "display": null,
            "flex": null,
            "flex_flow": null,
            "grid_area": null,
            "grid_auto_columns": null,
            "grid_auto_flow": null,
            "grid_auto_rows": null,
            "grid_column": null,
            "grid_gap": null,
            "grid_row": null,
            "grid_template_areas": null,
            "grid_template_columns": null,
            "grid_template_rows": null,
            "height": null,
            "justify_content": null,
            "justify_items": null,
            "left": null,
            "margin": null,
            "max_height": null,
            "max_width": null,
            "min_height": null,
            "min_width": null,
            "object_fit": null,
            "object_position": null,
            "order": null,
            "overflow": null,
            "overflow_x": null,
            "overflow_y": null,
            "padding": null,
            "right": null,
            "top": null,
            "visibility": null,
            "width": null
          }
        },
        "8317ee34cdb0420d82549e38faf69fb8": {
          "model_module": "@jupyter-widgets/controls",
          "model_name": "DescriptionStyleModel",
          "model_module_version": "1.5.0",
          "state": {
            "_model_module": "@jupyter-widgets/controls",
            "_model_module_version": "1.5.0",
            "_model_name": "DescriptionStyleModel",
            "_view_count": null,
            "_view_module": "@jupyter-widgets/base",
            "_view_module_version": "1.2.0",
            "_view_name": "StyleView",
            "description_width": ""
          }
        },
        "7c14a73b9c93461292d66b2bffb60083": {
          "model_module": "@jupyter-widgets/controls",
          "model_name": "HBoxModel",
          "model_module_version": "1.5.0",
          "state": {
            "_dom_classes": [],
            "_model_module": "@jupyter-widgets/controls",
            "_model_module_version": "1.5.0",
            "_model_name": "HBoxModel",
            "_view_count": null,
            "_view_module": "@jupyter-widgets/controls",
            "_view_module_version": "1.5.0",
            "_view_name": "HBoxView",
            "box_style": "",
            "children": [
              "IPY_MODEL_890d7b2152da41648de3aa36781a35d7",
              "IPY_MODEL_000ce8519b9b489984a4e256d0edec50",
              "IPY_MODEL_1c12c48a46654539a942ec5096b455b4"
            ],
            "layout": "IPY_MODEL_ded7eaac6f9f4e77bdceff2d4eee9815"
          }
        },
        "890d7b2152da41648de3aa36781a35d7": {
          "model_module": "@jupyter-widgets/controls",
          "model_name": "HTMLModel",
          "model_module_version": "1.5.0",
          "state": {
            "_dom_classes": [],
            "_model_module": "@jupyter-widgets/controls",
            "_model_module_version": "1.5.0",
            "_model_name": "HTMLModel",
            "_view_count": null,
            "_view_module": "@jupyter-widgets/controls",
            "_view_module_version": "1.5.0",
            "_view_name": "HTMLView",
            "description": "",
            "description_tooltip": null,
            "layout": "IPY_MODEL_2a73c8323afe4b58b8478d427848ebe0",
            "placeholder": "​",
            "style": "IPY_MODEL_0408878701a04d05b957521a0da2c86f",
            "value": "model.safetensors: 100%"
          }
        },
        "000ce8519b9b489984a4e256d0edec50": {
          "model_module": "@jupyter-widgets/controls",
          "model_name": "FloatProgressModel",
          "model_module_version": "1.5.0",
          "state": {
            "_dom_classes": [],
            "_model_module": "@jupyter-widgets/controls",
            "_model_module_version": "1.5.0",
            "_model_name": "FloatProgressModel",
            "_view_count": null,
            "_view_module": "@jupyter-widgets/controls",
            "_view_module_version": "1.5.0",
            "_view_name": "ProgressView",
            "bar_style": "success",
            "description": "",
            "description_tooltip": null,
            "layout": "IPY_MODEL_85bebeb6179f401190e388349454f124",
            "max": 714290682,
            "min": 0,
            "orientation": "horizontal",
            "style": "IPY_MODEL_74693eedcb1a43bc999c16c3b839bf5d",
            "value": 714290682
          }
        },
        "1c12c48a46654539a942ec5096b455b4": {
          "model_module": "@jupyter-widgets/controls",
          "model_name": "HTMLModel",
          "model_module_version": "1.5.0",
          "state": {
            "_dom_classes": [],
            "_model_module": "@jupyter-widgets/controls",
            "_model_module_version": "1.5.0",
            "_model_name": "HTMLModel",
            "_view_count": null,
            "_view_module": "@jupyter-widgets/controls",
            "_view_module_version": "1.5.0",
            "_view_name": "HTMLView",
            "description": "",
            "description_tooltip": null,
            "layout": "IPY_MODEL_7f9ceeaa064b4bfab65c6d643026fecf",
            "placeholder": "​",
            "style": "IPY_MODEL_865bed000cc746948fdb25d3741b4bcc",
            "value": " 714M/714M [00:01&lt;00:00, 373MB/s]"
          }
        },
        "ded7eaac6f9f4e77bdceff2d4eee9815": {
          "model_module": "@jupyter-widgets/base",
          "model_name": "LayoutModel",
          "model_module_version": "1.2.0",
          "state": {
            "_model_module": "@jupyter-widgets/base",
            "_model_module_version": "1.2.0",
            "_model_name": "LayoutModel",
            "_view_count": null,
            "_view_module": "@jupyter-widgets/base",
            "_view_module_version": "1.2.0",
            "_view_name": "LayoutView",
            "align_content": null,
            "align_items": null,
            "align_self": null,
            "border": null,
            "bottom": null,
            "display": null,
            "flex": null,
            "flex_flow": null,
            "grid_area": null,
            "grid_auto_columns": null,
            "grid_auto_flow": null,
            "grid_auto_rows": null,
            "grid_column": null,
            "grid_gap": null,
            "grid_row": null,
            "grid_template_areas": null,
            "grid_template_columns": null,
            "grid_template_rows": null,
            "height": null,
            "justify_content": null,
            "justify_items": null,
            "left": null,
            "margin": null,
            "max_height": null,
            "max_width": null,
            "min_height": null,
            "min_width": null,
            "object_fit": null,
            "object_position": null,
            "order": null,
            "overflow": null,
            "overflow_x": null,
            "overflow_y": null,
            "padding": null,
            "right": null,
            "top": null,
            "visibility": null,
            "width": null
          }
        },
        "2a73c8323afe4b58b8478d427848ebe0": {
          "model_module": "@jupyter-widgets/base",
          "model_name": "LayoutModel",
          "model_module_version": "1.2.0",
          "state": {
            "_model_module": "@jupyter-widgets/base",
            "_model_module_version": "1.2.0",
            "_model_name": "LayoutModel",
            "_view_count": null,
            "_view_module": "@jupyter-widgets/base",
            "_view_module_version": "1.2.0",
            "_view_name": "LayoutView",
            "align_content": null,
            "align_items": null,
            "align_self": null,
            "border": null,
            "bottom": null,
            "display": null,
            "flex": null,
            "flex_flow": null,
            "grid_area": null,
            "grid_auto_columns": null,
            "grid_auto_flow": null,
            "grid_auto_rows": null,
            "grid_column": null,
            "grid_gap": null,
            "grid_row": null,
            "grid_template_areas": null,
            "grid_template_columns": null,
            "grid_template_rows": null,
            "height": null,
            "justify_content": null,
            "justify_items": null,
            "left": null,
            "margin": null,
            "max_height": null,
            "max_width": null,
            "min_height": null,
            "min_width": null,
            "object_fit": null,
            "object_position": null,
            "order": null,
            "overflow": null,
            "overflow_x": null,
            "overflow_y": null,
            "padding": null,
            "right": null,
            "top": null,
            "visibility": null,
            "width": null
          }
        },
        "0408878701a04d05b957521a0da2c86f": {
          "model_module": "@jupyter-widgets/controls",
          "model_name": "DescriptionStyleModel",
          "model_module_version": "1.5.0",
          "state": {
            "_model_module": "@jupyter-widgets/controls",
            "_model_module_version": "1.5.0",
            "_model_name": "DescriptionStyleModel",
            "_view_count": null,
            "_view_module": "@jupyter-widgets/base",
            "_view_module_version": "1.2.0",
            "_view_name": "StyleView",
            "description_width": ""
          }
        },
        "85bebeb6179f401190e388349454f124": {
          "model_module": "@jupyter-widgets/base",
          "model_name": "LayoutModel",
          "model_module_version": "1.2.0",
          "state": {
            "_model_module": "@jupyter-widgets/base",
            "_model_module_version": "1.2.0",
            "_model_name": "LayoutModel",
            "_view_count": null,
            "_view_module": "@jupyter-widgets/base",
            "_view_module_version": "1.2.0",
            "_view_name": "LayoutView",
            "align_content": null,
            "align_items": null,
            "align_self": null,
            "border": null,
            "bottom": null,
            "display": null,
            "flex": null,
            "flex_flow": null,
            "grid_area": null,
            "grid_auto_columns": null,
            "grid_auto_flow": null,
            "grid_auto_rows": null,
            "grid_column": null,
            "grid_gap": null,
            "grid_row": null,
            "grid_template_areas": null,
            "grid_template_columns": null,
            "grid_template_rows": null,
            "height": null,
            "justify_content": null,
            "justify_items": null,
            "left": null,
            "margin": null,
            "max_height": null,
            "max_width": null,
            "min_height": null,
            "min_width": null,
            "object_fit": null,
            "object_position": null,
            "order": null,
            "overflow": null,
            "overflow_x": null,
            "overflow_y": null,
            "padding": null,
            "right": null,
            "top": null,
            "visibility": null,
            "width": null
          }
        },
        "74693eedcb1a43bc999c16c3b839bf5d": {
          "model_module": "@jupyter-widgets/controls",
          "model_name": "ProgressStyleModel",
          "model_module_version": "1.5.0",
          "state": {
            "_model_module": "@jupyter-widgets/controls",
            "_model_module_version": "1.5.0",
            "_model_name": "ProgressStyleModel",
            "_view_count": null,
            "_view_module": "@jupyter-widgets/base",
            "_view_module_version": "1.2.0",
            "_view_name": "StyleView",
            "bar_color": null,
            "description_width": ""
          }
        },
        "7f9ceeaa064b4bfab65c6d643026fecf": {
          "model_module": "@jupyter-widgets/base",
          "model_name": "LayoutModel",
          "model_module_version": "1.2.0",
          "state": {
            "_model_module": "@jupyter-widgets/base",
            "_model_module_version": "1.2.0",
            "_model_name": "LayoutModel",
            "_view_count": null,
            "_view_module": "@jupyter-widgets/base",
            "_view_module_version": "1.2.0",
            "_view_name": "LayoutView",
            "align_content": null,
            "align_items": null,
            "align_self": null,
            "border": null,
            "bottom": null,
            "display": null,
            "flex": null,
            "flex_flow": null,
            "grid_area": null,
            "grid_auto_columns": null,
            "grid_auto_flow": null,
            "grid_auto_rows": null,
            "grid_column": null,
            "grid_gap": null,
            "grid_row": null,
            "grid_template_areas": null,
            "grid_template_columns": null,
            "grid_template_rows": null,
            "height": null,
            "justify_content": null,
            "justify_items": null,
            "left": null,
            "margin": null,
            "max_height": null,
            "max_width": null,
            "min_height": null,
            "min_width": null,
            "object_fit": null,
            "object_position": null,
            "order": null,
            "overflow": null,
            "overflow_x": null,
            "overflow_y": null,
            "padding": null,
            "right": null,
            "top": null,
            "visibility": null,
            "width": null
          }
        },
        "865bed000cc746948fdb25d3741b4bcc": {
          "model_module": "@jupyter-widgets/controls",
          "model_name": "DescriptionStyleModel",
          "model_module_version": "1.5.0",
          "state": {
            "_model_module": "@jupyter-widgets/controls",
            "_model_module_version": "1.5.0",
            "_model_name": "DescriptionStyleModel",
            "_view_count": null,
            "_view_module": "@jupyter-widgets/base",
            "_view_module_version": "1.2.0",
            "_view_name": "StyleView",
            "description_width": ""
          }
        },
        "3b8cdffd32d049478569b79389c2c6df": {
          "model_module": "@jupyter-widgets/controls",
          "model_name": "HBoxModel",
          "model_module_version": "1.5.0",
          "state": {
            "_dom_classes": [],
            "_model_module": "@jupyter-widgets/controls",
            "_model_module_version": "1.5.0",
            "_model_name": "HBoxModel",
            "_view_count": null,
            "_view_module": "@jupyter-widgets/controls",
            "_view_module_version": "1.5.0",
            "_view_name": "HBoxView",
            "box_style": "",
            "children": [
              "IPY_MODEL_b136d020afdd494592e7a732f9ef6689",
              "IPY_MODEL_c65b4dc828f5434f83022f8f0d371690",
              "IPY_MODEL_58a942b0bbe84a47997399135e3921e8"
            ],
            "layout": "IPY_MODEL_825e142ef41b4536975fe111c2fce34d"
          }
        },
        "b136d020afdd494592e7a732f9ef6689": {
          "model_module": "@jupyter-widgets/controls",
          "model_name": "HTMLModel",
          "model_module_version": "1.5.0",
          "state": {
            "_dom_classes": [],
            "_model_module": "@jupyter-widgets/controls",
            "_model_module_version": "1.5.0",
            "_model_name": "HTMLModel",
            "_view_count": null,
            "_view_module": "@jupyter-widgets/controls",
            "_view_module_version": "1.5.0",
            "_view_name": "HTMLView",
            "description": "",
            "description_tooltip": null,
            "layout": "IPY_MODEL_06f5d46225104541baa070207db33ff5",
            "placeholder": "​",
            "style": "IPY_MODEL_bba29447587b4245a165adaf4dd92747",
            "value": "100%"
          }
        },
        "c65b4dc828f5434f83022f8f0d371690": {
          "model_module": "@jupyter-widgets/controls",
          "model_name": "FloatProgressModel",
          "model_module_version": "1.5.0",
          "state": {
            "_dom_classes": [],
            "_model_module": "@jupyter-widgets/controls",
            "_model_module_version": "1.5.0",
            "_model_name": "FloatProgressModel",
            "_view_count": null,
            "_view_module": "@jupyter-widgets/controls",
            "_view_module_version": "1.5.0",
            "_view_name": "ProgressView",
            "bar_style": "success",
            "description": "",
            "description_tooltip": null,
            "layout": "IPY_MODEL_d6288e632a5243b7be10df9da122c940",
            "max": 1000,
            "min": 0,
            "orientation": "horizontal",
            "style": "IPY_MODEL_7f33881a35374d2fb0214e7b03fe9263",
            "value": 1000
          }
        },
        "58a942b0bbe84a47997399135e3921e8": {
          "model_module": "@jupyter-widgets/controls",
          "model_name": "HTMLModel",
          "model_module_version": "1.5.0",
          "state": {
            "_dom_classes": [],
            "_model_module": "@jupyter-widgets/controls",
            "_model_module_version": "1.5.0",
            "_model_name": "HTMLModel",
            "_view_count": null,
            "_view_module": "@jupyter-widgets/controls",
            "_view_module_version": "1.5.0",
            "_view_name": "HTMLView",
            "description": "",
            "description_tooltip": null,
            "layout": "IPY_MODEL_534b14784532450d89667906f83e3b4f",
            "placeholder": "​",
            "style": "IPY_MODEL_76c64ee72e5f4232855a8dd8803838cb",
            "value": " 1000/1000 [00:11&lt;00:00, 85.32it/s]"
          }
        },
        "825e142ef41b4536975fe111c2fce34d": {
          "model_module": "@jupyter-widgets/base",
          "model_name": "LayoutModel",
          "model_module_version": "1.2.0",
          "state": {
            "_model_module": "@jupyter-widgets/base",
            "_model_module_version": "1.2.0",
            "_model_name": "LayoutModel",
            "_view_count": null,
            "_view_module": "@jupyter-widgets/base",
            "_view_module_version": "1.2.0",
            "_view_name": "LayoutView",
            "align_content": null,
            "align_items": null,
            "align_self": null,
            "border": null,
            "bottom": null,
            "display": null,
            "flex": null,
            "flex_flow": null,
            "grid_area": null,
            "grid_auto_columns": null,
            "grid_auto_flow": null,
            "grid_auto_rows": null,
            "grid_column": null,
            "grid_gap": null,
            "grid_row": null,
            "grid_template_areas": null,
            "grid_template_columns": null,
            "grid_template_rows": null,
            "height": null,
            "justify_content": null,
            "justify_items": null,
            "left": null,
            "margin": null,
            "max_height": null,
            "max_width": null,
            "min_height": null,
            "min_width": null,
            "object_fit": null,
            "object_position": null,
            "order": null,
            "overflow": null,
            "overflow_x": null,
            "overflow_y": null,
            "padding": null,
            "right": null,
            "top": null,
            "visibility": null,
            "width": null
          }
        },
        "06f5d46225104541baa070207db33ff5": {
          "model_module": "@jupyter-widgets/base",
          "model_name": "LayoutModel",
          "model_module_version": "1.2.0",
          "state": {
            "_model_module": "@jupyter-widgets/base",
            "_model_module_version": "1.2.0",
            "_model_name": "LayoutModel",
            "_view_count": null,
            "_view_module": "@jupyter-widgets/base",
            "_view_module_version": "1.2.0",
            "_view_name": "LayoutView",
            "align_content": null,
            "align_items": null,
            "align_self": null,
            "border": null,
            "bottom": null,
            "display": null,
            "flex": null,
            "flex_flow": null,
            "grid_area": null,
            "grid_auto_columns": null,
            "grid_auto_flow": null,
            "grid_auto_rows": null,
            "grid_column": null,
            "grid_gap": null,
            "grid_row": null,
            "grid_template_areas": null,
            "grid_template_columns": null,
            "grid_template_rows": null,
            "height": null,
            "justify_content": null,
            "justify_items": null,
            "left": null,
            "margin": null,
            "max_height": null,
            "max_width": null,
            "min_height": null,
            "min_width": null,
            "object_fit": null,
            "object_position": null,
            "order": null,
            "overflow": null,
            "overflow_x": null,
            "overflow_y": null,
            "padding": null,
            "right": null,
            "top": null,
            "visibility": null,
            "width": null
          }
        },
        "bba29447587b4245a165adaf4dd92747": {
          "model_module": "@jupyter-widgets/controls",
          "model_name": "DescriptionStyleModel",
          "model_module_version": "1.5.0",
          "state": {
            "_model_module": "@jupyter-widgets/controls",
            "_model_module_version": "1.5.0",
            "_model_name": "DescriptionStyleModel",
            "_view_count": null,
            "_view_module": "@jupyter-widgets/base",
            "_view_module_version": "1.2.0",
            "_view_name": "StyleView",
            "description_width": ""
          }
        },
        "d6288e632a5243b7be10df9da122c940": {
          "model_module": "@jupyter-widgets/base",
          "model_name": "LayoutModel",
          "model_module_version": "1.2.0",
          "state": {
            "_model_module": "@jupyter-widgets/base",
            "_model_module_version": "1.2.0",
            "_model_name": "LayoutModel",
            "_view_count": null,
            "_view_module": "@jupyter-widgets/base",
            "_view_module_version": "1.2.0",
            "_view_name": "LayoutView",
            "align_content": null,
            "align_items": null,
            "align_self": null,
            "border": null,
            "bottom": null,
            "display": null,
            "flex": null,
            "flex_flow": null,
            "grid_area": null,
            "grid_auto_columns": null,
            "grid_auto_flow": null,
            "grid_auto_rows": null,
            "grid_column": null,
            "grid_gap": null,
            "grid_row": null,
            "grid_template_areas": null,
            "grid_template_columns": null,
            "grid_template_rows": null,
            "height": null,
            "justify_content": null,
            "justify_items": null,
            "left": null,
            "margin": null,
            "max_height": null,
            "max_width": null,
            "min_height": null,
            "min_width": null,
            "object_fit": null,
            "object_position": null,
            "order": null,
            "overflow": null,
            "overflow_x": null,
            "overflow_y": null,
            "padding": null,
            "right": null,
            "top": null,
            "visibility": null,
            "width": null
          }
        },
        "7f33881a35374d2fb0214e7b03fe9263": {
          "model_module": "@jupyter-widgets/controls",
          "model_name": "ProgressStyleModel",
          "model_module_version": "1.5.0",
          "state": {
            "_model_module": "@jupyter-widgets/controls",
            "_model_module_version": "1.5.0",
            "_model_name": "ProgressStyleModel",
            "_view_count": null,
            "_view_module": "@jupyter-widgets/base",
            "_view_module_version": "1.2.0",
            "_view_name": "StyleView",
            "bar_color": null,
            "description_width": ""
          }
        },
        "534b14784532450d89667906f83e3b4f": {
          "model_module": "@jupyter-widgets/base",
          "model_name": "LayoutModel",
          "model_module_version": "1.2.0",
          "state": {
            "_model_module": "@jupyter-widgets/base",
            "_model_module_version": "1.2.0",
            "_model_name": "LayoutModel",
            "_view_count": null,
            "_view_module": "@jupyter-widgets/base",
            "_view_module_version": "1.2.0",
            "_view_name": "LayoutView",
            "align_content": null,
            "align_items": null,
            "align_self": null,
            "border": null,
            "bottom": null,
            "display": null,
            "flex": null,
            "flex_flow": null,
            "grid_area": null,
            "grid_auto_columns": null,
            "grid_auto_flow": null,
            "grid_auto_rows": null,
            "grid_column": null,
            "grid_gap": null,
            "grid_row": null,
            "grid_template_areas": null,
            "grid_template_columns": null,
            "grid_template_rows": null,
            "height": null,
            "justify_content": null,
            "justify_items": null,
            "left": null,
            "margin": null,
            "max_height": null,
            "max_width": null,
            "min_height": null,
            "min_width": null,
            "object_fit": null,
            "object_position": null,
            "order": null,
            "overflow": null,
            "overflow_x": null,
            "overflow_y": null,
            "padding": null,
            "right": null,
            "top": null,
            "visibility": null,
            "width": null
          }
        },
        "76c64ee72e5f4232855a8dd8803838cb": {
          "model_module": "@jupyter-widgets/controls",
          "model_name": "DescriptionStyleModel",
          "model_module_version": "1.5.0",
          "state": {
            "_model_module": "@jupyter-widgets/controls",
            "_model_module_version": "1.5.0",
            "_model_name": "DescriptionStyleModel",
            "_view_count": null,
            "_view_module": "@jupyter-widgets/base",
            "_view_module_version": "1.2.0",
            "_view_name": "StyleView",
            "description_width": ""
          }
        },
        "ee183743b2594bf29e22cd1cf5e24371": {
          "model_module": "@jupyter-widgets/controls",
          "model_name": "HBoxModel",
          "model_module_version": "1.5.0",
          "state": {
            "_dom_classes": [],
            "_model_module": "@jupyter-widgets/controls",
            "_model_module_version": "1.5.0",
            "_model_name": "HBoxModel",
            "_view_count": null,
            "_view_module": "@jupyter-widgets/controls",
            "_view_module_version": "1.5.0",
            "_view_name": "HBoxView",
            "box_style": "",
            "children": [
              "IPY_MODEL_657ebb5554f146c8b6ef7af238dfc0b9",
              "IPY_MODEL_b05c88b9ab044af2aeeb203c8b636555",
              "IPY_MODEL_a4a3c20730534cb8a79b477d83045729"
            ],
            "layout": "IPY_MODEL_3729f515a6b040c2b83d7ec1dfa8cd3b"
          }
        },
        "657ebb5554f146c8b6ef7af238dfc0b9": {
          "model_module": "@jupyter-widgets/controls",
          "model_name": "HTMLModel",
          "model_module_version": "1.5.0",
          "state": {
            "_dom_classes": [],
            "_model_module": "@jupyter-widgets/controls",
            "_model_module_version": "1.5.0",
            "_model_name": "HTMLModel",
            "_view_count": null,
            "_view_module": "@jupyter-widgets/controls",
            "_view_module_version": "1.5.0",
            "_view_name": "HTMLView",
            "description": "",
            "description_tooltip": null,
            "layout": "IPY_MODEL_e5f5adb6bc804b4d9bfacbee8e534539",
            "placeholder": "​",
            "style": "IPY_MODEL_8b141c7887954b8db7174eef450ad3f2",
            "value": "100%"
          }
        },
        "b05c88b9ab044af2aeeb203c8b636555": {
          "model_module": "@jupyter-widgets/controls",
          "model_name": "FloatProgressModel",
          "model_module_version": "1.5.0",
          "state": {
            "_dom_classes": [],
            "_model_module": "@jupyter-widgets/controls",
            "_model_module_version": "1.5.0",
            "_model_name": "FloatProgressModel",
            "_view_count": null,
            "_view_module": "@jupyter-widgets/controls",
            "_view_module_version": "1.5.0",
            "_view_name": "ProgressView",
            "bar_style": "success",
            "description": "",
            "description_tooltip": null,
            "layout": "IPY_MODEL_5cce0646fa9e404494adb7234c958aea",
            "max": 1000,
            "min": 0,
            "orientation": "horizontal",
            "style": "IPY_MODEL_3e387eaedbcc4554aedfa4b5e95743a5",
            "value": 1000
          }
        },
        "a4a3c20730534cb8a79b477d83045729": {
          "model_module": "@jupyter-widgets/controls",
          "model_name": "HTMLModel",
          "model_module_version": "1.5.0",
          "state": {
            "_dom_classes": [],
            "_model_module": "@jupyter-widgets/controls",
            "_model_module_version": "1.5.0",
            "_model_name": "HTMLModel",
            "_view_count": null,
            "_view_module": "@jupyter-widgets/controls",
            "_view_module_version": "1.5.0",
            "_view_name": "HTMLView",
            "description": "",
            "description_tooltip": null,
            "layout": "IPY_MODEL_99aa82126ca44768814eda79f4ef0af8",
            "placeholder": "​",
            "style": "IPY_MODEL_c61923ee94cf45b69f87b4fb7591c5df",
            "value": " 1000/1000 [00:11&lt;00:00, 86.61it/s]"
          }
        },
        "3729f515a6b040c2b83d7ec1dfa8cd3b": {
          "model_module": "@jupyter-widgets/base",
          "model_name": "LayoutModel",
          "model_module_version": "1.2.0",
          "state": {
            "_model_module": "@jupyter-widgets/base",
            "_model_module_version": "1.2.0",
            "_model_name": "LayoutModel",
            "_view_count": null,
            "_view_module": "@jupyter-widgets/base",
            "_view_module_version": "1.2.0",
            "_view_name": "LayoutView",
            "align_content": null,
            "align_items": null,
            "align_self": null,
            "border": null,
            "bottom": null,
            "display": null,
            "flex": null,
            "flex_flow": null,
            "grid_area": null,
            "grid_auto_columns": null,
            "grid_auto_flow": null,
            "grid_auto_rows": null,
            "grid_column": null,
            "grid_gap": null,
            "grid_row": null,
            "grid_template_areas": null,
            "grid_template_columns": null,
            "grid_template_rows": null,
            "height": null,
            "justify_content": null,
            "justify_items": null,
            "left": null,
            "margin": null,
            "max_height": null,
            "max_width": null,
            "min_height": null,
            "min_width": null,
            "object_fit": null,
            "object_position": null,
            "order": null,
            "overflow": null,
            "overflow_x": null,
            "overflow_y": null,
            "padding": null,
            "right": null,
            "top": null,
            "visibility": null,
            "width": null
          }
        },
        "e5f5adb6bc804b4d9bfacbee8e534539": {
          "model_module": "@jupyter-widgets/base",
          "model_name": "LayoutModel",
          "model_module_version": "1.2.0",
          "state": {
            "_model_module": "@jupyter-widgets/base",
            "_model_module_version": "1.2.0",
            "_model_name": "LayoutModel",
            "_view_count": null,
            "_view_module": "@jupyter-widgets/base",
            "_view_module_version": "1.2.0",
            "_view_name": "LayoutView",
            "align_content": null,
            "align_items": null,
            "align_self": null,
            "border": null,
            "bottom": null,
            "display": null,
            "flex": null,
            "flex_flow": null,
            "grid_area": null,
            "grid_auto_columns": null,
            "grid_auto_flow": null,
            "grid_auto_rows": null,
            "grid_column": null,
            "grid_gap": null,
            "grid_row": null,
            "grid_template_areas": null,
            "grid_template_columns": null,
            "grid_template_rows": null,
            "height": null,
            "justify_content": null,
            "justify_items": null,
            "left": null,
            "margin": null,
            "max_height": null,
            "max_width": null,
            "min_height": null,
            "min_width": null,
            "object_fit": null,
            "object_position": null,
            "order": null,
            "overflow": null,
            "overflow_x": null,
            "overflow_y": null,
            "padding": null,
            "right": null,
            "top": null,
            "visibility": null,
            "width": null
          }
        },
        "8b141c7887954b8db7174eef450ad3f2": {
          "model_module": "@jupyter-widgets/controls",
          "model_name": "DescriptionStyleModel",
          "model_module_version": "1.5.0",
          "state": {
            "_model_module": "@jupyter-widgets/controls",
            "_model_module_version": "1.5.0",
            "_model_name": "DescriptionStyleModel",
            "_view_count": null,
            "_view_module": "@jupyter-widgets/base",
            "_view_module_version": "1.2.0",
            "_view_name": "StyleView",
            "description_width": ""
          }
        },
        "5cce0646fa9e404494adb7234c958aea": {
          "model_module": "@jupyter-widgets/base",
          "model_name": "LayoutModel",
          "model_module_version": "1.2.0",
          "state": {
            "_model_module": "@jupyter-widgets/base",
            "_model_module_version": "1.2.0",
            "_model_name": "LayoutModel",
            "_view_count": null,
            "_view_module": "@jupyter-widgets/base",
            "_view_module_version": "1.2.0",
            "_view_name": "LayoutView",
            "align_content": null,
            "align_items": null,
            "align_self": null,
            "border": null,
            "bottom": null,
            "display": null,
            "flex": null,
            "flex_flow": null,
            "grid_area": null,
            "grid_auto_columns": null,
            "grid_auto_flow": null,
            "grid_auto_rows": null,
            "grid_column": null,
            "grid_gap": null,
            "grid_row": null,
            "grid_template_areas": null,
            "grid_template_columns": null,
            "grid_template_rows": null,
            "height": null,
            "justify_content": null,
            "justify_items": null,
            "left": null,
            "margin": null,
            "max_height": null,
            "max_width": null,
            "min_height": null,
            "min_width": null,
            "object_fit": null,
            "object_position": null,
            "order": null,
            "overflow": null,
            "overflow_x": null,
            "overflow_y": null,
            "padding": null,
            "right": null,
            "top": null,
            "visibility": null,
            "width": null
          }
        },
        "3e387eaedbcc4554aedfa4b5e95743a5": {
          "model_module": "@jupyter-widgets/controls",
          "model_name": "ProgressStyleModel",
          "model_module_version": "1.5.0",
          "state": {
            "_model_module": "@jupyter-widgets/controls",
            "_model_module_version": "1.5.0",
            "_model_name": "ProgressStyleModel",
            "_view_count": null,
            "_view_module": "@jupyter-widgets/base",
            "_view_module_version": "1.2.0",
            "_view_name": "StyleView",
            "bar_color": null,
            "description_width": ""
          }
        },
        "99aa82126ca44768814eda79f4ef0af8": {
          "model_module": "@jupyter-widgets/base",
          "model_name": "LayoutModel",
          "model_module_version": "1.2.0",
          "state": {
            "_model_module": "@jupyter-widgets/base",
            "_model_module_version": "1.2.0",
            "_model_name": "LayoutModel",
            "_view_count": null,
            "_view_module": "@jupyter-widgets/base",
            "_view_module_version": "1.2.0",
            "_view_name": "LayoutView",
            "align_content": null,
            "align_items": null,
            "align_self": null,
            "border": null,
            "bottom": null,
            "display": null,
            "flex": null,
            "flex_flow": null,
            "grid_area": null,
            "grid_auto_columns": null,
            "grid_auto_flow": null,
            "grid_auto_rows": null,
            "grid_column": null,
            "grid_gap": null,
            "grid_row": null,
            "grid_template_areas": null,
            "grid_template_columns": null,
            "grid_template_rows": null,
            "height": null,
            "justify_content": null,
            "justify_items": null,
            "left": null,
            "margin": null,
            "max_height": null,
            "max_width": null,
            "min_height": null,
            "min_width": null,
            "object_fit": null,
            "object_position": null,
            "order": null,
            "overflow": null,
            "overflow_x": null,
            "overflow_y": null,
            "padding": null,
            "right": null,
            "top": null,
            "visibility": null,
            "width": null
          }
        },
        "c61923ee94cf45b69f87b4fb7591c5df": {
          "model_module": "@jupyter-widgets/controls",
          "model_name": "DescriptionStyleModel",
          "model_module_version": "1.5.0",
          "state": {
            "_model_module": "@jupyter-widgets/controls",
            "_model_module_version": "1.5.0",
            "_model_name": "DescriptionStyleModel",
            "_view_count": null,
            "_view_module": "@jupyter-widgets/base",
            "_view_module_version": "1.2.0",
            "_view_name": "StyleView",
            "description_width": ""
          }
        }
      }
    }
  },
  "nbformat": 4,
  "nbformat_minor": 0
}