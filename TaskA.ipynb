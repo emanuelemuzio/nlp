{
 "cells": [
  {
   "cell_type": "markdown",
   "metadata": {},
   "source": [
    "# EMit - Emotions in Italian\n",
    "## Emotion and Target detection\n",
    "### Emanuele Muzio - 0766230\n",
    "Il presente notebook rappresenta un'illustrazione dello svolgimento dei due task del contest EMit (Emotions in Italian):\n",
    "- il primo task, o Task A, è mirato alla classificazione dei sentimenti espressi dai messaggi sui social media riguardanti i prodotti RAI\n",
    "- il secondo task, o Task B, è mirato alla classificazione del target del messaggio, se sul topic o sulla direzione\n",
    "Entrambi i task sono classificazione multiclasse e multilabel (nel Task A abbiamo 8 emozioni di base, più _Love_, nel Task B il target può essere uno dei due, entrambi o nessuno).\n",
    "\n",
    "Ai fini della valutazione dei due task, sono stati forniti dei dataset da utilizzare sia per l'addestramento che per i test, comprensivi di annotazioni.\n",
    "\n",
    "Per i test del modello sono stati forniti nello specifico due dataset: uno con dati presi all'interno del dominio dei messaggi relativi alle trasmissioni RAI, uno con dati presi fuori da questo dominio (detti OOD, Out of Domain)."
   ]
  },
  {
   "cell_type": "code",
   "execution_count": 73,
   "metadata": {},
   "outputs": [],
   "source": [
    "import pandas as pd\n",
    "import nltk\n",
    "from nltk.corpus import stopwords\n",
    "import matplotlib.pyplot as plt\n",
    "from sklearn.model_selection import train_test_split\n",
    "from tqdm.notebook import tqdm\n",
    "import copy, os\n",
    "import numpy as np\n",
    "from sklearn.metrics import classification_report as cr, f1_score as f1\n",
    "import seaborn as sns\n",
    "import random as rand\n",
    "import pickle \n",
    "import matplotlib.image as mpimg\n",
    "\n",
    "#Import torch\n",
    "import torch\n",
    "from torch import nn\n",
    "from torch.utils.data import DataLoader, Dataset\n",
    "from torch.optim import Adam\n",
    "from torchmetrics.classification import MultilabelAccuracy\n",
    "from transformers import AutoTokenizer, BertModel\n",
    "\n",
    "# Gestione delle emoji\n",
    "import emot as emot_imp\n",
    "emot = emot_imp.core.emot()"
   ]
  },
  {
   "cell_type": "markdown",
   "metadata": {},
   "source": [
    "## Task A: Emotion detection\n",
    "\n",
    "Per andare a ricercare la massima precisione (sia per quanto riguarda i dati che il modello), verranno effettuate diverse prove:\n",
    "- dati: verranno effettuati dei test usando sia dei dati preprocessati che i dati originali (dal momento che il blocco BERT-like del nostro modello trae informazioni anche da punteggiatura, stopwords ecc...)\n",
    "- modello: verranno testati diverse combinazioni di iperparametri usando un approccio randomizzato per trovare il modello migliore (valutato tramite F1 score)\n",
    "\n",
    "Per il primo task, procediamo in due step, partendo dal preprocessing del testo (rimozione stopwords, hashtag, menzioni, keyword RT, collegamenti ipertestuali) per poi andare alla classificazione.\n",
    "\n",
    "Per la tokenizzazione del testo è stato scelto un modello multilingua (dal momento che i messaggi riguardano un'emittente italiana) case-sensitive. \n",
    "\n",
    "Il supporto alle emoji/emoticons è stato aggiunto rilevando quelle presenti nel testo e facendo un resize del modello per poterle gestire.\n",
    "\n",
    "Il modello BERT-like da HuggingFace utilizzato è il seguente: _bert-base-multilingual-cased_."
   ]
  },
  {
   "cell_type": "code",
   "execution_count": 74,
   "metadata": {},
   "outputs": [
    {
     "name": "stderr",
     "output_type": "stream",
     "text": [
      "[nltk_data] Downloading package stopwords to C:\\Users\\IT-\n",
      "[nltk_data]     PC-81060188H\\AppData\\Roaming\\nltk_data...\n",
      "[nltk_data]   Package stopwords is already up-to-date!\n"
     ]
    }
   ],
   "source": [
    "data = pd.read_csv(\"release\\emit_2023-v1\\emit_train_A.csv\")\n",
    "text_prep = data[\"text\"]\n",
    "text = data[\"text\"]\n",
    "emotions = data.drop([\"id\",\"text\"], axis=1)\n",
    "emotions_prep = data.drop([\"id\",\"text\"], axis=1)\n",
    "model_name = 'bert-base-multilingual-cased'\n",
    "tokenizer = AutoTokenizer.from_pretrained(model_name)\n",
    "model = BertModel.from_pretrained(model_name)\n",
    "nltk.download('stopwords')\n",
    "stopwords_it = stopwords.words('italian')\n",
    "X_keywords = ['RT', 'FAV']"
   ]
  },
  {
   "cell_type": "code",
   "execution_count": 75,
   "metadata": {},
   "outputs": [],
   "source": [
    "# Funzione che raccoglie i principali 4 controlli che vengono effettuati sul testo, ovvero: \n",
    "# - presenza di menzioni ad altri utenti\n",
    "# - presenza di collegamenti esterni\n",
    "# - presenza di keyword relative a X (RT, FAV, quest'ultima non presente nei nostri dati)\n",
    "# - presenza di stop-words in lingua italiana dalla lista fornita dal NaturalLanguageToolKit\n",
    "\n",
    "def preprocess(text):\n",
    "    new_text = []\n",
    "    for t in text.split(\" \"):\n",
    "        if t.startswith('@') and len(t) > 1 or t.startswith('http') or t in X_keywords or t.lower() in stopwords_it:\n",
    "            continue\n",
    "        else:\n",
    "            new_text.append(t)\n",
    "    return \" \".join(new_text)\n",
    "\n",
    "# Funzione per l'estrazione degli hashtag dai messaggi\n",
    "\n",
    "def getHashtags(text):\n",
    "    hashtags = []\n",
    "    for t in text.split(\" \"):\n",
    "        if t.startswith('#') and len(t) > 1:\n",
    "            hashtags.append(t)\n",
    "        else:\n",
    "            continue\n",
    "    return hashtags\n",
    "\n",
    "# Funzione per la rimozione degli hashtag dai messaggi\n",
    "\n",
    "def removeHashTags(text):\n",
    "    new_text = []\n",
    "    for t in text.split(\" \"):\n",
    "        if t.startswith('#') and len(t) > 1:\n",
    "            continue\n",
    "        else:\n",
    "            new_text.append(t)\n",
    "    return \" \".join(new_text)\n",
    "\n",
    "def intersection(lst1, lst2):\n",
    "    lst3 = [value for value in lst1 if value in lst2]\n",
    "    return lst3"
   ]
  },
  {
   "cell_type": "markdown",
   "metadata": {},
   "source": [
    "### Task A: Preprocessing\n",
    "Al fine di valutare soltanto le parti più importanti dei messaggi, con un contributo semantico più corposo, sono state prese diverse decisioni:\n",
    "- Eliminazione delle menzioni degli utenti (nomi utenti già oscurati nel dataset utilizzato)\n",
    "- Eliminazione delle stopword da NLTK\n",
    "- Eliminazione delle keyword legate a X (RT per i retweet e FAV per i messaggi preferiti)\n",
    "- Eliminazione link esterni\n",
    "- Eliminazione hashtag"
   ]
  },
  {
   "cell_type": "markdown",
   "metadata": {},
   "source": [
    "Controlliamo innanzitutto l'integrità dei dati di addestramento"
   ]
  },
  {
   "cell_type": "code",
   "execution_count": 76,
   "metadata": {},
   "outputs": [
    {
     "data": {
      "text/plain": [
       "id              0\n",
       "text            0\n",
       "Anger           0\n",
       "Anticipation    0\n",
       "Disgust         0\n",
       "Fear            0\n",
       "Joy             0\n",
       "Love            0\n",
       "Neutral         0\n",
       "Sadness         0\n",
       "Surprise        0\n",
       "Trust           0\n",
       "dtype: int64"
      ]
     },
     "execution_count": 76,
     "metadata": {},
     "output_type": "execute_result"
    }
   ],
   "source": [
    "data.isna().sum()"
   ]
  },
  {
   "cell_type": "markdown",
   "metadata": {},
   "source": [
    "Non è necessario fare imputazione in quanto non ci sono dati mancanti all'interno del dataset di addestramento."
   ]
  },
  {
   "cell_type": "markdown",
   "metadata": {},
   "source": [
    "Controlliamo anche velocemente quali sono le emozioni maggiormente espresse nei messaggi.\n",
    "\n",
    "Possiamo vedere come i messaggi esprimano emozioni variegate (con un picco nei messaggi di fiducia/incoraggiamento e un minimo nei messaggi che esprimono timore o paura, fatto comprensibile dal momento che la maggior parte dei commenti riguarda trasmissioni in onda)."
   ]
  },
  {
   "cell_type": "code",
   "execution_count": 77,
   "metadata": {},
   "outputs": [
    {
     "data": {
      "text/plain": [
       "<BarContainer object of 10 artists>"
      ]
     },
     "execution_count": 77,
     "metadata": {},
     "output_type": "execute_result"
    },
    {
     "data": {
      "image/png": "[encoded data removed]",
      "text/plain": [
       "<Figure size 640x480 with 1 Axes>"
      ]
     },
     "metadata": {},
     "output_type": "display_data"
    }
   ],
   "source": [
    "plt.barh(emotions.columns, [emotions[column].sum() for column in emotions.columns])"
   ]
  },
  {
   "cell_type": "markdown",
   "metadata": {},
   "source": [
    "Possiamo adesso procedere al preprocessing del testo."
   ]
  },
  {
   "cell_type": "code",
   "execution_count": 78,
   "metadata": {},
   "outputs": [],
   "source": [
    "text_prep = text_prep.apply(preprocess)"
   ]
  },
  {
   "cell_type": "markdown",
   "metadata": {},
   "source": [
    "Dopo questo primo passo, è sorto un dubbio riguardante l'utilità degli hashtag e la conseguente decisione sul mantenerli o meno. \n",
    "La scelta finale è stata quella di rimuoverli, dal momento che gli hashtag più diffusi almeno in questa prima fase non aggiungono molto valore al testo essendo relativi al topic (generalmente il nome del programma televisivo interessato).\n",
    "\n",
    "Potrebbe essere interessante mantenere queste informazioni per fare uno studio di sentiment analysis differenziata per singolo programma televisivo, tuttavia non è il focus principale del progetto.\n",
    "\n",
    "Sono stati rilevati in totale 1126 hashtag unici su 5990 totali (in riferimento ai dati di addestramento), con una distribuzione sbilanciata fortemente verso i 20-30 circa più usati, che sono risultati essere hashtag relativi appunto al nome della trasmissione televisiva oggetto del testo."
   ]
  },
  {
   "cell_type": "code",
   "execution_count": 79,
   "metadata": {},
   "outputs": [],
   "source": [
    "hashtag_list = list(map(getHashtags, text_prep))\n",
    "hashtags = []\n",
    "\n",
    "for h in hashtag_list:\n",
    "    hashtags.extend(h)\n",
    "\n",
    "hashtags = list(sorted(hashtags))\n",
    "unique_hashtags = list(set(hashtags))\n",
    "hasht_count = [hashtags.count(h) for h in unique_hashtags]\n",
    "\n",
    "sorted_h = [x for _, x in sorted(zip(hasht_count, unique_hashtags), reverse=True)]\n",
    "sorted_h_c = list(sorted(hasht_count,reverse=True))"
   ]
  },
  {
   "cell_type": "code",
   "execution_count": 80,
   "metadata": {},
   "outputs": [
    {
     "data": {
      "text/plain": [
       "<BarContainer object of 25 artists>"
      ]
     },
     "execution_count": 80,
     "metadata": {},
     "output_type": "execute_result"
    },
    {
     "data": {
      "image/png": "[encoded data removed]",
      "text/plain": [
       "<Figure size 640x480 with 1 Axes>"
      ]
     },
     "metadata": {},
     "output_type": "display_data"
    }
   ],
   "source": [
    "plt.title(\"Top 25 Hashtag più frequenti\")\n",
    "plt.barh(sorted_h[:25], sorted_h_c[:25])"
   ]
  },
  {
   "cell_type": "code",
   "execution_count": 81,
   "metadata": {},
   "outputs": [],
   "source": [
    "text_prep = text_prep.apply(removeHashTags)"
   ]
  },
  {
   "cell_type": "markdown",
   "metadata": {},
   "source": [
    "Alcuni messaggi sono composti soltanto da menzioni \n",
    "o semplici hashtag, per cui facciamo una veloce pulizia prima di procedere \n",
    "(al contrario, alcuni messaggi non verrebbero processati dal tokenizer, causando degli errori)"
   ]
  },
  {
   "cell_type": "code",
   "execution_count": 82,
   "metadata": {},
   "outputs": [],
   "source": [
    "for i in range(len(text_prep)):\n",
    "    if(len(text_prep[i]) == 0):\n",
    "        text_prep.drop(i, axis=0, inplace=True)\n",
    "        emotions_prep.drop(i, axis=0, inplace=True)"
   ]
  },
  {
   "cell_type": "markdown",
   "metadata": {},
   "source": [
    "Prima di procedere alla classificazione vera e propria, dobbiamo adattare il tokenizer alla presenza delle emoji nel testo, elemento importante per l'interpretazione dei messaggi.\n",
    "\n",
    "Facciamo quindi una ricerca di emoji ed emoticons presenti e aggiungiamole al tokenizer tramite la funzione add_tokens(), per poi fare un resize del modello e completare questo step."
   ]
  },
  {
   "cell_type": "code",
   "execution_count": 83,
   "metadata": {},
   "outputs": [],
   "source": [
    "bulk_emoji = emot.bulk_emoji(text_prep)\n",
    "\n",
    "unique_emoji = []\n",
    "\n",
    "for i in range(len(bulk_emoji)):\n",
    "    res = bulk_emoji[i]\n",
    "    if res['flag']:\n",
    "        unique_emoji.extend(res['value'])\n",
    "\n",
    "unique_emoji = list(set(unique_emoji))\n",
    "\n",
    "emoji_to_add = set(unique_emoji) - set(tokenizer.vocab.keys())"
   ]
  },
  {
   "cell_type": "code",
   "execution_count": 84,
   "metadata": {},
   "outputs": [],
   "source": [
    "bulk_emoticons = emot.bulk_emoticons(text_prep)\n",
    "\n",
    "unique_emoticons = []\n",
    "\n",
    "for i in range(len(bulk_emoticons)):\n",
    "    res = bulk_emoticons[i]\n",
    "    if res['flag']:\n",
    "        unique_emoticons.extend(res['value'])\n",
    "\n",
    "unique_emoticons = list(set(unique_emoticons))\n",
    "\n",
    "emoticons_to_add = set(unique_emoticons) - set(tokenizer.vocab.keys())"
   ]
  },
  {
   "cell_type": "code",
   "execution_count": 85,
   "metadata": {},
   "outputs": [],
   "source": [
    "new_tokens = []\n",
    "new_tokens.extend(emoji_to_add)\n",
    "new_tokens.extend(emoticons_to_add)"
   ]
  },
  {
   "cell_type": "code",
   "execution_count": 86,
   "metadata": {},
   "outputs": [
    {
     "name": "stdout",
     "output_type": "stream",
     "text": [
      "Adding: 261 emoji/emoticons\n"
     ]
    }
   ],
   "source": [
    "print(f\"Adding: {len(new_tokens)} emoji/emoticons\")"
   ]
  },
  {
   "cell_type": "code",
   "execution_count": 87,
   "metadata": {},
   "outputs": [
    {
     "data": {
      "text/plain": [
       "Embedding(119808, 768)"
      ]
     },
     "execution_count": 87,
     "metadata": {},
     "output_type": "execute_result"
    }
   ],
   "source": [
    "tokenizer.add_tokens(list(new_tokens))\n",
    "model.resize_token_embeddings(len(tokenizer))"
   ]
  },
  {
   "cell_type": "markdown",
   "metadata": {},
   "source": [
    "Vediamo adesso di stabilire brevemente una lunghezza massima in parole dei messaggi.\n",
    "\n",
    "Possiamo vedere come la stragrande maggioranza dei messaggi abbia una lunghezza inferiore a 25-30 parole, per cui useremo 30 come tetto massimo."
   ]
  },
  {
   "cell_type": "code",
   "execution_count": 88,
   "metadata": {},
   "outputs": [
    {
     "data": {
      "image/png": "[encoded data removed]",
      "text/plain": [
       "<Figure size 640x480 with 1 Axes>"
      ]
     },
     "metadata": {},
     "output_type": "display_data"
    }
   ],
   "source": [
    "plt.hist([len(t.split(' ')) for t in text_prep])\n",
    "MAX_LEN = 30"
   ]
  },
  {
   "cell_type": "markdown",
   "metadata": {},
   "source": [
    "Vediamo come appare il testo dei messaggi dopo questa operazione di pulizia"
   ]
  },
  {
   "cell_type": "code",
   "execution_count": 89,
   "metadata": {},
   "outputs": [
    {
     "name": "stdout",
     "output_type": "stream",
     "text": [
      "@user Appunto Maurizio 😁 e i loro marchio di fabbrica 😉 \n",
      " Appunto Maurizio 😁 marchio fabbrica 😉\n"
     ]
    }
   ],
   "source": [
    "print(text[5], '\\n',text_prep[5])"
   ]
  },
  {
   "cell_type": "markdown",
   "metadata": {},
   "source": [
    "## Task A: Classificazione\n",
    "\n",
    "Arrivati a questo punto, dobbiamo per prima cosa addestrare il nostro classificatore per il task che dovrà svolgere.\n",
    "\n",
    "La struttura adottata sarà composta da un BTE (Bidirectional Transformer Encoder) per l'encoding degli embeddings generati dal tokenizer.\n",
    "A questa base aggiungiamo un layer dense e infine una sigmoide che ci permette di fare la classificazione multi-label richiesta.\n",
    "\n",
    "Procediamo a passare tutti i dati etichettati al nostro classificatore.\n",
    "\n",
    "Sfruttiamo, se possibile, l'architettura CUDA."
   ]
  },
  {
   "cell_type": "code",
   "execution_count": 90,
   "metadata": {},
   "outputs": [
    {
     "name": "stdout",
     "output_type": "stream",
     "text": [
      "Using cpu device\n"
     ]
    }
   ],
   "source": [
    "device = (\"cpu\")\n",
    "\n",
    "if torch.cuda.is_available():\n",
    "    torch.cuda.empty_cache()\n",
    "    device = (\"cuda\")\n",
    "\n",
    "print(f\"Using {device} device\")"
   ]
  },
  {
   "cell_type": "markdown",
   "metadata": {},
   "source": [
    "Definiamo in anticipo la struttura del nostro dataset sfruttando le API di Pytorch: trasformeremo infatti i nostri dataset attraverso un dataloader, classe che ci permette di dividere in batch i nostri dati durante l'addestramento."
   ]
  },
  {
   "cell_type": "code",
   "execution_count": 91,
   "metadata": {},
   "outputs": [],
   "source": [
    "# inputs: testi dei messaggi\n",
    "# labels: target relativo alle reali emozioni espresse dal messaggio, es. [0, 0, 1, 0...]\n",
    "# tokenizer: il tokenizer a cui abbiamo aggiunto le emoji precedentemente\n",
    "# MAX_LEN: lunghezza massima oltre il quale il tokenizer effettuerà un truncate sui messaggi\n",
    "\n",
    "class _Dataset(Dataset):\n",
    "    def __init__(self, inputs, labels, tokenizer, MAX_LEN, transform=None):\n",
    "        self.transform = transform\n",
    "        self.inputs = inputs            \n",
    "        self.labels = [torch.tensor(l) for l in labels]           \n",
    "        self.tokenizer = tokenizer\n",
    "        self.MAX_LEN = MAX_LEN\n",
    "      \n",
    "    def __len__(self):\n",
    "        return len(self.inputs)       \n",
    "\n",
    "    # Estraiamo tramite tokenizer gli id dell'input da passare al modello\n",
    "    # Dobbiamo infatti lavorare con gli embeddings per \n",
    "    # poter classificare il nostro testo\n",
    "    \n",
    "    def __getitem__(self, idx):\n",
    "        inputs = tokenizer(self.inputs.iloc[idx], add_special_tokens=True,\n",
    "                            return_tensors='pt', padding='max_length',\n",
    "                            max_length = self.MAX_LEN, truncation=True) \n",
    "        labels = self.labels[idx]\n",
    "        return {\n",
    "            'ids': inputs['input_ids'],\n",
    "            'mask': inputs['attention_mask'],\n",
    "            'token_type_ids': inputs['token_type_ids'],\n",
    "            'labels': labels\n",
    "        } "
   ]
  },
  {
   "cell_type": "markdown",
   "metadata": {},
   "source": [
    "Andiamo adesso a definire la struttura del nostro classificatore, che possiamo dividere in due macro blocchi:\n",
    "- blocco BERT-like che gestisce l'input (ovvero i dati testuali tokenizzati)\n",
    "- blocco di classificazione multi-classe multi-label (principalmente un layer dense e una sigmoide in uscita)\n",
    "\n",
    "Ci interessa in particolare andare a recuperare l'ultimo strato nascosto del blocco BERT-like in modo da passarlo al classificatore e ottenere le logits."
   ]
  },
  {
   "cell_type": "code",
   "execution_count": 92,
   "metadata": {},
   "outputs": [],
   "source": [
    "\n",
    "\n",
    "class BTEClassifier(nn.Module):\n",
    "    def __init__(self, dropout, num_classes, bte):\n",
    "        super(BTEClassifier, self).__init__()\n",
    "        self.bte = bte # Blocco BTE - Bidirectional Transformer Encoder\n",
    "        self.classifier = nn.Sequential(\n",
    "            nn.Dropout(dropout), # Layer di dropout,\n",
    "            nn.Linear(768, num_classes), # Layer dense su cui fare fine tuning\n",
    "            nn.Sigmoid() \n",
    "        )\n",
    "\n",
    "    def forward(self, ids, mask, token_type_ids):\n",
    "        output = self.bte(ids, attention_mask = mask, token_type_ids = token_type_ids).last_hidden_state\n",
    "        output = output[:,0,:]\n",
    "        output = self.classifier(output)\n",
    "        return output"
   ]
  },
  {
   "cell_type": "markdown",
   "metadata": {},
   "source": [
    "E' stato scelto di implementare un piccolo meccanismo di early stopping per l'addestramento in modo da velocizzare il processo e non sprecare inutilmente tempo su configurazioni non particolarmente proficue di iperparametri della rete.\n",
    "\n",
    "E' stato poi impostato con un livello di pazienza molto sensibile e un delta ragionevolmente alto in base ai risultati osservati (ovvero generalmente una minimizzazione della loss lenta) e a causa dei rallentamenti osservati con il procedere dell'addestramento."
   ]
  },
  {
   "cell_type": "code",
   "execution_count": 93,
   "metadata": {},
   "outputs": [],
   "source": [
    "class EarlyStopper:\n",
    "    def __init__(self, patience=1, min_delta=0):\n",
    "        self.patience = patience\n",
    "        self.min_delta = min_delta\n",
    "        self.counter = 0\n",
    "        self.min_validation_loss = float('inf')\n",
    "        \n",
    "    # Ad ogni epoca, se non è stato osservato un miglioramento vero e proprio per più di n epoche\n",
    "    # (dove n = patience dell'early stopper) verrà interrotto l'addestramento di quel modello\n",
    "    \n",
    "    def early_stop(self, validation_loss):\n",
    "        if validation_loss < self.min_validation_loss:\n",
    "            self.min_validation_loss = validation_loss\n",
    "            self.counter = 0\n",
    "        elif validation_loss > (self.min_validation_loss + self.min_delta):\n",
    "            self.counter += 1\n",
    "            if self.counter >= self.patience:\n",
    "                return True\n",
    "        return False"
   ]
  },
  {
   "cell_type": "markdown",
   "metadata": {},
   "source": [
    "Vediamo adesso il loop di addestramento, dal momento che andremo a fare fine tuning del modello per adattarlo ai nostri dati:\n",
    "- segnaliamo a pytorch l'inizio dell'addestramento tramite invocazione del metodo _.train()_\n",
    "- calcoliamo la loss sui risultati ottenuti tramite Binary Cross-Entropy\n",
    "- aggiornamento del gradiente trmaite funzione _.backward()_\n",
    "- tramite optimizer (Adam nel nostro caso) faccio un singolo step di ottimizzazione (_.step()_)\n",
    "- aggiorno la loss e l'accuracy dell'epoca (quest'ultima misurata tramite la MultiLabelAccuracy da Pytorch) e ripeto"
   ]
  },
  {
   "cell_type": "code",
   "execution_count": 94,
   "metadata": {},
   "outputs": [],
   "source": [
    "def train(model, dataloader, loss, accuracy, optimizer, device):\n",
    "    model.train()\n",
    "\n",
    "    epoch_acc = 0\n",
    "    epoch_loss = 0\n",
    "\n",
    "    for d in tqdm(dataloader):\n",
    "        (ids, mask, token_type_ids, labels_) = d.values()\n",
    "\n",
    "        optimizer.zero_grad()\n",
    "\n",
    "        input_ids = ids.squeeze(1).to(device)\n",
    "        input_mask = mask.squeeze(1).to(device)\n",
    "        input_token_type_ids = token_type_ids.squeeze(1).to(device)\n",
    "        labels_ = labels_.squeeze(1).to(device).float()\n",
    "\n",
    "        output = model(input_ids, input_mask, input_token_type_ids)\n",
    "\n",
    "        batch_loss = loss(output, labels_)\n",
    "        batch_loss.backward()\n",
    "        optimizer.step()\n",
    "\n",
    "        epoch_loss += batch_loss.item()\n",
    "        epoch_acc += accuracy(output, labels_).item()\n",
    "        \n",
    "        input_ids = input_ids.detach().cpu()\n",
    "        input_mask = input_mask.detach().cpu()\n",
    "        input_token_type_ids = input_token_type_ids.detach().cpu()\n",
    "        labels_ = labels_.detach().cpu()\n",
    "        \n",
    "    return epoch_loss/len(dataloader), epoch_acc/len(dataloader), model"
   ]
  },
  {
   "cell_type": "markdown",
   "metadata": {},
   "source": [
    "Passiamo invece alla fase di valiazione:\n",
    "- informo il modello che siamo in fase di valutazione (_.eval()_) e che non ho necessità di avere informazioni sul gradiente (_.no grad()_)\n",
    "- aggiorno loss e accuracy del modello come in fase di addestramento, e se durante quest'epoca ho raggiunto l'accuracy massima ottenuta fino ad ora, conservo il risultato e i pesi, effettuando un salvataggio dello stato del modello"
   ]
  },
  {
   "cell_type": "code",
   "execution_count": 95,
   "metadata": {},
   "outputs": [],
   "source": [
    "def val(model, dataloader, loss, accuracy, device, best_acc, best_weights):\n",
    "    model.eval()\n",
    "\n",
    "    epoch_acc = 0\n",
    "    epoch_loss = 0\n",
    "    \n",
    "    with torch.no_grad():\n",
    "        for d in tqdm(dataloader):\n",
    "            (ids, mask, token_type_ids, labels_) = d.values()\n",
    "\n",
    "            input_ids = ids.squeeze(1).to(device)\n",
    "            input_mask = mask.squeeze(1).to(device)\n",
    "            input_token_type_ids = token_type_ids.squeeze(1).to(device)\n",
    "            labels_ = labels_.squeeze(1).to(device).float()\n",
    "\n",
    "            output = model(input_ids, input_mask, input_token_type_ids)\n",
    "            \n",
    "            batch_loss = loss(output, labels_)\n",
    "            epoch_loss += batch_loss.item()\n",
    "\n",
    "            epoch_acc += accuracy(output, labels_).item()\n",
    "            \n",
    "            input_ids = input_ids.detach().cpu()\n",
    "            input_mask = input_mask.detach().cpu()\n",
    "            input_token_type_ids = input_token_type_ids.detach().cpu()\n",
    "            labels_ = labels_.detach().cpu()\n",
    "\n",
    "        acc = float(epoch_acc/len(dataloader))\n",
    "        if acc > best_acc:\n",
    "            best_acc = acc\n",
    "            best_weights = copy.deepcopy(model.state_dict())\n",
    "    \n",
    "    return epoch_loss/len(dataloader), epoch_acc/len(dataloader), best_acc, best_weights, model"
   ]
  },
  {
   "cell_type": "markdown",
   "metadata": {},
   "source": [
    "Vediamo adesso il ciclo completo di addestramento:\n",
    "- passaggio dei dataset ai dataloader\n",
    "- per ogni epoca:\n",
    "    - misuro loss e accuracy per quell'epoca\n",
    "    - effettuo la validazione\n",
    "    - faccio un controllo tramite meccanismo di early stopping definito in precedenza\n",
    "    - ripeto fino a incontrare i criteri di early stop o a completamento del loop"
   ]
  },
  {
   "cell_type": "code",
   "execution_count": 96,
   "metadata": {},
   "outputs": [],
   "source": [
    "def evaluate(model, epochs, optimizer, device, train_data, val_data,\n",
    "               batch_size, accuracy, loss, early_stopper):\n",
    "\n",
    "  train_dataloader = DataLoader(train_data, batch_size=batch_size, shuffle=True)\n",
    "  val_dataloader = DataLoader(val_data, batch_size=batch_size)\n",
    "\n",
    "  # liste dei valori di loss e accuracy epoca per epoca per il plot\n",
    "  train_loss = []\n",
    "  val_loss = []\n",
    "\n",
    "  train_acc = []\n",
    "  val_acc = []\n",
    "  best_acc = - np.inf\n",
    "  best_weights = None\n",
    "\n",
    "  # Ciclo di addestramento \n",
    "  for epoch in tqdm(range(1, epochs+1)):\n",
    "    epoch_train_loss, epoch_train_acc, model = train(model, train_dataloader, loss, accuracy, optimizer, device)\n",
    "    train_loss.append(epoch_train_loss)\n",
    "    train_acc.append(epoch_train_acc)\n",
    "    \n",
    "    epoch_val_loss, epoch_val_acc, best_acc, best_weights, model = val(model, val_dataloader, loss, accuracy, device, best_acc, best_weights)\n",
    "    val_loss.append(epoch_val_loss)\n",
    "    val_acc.append(epoch_val_acc)\n",
    "\n",
    "    if early_stopper.early_stop(epoch_val_loss):             \n",
    "      break\n",
    "\n",
    "    print(f\"\\nTrain loss: {epoch_train_loss:6.4f} Val loss: {epoch_val_loss:6.4f}\")\n",
    "    print(f\"Train accuracy: {(epoch_train_acc):6.4f} Val accuracy: {(epoch_val_acc):6.4f}\")\n",
    "\n",
    "  return train_loss, val_loss, train_acc, val_acc, best_acc, best_weights"
   ]
  },
  {
   "cell_type": "markdown",
   "metadata": {},
   "source": [
    "L'inferenza sul modello addestrato verrà infine effettuata in questo modo, assegnando una label se la rispettiva logit supera il valore di 0.5 (o equivalentemente il 50% di probabilità)."
   ]
  },
  {
   "cell_type": "code",
   "execution_count": 97,
   "metadata": {},
   "outputs": [],
   "source": [
    "def predict(model, dataset):\n",
    "    dataloader = DataLoader(dataset)\n",
    "    predictions = []\n",
    "\n",
    "    with torch.no_grad():\n",
    "        for d in tqdm(dataloader):\n",
    "            (ids, mask, token_type_ids, labels_) = d.values()\n",
    "\n",
    "            input_ids = ids.squeeze(1).to(device)\n",
    "            input_mask = mask.squeeze(1).to(device)\n",
    "            input_token_type_ids = token_type_ids.squeeze(1).to(device)\n",
    "            labels_ = labels_.squeeze(1).to(device).float()\n",
    "\n",
    "            output = model(input_ids, input_mask, input_token_type_ids)\n",
    "\n",
    "            output = output.squeeze(0).detach().cpu().tolist()\n",
    "            pred = [1 if o > .5 else 0 for o in output]\n",
    "            input_ids= input_ids.detach().cpu()\n",
    "            input_mask = input_mask.detach().cpu()\n",
    "            input_token_type_ids = input_token_type_ids.detach().cpu()\n",
    "            labels_ = labels_.detach().cpu()\n",
    "            predictions.append(pred)\n",
    "        \n",
    "    return predictions"
   ]
  },
  {
   "cell_type": "markdown",
   "metadata": {},
   "source": [
    "Come detto in precedenza, è stato usato un approccio simil Randomized Search CV, ovvero:\n",
    "\n",
    "A partire dalla seguente griglia di iperparametri, sono state effettuati in totale 10 addestramenti (5 per i testi preprocessati, 5 per quelli non preprocessati). \n",
    "\n",
    "Per ogni addestramento, sono stati presi casualmente dei parametri (in modo tale ovviamente da non incappare in due addestramenti con gli stessi parametri) e salvati pesi e history dell'addestramento (iperparametri usati, train e validation loss/accuracy nel tempo).\n",
    "\n",
    "I grafici sono stati salvati per non dover ripetere l'addestramento in futuro, così come i file .pt contenenti i pesi.\n",
    "\n",
    "Non è possibile condividere tramite github i pesi a causa delle dimensioni dei singoli file (circa 6-700MB), tuttavia è possibile richiederli e verranno condivisi per eventuali prove e/o miglioramenti."
   ]
  },
  {
   "cell_type": "code",
   "execution_count": 98,
   "metadata": {},
   "outputs": [],
   "source": [
    "hyperparameters = {\n",
    "    'dropout' : [0.1, 0.2, 0.3, 0.4],\n",
    "    'batch_size' : [4, 8, 16, 32],\n",
    "    'epochs' : [5, 10, 20],\n",
    "    'lr' : [1e-06, 1e-05, 1e-04, 1e-03],\n",
    "    'max_len' : MAX_LEN,\n",
    "    'num_classes' : 10,\n",
    "}\n",
    "\n",
    "loss = nn.BCELoss()"
   ]
  },
  {
   "cell_type": "code",
   "execution_count": 99,
   "metadata": {},
   "outputs": [],
   "source": [
    "X_train, X_val, Y_train, Y_val = train_test_split(text, emotions.to_numpy(), test_size=0.3)\n",
    "train_dataset = _Dataset(X_train, Y_train, tokenizer, hyperparameters['max_len'])\n",
    "val_dataset = _Dataset(X_val, Y_val, tokenizer, hyperparameters['max_len'])\n",
    "\n",
    "X_train_prep, X_val_prep, Y_train_prep, Y_val_prep = train_test_split(text_prep, emotions_prep.to_numpy(), test_size=0.3)\n",
    "train_dataset_prep = _Dataset(X_train_prep, Y_train_prep, tokenizer, hyperparameters['max_len'])\n",
    "val_dataset_prep = _Dataset(X_val_prep, Y_val_prep, tokenizer, hyperparameters['max_len'])"
   ]
  },
  {
   "cell_type": "markdown",
   "metadata": {},
   "source": [
    "Salviamo i risultati serializzandoli tramite il pacchetto pickle (i file non sono disponbili su github per lo stesso motivo per cui non lo sono i pesi, tuttavia i risultati sono mostrati a seguire tramite grafici)."
   ]
  },
  {
   "cell_type": "code",
   "execution_count": 101,
   "metadata": {},
   "outputs": [
    {
     "data": {
      "application/vnd.jupyter.widget-view+json": {
       "model_id": "9611485a19b545aba4d4c7e6c5fe571b",
       "version_major": 2,
       "version_minor": 0
      },
      "text/plain": [
       "  0%|          | 0/5 [00:00<?, ?it/s]"
      ]
     },
     "metadata": {},
     "output_type": "display_data"
    },
    {
     "data": {
      "application/vnd.jupyter.widget-view+json": {
       "model_id": "8a12f74bad734a16ab80ffc09a33ca23",
       "version_major": 2,
       "version_minor": 0
      },
      "text/plain": [
       "  0%|          | 0/131 [00:00<?, ?it/s]"
      ]
     },
     "metadata": {},
     "output_type": "display_data"
    },
    {
     "ename": "KeyboardInterrupt",
     "evalue": "",
     "output_type": "error",
     "traceback": [
      "\u001b[1;31m---------------------------------------------------------------------------\u001b[0m",
      "\u001b[1;31mKeyboardInterrupt\u001b[0m                         Traceback (most recent call last)",
      "Cell \u001b[1;32mIn[101], line 30\u001b[0m\n\u001b[0;32m     27\u001b[0m classifier \u001b[38;5;241m=\u001b[39m BTEClassifier(dropout, hyperparameters[\u001b[38;5;124m'\u001b[39m\u001b[38;5;124mnum_classes\u001b[39m\u001b[38;5;124m'\u001b[39m], model)\u001b[38;5;241m.\u001b[39mto(device)\n\u001b[0;32m     28\u001b[0m optimizer \u001b[38;5;241m=\u001b[39m Adam(classifier\u001b[38;5;241m.\u001b[39mparameters(), lr\u001b[38;5;241m=\u001b[39mlr)\n\u001b[1;32m---> 30\u001b[0m train_loss, val_loss, train_acc, val_acc, best_acc, best_weights \u001b[38;5;241m=\u001b[39m \u001b[43mevaluate\u001b[49m\u001b[43m(\u001b[49m\n\u001b[0;32m     31\u001b[0m \u001b[43m    \u001b[49m\u001b[43mclassifier\u001b[49m\u001b[43m,\u001b[49m\u001b[43m \u001b[49m\n\u001b[0;32m     32\u001b[0m \u001b[43m    \u001b[49m\u001b[43mepochs\u001b[49m\u001b[43m,\u001b[49m\u001b[43m \u001b[49m\n\u001b[0;32m     33\u001b[0m \u001b[43m    \u001b[49m\u001b[43moptimizer\u001b[49m\u001b[43m,\u001b[49m\u001b[43m \u001b[49m\n\u001b[0;32m     34\u001b[0m \u001b[43m    \u001b[49m\u001b[43mdevice\u001b[49m\u001b[43m,\u001b[49m\u001b[43m \u001b[49m\n\u001b[0;32m     35\u001b[0m \u001b[43m    \u001b[49m\u001b[43mtrain_dataset\u001b[49m\u001b[43m,\u001b[49m\u001b[43m \u001b[49m\n\u001b[0;32m     36\u001b[0m \u001b[43m    \u001b[49m\u001b[43mval_dataset\u001b[49m\u001b[43m,\u001b[49m\n\u001b[0;32m     37\u001b[0m \u001b[43m    \u001b[49m\u001b[43mbatch_size\u001b[49m\u001b[43m,\u001b[49m\u001b[43m \u001b[49m\n\u001b[0;32m     38\u001b[0m \u001b[43m    \u001b[49m\u001b[43maccuracy\u001b[49m\u001b[43m,\u001b[49m\u001b[43m \u001b[49m\n\u001b[0;32m     39\u001b[0m \u001b[43m    \u001b[49m\u001b[43mloss\u001b[49m\u001b[43m,\u001b[49m\n\u001b[0;32m     40\u001b[0m \u001b[43m    \u001b[49m\u001b[43mearly_stopper\u001b[49m\n\u001b[0;32m     41\u001b[0m \u001b[43m\u001b[49m\u001b[43m)\u001b[49m\n\u001b[0;32m     43\u001b[0m classifier \u001b[38;5;241m=\u001b[39m classifier\u001b[38;5;241m.\u001b[39mcpu()\n\u001b[0;32m     44\u001b[0m accuracy \u001b[38;5;241m=\u001b[39m accuracy\u001b[38;5;241m.\u001b[39mcpu()\n",
      "Cell \u001b[1;32mIn[96], line 18\u001b[0m, in \u001b[0;36mevaluate\u001b[1;34m(model, epochs, optimizer, device, train_data, val_data, batch_size, accuracy, loss, early_stopper)\u001b[0m\n\u001b[0;32m     16\u001b[0m \u001b[38;5;66;03m# Ciclo di addestramento \u001b[39;00m\n\u001b[0;32m     17\u001b[0m \u001b[38;5;28;01mfor\u001b[39;00m epoch \u001b[38;5;129;01min\u001b[39;00m tqdm(\u001b[38;5;28mrange\u001b[39m(\u001b[38;5;241m1\u001b[39m, epochs\u001b[38;5;241m+\u001b[39m\u001b[38;5;241m1\u001b[39m)):\n\u001b[1;32m---> 18\u001b[0m   epoch_train_loss, epoch_train_acc, model \u001b[38;5;241m=\u001b[39m \u001b[43mtrain\u001b[49m\u001b[43m(\u001b[49m\u001b[43mmodel\u001b[49m\u001b[43m,\u001b[49m\u001b[43m \u001b[49m\u001b[43mtrain_dataloader\u001b[49m\u001b[43m,\u001b[49m\u001b[43m \u001b[49m\u001b[43mloss\u001b[49m\u001b[43m,\u001b[49m\u001b[43m \u001b[49m\u001b[43maccuracy\u001b[49m\u001b[43m,\u001b[49m\u001b[43m \u001b[49m\u001b[43moptimizer\u001b[49m\u001b[43m,\u001b[49m\u001b[43m \u001b[49m\u001b[43mdevice\u001b[49m\u001b[43m)\u001b[49m\n\u001b[0;32m     19\u001b[0m   train_loss\u001b[38;5;241m.\u001b[39mappend(epoch_train_loss)\n\u001b[0;32m     20\u001b[0m   train_acc\u001b[38;5;241m.\u001b[39mappend(epoch_train_acc)\n",
      "Cell \u001b[1;32mIn[94], line 21\u001b[0m, in \u001b[0;36mtrain\u001b[1;34m(model, dataloader, loss, accuracy, optimizer, device)\u001b[0m\n\u001b[0;32m     19\u001b[0m batch_loss \u001b[38;5;241m=\u001b[39m loss(output, labels_)\n\u001b[0;32m     20\u001b[0m batch_loss\u001b[38;5;241m.\u001b[39mbackward()\n\u001b[1;32m---> 21\u001b[0m \u001b[43moptimizer\u001b[49m\u001b[38;5;241;43m.\u001b[39;49m\u001b[43mstep\u001b[49m\u001b[43m(\u001b[49m\u001b[43m)\u001b[49m\n\u001b[0;32m     23\u001b[0m epoch_loss \u001b[38;5;241m+\u001b[39m\u001b[38;5;241m=\u001b[39m batch_loss\u001b[38;5;241m.\u001b[39mitem()\n\u001b[0;32m     24\u001b[0m epoch_acc \u001b[38;5;241m+\u001b[39m\u001b[38;5;241m=\u001b[39m accuracy(output, labels_)\u001b[38;5;241m.\u001b[39mitem()\n",
      "File \u001b[1;32m~\\AppData\\Roaming\\Python\\Python310\\site-packages\\torch\\optim\\optimizer.py:385\u001b[0m, in \u001b[0;36mOptimizer.profile_hook_step.<locals>.wrapper\u001b[1;34m(*args, **kwargs)\u001b[0m\n\u001b[0;32m    380\u001b[0m         \u001b[38;5;28;01melse\u001b[39;00m:\n\u001b[0;32m    381\u001b[0m             \u001b[38;5;28;01mraise\u001b[39;00m \u001b[38;5;167;01mRuntimeError\u001b[39;00m(\n\u001b[0;32m    382\u001b[0m                 \u001b[38;5;124mf\u001b[39m\u001b[38;5;124m\"\u001b[39m\u001b[38;5;132;01m{\u001b[39;00mfunc\u001b[38;5;132;01m}\u001b[39;00m\u001b[38;5;124m must return None or a tuple of (new_args, new_kwargs), but got \u001b[39m\u001b[38;5;132;01m{\u001b[39;00mresult\u001b[38;5;132;01m}\u001b[39;00m\u001b[38;5;124m.\u001b[39m\u001b[38;5;124m\"\u001b[39m\n\u001b[0;32m    383\u001b[0m             )\n\u001b[1;32m--> 385\u001b[0m out \u001b[38;5;241m=\u001b[39m func(\u001b[38;5;241m*\u001b[39margs, \u001b[38;5;241m*\u001b[39m\u001b[38;5;241m*\u001b[39mkwargs)\n\u001b[0;32m    386\u001b[0m \u001b[38;5;28mself\u001b[39m\u001b[38;5;241m.\u001b[39m_optimizer_step_code()\n\u001b[0;32m    388\u001b[0m \u001b[38;5;66;03m# call optimizer step post hooks\u001b[39;00m\n",
      "File \u001b[1;32m~\\AppData\\Roaming\\Python\\Python310\\site-packages\\torch\\optim\\optimizer.py:76\u001b[0m, in \u001b[0;36m_use_grad_for_differentiable.<locals>._use_grad\u001b[1;34m(self, *args, **kwargs)\u001b[0m\n\u001b[0;32m     74\u001b[0m     torch\u001b[38;5;241m.\u001b[39mset_grad_enabled(\u001b[38;5;28mself\u001b[39m\u001b[38;5;241m.\u001b[39mdefaults[\u001b[38;5;124m'\u001b[39m\u001b[38;5;124mdifferentiable\u001b[39m\u001b[38;5;124m'\u001b[39m])\n\u001b[0;32m     75\u001b[0m     torch\u001b[38;5;241m.\u001b[39m_dynamo\u001b[38;5;241m.\u001b[39mgraph_break()\n\u001b[1;32m---> 76\u001b[0m     ret \u001b[38;5;241m=\u001b[39m func(\u001b[38;5;28mself\u001b[39m, \u001b[38;5;241m*\u001b[39margs, \u001b[38;5;241m*\u001b[39m\u001b[38;5;241m*\u001b[39mkwargs)\n\u001b[0;32m     77\u001b[0m \u001b[38;5;28;01mfinally\u001b[39;00m:\n\u001b[0;32m     78\u001b[0m     torch\u001b[38;5;241m.\u001b[39m_dynamo\u001b[38;5;241m.\u001b[39mgraph_break()\n",
      "File \u001b[1;32m~\\AppData\\Roaming\\Python\\Python310\\site-packages\\torch\\optim\\adam.py:166\u001b[0m, in \u001b[0;36mAdam.step\u001b[1;34m(self, closure)\u001b[0m\n\u001b[0;32m    155\u001b[0m     beta1, beta2 \u001b[38;5;241m=\u001b[39m group[\u001b[38;5;124m'\u001b[39m\u001b[38;5;124mbetas\u001b[39m\u001b[38;5;124m'\u001b[39m]\n\u001b[0;32m    157\u001b[0m     has_complex \u001b[38;5;241m=\u001b[39m \u001b[38;5;28mself\u001b[39m\u001b[38;5;241m.\u001b[39m_init_group(\n\u001b[0;32m    158\u001b[0m         group,\n\u001b[0;32m    159\u001b[0m         params_with_grad,\n\u001b[1;32m   (...)\u001b[0m\n\u001b[0;32m    163\u001b[0m         max_exp_avg_sqs,\n\u001b[0;32m    164\u001b[0m         state_steps)\n\u001b[1;32m--> 166\u001b[0m     \u001b[43madam\u001b[49m\u001b[43m(\u001b[49m\n\u001b[0;32m    167\u001b[0m \u001b[43m        \u001b[49m\u001b[43mparams_with_grad\u001b[49m\u001b[43m,\u001b[49m\n\u001b[0;32m    168\u001b[0m \u001b[43m        \u001b[49m\u001b[43mgrads\u001b[49m\u001b[43m,\u001b[49m\n\u001b[0;32m    169\u001b[0m \u001b[43m        \u001b[49m\u001b[43mexp_avgs\u001b[49m\u001b[43m,\u001b[49m\n\u001b[0;32m    170\u001b[0m \u001b[43m        \u001b[49m\u001b[43mexp_avg_sqs\u001b[49m\u001b[43m,\u001b[49m\n\u001b[0;32m    171\u001b[0m \u001b[43m        \u001b[49m\u001b[43mmax_exp_avg_sqs\u001b[49m\u001b[43m,\u001b[49m\n\u001b[0;32m    172\u001b[0m \u001b[43m        \u001b[49m\u001b[43mstate_steps\u001b[49m\u001b[43m,\u001b[49m\n\u001b[0;32m    173\u001b[0m \u001b[43m        \u001b[49m\u001b[43mamsgrad\u001b[49m\u001b[38;5;241;43m=\u001b[39;49m\u001b[43mgroup\u001b[49m\u001b[43m[\u001b[49m\u001b[38;5;124;43m'\u001b[39;49m\u001b[38;5;124;43mamsgrad\u001b[39;49m\u001b[38;5;124;43m'\u001b[39;49m\u001b[43m]\u001b[49m\u001b[43m,\u001b[49m\n\u001b[0;32m    174\u001b[0m \u001b[43m        \u001b[49m\u001b[43mhas_complex\u001b[49m\u001b[38;5;241;43m=\u001b[39;49m\u001b[43mhas_complex\u001b[49m\u001b[43m,\u001b[49m\n\u001b[0;32m    175\u001b[0m \u001b[43m        \u001b[49m\u001b[43mbeta1\u001b[49m\u001b[38;5;241;43m=\u001b[39;49m\u001b[43mbeta1\u001b[49m\u001b[43m,\u001b[49m\n\u001b[0;32m    176\u001b[0m \u001b[43m        \u001b[49m\u001b[43mbeta2\u001b[49m\u001b[38;5;241;43m=\u001b[39;49m\u001b[43mbeta2\u001b[49m\u001b[43m,\u001b[49m\n\u001b[0;32m    177\u001b[0m \u001b[43m        \u001b[49m\u001b[43mlr\u001b[49m\u001b[38;5;241;43m=\u001b[39;49m\u001b[43mgroup\u001b[49m\u001b[43m[\u001b[49m\u001b[38;5;124;43m'\u001b[39;49m\u001b[38;5;124;43mlr\u001b[39;49m\u001b[38;5;124;43m'\u001b[39;49m\u001b[43m]\u001b[49m\u001b[43m,\u001b[49m\n\u001b[0;32m    178\u001b[0m \u001b[43m        \u001b[49m\u001b[43mweight_decay\u001b[49m\u001b[38;5;241;43m=\u001b[39;49m\u001b[43mgroup\u001b[49m\u001b[43m[\u001b[49m\u001b[38;5;124;43m'\u001b[39;49m\u001b[38;5;124;43mweight_decay\u001b[39;49m\u001b[38;5;124;43m'\u001b[39;49m\u001b[43m]\u001b[49m\u001b[43m,\u001b[49m\n\u001b[0;32m    179\u001b[0m \u001b[43m        \u001b[49m\u001b[43meps\u001b[49m\u001b[38;5;241;43m=\u001b[39;49m\u001b[43mgroup\u001b[49m\u001b[43m[\u001b[49m\u001b[38;5;124;43m'\u001b[39;49m\u001b[38;5;124;43meps\u001b[39;49m\u001b[38;5;124;43m'\u001b[39;49m\u001b[43m]\u001b[49m\u001b[43m,\u001b[49m\n\u001b[0;32m    180\u001b[0m \u001b[43m        \u001b[49m\u001b[43mmaximize\u001b[49m\u001b[38;5;241;43m=\u001b[39;49m\u001b[43mgroup\u001b[49m\u001b[43m[\u001b[49m\u001b[38;5;124;43m'\u001b[39;49m\u001b[38;5;124;43mmaximize\u001b[39;49m\u001b[38;5;124;43m'\u001b[39;49m\u001b[43m]\u001b[49m\u001b[43m,\u001b[49m\n\u001b[0;32m    181\u001b[0m \u001b[43m        \u001b[49m\u001b[43mforeach\u001b[49m\u001b[38;5;241;43m=\u001b[39;49m\u001b[43mgroup\u001b[49m\u001b[43m[\u001b[49m\u001b[38;5;124;43m'\u001b[39;49m\u001b[38;5;124;43mforeach\u001b[39;49m\u001b[38;5;124;43m'\u001b[39;49m\u001b[43m]\u001b[49m\u001b[43m,\u001b[49m\n\u001b[0;32m    182\u001b[0m \u001b[43m        \u001b[49m\u001b[43mcapturable\u001b[49m\u001b[38;5;241;43m=\u001b[39;49m\u001b[43mgroup\u001b[49m\u001b[43m[\u001b[49m\u001b[38;5;124;43m'\u001b[39;49m\u001b[38;5;124;43mcapturable\u001b[39;49m\u001b[38;5;124;43m'\u001b[39;49m\u001b[43m]\u001b[49m\u001b[43m,\u001b[49m\n\u001b[0;32m    183\u001b[0m \u001b[43m        \u001b[49m\u001b[43mdifferentiable\u001b[49m\u001b[38;5;241;43m=\u001b[39;49m\u001b[43mgroup\u001b[49m\u001b[43m[\u001b[49m\u001b[38;5;124;43m'\u001b[39;49m\u001b[38;5;124;43mdifferentiable\u001b[39;49m\u001b[38;5;124;43m'\u001b[39;49m\u001b[43m]\u001b[49m\u001b[43m,\u001b[49m\n\u001b[0;32m    184\u001b[0m \u001b[43m        \u001b[49m\u001b[43mfused\u001b[49m\u001b[38;5;241;43m=\u001b[39;49m\u001b[43mgroup\u001b[49m\u001b[43m[\u001b[49m\u001b[38;5;124;43m'\u001b[39;49m\u001b[38;5;124;43mfused\u001b[39;49m\u001b[38;5;124;43m'\u001b[39;49m\u001b[43m]\u001b[49m\u001b[43m,\u001b[49m\n\u001b[0;32m    185\u001b[0m \u001b[43m        \u001b[49m\u001b[43mgrad_scale\u001b[49m\u001b[38;5;241;43m=\u001b[39;49m\u001b[38;5;28;43mgetattr\u001b[39;49m\u001b[43m(\u001b[49m\u001b[38;5;28;43mself\u001b[39;49m\u001b[43m,\u001b[49m\u001b[43m \u001b[49m\u001b[38;5;124;43m\"\u001b[39;49m\u001b[38;5;124;43mgrad_scale\u001b[39;49m\u001b[38;5;124;43m\"\u001b[39;49m\u001b[43m,\u001b[49m\u001b[43m \u001b[49m\u001b[38;5;28;43;01mNone\u001b[39;49;00m\u001b[43m)\u001b[49m\u001b[43m,\u001b[49m\n\u001b[0;32m    186\u001b[0m \u001b[43m        \u001b[49m\u001b[43mfound_inf\u001b[49m\u001b[38;5;241;43m=\u001b[39;49m\u001b[38;5;28;43mgetattr\u001b[39;49m\u001b[43m(\u001b[49m\u001b[38;5;28;43mself\u001b[39;49m\u001b[43m,\u001b[49m\u001b[43m \u001b[49m\u001b[38;5;124;43m\"\u001b[39;49m\u001b[38;5;124;43mfound_inf\u001b[39;49m\u001b[38;5;124;43m\"\u001b[39;49m\u001b[43m,\u001b[49m\u001b[43m \u001b[49m\u001b[38;5;28;43;01mNone\u001b[39;49;00m\u001b[43m)\u001b[49m\u001b[43m,\u001b[49m\n\u001b[0;32m    187\u001b[0m \u001b[43m    \u001b[49m\u001b[43m)\u001b[49m\n\u001b[0;32m    189\u001b[0m \u001b[38;5;28;01mreturn\u001b[39;00m loss\n",
      "File \u001b[1;32m~\\AppData\\Roaming\\Python\\Python310\\site-packages\\torch\\optim\\adam.py:316\u001b[0m, in \u001b[0;36madam\u001b[1;34m(params, grads, exp_avgs, exp_avg_sqs, max_exp_avg_sqs, state_steps, foreach, capturable, differentiable, fused, grad_scale, found_inf, has_complex, amsgrad, beta1, beta2, lr, weight_decay, eps, maximize)\u001b[0m\n\u001b[0;32m    313\u001b[0m \u001b[38;5;28;01melse\u001b[39;00m:\n\u001b[0;32m    314\u001b[0m     func \u001b[38;5;241m=\u001b[39m _single_tensor_adam\n\u001b[1;32m--> 316\u001b[0m \u001b[43mfunc\u001b[49m\u001b[43m(\u001b[49m\u001b[43mparams\u001b[49m\u001b[43m,\u001b[49m\n\u001b[0;32m    317\u001b[0m \u001b[43m     \u001b[49m\u001b[43mgrads\u001b[49m\u001b[43m,\u001b[49m\n\u001b[0;32m    318\u001b[0m \u001b[43m     \u001b[49m\u001b[43mexp_avgs\u001b[49m\u001b[43m,\u001b[49m\n\u001b[0;32m    319\u001b[0m \u001b[43m     \u001b[49m\u001b[43mexp_avg_sqs\u001b[49m\u001b[43m,\u001b[49m\n\u001b[0;32m    320\u001b[0m \u001b[43m     \u001b[49m\u001b[43mmax_exp_avg_sqs\u001b[49m\u001b[43m,\u001b[49m\n\u001b[0;32m    321\u001b[0m \u001b[43m     \u001b[49m\u001b[43mstate_steps\u001b[49m\u001b[43m,\u001b[49m\n\u001b[0;32m    322\u001b[0m \u001b[43m     \u001b[49m\u001b[43mamsgrad\u001b[49m\u001b[38;5;241;43m=\u001b[39;49m\u001b[43mamsgrad\u001b[49m\u001b[43m,\u001b[49m\n\u001b[0;32m    323\u001b[0m \u001b[43m     \u001b[49m\u001b[43mhas_complex\u001b[49m\u001b[38;5;241;43m=\u001b[39;49m\u001b[43mhas_complex\u001b[49m\u001b[43m,\u001b[49m\n\u001b[0;32m    324\u001b[0m \u001b[43m     \u001b[49m\u001b[43mbeta1\u001b[49m\u001b[38;5;241;43m=\u001b[39;49m\u001b[43mbeta1\u001b[49m\u001b[43m,\u001b[49m\n\u001b[0;32m    325\u001b[0m \u001b[43m     \u001b[49m\u001b[43mbeta2\u001b[49m\u001b[38;5;241;43m=\u001b[39;49m\u001b[43mbeta2\u001b[49m\u001b[43m,\u001b[49m\n\u001b[0;32m    326\u001b[0m \u001b[43m     \u001b[49m\u001b[43mlr\u001b[49m\u001b[38;5;241;43m=\u001b[39;49m\u001b[43mlr\u001b[49m\u001b[43m,\u001b[49m\n\u001b[0;32m    327\u001b[0m \u001b[43m     \u001b[49m\u001b[43mweight_decay\u001b[49m\u001b[38;5;241;43m=\u001b[39;49m\u001b[43mweight_decay\u001b[49m\u001b[43m,\u001b[49m\n\u001b[0;32m    328\u001b[0m \u001b[43m     \u001b[49m\u001b[43meps\u001b[49m\u001b[38;5;241;43m=\u001b[39;49m\u001b[43meps\u001b[49m\u001b[43m,\u001b[49m\n\u001b[0;32m    329\u001b[0m \u001b[43m     \u001b[49m\u001b[43mmaximize\u001b[49m\u001b[38;5;241;43m=\u001b[39;49m\u001b[43mmaximize\u001b[49m\u001b[43m,\u001b[49m\n\u001b[0;32m    330\u001b[0m \u001b[43m     \u001b[49m\u001b[43mcapturable\u001b[49m\u001b[38;5;241;43m=\u001b[39;49m\u001b[43mcapturable\u001b[49m\u001b[43m,\u001b[49m\n\u001b[0;32m    331\u001b[0m \u001b[43m     \u001b[49m\u001b[43mdifferentiable\u001b[49m\u001b[38;5;241;43m=\u001b[39;49m\u001b[43mdifferentiable\u001b[49m\u001b[43m,\u001b[49m\n\u001b[0;32m    332\u001b[0m \u001b[43m     \u001b[49m\u001b[43mgrad_scale\u001b[49m\u001b[38;5;241;43m=\u001b[39;49m\u001b[43mgrad_scale\u001b[49m\u001b[43m,\u001b[49m\n\u001b[0;32m    333\u001b[0m \u001b[43m     \u001b[49m\u001b[43mfound_inf\u001b[49m\u001b[38;5;241;43m=\u001b[39;49m\u001b[43mfound_inf\u001b[49m\u001b[43m)\u001b[49m\n",
      "File \u001b[1;32m~\\AppData\\Roaming\\Python\\Python310\\site-packages\\torch\\optim\\adam.py:391\u001b[0m, in \u001b[0;36m_single_tensor_adam\u001b[1;34m(params, grads, exp_avgs, exp_avg_sqs, max_exp_avg_sqs, state_steps, grad_scale, found_inf, amsgrad, has_complex, beta1, beta2, lr, weight_decay, eps, maximize, capturable, differentiable)\u001b[0m\n\u001b[0;32m    388\u001b[0m     param \u001b[38;5;241m=\u001b[39m torch\u001b[38;5;241m.\u001b[39mview_as_real(param)\n\u001b[0;32m    390\u001b[0m \u001b[38;5;66;03m# Decay the first and second moment running average coefficient\u001b[39;00m\n\u001b[1;32m--> 391\u001b[0m \u001b[43mexp_avg\u001b[49m\u001b[38;5;241;43m.\u001b[39;49m\u001b[43mlerp_\u001b[49m\u001b[43m(\u001b[49m\u001b[43mgrad\u001b[49m\u001b[43m,\u001b[49m\u001b[43m \u001b[49m\u001b[38;5;241;43m1\u001b[39;49m\u001b[43m \u001b[49m\u001b[38;5;241;43m-\u001b[39;49m\u001b[43m \u001b[49m\u001b[43mbeta1\u001b[49m\u001b[43m)\u001b[49m\n\u001b[0;32m    392\u001b[0m exp_avg_sq\u001b[38;5;241m.\u001b[39mmul_(beta2)\u001b[38;5;241m.\u001b[39maddcmul_(grad, grad\u001b[38;5;241m.\u001b[39mconj(), value\u001b[38;5;241m=\u001b[39m\u001b[38;5;241m1\u001b[39m \u001b[38;5;241m-\u001b[39m beta2)\n\u001b[0;32m    394\u001b[0m \u001b[38;5;28;01mif\u001b[39;00m capturable \u001b[38;5;129;01mor\u001b[39;00m differentiable:\n",
      "\u001b[1;31mKeyboardInterrupt\u001b[0m: "
     ]
    }
   ],
   "source": [
    "hist = []\n",
    "runs = []\n",
    "n_runs = 4\n",
    "run = None\n",
    "i = 0\n",
    "\n",
    "if not os.path.exists('hist.pkl'):\n",
    "    while i < n_runs:\n",
    "        if torch.cuda.is_available():\n",
    "            torch.cuda.empty_cache()\n",
    "        accuracy = MultilabelAccuracy(num_labels=10).to(device)\n",
    "\n",
    "        dropout = rand.choice(hyperparameters['dropout'])\n",
    "        lr = rand.choice(hyperparameters['lr'])\n",
    "        epochs = rand.choice(hyperparameters['epochs'])\n",
    "        batch_size = rand.choice(hyperparameters['batch_size'])\n",
    "        run = [dropout, lr, epochs, batch_size]\n",
    "\n",
    "        if run in runs:\n",
    "            continue\n",
    "\n",
    "        i = i + 1\n",
    "\n",
    "        runs.append(run)\n",
    "        \n",
    "        early_stopper = EarlyStopper(patience=1, min_delta=0.008)\n",
    "        classifier = BTEClassifier(dropout, hyperparameters['num_classes'], model).to(device)\n",
    "        optimizer = Adam(classifier.parameters(), lr=lr)\n",
    "\n",
    "        train_loss, val_loss, train_acc, val_acc, best_acc, best_weights = evaluate(\n",
    "            classifier, \n",
    "            epochs, \n",
    "            optimizer, \n",
    "            device, \n",
    "            train_dataset, \n",
    "            val_dataset,\n",
    "            batch_size, \n",
    "            accuracy, \n",
    "            loss,\n",
    "            early_stopper\n",
    "        )\n",
    "\n",
    "        classifier = classifier.cpu()\n",
    "        accuracy = accuracy.cpu()\n",
    "        \n",
    "        hist.append(\n",
    "            {\n",
    "                \"epochs\" : epochs,\n",
    "                \"dropout\" : dropout,\n",
    "                \"lr\" : lr,\n",
    "                \"batch_size\" : batch_size,\n",
    "                \"train_loss\" : train_loss,\n",
    "                \"val_loss\" : val_loss,\n",
    "                \"train_acc\" : train_acc,\n",
    "                \"val_acc\" : val_acc,\n",
    "                \"best_acc\" : best_acc,\n",
    "                \"weights\" : best_weights\n",
    "            }\n",
    "        )\n",
    "    with open('hist.pkl', 'wb') as handle:\n",
    "        save = {\n",
    "            \"hist\" : hist,\n",
    "            \"runs\" : runs\n",
    "        }\n",
    "        pickle.dump(save, handle)\n",
    "else:\n",
    "    f = open(\"hist.pkl\",'rb')\n",
    "    save = pickle.load(f)\n",
    "    hist = save['hist']\n",
    "    runs = save['runs']"
   ]
  },
  {
   "cell_type": "code",
   "execution_count": null,
   "metadata": {},
   "outputs": [],
   "source": [
    "if not os.path.exists('train_A.png'):\n",
    "    fig, (ax) = plt.subplots( nrows=2, ncols=2, figsize=(10, 10))\n",
    "    n_epochs = list(range(0, 22, 2))\n",
    "\n",
    "    for i in range(2):\n",
    "        for j in range(2):\n",
    "            ax[i][j].set_title(f\"Lr:{hist[i + j]['lr']}, epochs:{hist[i + j]['epochs']}, \\ndropout:{hist[i + j]['dropout']}, batch:{hist[i + j]['batch_size']}\")\n",
    "            ax[i][j].plot(hist[i + j]['train_loss'], label='training loss')\n",
    "            ax[i][j].plot(hist[i + j]['val_loss'], label='val loss')\n",
    "            ax[i][j].legend(loc='lower right')\n",
    "            ax[i][j].set_xticks(n_epochs)\n",
    "\n",
    "    # plt.show()\n",
    "    fig.savefig('train_A.png')\n",
    "    plt.close(fig)"
   ]
  },
  {
   "cell_type": "markdown",
   "metadata": {},
   "source": [
    "![Grafico di addestramento testo non preprocessato](train_A.png)"
   ]
  },
  {
   "cell_type": "markdown",
   "metadata": {},
   "source": [
    "Facciamo lo stesso ma per i dati preprocessati"
   ]
  },
  {
   "cell_type": "code",
   "execution_count": null,
   "metadata": {},
   "outputs": [],
   "source": [
    "prep_hist = []\n",
    "prep_runs = []\n",
    "run = None\n",
    "i = 0\n",
    "\n",
    "if not os.path.exists('prep_hist.pkl'):\n",
    "    while i < n_runs:\n",
    "        if torch.cuda.is_available():\n",
    "            torch.cuda.empty_cache()\n",
    "        accuracy = MultilabelAccuracy(num_labels=10).to(device)\n",
    "        \n",
    "        dropout = rand.choice(hyperparameters['dropout'])\n",
    "        lr = rand.choice(hyperparameters['lr'])\n",
    "        epochs = rand.choice(hyperparameters['epochs'])\n",
    "        batch_size = rand.choice(hyperparameters['batch_size'])\n",
    "\n",
    "        run = [dropout, lr, epochs, batch_size]\n",
    "\n",
    "        if run in prep_runs:\n",
    "            continue\n",
    "\n",
    "        i = i + 1\n",
    "\n",
    "        prep_runs.append(run)\n",
    "        \n",
    "        early_stopper = EarlyStopper(patience=1, min_delta=0.008)\n",
    "        classifier = BTEClassifier(dropout, hyperparameters['num_classes'], model).to(device)\n",
    "        optimizer = Adam(classifier.parameters(), lr=lr)\n",
    "\n",
    "        train_loss, val_loss, train_acc, val_acc, best_acc, best_weights = evaluate(\n",
    "            classifier, \n",
    "            epochs, \n",
    "            optimizer, \n",
    "            device, \n",
    "            train_dataset_prep, \n",
    "            val_dataset_prep,\n",
    "            batch_size, \n",
    "            accuracy, \n",
    "            loss,\n",
    "            early_stopper\n",
    "        )\n",
    "\n",
    "        classifier = classifier.cpu()\n",
    "        accuracy = accuracy.cpu()\n",
    "\n",
    "        prep_hist.append(\n",
    "            {\n",
    "                \"epochs\" : epochs,\n",
    "                \"dropout\" : dropout,\n",
    "                \"lr\" : lr,\n",
    "                \"batch_size\" : batch_size,\n",
    "                \"train_loss\" : train_loss,\n",
    "                \"val_loss\" : val_loss,\n",
    "                \"train_acc\" : train_acc,\n",
    "                \"val_acc\" : val_acc,\n",
    "                \"best_acc\" : best_acc,\n",
    "                \"weights\" : best_weights\n",
    "            }\n",
    "        )\n",
    "\n",
    "    with open('prep_hist.pkl', 'wb') as handle:\n",
    "        prep_save = {\n",
    "            \"hist\" : prep_hist,\n",
    "            \"runs\" : runs\n",
    "        }\n",
    "        pickle.dump(prep_save, handle)\n",
    "else:\n",
    "    f = open(\"prep_hist.pkl\",'rb')\n",
    "    prep_save = pickle.load(f)\n",
    "    prep_hist = prep_save['hist']\n",
    "    prep_runs = prep_save['runs']"
   ]
  },
  {
   "cell_type": "code",
   "execution_count": null,
   "metadata": {},
   "outputs": [],
   "source": [
    "if not os.path.exists('train_prep_A.png'):\n",
    "    fig, ax = plt.subplots( nrows=2, ncols=2, figsize=(10, 10))\n",
    "    n_epochs = list(range(0, 22, 2))\n",
    "\n",
    "    for i in range(2):\n",
    "        for j in range(2):\n",
    "            ax[i][j].set_title(f\"Lr:{prep_hist[i + j]['lr']}, epochs:{prep_hist[i + j]['epochs']}, \\ndropout:{prep_hist[i + j]['dropout']}, batch:{prep_hist[i + j]['batch_size']}\")\n",
    "            ax[i][j].plot(prep_hist[i + j]['train_loss'], label='training loss')\n",
    "            ax[i][j].plot(prep_hist[i + j]['val_loss'], label='val loss')\n",
    "            ax[i][j].legend(loc='lower right')\n",
    "            ax[i][j].set_xticks(n_epochs)\n",
    "    i = i - 1\n",
    "    j = j + 1\n",
    "    ax[i][j].set_title(f\"Lr:{prep_hist[i + j]['lr']}, epochs:{prep_hist[i + j]['epochs']}, \\ndropout:{prep_hist[i + j]['dropout']}, batch:{prep_hist[i + j]['batch_size']}\")\n",
    "    ax[i][j].plot(prep_hist[i + j]['train_loss'], label='training loss')\n",
    "    ax[i][j].plot(prep_hist[i + j]['val_loss'], label='val loss')\n",
    "    ax[i][j].legend(loc='lower right')\n",
    "    ax[i][j].set_xticks(n_epochs)\n",
    "\n",
    "    # plt.show()\n",
    "    fig.savefig('train_prep_A.png')\n",
    "    plt.close(fig)"
   ]
  },
  {
   "cell_type": "markdown",
   "metadata": {},
   "source": [
    "![Grafico di addestramento testo non preprocessato](train_prep_A.png)"
   ]
  },
  {
   "cell_type": "markdown",
   "metadata": {},
   "source": [
    "Procediamo adesso a caricare i dati su cui fare test (sia id che ood)"
   ]
  },
  {
   "cell_type": "code",
   "execution_count": null,
   "metadata": {},
   "outputs": [],
   "source": [
    "test = pd.read_csv(\"release\\emit_2023-test-labels\\emit_test.csv\")\n",
    "test_prep = test.copy()\n",
    "\n",
    "test_ood = pd.read_csv(\"release\\emit_2023-test-labels\\emit_test_ood.csv\")\n",
    "test_ood_prep = test_ood.copy()\n",
    "\n",
    "test.drop([\"Topic\", \"Direction\"], axis=1, inplace=True)\n",
    "test_ood.drop([\"Topic\", \"Direction\"], axis=1, inplace=True)\n",
    "\n",
    "test_prep.drop([\"Topic\", \"Direction\"], axis=1, inplace=True)\n",
    "test_ood_prep.drop([\"Topic\", \"Direction\"], axis=1, inplace=True)\n",
    "\n",
    "test_prep['text'] = test_prep['text'].apply(preprocess).apply(removeHashTags)\n",
    "test_ood_prep['text'] = test_ood_prep['text'].apply(preprocess).apply(removeHashTags)\n",
    "\n",
    "test_prep = test_prep.loc[test_prep['text'].str.len() > 0]\n",
    "test_ood_prep = test_ood_prep.loc[test_ood_prep['text'].str.len() > 0]\n",
    "\n",
    "test_prep_dataset = _Dataset(test_prep['text'], test_prep.drop(['id','text'], axis=1).to_numpy(), tokenizer, hyperparameters['max_len'])\n",
    "test_ood_prep_dataset = _Dataset(test_ood_prep['text'], test_ood_prep.drop(['id','text'], axis=1).to_numpy(), tokenizer, hyperparameters['max_len'])\n",
    "\n",
    "test_dataset = _Dataset(test['text'], test.drop(['id','text'], axis=1).to_numpy(), tokenizer, hyperparameters['max_len'])\n",
    "test_ood_dataset = _Dataset(test_ood['text'], test_ood.drop(['id','text'], axis=1).to_numpy(), tokenizer, hyperparameters['max_len'])"
   ]
  },
  {
   "cell_type": "code",
   "execution_count": null,
   "metadata": {},
   "outputs": [],
   "source": [
    "classes = emotions.columns"
   ]
  },
  {
   "cell_type": "markdown",
   "metadata": {},
   "source": [
    "Generiamo per ogni dataset (4 in totali: no prep ood e in-domain, prep ood e in-domain) le nostre predizioni. \n",
    "\n",
    "Su queste poi andremo a valutare i risultati usando come metrica l'F1 score, in particolare impostando la media per ogni dato con il parametro _macro_, ovvero calcoliamo la metrica per ogni label per trovare la media NON pesata (non teniamo conto sbilanciamenti relativi alle label)."
   ]
  },
  {
   "cell_type": "code",
   "execution_count": null,
   "metadata": {},
   "outputs": [],
   "source": [
    "if not os.path.exists('heatmap_A.png'):\n",
    "    preds = []\n",
    "    preds_ood = []\n",
    "    for h in hist:\n",
    "        weights = h['weights']\n",
    "\n",
    "        classifier = BTEClassifier(0, hyperparameters['num_classes'], model).to(device)\n",
    "        classifier.load_state_dict(weights)\n",
    "\n",
    "        preds.append(predict(classifier, test_dataset))\n",
    "        preds_ood.append(predict(classifier, test_ood_dataset))\n",
    "\n",
    "    target = test[classes].to_numpy()\n",
    "    target_ood = test_ood[classes].to_numpy()\n",
    "\n",
    "    f1_scores = [f1(pred, target, average='macro') for pred in preds]\n",
    "    f1_ood_scores = [f1(ood_pred, target_ood, average='macro') for ood_pred in preds_ood]\n",
    "\n",
    "    best_index = f1_scores.index(max(f1_scores))\n",
    "    best_hyperp = hist[best_index]\n",
    "    best_index_ood = f1_ood_scores.index(max(f1_ood_scores))\n",
    "    best_ood_hyperp = hist[best_index_ood]\n",
    "    \n",
    "    # Salviamo i risultati migliori ottenuti \n",
    "    # (in termini di f1 score, la stessa metrica usata come evaluation del task in generale di evalita)\n",
    "\n",
    "    if not os.path.exists('best_weights_a.pt'):\n",
    "        torch.save(best_hyperp['weights'], 'best_weights_a.pt')\n",
    "        torch.save(best_ood_hyperp['weights'], 'best_weights_ood_a.pt')\n",
    "\n",
    "    # Generiamo le heatmap tramite seaborn dopo aver generato il report di classificazione\n",
    "    # usiamo classification_report da sklearn\n",
    "\n",
    "    fig, ax = plt.subplots(nrows=2, figsize=(10, 10))\n",
    "\n",
    "    ax[0].set_title('In domain')\n",
    "    ax[1].set_title('OOD')\n",
    "    report = cr(preds[best_index], target, target_names=classes, output_dict=True)\n",
    "    report_ood = cr(preds_ood[best_index], target, target_names=classes, output_dict=True)\n",
    "    sns.heatmap(pd.DataFrame(report).iloc[:-1, :].T, annot=True, ax=ax[0]).get_figure()\n",
    "    sns.heatmap(pd.DataFrame(report_ood).iloc[:-1, :].T, annot=True, ax=ax[1]).get_figure()\n",
    "    fig.savefig('heatmap_A.png')\n",
    "\n",
    "    recap = open(\"recap.csv\", \"w\")\n",
    "    txt = [\n",
    "        \"lr;epochs;batch_size;dropout;ood;f1-score\", \n",
    "        f\"{best_hyperp['lr']};{best_hyperp['epochs']};{best_hyperp['batch_size']};{best_hyperp['dropout']};False;{max(f1_scores)}\",\n",
    "        f\"{best_ood_hyperp['lr']};{best_ood_hyperp['epochs']};{best_ood_hyperp['batch_size']}; {best_ood_hyperp['dropout']};True;{max(f1_ood_scores)}\"\n",
    "    ]\n",
    "    recap.write(\"\\n\".join(txt))\n",
    "    recap.close()"
   ]
  },
  {
   "cell_type": "markdown",
   "metadata": {},
   "source": [
    "![Heatmap di recap a partire dal report classificazione testo non preprocessed, in domain e OOD](heatmap_A.png)"
   ]
  },
  {
   "cell_type": "code",
   "execution_count": null,
   "metadata": {},
   "outputs": [],
   "source": [
    "if not os.path.exists('heatmap_prep_A.png'):\n",
    "    preds_prep = []\n",
    "    preds_ood_prep = []\n",
    "    for h in prep_hist:\n",
    "        weights = h['weights']\n",
    "\n",
    "        classifier = BTEClassifier(0, hyperparameters['num_classes'], model).to(device)\n",
    "        classifier.load_state_dict(weights)\n",
    "\n",
    "        preds_prep.append(predict(classifier, test_prep_dataset))\n",
    "        preds_ood_prep.append(predict(classifier, test_ood_prep_dataset))\n",
    "\n",
    "    target_prep = test_prep[classes].to_numpy()\n",
    "    target_prep_ood = test_ood_prep[classes].to_numpy()\n",
    "\n",
    "    f1_prep_scores = [f1(pred_prep, target_prep, average='macro') for pred_prep in preds_prep]\n",
    "    f1_prep_ood_scores = [f1(ood_prep_pred, target_prep_ood, average='macro') for ood_prep_pred in preds_ood_prep]\n",
    "\n",
    "    best_prep_index = f1_prep_scores.index(max(f1_prep_scores))\n",
    "    best_prep_hyperp = prep_hist[best_prep_index]\n",
    "\n",
    "    best_prep_index_ood = f1_prep_ood_scores.index(max(f1_prep_ood_scores))\n",
    "    best_prep_ood_hyperp = prep_hist[best_prep_index_ood]\n",
    "\n",
    "    if not os.path.exists('best_weights_prep_a.pt'):\n",
    "        torch.save(best_prep_hyperp['weights'], 'best_weights_prep_a.pt')\n",
    "        torch.save(best_prep_ood_hyperp['weights'], 'best_weights_ood_prep_a.pt')\n",
    "\n",
    "    fig, ax = plt.subplots(nrows=2, figsize=(10, 10))\n",
    "\n",
    "    ax[0].set_title('In domain')\n",
    "    ax[1].set_title('OOD')\n",
    "    report_prep = cr(preds_prep[best_prep_index], target_prep, target_names=classes, output_dict=True)\n",
    "    report_ood_prep = cr(preds_ood_prep[best_prep_index], target_prep, target_names=classes, output_dict=True)\n",
    "    sns.heatmap(pd.DataFrame(report_prep).iloc[:-1, :].T, annot=True, ax=ax[0]).get_figure()\n",
    "    sns.heatmap(pd.DataFrame(report_ood_prep).iloc[:-1, :].T, annot=True, ax=ax[1]).get_figure()\n",
    "    fig.savefig('heatmap_prep_A.png')\n",
    "    \n",
    "    recap = open(\"recap_prep.csv\", \"w\")\n",
    "    txt = [\n",
    "        \"lr;epochs;batch_size;dropout;ood;f1-score\", \n",
    "        f\"{best_prep_hyperp['lr']};{best_prep_hyperp['epochs']};{best_prep_hyperp['batch_size']};{best_prep_hyperp['dropout']};False;{max(f1_prep_scores)}\",\n",
    "        f\"{best_prep_ood_hyperp['lr']};{best_prep_ood_hyperp['epochs']};{best_prep_ood_hyperp['batch_size']}; {best_prep_ood_hyperp['dropout']};True;{max(f1_prep_ood_scores)}\"\n",
    "    ]\n",
    "    recap.write(\"\\n\".join(txt))\n",
    "    recap.close()"
   ]
  },
  {
   "cell_type": "markdown",
   "metadata": {},
   "source": [
    "![Heatmap di recap a partire dal report classificazione testo preprocessed, in domain e OOD](heatmap_prep_A.png)"
   ]
  },
  {
   "cell_type": "markdown",
   "metadata": {},
   "source": [
    "Salviamo infine un veloce recap dei migliori risultati ottenuti in dei file _.txt_"
   ]
  },
  {
   "cell_type": "code",
   "execution_count": 70,
   "metadata": {},
   "outputs": [],
   "source": [
    "def scientificNotation(x):\n",
    "    return '{:.0e}'.format(float(str(x).rstrip('0')))\n",
    "\n",
    "def truncateFloat(x):\n",
    "    return '%.2f'%(x)"
   ]
  },
  {
   "cell_type": "code",
   "execution_count": 71,
   "metadata": {},
   "outputs": [
    {
     "data": {
      "text/html": [
       "<div>\n",
       "<style scoped>\n",
       "    .dataframe tbody tr th:only-of-type {\n",
       "        vertical-align: middle;\n",
       "    }\n",
       "\n",
       "    .dataframe tbody tr th {\n",
       "        vertical-align: top;\n",
       "    }\n",
       "\n",
       "    .dataframe thead th {\n",
       "        text-align: right;\n",
       "    }\n",
       "</style>\n",
       "<table border=\"1\" class=\"dataframe\">\n",
       "  <thead>\n",
       "    <tr style=\"text-align: right;\">\n",
       "      <th></th>\n",
       "      <th>lr</th>\n",
       "      <th>epochs</th>\n",
       "      <th>batch_size</th>\n",
       "      <th>dropout</th>\n",
       "      <th>ood</th>\n",
       "      <th>f1-score</th>\n",
       "    </tr>\n",
       "  </thead>\n",
       "  <tbody>\n",
       "    <tr>\n",
       "      <th>0</th>\n",
       "      <td>1e-05</td>\n",
       "      <td>10</td>\n",
       "      <td>32</td>\n",
       "      <td>0.3</td>\n",
       "      <td>False</td>\n",
       "      <td>0.48</td>\n",
       "    </tr>\n",
       "    <tr>\n",
       "      <th>1</th>\n",
       "      <td>1e-04</td>\n",
       "      <td>10</td>\n",
       "      <td>32</td>\n",
       "      <td>0.4</td>\n",
       "      <td>True</td>\n",
       "      <td>0.64</td>\n",
       "    </tr>\n",
       "  </tbody>\n",
       "</table>\n",
       "</div>"
      ],
      "text/plain": [
       "      lr  epochs  batch_size  dropout    ood f1-score\n",
       "0  1e-05      10          32      0.3  False     0.48\n",
       "1  1e-04      10          32      0.4   True     0.64"
      ]
     },
     "execution_count": 71,
     "metadata": {},
     "output_type": "execute_result"
    }
   ],
   "source": [
    "recap_csv = pd.read_csv('recap.csv', sep=';')\n",
    "\n",
    "recap_csv['lr'] = recap_csv['lr'].apply(scientificNotation) \n",
    "recap_csv['f1-score'] = recap_csv['f1-score'].apply(truncateFloat) \n",
    "\n",
    "recap_csv.head()"
   ]
  },
  {
   "cell_type": "code",
   "execution_count": 72,
   "metadata": {},
   "outputs": [
    {
     "data": {
      "text/html": [
       "<div>\n",
       "<style scoped>\n",
       "    .dataframe tbody tr th:only-of-type {\n",
       "        vertical-align: middle;\n",
       "    }\n",
       "\n",
       "    .dataframe tbody tr th {\n",
       "        vertical-align: top;\n",
       "    }\n",
       "\n",
       "    .dataframe thead th {\n",
       "        text-align: right;\n",
       "    }\n",
       "</style>\n",
       "<table border=\"1\" class=\"dataframe\">\n",
       "  <thead>\n",
       "    <tr style=\"text-align: right;\">\n",
       "      <th></th>\n",
       "      <th>lr</th>\n",
       "      <th>epochs</th>\n",
       "      <th>batch_size</th>\n",
       "      <th>dropout</th>\n",
       "      <th>ood</th>\n",
       "      <th>f1-score</th>\n",
       "    </tr>\n",
       "  </thead>\n",
       "  <tbody>\n",
       "    <tr>\n",
       "      <th>0</th>\n",
       "      <td>1e-06</td>\n",
       "      <td>5</td>\n",
       "      <td>4</td>\n",
       "      <td>0.1</td>\n",
       "      <td>False</td>\n",
       "      <td>0.49</td>\n",
       "    </tr>\n",
       "    <tr>\n",
       "      <th>1</th>\n",
       "      <td>1e-06</td>\n",
       "      <td>5</td>\n",
       "      <td>4</td>\n",
       "      <td>0.1</td>\n",
       "      <td>True</td>\n",
       "      <td>0.62</td>\n",
       "    </tr>\n",
       "  </tbody>\n",
       "</table>\n",
       "</div>"
      ],
      "text/plain": [
       "      lr  epochs  batch_size  dropout    ood f1-score\n",
       "0  1e-06       5           4      0.1  False     0.49\n",
       "1  1e-06       5           4      0.1   True     0.62"
      ]
     },
     "execution_count": 72,
     "metadata": {},
     "output_type": "execute_result"
    }
   ],
   "source": [
    "recap_prep_csv = pd.read_csv('recap_prep.csv', sep=';')\n",
    "\n",
    "recap_prep_csv['lr'] = recap_prep_csv['lr'].apply(scientificNotation) \n",
    "recap_prep_csv['f1-score'] = recap_prep_csv['f1-score'].apply(truncateFloat) \n",
    "\n",
    "recap_prep_csv.head()"
   ]
  },
  {
   "cell_type": "markdown",
   "metadata": {},
   "source": [
    "## Conclusione\n",
    "\n",
    "Effettuando sia operazioni di preprocessing sul testo, sia variazioni in termini di iperparametri del nostro modello, i risultati esposti poco prima sono stati i migliori ottenuti.\n",
    "\n",
    "Eventuali modifiche che potrebbero venire adoperate per risultati migliori potrebbero essere:\n",
    "- variazioni sull'architettura del nostro classificatore, in particolare sul secondo macro blocco del modello\n",
    "- operazioni di data augmentation (dal momento che i dati di addestramento ammontano a neanche 6000 messaggi totali)\n",
    "- ulteriori tentativi di variazione sugli iperparametri, passando da un approccio randomizzato a uno a griglia; è stato preferito il primo per semplici motivi di tempo: se infatti un singolo addestramento per una decina di epoche dura neanche una decina di minuti, all'aumentare delle epoche e degli addestramenti consecutivi, causa probabilmente una saturazione della memoria, il tempo di addestramento diventa ingestibile per un solo dispositivo nonostante le specifiche hardware (32GB di RAM, i7 di 12th gen, RTX GPU 3060ti con 8 GB di VRAM)"
   ]
  }
 ],
 "metadata": {
  "kernelspec": {
   "display_name": "base",
   "language": "python",
   "name": "python3"
  },
  "language_info": {
   "codemirror_mode": {
    "name": "ipython",
    "version": 3
   },
   "file_extension": ".py",
   "mimetype": "text/x-python",
   "name": "python",
   "nbconvert_exporter": "python",
   "pygments_lexer": "ipython3",
   "version": "3.10.14"
  }
 },
 "nbformat": 4,
 "nbformat_minor": 2
}
