{
  "cells": [
    {
      "cell_type": "markdown",
      "metadata": {
        "id": "ALrsepd2GP0x"
      },
      "source": [
        "# EMit - Emotions in Italian\n",
        "## Emotion and Target detection\n",
        "### Emanuele Muzio - 0766230\n",
        "Il presente notebook rappresenta un'illustrazione dello svolgimento dei due task del contest EMit (Emotions in Italian):\n",
        "- il primo task, o Task A, è mirato alla classificazione dei sentimenti espressi dai messaggi sui social media riguardanti i prodotti RAI\n",
        "- il secondo task, o Task B, è mirato alla classificazione del target del messaggio, se sul topic o sulla direzione\n",
        "Entrambi i task sono classificazione multiclasse e multilabel (nel Task A abbiamo 8 emozioni di base, più _Love_, nel Task B il target può essere uno dei due, entrambi o nessuno).\n",
        "\n",
        "Ai fini della valutazione dei due task, sono stati forniti dei dataset da utilizzare sia per l'addestramento che per i test, comprensivi di annotazioni.\n",
        "\n",
        "Per i test del modello sono stati forniti nello specifico due dataset: uno con dati presi all'interno del dominio dei messaggi relativi alle trasmissioni RAI, uno con dati presi fuori da questo dominio (detti OOD, Out of Domain)."
      ]
    },
    {
      "cell_type": "code",
      "execution_count": null,
      "metadata": {
        "id": "G-umei68GV3K"
      },
      "outputs": [],
      "source": [
        "#!pip install nltk torch torchmetrics transformers emot pandas scikit-learn\n",
        "# env = 'colab'"
      ]
    },
    {
      "cell_type": "code",
      "execution_count": null,
      "metadata": {
        "colab": {
          "base_uri": "https://localhost:8080/"
        },
        "id": "GOukA51KnXYV",
        "outputId": "93a47f2d-7050-494e-9b7d-46f6418203f0"
      },
      "outputs": [],
      "source": [
        "#from google.colab import drive\n",
        "\n",
        "root = '.'\n",
        "\n",
        "# if env == 'colab':\n",
        " # drive.mount('/content/drive')\n",
        "  # root = '/content/drive/MyDrive/NLP'\n",
        "# else:\n",
        "#   root = '/content/'"
      ]
    },
    {
      "cell_type": "code",
      "execution_count": null,
      "metadata": {
        "id": "ty1qtSTyGP0z"
      },
      "outputs": [],
      "source": [
        "import pandas as pd\n",
        "import nltk\n",
        "from nltk.corpus import stopwords\n",
        "import matplotlib.pyplot as plt\n",
        "from sklearn.model_selection import train_test_split\n",
        "from tqdm.notebook import tqdm\n",
        "import copy, os\n",
        "import numpy as np\n",
        "from sklearn.metrics import classification_report as cr, f1_score as f1\n",
        "import seaborn as sns\n",
        "import random as rand\n",
        "import pickle\n",
        "import matplotlib.image as mpimg\n",
        "import json\n",
        "#Import torch\n",
        "import torch\n",
        "from torch import nn\n",
        "from torch.utils.data import DataLoader, Dataset\n",
        "from torch.optim import Adam\n",
        "from torchmetrics.classification import MultilabelAccuracy\n",
        "from transformers import AutoTokenizer, AutoModel\n",
        "\n",
        "# Gestione delle emoji\n",
        "import emot as emot_imp\n",
        "emot = emot_imp.core.emot()"
      ]
    },
    {
      "cell_type": "markdown",
      "metadata": {
        "id": "RerXrA1KGP00"
      },
      "source": [
        "## Task A: Emotion detection\n",
        "\n",
        "Per andare a ricercare la massima precisione (sia per quanto riguarda i dati che il modello), sono state effettuate diverse prove, variando:\n",
        "- dati, ovvero usando sia messaggi preprocessati che originali per vedere quanto un'operazione di preprocessing possa influire\n",
        "- modello, per la ricerca della configurazione migliore\n",
        "\n",
        "Procediamo partendo dal preprocessing del testo (rimozione stopwords, hashtag, menzioni, keyword RT, collegamenti ipertestuali) per poi andare alla classificazione.\n",
        "\n",
        "Per la tokenizzazione del testo è stato scelto un modello multilingua (dal momento che i messaggi riguardano un'emittente italiana) case-sensitive.\n",
        "\n",
        "Il supporto alle emoji/emoticons è stato aggiunto rilevando quelle presenti nel testo e facendo un resize del modello per poterle gestire.\n",
        "\n",
        "Il modello BERT-like da HuggingFace utilizzato è il seguente: _bert-base-multilingual-cased_."
      ]
    },
    {
      "cell_type": "code",
      "execution_count": null,
      "metadata": {
        "colab": {
          "base_uri": "https://localhost:8080/",
          "height": 371,
          "referenced_widgets": [
            "f4ffb112775d4588ade189061c81e407",
            "a40306a81e7a4ae7b21b267c69e42ffd",
            "3bf545620ba14e44ab085844fc4e5faf",
            "3e51a23b2bc14628890cd740b1e818c0",
            "d8b406e384854ff08fa16c4ac0c6aba5",
            "d91c6d8175f24bd685611cc90e70766a",
            "fb5731ca3c1e4ddebf89e61ef339a988",
            "c210b39a93cf4d61af23b35bcaab7a88",
            "3633a4787118429da5bdeac5bcdc6e1c",
            "57cec9017067438295b16e6c7f49fbc9",
            "e5d4c4141417481cbfcf0265011ce626",
            "f4b94465ad63434ebb5abc34a3138375",
            "82b379815cbc439e85e51e9dbf37da3e",
            "253b91fa9cf445c8a363dc9173d0f82e",
            "39fe1ce0127945d7961510174e3808d2",
            "4261284bc9de4d88b1ec40120d35383a",
            "92127c84d02d4e31b75fe756aa621504",
            "73cb61e3969e4f3dbc4edbc572c6eabe",
            "ec658d585463481fb1d469fa26901cf3",
            "4b23241f534d4f099848914125614973",
            "6f8770ad6bc0440fb8a54421ef841793",
            "451e51876d224a5f9efac3b1ae3813d0",
            "0e9786ea7a40490d897fa218c4855c5f",
            "541b866236cf425a82e3f2dd2b75d936",
            "41bf98fe25f44cc69d1e075bd37245cc",
            "e17b0a245b89404ebb094cc2c593d452",
            "9822b729456646c5a04b22e723bad867",
            "5c7cc493311b41149ddc31d9e58782aa",
            "2149a212f3fb46048a5170bde87e5976",
            "155706926813419e81baf4883c7d3835",
            "ed639d9a1625482d8eb78fd0472717e6",
            "7408070f93674254b1fbad23019f9c4e",
            "05057ce0d5074272aa96cf08956e5713",
            "b226e3a099d646abb5580041b20af50a",
            "7161ef23025f45c785234a49af502f53",
            "46c9f2b74d344cc4b274cc4e85ba1c2c",
            "1e8eff1d355f41098fc56e76f343b68b",
            "074694056aee4cad8cdeeaef81a650e7",
            "683b0bdbd12f43938cd21d1c503a3630",
            "cf8b921a1a554149a5858ae88ed78b3e",
            "318a494a0ed24e8bac9a48be7b9e2f1b",
            "a42a5fa833594fca8c0e0bf6b0f47586",
            "7d3913ecb1f94e0393d00bb0cd6a20b0",
            "a8a6fe9ffd794b46bee542e857d96a41",
            "263681b6ef564bd8b7ccc063d80ea476",
            "e9dabbc124374e5c93b11e4f9d37577c",
            "a6c6d06810f640109c19db284e246fb3",
            "de457340eb3349b9b29e1e233ce6d0a1",
            "3a15583991924af8ba9eeb787e5f8d29",
            "90340ca90e634e28b0786e711eb1f184",
            "2bd18a5adc06463ea90852c314bb5aad",
            "61178b8349e3458198b8811a23dcff31",
            "3cb660c0c5fc4a2982b04796d2df77b9",
            "225c37a674134ef794d5396410d425ea",
            "97d3e8c5de3d4050ac6f3e1e0d7d16c0"
          ]
        },
        "id": "VW9NXDt8GP00",
        "outputId": "4c71f8b4-493e-4b86-c6ec-a436ce0271fb"
      },
      "outputs": [],
      "source": [
        "data = pd.read_csv(f\"{root}/release/emit_2023-v1/emit_train_A.csv\")\n",
        "text_prep = data[\"text\"]\n",
        "text = data[\"text\"]\n",
        "emotions = data.drop([\"id\",\"text\"], axis=1)\n",
        "emotions_prep = data.drop([\"id\",\"text\"], axis=1)\n",
        "model_name = 'bert-base-multilingual-cased'\n",
        "tokenizer = AutoTokenizer.from_pretrained(model_name)\n",
        "model = AutoModel.from_pretrained(model_name)\n",
        "nltk.download('stopwords')\n",
        "stopwords_it = stopwords.words('italian')\n",
        "X_keywords = ['RT', 'FAV']"
      ]
    },
    {
      "cell_type": "code",
      "execution_count": null,
      "metadata": {
        "id": "AnWAPKe6GP00"
      },
      "outputs": [],
      "source": [
        "# Funzione che raccoglie i principali 4 controlli che vengono effettuati sul testo, ovvero:\n",
        "# - presenza di menzioni ad altri utenti\n",
        "# - presenza di collegamenti esterni\n",
        "# - presenza di keyword relative a X (RT, FAV, quest'ultima non presente nei nostri dati)\n",
        "# - presenza di stop-words in lingua italiana dalla lista fornita dal NaturalLanguageToolKit\n",
        "\n",
        "def preprocess(text):\n",
        "    new_text = []\n",
        "    for t in text.split(\" \"):\n",
        "        if t.startswith('@') and len(t) > 1 or t.startswith('http') or t in X_keywords or t.lower() in stopwords_it:\n",
        "            continue\n",
        "        else:\n",
        "            new_text.append(t)\n",
        "    return \" \".join(new_text)\n",
        "\n",
        "# Funzione per l'estrazione degli hashtag dai messaggi\n",
        "\n",
        "def getHashtags(text):\n",
        "    hashtags = []\n",
        "    for t in text.split(\" \"):\n",
        "        if t.startswith('#') and len(t) > 1:\n",
        "            hashtags.append(t)\n",
        "        else:\n",
        "            continue\n",
        "    return hashtags\n",
        "\n",
        "# Funzione per la rimozione degli hashtag dai messaggi\n",
        "\n",
        "def removeHashTags(text):\n",
        "    new_text = []\n",
        "    for t in text.split(\" \"):\n",
        "        if t.startswith('#') and len(t) > 1:\n",
        "            continue\n",
        "        else:\n",
        "            new_text.append(t)\n",
        "    return \" \".join(new_text)\n",
        "\n",
        "def intersection(lst1, lst2):\n",
        "    lst3 = [value for value in lst1 if value in lst2]\n",
        "    return lst3"
      ]
    },
    {
      "cell_type": "markdown",
      "metadata": {
        "id": "TnDSfrjQGP01"
      },
      "source": [
        "### Task A: Preprocessing\n",
        "Al fine di valutare soltanto le parti più importanti dei messaggi, con un contributo semantico più corposo, sono state prese diverse decisioni:\n",
        "- Eliminazione delle menzioni degli utenti (nomi utenti già oscurati nel dataset utilizzato)\n",
        "- Eliminazione delle stopword da NLTK\n",
        "- Eliminazione delle keyword legate a X (RT per i retweet e FAV per i messaggi preferiti)\n",
        "- Eliminazione link esterni\n",
        "- Eliminazione hashtag"
      ]
    },
    {
      "cell_type": "markdown",
      "metadata": {
        "id": "DmKm03Q2GP01"
      },
      "source": [
        "Controlliamo innanzitutto l'integrità dei dati di addestramento"
      ]
    },
    {
      "cell_type": "code",
      "execution_count": null,
      "metadata": {
        "colab": {
          "base_uri": "https://localhost:8080/"
        },
        "id": "fS22aHu2GP01",
        "outputId": "7a2ef416-5d8b-412c-b6eb-2511b6100495"
      },
      "outputs": [],
      "source": [
        "data.isna().sum()"
      ]
    },
    {
      "cell_type": "markdown",
      "metadata": {
        "id": "gPPEMgefGP01"
      },
      "source": [
        "Non è necessario fare imputazione in quanto non ci sono dati mancanti all'interno del dataset di addestramento."
      ]
    },
    {
      "cell_type": "markdown",
      "metadata": {
        "id": "n83p0L6vGP01"
      },
      "source": [
        "Controlliamo anche velocemente quali sono le emozioni maggiormente espresse nei messaggi.\n",
        "\n",
        "Possiamo vedere come i messaggi esprimano emozioni variegate (con un picco nei messaggi di fiducia/incoraggiamento e un minimo nei messaggi che esprimono timore o paura, fatto comprensibile dal momento che la maggior parte dei commenti riguarda trasmissioni in onda)."
      ]
    },
    {
      "cell_type": "code",
      "execution_count": null,
      "metadata": {
        "colab": {
          "base_uri": "https://localhost:8080/",
          "height": 447
        },
        "id": "ln62veltGP01",
        "outputId": "663feb46-d379-4db8-ffe0-feeb97ec2e39"
      },
      "outputs": [],
      "source": [
        "plt.barh(emotions.columns, [emotions[column].sum() for column in emotions.columns])"
      ]
    },
    {
      "cell_type": "markdown",
      "metadata": {
        "id": "yTUQ2__dGP01"
      },
      "source": [
        "Possiamo adesso procedere al preprocessing del testo."
      ]
    },
    {
      "cell_type": "code",
      "execution_count": null,
      "metadata": {
        "id": "OF44hBPdGP01"
      },
      "outputs": [],
      "source": [
        "text_prep = text_prep.apply(preprocess)"
      ]
    },
    {
      "cell_type": "markdown",
      "metadata": {
        "id": "G6Lx7XbgGP02"
      },
      "source": [
        "Dopo questo primo passo, è sorto un dubbio riguardante l'utilità degli hashtag e la conseguente decisione sul mantenerli o meno nei dati preprocessati.\n",
        "La scelta finale è stata quella di rimuoverli, dal momento che gli hashtag più diffusi almeno in questa prima fase non aggiungono molto valore al testo essendo relativi al topic (generalmente il nome del programma televisivo interessato).\n",
        "\n",
        "Potrebbe essere interessante mantenere queste informazioni per fare uno studio di sentiment analysis differenziata per singolo programma televisivo, tuttavia non è il focus principale del progetto.\n",
        "\n",
        "Sono stati rilevati in totale 1126 hashtag unici su 5990 totali (in riferimento ai dati di addestramento), con una distribuzione sbilanciata fortemente verso i 20-30 circa più usati, che sono risultati essere hashtag relativi appunto al nome della trasmissione televisiva oggetto del testo."
      ]
    },
    {
      "cell_type": "code",
      "execution_count": null,
      "metadata": {
        "id": "GPR4SI31GP02"
      },
      "outputs": [],
      "source": [
        "hashtag_list = list(map(getHashtags, text_prep))\n",
        "hashtags = []\n",
        "\n",
        "for h in hashtag_list:\n",
        "    hashtags.extend(h)\n",
        "\n",
        "hashtags = list(sorted(hashtags))\n",
        "unique_hashtags = list(set(hashtags))\n",
        "hasht_count = [hashtags.count(h) for h in unique_hashtags]\n",
        "\n",
        "sorted_h = [x for _, x in sorted(zip(hasht_count, unique_hashtags), reverse=True)]\n",
        "sorted_h_c = list(sorted(hasht_count,reverse=True))"
      ]
    },
    {
      "cell_type": "code",
      "execution_count": null,
      "metadata": {
        "colab": {
          "base_uri": "https://localhost:8080/",
          "height": 445
        },
        "id": "OYaao8tCGP02",
        "outputId": "fe8d206e-518c-42d0-fbee-779862744cb8"
      },
      "outputs": [],
      "source": [
        "plt.title(\"Top 25 Hashtag più frequenti\")\n",
        "plt.barh(sorted_h[:25], sorted_h_c[:25])"
      ]
    },
    {
      "cell_type": "code",
      "execution_count": null,
      "metadata": {
        "id": "U6OSqQwkGP02"
      },
      "outputs": [],
      "source": [
        "text_prep = text_prep.apply(removeHashTags)"
      ]
    },
    {
      "cell_type": "markdown",
      "metadata": {
        "id": "NVdXWZOyGP02"
      },
      "source": [
        "Alcuni messaggi sono composti soltanto da menzioni\n",
        "o semplici hashtag, per cui facciamo una veloce pulizia prima di procedere\n",
        "(al contrario, alcuni messaggi non verrebbero processati dal tokenizer, causando degli errori)"
      ]
    },
    {
      "cell_type": "code",
      "execution_count": null,
      "metadata": {
        "id": "K5WsMnEsGP02"
      },
      "outputs": [],
      "source": [
        "for i in range(len(text_prep)):\n",
        "    if(len(text_prep[i]) == 0):\n",
        "        text_prep.drop(i, axis=0, inplace=True)\n",
        "        emotions_prep.drop(i, axis=0, inplace=True)"
      ]
    },
    {
      "cell_type": "markdown",
      "metadata": {
        "id": "KAwUVz1cGP02"
      },
      "source": [
        "Prima di procedere alla classificazione vera e propria, dobbiamo adattare il tokenizer alla presenza delle emoji nel testo, elemento importante per l'interpretazione dei messaggi.\n",
        "\n",
        "Facciamo quindi una ricerca di emoji ed emoticons presenti e aggiungiamole al tokenizer tramite la funzione add_tokens(), per poi fare un resize del modello e completare questo step."
      ]
    },
    {
      "cell_type": "code",
      "execution_count": null,
      "metadata": {
        "id": "l6XxfhurGP02"
      },
      "outputs": [],
      "source": [
        "# Recuperiamo le emoji/emoticon assenti nel tokenizer e le aggiungiamo\n",
        "# facendo anche un resize al modello per adattarsi a questo cambiamento\n",
        "\n",
        "bulk_emoji = emot.bulk_emoji(text_prep)\n",
        "\n",
        "unique_emoji = []\n",
        "\n",
        "for i in range(len(bulk_emoji)):\n",
        "    res = bulk_emoji[i]\n",
        "    if res['flag']:\n",
        "        unique_emoji.extend(res['value'])\n",
        "\n",
        "unique_emoji = list(set(unique_emoji))\n",
        "\n",
        "emoji_to_add = set(unique_emoji) - set(tokenizer.vocab.keys())"
      ]
    },
    {
      "cell_type": "code",
      "execution_count": null,
      "metadata": {
        "id": "jAftr0dYGP02"
      },
      "outputs": [],
      "source": [
        "bulk_emoticons = emot.bulk_emoticons(text_prep)\n",
        "\n",
        "unique_emoticons = []\n",
        "\n",
        "for i in range(len(bulk_emoticons)):\n",
        "    res = bulk_emoticons[i]\n",
        "    if res['flag']:\n",
        "        unique_emoticons.extend(res['value'])\n",
        "\n",
        "unique_emoticons = list(set(unique_emoticons))\n",
        "\n",
        "emoticons_to_add = set(unique_emoticons) - set(tokenizer.vocab.keys())"
      ]
    },
    {
      "cell_type": "code",
      "execution_count": null,
      "metadata": {
        "id": "Zl0rvKtDGP02"
      },
      "outputs": [],
      "source": [
        "new_tokens = []\n",
        "new_tokens.extend(emoji_to_add)\n",
        "new_tokens.extend(emoticons_to_add)"
      ]
    },
    {
      "cell_type": "code",
      "execution_count": null,
      "metadata": {
        "colab": {
          "base_uri": "https://localhost:8080/"
        },
        "id": "ev9tp0KdGP02",
        "outputId": "0baf13bb-c2d2-4716-f1e1-6bbdba88996e"
      },
      "outputs": [],
      "source": [
        "print(f\"Adding: {len(new_tokens)} emoji/emoticons\")"
      ]
    },
    {
      "cell_type": "code",
      "execution_count": null,
      "metadata": {
        "colab": {
          "base_uri": "https://localhost:8080/"
        },
        "id": "-qKkG4XsGP03",
        "outputId": "236309e7-42f2-4476-fe61-c146548ee38e"
      },
      "outputs": [],
      "source": [
        "tokenizer.add_tokens(list(new_tokens))\n",
        "model.resize_token_embeddings(len(tokenizer))"
      ]
    },
    {
      "cell_type": "markdown",
      "metadata": {
        "id": "tNGGSYDWGP03"
      },
      "source": [
        "Vediamo adesso di stabilire brevemente una lunghezza massima in parole dei messaggi.\n",
        "\n",
        "Possiamo vedere come la stragrande maggioranza dei messaggi abbia una lunghezza inferiore a 25-30 parole, per cui, volendo coprire nel caso peggiore situazioni in cui un messaggio da 30 parole genera 3 token per parola (considerando eventuali split durante la lemmatizzazione), andiamo a usare un valore di 120 per la lunghezza massima. Sfrutteremo inoltre il padding per i messaggi in cui non raggiungiamo questa lunghezza, troncando quelli che eccedono questo valore di soglia."
      ]
    },
    {
      "cell_type": "code",
      "execution_count": null,
      "metadata": {
        "colab": {
          "base_uri": "https://localhost:8080/",
          "height": 430
        },
        "id": "0yTS6gYqGP03",
        "outputId": "159c1647-fbd0-476d-fd5f-0247b62effc9"
      },
      "outputs": [],
      "source": [
        "plt.hist([len(t.split(' ')) for t in text_prep])\n",
        "MAX_LEN = 120"
      ]
    },
    {
      "cell_type": "markdown",
      "metadata": {
        "id": "nwtmqXHiGP03"
      },
      "source": [
        "Vediamo come appare il testo dei messaggi dopo questa operazione di pulizia"
      ]
    },
    {
      "cell_type": "code",
      "execution_count": null,
      "metadata": {
        "colab": {
          "base_uri": "https://localhost:8080/"
        },
        "id": "P3Ru52UCGP03",
        "outputId": "9308d978-d63b-493f-fe62-5e99d90e30e5"
      },
      "outputs": [],
      "source": [
        "print(text[5], '\\n', text_prep[5])"
      ]
    },
    {
      "cell_type": "markdown",
      "metadata": {
        "id": "GpYGKVC9mE-L"
      },
      "source": [
        "Verifichiamo invece come potrebbe apparire una generica tokenizzazione"
      ]
    },
    {
      "cell_type": "code",
      "execution_count": null,
      "metadata": {
        "colab": {
          "base_uri": "https://localhost:8080/"
        },
        "id": "ZKkj5dz5dTWa",
        "outputId": "074145e8-fbc8-484e-8f16-820016aaa629"
      },
      "outputs": [],
      "source": [
        "print(text[5], '\\n', tokenizer.tokenize(text[5]))"
      ]
    },
    {
      "cell_type": "markdown",
      "metadata": {
        "id": "mhzrmJWZGP03"
      },
      "source": [
        "### Task A: Classificazione\n",
        "\n",
        "Arrivati a questo punto, dobbiamo per prima cosa addestrare il nostro classificatore per il task che dovrà svolgere.\n",
        "\n",
        "Il classificatore userà un modello BERT per l'encoding degli embeddings generati dal tokenizer.\n",
        "A questa base aggiungiamo un layer dense e infine una sigmoide che ci permette di fare la classificazione multi-label richiesta.\n",
        "\n",
        "Procediamo a passare tutti i dati etichettati al nostro classificatore.\n",
        "\n",
        "Sfruttiamo, se possibile, l'architettura CUDA."
      ]
    },
    {
      "cell_type": "code",
      "execution_count": null,
      "metadata": {
        "colab": {
          "base_uri": "https://localhost:8080/"
        },
        "id": "x9qcMwvOGP03",
        "outputId": "ae9f02bf-73c0-4be8-f480-01b83414c3e3"
      },
      "outputs": [],
      "source": [
        "device = (\"cpu\")\n",
        "\n",
        "if torch.cuda.is_available():\n",
        "    torch.cuda.empty_cache()\n",
        "    device = (\"cuda\")\n",
        "\n",
        "print(f\"Using {device} device\")"
      ]
    },
    {
      "cell_type": "markdown",
      "metadata": {
        "id": "ik-90b5DGP03"
      },
      "source": [
        "Definiamo in anticipo la struttura del nostro dataset sfruttando le API di Pytorch: trasformeremo infatti i nostri dataset attraverso un dataloader, classe che ci permette di dividere in batch i nostri dati durante l'addestramento."
      ]
    },
    {
      "cell_type": "code",
      "execution_count": null,
      "metadata": {
        "id": "CLwhgn97GP03"
      },
      "outputs": [],
      "source": [
        "# inputs: testi dei messaggi\n",
        "# labels: target relativo alle reali emozioni espresse dal messaggio, es. [0, 0, 1, 0...]\n",
        "# tokenizer: il tokenizer a cui abbiamo aggiunto le emoji precedentemente\n",
        "# MAX_LEN: lunghezza massima oltre il quale il tokenizer effettuerà un truncate sui messaggi\n",
        "\n",
        "class _Dataset(Dataset):\n",
        "    def __init__(self, inputs, labels, tokenizer, MAX_LEN, transform=None):\n",
        "        self.transform = transform\n",
        "        self.inputs = inputs\n",
        "        self.labels = [torch.tensor(l) for l in labels]\n",
        "        self.tokenizer = tokenizer\n",
        "        self.MAX_LEN = MAX_LEN\n",
        "\n",
        "    def __len__(self):\n",
        "        return len(self.inputs)\n",
        "\n",
        "    # Estraiamo tramite tokenizer gli id dell'input da passare al modello\n",
        "    # Dobbiamo infatti lavorare con gli embeddings per\n",
        "    # poter classificare il nostro testo\n",
        "\n",
        "    def __getitem__(self, idx):\n",
        "        inputs = tokenizer(self.inputs.iloc[idx], add_special_tokens=True,\n",
        "                            return_tensors='pt', padding='max_length',\n",
        "                            max_length = self.MAX_LEN, truncation=True)\n",
        "        labels = self.labels[idx]\n",
        "        return {\n",
        "            'ids': inputs['input_ids'],\n",
        "            'mask': inputs['attention_mask'],\n",
        "            'token_type_ids': inputs['token_type_ids'],\n",
        "            'labels': labels\n",
        "        }"
      ]
    },
    {
      "cell_type": "markdown",
      "metadata": {
        "id": "wQ65Ke8uGP04"
      },
      "source": [
        "Andiamo adesso a definire la struttura del nostro classificatore, che possiamo dividere in due macro blocchi:\n",
        "- blocco BERT che gestisce l'input (ovvero i dati testuali tokenizzati)\n",
        "- blocco di classificazione multi-classe multi-label (principalmente un layer dense e una sigmoide in uscita)\n",
        "\n",
        "Ci interessa in particolare andare a recuperare l'ultimo strato nascosto del blocco BERT in modo da passarlo al classificatore e ottenere le logits."
      ]
    },
    {
      "cell_type": "code",
      "execution_count": null,
      "metadata": {
        "id": "DdHnB4hSGP04"
      },
      "outputs": [],
      "source": [
        "class Classifier(nn.Module):\n",
        "    def __init__(self, dropout, num_classes, bte):\n",
        "        super(Classifier, self).__init__()\n",
        "        self.bte = bte # Blocco BTE - Bidirectional Transformer Encoder\n",
        "        self.classifier = nn.Sequential(\n",
        "            nn.Dropout(dropout), # Layer di dropout,\n",
        "            nn.Linear(768, num_classes), # Layer dense su cui fare fine tuning\n",
        "            nn.Sigmoid()\n",
        "        )\n",
        "\n",
        "    def forward(self, ids, mask, token_type_ids):\n",
        "        output = self.bte(ids, attention_mask = mask, token_type_ids = token_type_ids).last_hidden_state\n",
        "        # eseguiamo un'operazione di slicing per estrarre solo l'embedding del token [CLS] per ogni sequenza nel batch.\n",
        "        output = output[:,0,:]\n",
        "        output = self.classifier(output)\n",
        "        return output"
      ]
    },
    {
      "cell_type": "markdown",
      "metadata": {
        "id": "Ks3uvdvzGP04"
      },
      "source": [
        "E' stato scelto di implementare un piccolo meccanismo di early stopping per l'addestramento in modo da velocizzare il processo e non sprecare inutilmente tempo su configurazioni non particolarmente proficue di iperparametri della rete (visti i grandi rallentamenti che avvengono dopo periodi di addestramento prolungati, dovuti a saturazione VRAM).\n",
        "\n",
        "In aggiunta a ciò, stabiliamo comunque un numero minimo di epoche da passare prima che questo meccanismo concluda effettivamente il processo di addestramento."
      ]
    },
    {
      "cell_type": "code",
      "execution_count": null,
      "metadata": {
        "id": "s-G5QwqwGP04"
      },
      "outputs": [],
      "source": [
        "class EarlyStopper:\n",
        "    def __init__(self, patience=1, min_delta=0, min_epochs=30, epochs=0):\n",
        "        self.min_epochs=min_epochs\n",
        "        self.epochs=epochs\n",
        "        self.patience = patience\n",
        "        self.min_delta = min_delta\n",
        "        self.counter = 0\n",
        "        self.min_validation_loss = float('inf')\n",
        "\n",
        "    # Ad ogni epoca, se non è stato osservato un miglioramento vero e proprio per più di n epoche\n",
        "    # (dove n = patience dell'early stopper) verrà interrotto l'addestramento di quel modello\n",
        "    # per fare comunque un tentativo e sorpassare una configurazione troppo sensibile,\n",
        "    # stabiliamo un minimo numero di epoche da passare\n",
        "\n",
        "    def early_stop(self, validation_loss):\n",
        "        self.epochs = self.epochs + 1\n",
        "        if validation_loss < self.min_validation_loss:\n",
        "            self.min_validation_loss = validation_loss\n",
        "            self.counter = 0\n",
        "        elif validation_loss > (self.min_validation_loss + self.min_delta):\n",
        "            self.counter += 1\n",
        "            if self.counter >= self.patience and self.epochs >= self.min_epochs:\n",
        "                return True\n",
        "        return False"
      ]
    },
    {
      "cell_type": "markdown",
      "metadata": {
        "id": "-t8AqLnbGP04"
      },
      "source": [
        "Vediamo adesso il loop di addestramento, dal momento che andremo a fare fine tuning del modello per adattarlo ai nostri dati"
      ]
    },
    {
      "cell_type": "code",
      "execution_count": null,
      "metadata": {
        "id": "KKlbEpGKGP04"
      },
      "outputs": [],
      "source": [
        "def train(model, dataloader, loss, accuracy, optimizer, device):\n",
        "    # segnaliamo a pytorch l'inizio dell'addestramento tramite invocazione del metodo .train()\n",
        "    model.train()\n",
        "\n",
        "    epoch_acc = 0\n",
        "    epoch_loss = 0\n",
        "\n",
        "    for d in dataloader:\n",
        "        (ids, mask, token_type_ids, labels_) = d.values()\n",
        "\n",
        "        # partiamo da un gradiente azzerato\n",
        "\n",
        "        optimizer.zero_grad()\n",
        "\n",
        "        input_ids = ids.squeeze(1).to(device)\n",
        "        input_mask = mask.squeeze(1).to(device)\n",
        "        input_token_type_ids = token_type_ids.squeeze(1).to(device)\n",
        "        labels_ = labels_.squeeze(1).to(device).float()\n",
        "\n",
        "        output = model(input_ids, input_mask, input_token_type_ids)\n",
        "\n",
        "        # Calcoliamo la loss confrontando le logits in uscita e le label effettive\n",
        "        # Classificazione multiclasse multilabel -> usiamo la BCE\n",
        "\n",
        "        batch_loss = loss(output, labels_)\n",
        "        batch_loss.backward()\n",
        "        optimizer.step()\n",
        "\n",
        "        # aggiornamento del gradiente trmaite funzione .backward()\n",
        "        # effettuiamo un passo di ottimizzazione (usando l'ottimizzatore Adam)\n",
        "\n",
        "        epoch_loss += batch_loss.item()\n",
        "        epoch_acc += accuracy(output, labels_).item()\n",
        "\n",
        "        input_ids = input_ids.detach().cpu()\n",
        "        input_mask = input_mask.detach().cpu()\n",
        "        input_token_type_ids = input_token_type_ids.detach().cpu()\n",
        "        labels_ = labels_.detach().cpu()\n",
        "\n",
        "    return epoch_loss/len(dataloader), epoch_acc/len(dataloader)"
      ]
    },
    {
      "cell_type": "markdown",
      "metadata": {
        "id": "yROG_Z-5GP05"
      },
      "source": [
        "Passiamo invece alla fase di validazione"
      ]
    },
    {
      "cell_type": "code",
      "execution_count": null,
      "metadata": {
        "id": "sEjya2JyGP05"
      },
      "outputs": [],
      "source": [
        "def val(model, dataloader, loss, accuracy, device, best_acc, best_weights):\n",
        "    # informo il modello che siamo in fase di valutazione\n",
        "    model.eval()\n",
        "\n",
        "    epoch_acc = 0\n",
        "    epoch_loss = 0\n",
        "\n",
        "    # non ho bisogno di andare ad aggiornare il gradiente\n",
        "    with torch.no_grad():\n",
        "        for d in dataloader:\n",
        "            (ids, mask, token_type_ids, labels_) = d.values()\n",
        "\n",
        "            input_ids = ids.squeeze(1).to(device)\n",
        "            input_mask = mask.squeeze(1).to(device)\n",
        "            input_token_type_ids = token_type_ids.squeeze(1).to(device)\n",
        "            labels_ = labels_.squeeze(1).to(device).float()\n",
        "\n",
        "            output = model(input_ids, input_mask, input_token_type_ids)\n",
        "\n",
        "            batch_loss = loss(output, labels_)\n",
        "            epoch_loss += batch_loss.item()\n",
        "\n",
        "            epoch_acc += accuracy(output, labels_).item()\n",
        "\n",
        "            input_ids = input_ids.detach().cpu()\n",
        "            input_mask = input_mask.detach().cpu()\n",
        "            input_token_type_ids = input_token_type_ids.detach().cpu()\n",
        "            labels_ = labels_.detach().cpu()\n",
        "\n",
        "        # Rispetto alla funzione per lo step di addestramento, qui vado a valutare l'accuracy\n",
        "        # del modello e a salvare di volta in volta i pesi migliori ottenuti fino all'ennesima epoca\n",
        "\n",
        "        acc = float(epoch_acc/len(dataloader))\n",
        "        if acc > best_acc:\n",
        "            best_acc = acc\n",
        "            best_weights = copy.deepcopy(model.state_dict())\n",
        "\n",
        "    return epoch_loss/len(dataloader), epoch_acc/len(dataloader), best_acc, best_weights"
      ]
    },
    {
      "cell_type": "markdown",
      "metadata": {
        "id": "pT-_n4VfGP05"
      },
      "source": [
        "Vediamo adesso il ciclo completo di addestramento:\n",
        "- passaggio dei dataset ai dataloader\n",
        "- per ogni epoca:\n",
        "    - misuro loss e accuracy per quell'epoca\n",
        "    - effettuo la validazione\n",
        "    - faccio un controllo tramite meccanismo di early stopping definito in precedenza\n",
        "    - ripeto fino a incontrare i criteri di early stop o a completamento del loop"
      ]
    },
    {
      "cell_type": "code",
      "execution_count": null,
      "metadata": {
        "id": "msJBdnZlGP06"
      },
      "outputs": [],
      "source": [
        "def evaluate(model, epochs, optimizer, device, train_data, val_data,\n",
        "               batch_size, accuracy, loss, early_stopper):\n",
        "\n",
        "  train_dataloader = DataLoader(train_data, batch_size=batch_size, shuffle=True)\n",
        "  val_dataloader = DataLoader(val_data, batch_size=batch_size)\n",
        "\n",
        "  # liste dei valori di loss e accuracy epoca per epoca per il plot\n",
        "  train_loss = []\n",
        "  val_loss = []\n",
        "\n",
        "  train_acc = []\n",
        "  val_acc = []\n",
        "  best_acc = - np.inf\n",
        "  best_weights = None\n",
        "\n",
        "  # Ciclo di addestramento\n",
        "  for epoch in tqdm(range(1, epochs+1)):\n",
        "    torch.cuda.empty_cache()\n",
        "    epoch_train_loss, epoch_train_acc = train(model, train_dataloader, loss, accuracy, optimizer, device)\n",
        "    train_loss.append(epoch_train_loss)\n",
        "    train_acc.append(epoch_train_acc)\n",
        "\n",
        "    epoch_val_loss, epoch_val_acc, best_acc, best_weights = val(model, val_dataloader, loss, accuracy, device, best_acc, best_weights)\n",
        "    val_loss.append(epoch_val_loss)\n",
        "    val_acc.append(epoch_val_acc)\n",
        "\n",
        "    if early_stopper.early_stop(epoch_val_loss):\n",
        "      break\n",
        "\n",
        "    print(f\"\\nTrain loss: {epoch_train_loss:6.4f} Val loss: {epoch_val_loss:6.4f}\")\n",
        "    print(f\"Train accuracy: {(epoch_train_acc):6.4f} Val accuracy: {(epoch_val_acc):6.4f}\")\n",
        "\n",
        "  return train_loss, val_loss, train_acc, val_acc, best_acc, best_weights"
      ]
    },
    {
      "cell_type": "markdown",
      "metadata": {
        "id": "jwU_YxqIGP06"
      },
      "source": [
        "L'inferenza sul modello addestrato verrà infine effettuata in questo modo, assegnando una label se la rispettiva logit supera il valore di 0.5 (o equivalentemente il 50% di probabilità) per un bilanciamento delle probabilità."
      ]
    },
    {
      "cell_type": "code",
      "execution_count": null,
      "metadata": {
        "id": "rtp3c29eGP06"
      },
      "outputs": [],
      "source": [
        "def predict(model, dataset):\n",
        "    dataloader = DataLoader(dataset)\n",
        "    predictions = []\n",
        "\n",
        "    # metodo per inferenza, non ho bisogno di fare operazioni sul gradiente\n",
        "    with torch.no_grad():\n",
        "        for d in tqdm(dataloader):\n",
        "            (ids, mask, token_type_ids, labels_) = d.values()\n",
        "\n",
        "            input_ids = ids.squeeze(1).to(device)\n",
        "            input_mask = mask.squeeze(1).to(device)\n",
        "            input_token_type_ids = token_type_ids.squeeze(1).to(device)\n",
        "            labels_ = labels_.squeeze(1).to(device).float()\n",
        "\n",
        "            output = model(input_ids, input_mask, input_token_type_ids)\n",
        "\n",
        "            output = output.squeeze(0).detach().cpu().tolist()\n",
        "            pred = [1 if o > .5 else 0 for o in output]\n",
        "            input_ids= input_ids.detach().cpu()\n",
        "            input_mask = input_mask.detach().cpu()\n",
        "            input_token_type_ids = input_token_type_ids.detach().cpu()\n",
        "            labels_ = labels_.detach().cpu()\n",
        "            predictions.append(pred)\n",
        "\n",
        "    return predictions"
      ]
    },
    {
      "cell_type": "markdown",
      "metadata": {
        "id": "ousspbPPGP06"
      },
      "source": [
        "Sono stati effettuati in totale 8 tentativi: 4 per i testi preprocessati, 4 per quelli non preprocessati.\n",
        "\n",
        "Sono state inizialmente generate 4 configurazioni diverse di iperparametri e usate quindi per 8 processi di addestramento.\n",
        "\n",
        "Riguardo alla scelta dei tentativi, sarebbe stato preferibile un approccio a griglia, testando una serie di combinazioni di iperparametri, cosa che non è stata possibile a causa delle limitazioni hardware.\n",
        "\n",
        "I grafici sono stati salvati per non dover ripetere l'addestramento in futuro, così come i file .pt contenenti i pesi.\n",
        "\n",
        "Non è possibile condividere tramite github i pesi a causa delle dimensioni dei singoli file (circa 6-700MB), tuttavia è possibile richiederli e verranno condivisi per eventuali prove e/o miglioramenti."
      ]
    },
    {
      "cell_type": "code",
      "execution_count": null,
      "metadata": {
        "id": "hZfnamgyGP06"
      },
      "outputs": [],
      "source": [
        "hyperparameters = {\n",
        "    'dropout' : [0.3],\n",
        "    'batch_size' : [8], # scelta dettata dalla saturazione della VRAM\n",
        "    'epochs' : [50, 100],\n",
        "    'lr' : [1e-5, 1e-6], # fine tuning sulla testa del classificatore, valori più alti rischierebbero di inficiare negativamente\n",
        "    'max_len' : MAX_LEN,\n",
        "    'num_classes' : 10,\n",
        "}\n",
        "\n",
        "loss = nn.BCELoss()"
      ]
    },
    {
      "cell_type": "code",
      "execution_count": null,
      "metadata": {
        "id": "3dIuofczGP07"
      },
      "outputs": [],
      "source": [
        "X_train, X_val, Y_train, Y_val = train_test_split(text, emotions.to_numpy(), test_size=0.3)\n",
        "train_dataset = _Dataset(X_train, Y_train, tokenizer, hyperparameters['max_len'])\n",
        "val_dataset = _Dataset(X_val, Y_val, tokenizer, hyperparameters['max_len'])\n",
        "\n",
        "X_train_prep, X_val_prep, Y_train_prep, Y_val_prep = train_test_split(text_prep, emotions_prep.to_numpy(), test_size=0.3)\n",
        "train_dataset_prep = _Dataset(X_train_prep, Y_train_prep, tokenizer, hyperparameters['max_len'])\n",
        "val_dataset_prep = _Dataset(X_val_prep, Y_val_prep, tokenizer, hyperparameters['max_len'])"
      ]
    },
    {
      "cell_type": "markdown",
      "metadata": {
        "id": "DFuPPajlGP07"
      },
      "source": [
        "Salviamo i risultati serializzandoli tramite il pacchetto pickle (i file non sono disponbili su github per lo stesso motivo per cui non lo sono i pesi, tuttavia i risultati sono mostrati a seguire tramite grafici)."
      ]
    },
    {
      "cell_type": "code",
      "execution_count": null,
      "metadata": {},
      "outputs": [],
      "source": [
        "runs = []\n",
        "n_runs = 4\n",
        "run = None\n",
        "\n",
        "if not os.path.exists('runs_A.json'):\n",
        "  while len(runs) < n_runs:\n",
        "    dropout = rand.choice(hyperparameters['dropout'])\n",
        "    lr = rand.choice(hyperparameters['lr'])\n",
        "    epochs = rand.choice(hyperparameters['epochs'])\n",
        "    batch_size = rand.choice(hyperparameters['batch_size'])\n",
        "    run = {\n",
        "      'dropout' : dropout,\n",
        "      'lr' : lr,\n",
        "      'epochs' : epochs,\n",
        "      'batch_size' : batch_size\n",
        "    }\n",
        "\n",
        "    if run not in runs:\n",
        "      runs.append(run)\n",
        "\n",
        "  json_obj = json.dumps(runs, indent=4) # salviamo le run ordinate in un file json, consultabile per verificare le configurazioni usate sui dati\n",
        "\n",
        "  with open(\"runs_A.json\", \"w\") as f:\n",
        "      f.write(json_obj)\n",
        "else:\n",
        "  with open(\"runs_A.json\", \"r\") as f:\n",
        "    runs = json.load(f)"
      ]
    },
    {
      "cell_type": "code",
      "execution_count": null,
      "metadata": {
        "colab": {
          "base_uri": "https://localhost:8080/",
          "height": 631,
          "referenced_widgets": [
            "9c33d3c52e794905b806dbf8ca53d052",
            "ac61c48eab864e6998774029ce0abdea",
            "9b58d9f91dfc4e08ac30837ac77fc586",
            "0e3f77b0aa7047579ef3a983c5319522",
            "5be51cbf0be2452ebcc35b74a1338216",
            "ab1959fcb2b24da28a41bcfbcd1bad6b",
            "ece8193b0ce34fdab9c689074badc227",
            "1853a871d67e43b2899467c86f46865e",
            "d3e8e68df5804f1d8f908cb44d39a35c",
            "80e7cd995ff04856ae57105131c81faa",
            "7ea9a8ad01c64401bc5df340223a6b3d"
          ]
        },
        "id": "a_y6UeAaGP07",
        "outputId": "aba0e0f5-8008-40ea-f561-37b46d1b9833"
      },
      "outputs": [],
      "source": [
        "if not os.path.isdir(f'{root}/task_A'):\n",
        "  os.mkdir(f'{root}/task_A')\n",
        "\n",
        "if not os.path.exists(f'{root}/task_A/best_weights.pt'):\n",
        "    os.mkdir(f'{root}/task_A/runs')\n",
        "    for i in range(1, len(runs) + 1):\n",
        "        if torch.cuda.is_available():\n",
        "            torch.cuda.empty_cache()\n",
        "        accuracy = MultilabelAccuracy(num_labels=10).to(device)\n",
        "\n",
        "        run = runs[i - 1]\n",
        "\n",
        "        dropout = run['dropout']\n",
        "        lr = run['lr']\n",
        "        epochs = run['epochs']\n",
        "        batch_size = run['batch_size']\n",
        "\n",
        "        os.mkdir(f'{root}/task_A/runs/{i}')\n",
        "\n",
        "        early_stopper = EarlyStopper(patience=1, min_delta=0.008)\n",
        "        classifier = Classifier(dropout, hyperparameters['num_classes'], model).to(device)\n",
        "        optimizer = Adam(classifier.parameters(), lr=lr)\n",
        "\n",
        "        train_loss, val_loss, train_acc, val_acc, best_acc, best_weights = evaluate(\n",
        "            classifier,\n",
        "            epochs,\n",
        "            optimizer,\n",
        "            device,\n",
        "            train_dataset,\n",
        "            val_dataset,\n",
        "            batch_size,\n",
        "            accuracy,\n",
        "            loss,\n",
        "            early_stopper\n",
        "        )\n",
        "\n",
        "        classifier = classifier.cpu()\n",
        "        accuracy = accuracy.cpu()\n",
        "\n",
        "        hist = {\n",
        "              \"epochs\" : epochs,\n",
        "              \"dropout\" : dropout,\n",
        "              \"lr\" : lr,\n",
        "              \"batch_size\" : batch_size,\n",
        "              \"train_loss\" : train_loss,\n",
        "              \"val_loss\" : val_loss,\n",
        "              \"train_acc\" : train_acc,\n",
        "              \"val_acc\" : val_acc,\n",
        "              \"best_acc\" : best_acc\n",
        "        }\n",
        "\n",
        "        torch.save(best_weights, f'{root}/task_A/runs/{i}/weights.pt')\n",
        "        with open(f'{root}/task_A/runs/{i}/hist.pkl', 'wb') as handle:\n",
        "          save = {\n",
        "            \"hist\" : hist,\n",
        "            \"run\" : run\n",
        "          }\n",
        "          pickle.dump(save, handle)\n",
        "          handle.close()"
      ]
    },
    {
      "cell_type": "code",
      "execution_count": null,
      "metadata": {
        "id": "ox5x-cVsGP07"
      },
      "outputs": [],
      "source": [
        "if not os.path.exists(f'{root}/task_A/train.png'):\n",
        "    fig, (ax) = plt.subplots( nrows=2, ncols=2, figsize=(10, 10))\n",
        "    n_epochs = list(range(0, 50, 5))\n",
        "\n",
        "    for i in range(2):\n",
        "        for j in range(2):\n",
        "            file = open(f'{root}/task_A/runs/{(i * 2) + j + 1}/hist.pkl', 'rb')\n",
        "            r = pickle.load(file)\n",
        "            hist = r['hist']\n",
        "            file.close()\n",
        "            ax[i][j].set_title(f\"Lr:{hist['lr']}, epochs:{hist['epochs']}, \\ndropout:{hist['dropout']}, batch:{hist['batch_size']}\")\n",
        "            ax[i][j].plot(hist['train_loss'], label='training loss')\n",
        "            ax[i][j].plot(hist['val_loss'], label='val loss')\n",
        "            ax[i][j].plot(hist['train_acc'], label='training acc')\n",
        "            ax[i][j].plot(hist['val_acc'], label='val acc')\n",
        "            ax[i][j].legend(loc='lower right')\n",
        "            ax[i][j].set_xticks(n_epochs)\n",
        "\n",
        "    plt.show()\n",
        "    fig.savefig(f'{root}/task_A/train.png')\n",
        "    plt.close(fig)"
      ]
    },
    {
      "cell_type": "markdown",
      "metadata": {
        "id": "SQAQtJgKs18S"
      },
      "source": [
        "![No preprocess train](task_A\\train.png)"
      ]
    },
    {
      "cell_type": "markdown",
      "metadata": {
        "id": "AsztE-sZGP07"
      },
      "source": [
        "Facciamo lo stesso ma per i dati preprocessati"
      ]
    },
    {
      "cell_type": "code",
      "execution_count": null,
      "metadata": {
        "id": "TMkuckXuGP07"
      },
      "outputs": [],
      "source": [
        "if not os.path.exists(f'{root}/task_A/best_prep_weights.pt'):\n",
        "    os.mkdir(f'{root}/task_A/prep_runs')\n",
        "    for i in range(1, len(runs) + 1):\n",
        "        if torch.cuda.is_available():\n",
        "            torch.cuda.empty_cache()\n",
        "        accuracy = MultilabelAccuracy(num_labels=10).to(device)\n",
        "\n",
        "        run = runs[i - 1]\n",
        "\n",
        "        dropout = run['dropout']\n",
        "        lr = run['lr']\n",
        "        epochs = run['epochs']\n",
        "        batch_size = run['batch_size']\n",
        "\n",
        "        os.mkdir(f'{root}/task_A/prep_runs/{i}') \n",
        "\n",
        "        early_stopper = EarlyStopper(patience=1, min_delta=0.008)\n",
        "        classifier = Classifier(dropout, hyperparameters['num_classes'], model).to(device)\n",
        "        optimizer = Adam(classifier.parameters(), lr=lr)\n",
        "\n",
        "        train_loss, val_loss, train_acc, val_acc, best_acc, best_weights = evaluate(\n",
        "            classifier,\n",
        "            epochs,\n",
        "            optimizer,\n",
        "            device,\n",
        "            train_dataset,\n",
        "            val_dataset,\n",
        "            batch_size,\n",
        "            accuracy,\n",
        "            loss,\n",
        "            early_stopper\n",
        "        )\n",
        "\n",
        "        classifier = classifier.cpu()\n",
        "        accuracy = accuracy.cpu()\n",
        "\n",
        "        hist = {\n",
        "              \"epochs\" : epochs,\n",
        "              \"dropout\" : dropout,\n",
        "              \"lr\" : lr,\n",
        "              \"batch_size\" : batch_size,\n",
        "              \"train_loss\" : train_loss,\n",
        "              \"val_loss\" : val_loss,\n",
        "              \"train_acc\" : train_acc,\n",
        "              \"val_acc\" : val_acc,\n",
        "              \"best_acc\" : best_acc\n",
        "        }\n",
        "\n",
        "        torch.save(best_weights, f'{root}/task_A/prep_runs/{i}/weights.pt')\n",
        "        with open(f'{root}/task_A/prep_runs/{i}/hist.pkl', 'wb') as handle:\n",
        "          save = {\n",
        "            \"hist\" : hist,\n",
        "            \"run\" : run\n",
        "          }\n",
        "          pickle.dump(save, handle)\n",
        "          handle.close()"
      ]
    },
    {
      "cell_type": "code",
      "execution_count": null,
      "metadata": {
        "id": "gr0euQgXGP08"
      },
      "outputs": [],
      "source": [
        "if not os.path.exists(f'{root}/task_A/train_prep.png'):\n",
        "    fig, (ax) = plt.subplots( nrows=2, ncols=2, figsize=(10, 10))\n",
        "    n_epochs = list(range(0, 50, 5))\n",
        "\n",
        "    for i in range(2):\n",
        "        for j in range(2):\n",
        "            file = open(f'{root}/task_A/prep_runs/{(i * 2) + j + 1}/hist.pkl', 'rb')\n",
        "            r = pickle.load(file)\n",
        "            hist = r['hist']\n",
        "            ax[i][j].set_title(f\"Lr:{hist['lr']}, epochs:{hist['epochs']}, \\ndropout:{hist['dropout']}, batch:{hist['batch_size']}\")\n",
        "            ax[i][j].plot(hist['train_loss'], label='training loss')\n",
        "            ax[i][j].plot(hist['val_loss'], label='val loss')\n",
        "            ax[i][j].plot(hist['train_acc'], label='training acc')\n",
        "            ax[i][j].plot(hist['val_acc'], label='val acc')\n",
        "            ax[i][j].legend(loc='lower right')\n",
        "            ax[i][j].set_xticks(n_epochs)\n",
        "            file.close()\n",
        "\n",
        "    plt.show()\n",
        "    fig.savefig(f'{root}/task_A/train_prep.png')\n",
        "    plt.close(fig)"
      ]
    },
    {
      "cell_type": "markdown",
      "metadata": {
        "id": "3XMhM2aqvKBQ"
      },
      "source": [
        "![Preprocess train](task_A\\train_prep.png)"
      ]
    },
    {
      "cell_type": "markdown",
      "metadata": {
        "id": "oU-ahZRJGP08"
      },
      "source": [
        "Procediamo adesso a caricare i dati su cui fare test (sia id che ood)\n",
        "\n",
        "Useremo gli 8 pesi generati per effettuare test sia sui dati in domain che fuori, in modo da vedere come si comporta il nostro classificatore in diverse situazioni, per poi andare a salvare il migliore."
      ]
    },
    {
      "cell_type": "code",
      "execution_count": null,
      "metadata": {
        "id": "8HCYKrsJGP08"
      },
      "outputs": [],
      "source": [
        "classes = emotions.columns\n",
        "\n",
        "test = pd.read_csv(f\"{root}/release/emit_2023-test-labels/emit_test.csv\")\n",
        "test_prep = test.copy()\n",
        "\n",
        "test_ood = pd.read_csv(f\"{root}/release/emit_2023-test-labels/emit_test_ood.csv\")\n",
        "test_ood_prep = test_ood.copy()\n",
        "\n",
        "test.drop([\"Topic\", \"Direction\"], axis=1, inplace=True)\n",
        "test_ood.drop([\"Topic\", \"Direction\"], axis=1, inplace=True)\n",
        "\n",
        "test_prep.drop([\"Topic\", \"Direction\"], axis=1, inplace=True)\n",
        "test_ood_prep.drop([\"Topic\", \"Direction\"], axis=1, inplace=True)\n",
        "\n",
        "test_prep['text'] = test_prep['text'].apply(preprocess).apply(removeHashTags)\n",
        "test_ood_prep['text'] = test_ood_prep['text'].apply(preprocess).apply(removeHashTags)\n",
        "\n",
        "test_prep = test_prep.loc[test_prep['text'].str.len() > 0]\n",
        "test_ood_prep = test_ood_prep.loc[test_ood_prep['text'].str.len() > 0]\n",
        "\n",
        "test_prep_dataset = _Dataset(test_prep['text'], test_prep.drop(['id','text'], axis=1).to_numpy(), tokenizer, hyperparameters['max_len'])\n",
        "test_ood_prep_dataset = _Dataset(test_ood_prep['text'], test_ood_prep.drop(['id','text'], axis=1).to_numpy(), tokenizer, hyperparameters['max_len'])\n",
        "\n",
        "test_dataset = _Dataset(test['text'], test.drop(['id','text'], axis=1).to_numpy(), tokenizer, hyperparameters['max_len'])\n",
        "test_ood_dataset = _Dataset(test_ood['text'], test_ood.drop(['id','text'], axis=1).to_numpy(), tokenizer, hyperparameters['max_len'])"
      ]
    },
    {
      "cell_type": "code",
      "execution_count": null,
      "metadata": {
        "id": "Qo4uOitD5QJ5"
      },
      "outputs": [],
      "source": [
        "import shutil"
      ]
    },
    {
      "cell_type": "markdown",
      "metadata": {
        "id": "wI49CrXQGP08"
      },
      "source": [
        "Generiamo per ogni dataset (4 in totali: no prep ood e in-domain, prep ood e in-domain) le nostre predizioni.\n",
        "\n",
        "Su queste poi andremo a valutare i risultati usando come metrica l'F1 score, in particolare impostando la media per ogni dato con il parametro _macro_, ovvero calcoliamo la metrica per ogni label per trovare la media NON pesata (non teniamo conto sbilanciamenti relativi alle label tuttavia presenti all'interno del dataset)."
      ]
    },
    {
      "cell_type": "code",
      "execution_count": null,
      "metadata": {
        "id": "Ze-NkavmGP08"
      },
      "outputs": [],
      "source": [
        "if not os.path.exists(f'{root}/task_A/heatmap.png'):\n",
        "    preds = []\n",
        "    preds_ood = []\n",
        "    for i in range(4):\n",
        "\n",
        "        weights = torch.load(f'{root}/task_A/runs/{i + 1}/weights.pt')\n",
        "\n",
        "        classifier = Classifier(0, hyperparameters['num_classes'], model).to(device)\n",
        "        classifier.load_state_dict(weights)\n",
        "\n",
        "        preds.append(predict(classifier, test_dataset))\n",
        "        preds_ood.append(predict(classifier, test_ood_dataset))\n",
        "\n",
        "    target = test[classes].to_numpy()\n",
        "    target_ood = test_ood[classes].to_numpy()\n",
        "\n",
        "    f1_scores = [f1(pred, target, average='macro') for pred in preds]\n",
        "    f1_ood_scores = [f1(ood_pred, target_ood, average='macro') for ood_pred in preds_ood]\n",
        "\n",
        "    best_index = f1_scores.index(max(f1_scores))\n",
        "\n",
        "    file = open(f'{root}/task_A/runs/{best_index + 1}/hist.pkl', 'rb')\n",
        "    data = pickle.load(file)\n",
        "    best_hyperp = data['hist']\n",
        "    file.close()\n",
        "\n",
        "    best_index_ood = f1_ood_scores.index(max(f1_ood_scores))\n",
        "\n",
        "    file = open(f'{root}/task_A/runs/{best_index_ood + 1}/hist.pkl', 'rb')\n",
        "    data = pickle.load(file)\n",
        "    best_ood_hyperp = data['hist']\n",
        "    file.close()\n",
        "\n",
        "    # Salviamo i risultati migliori ottenuti\n",
        "    # (in termini di f1 score, la stessa metrica usata come evaluation del task in generale di evalita)\n",
        "\n",
        "    if not os.path.exists(f'{root}/task_A/best_weights.pt'):\n",
        "        shutil.copyfile(f'{root}/task_A/runs/{best_index + 1}/weights.pt', f'{root}/task_A/best_weights.pt')\n",
        "        shutil.copyfile(f'{root}/task_A/runs/{best_index_ood + 1}/weights.pt', f'{root}/task_A/best_ood_weights.pt')\n",
        "\n",
        "    # Generiamo le heatmap tramite seaborn dopo aver generato il report di classificazione\n",
        "    # usiamo classification_report da sklearn\n",
        "\n",
        "    fig, ax = plt.subplots(nrows=2, figsize=(10, 10))\n",
        "\n",
        "    ax[0].set_title('In domain')\n",
        "    ax[1].set_title('OOD')\n",
        "    report = cr(preds[best_index], target, target_names=classes, output_dict=True)\n",
        "    report_ood = cr(preds_ood[best_index], target, target_names=classes, output_dict=True)\n",
        "    sns.heatmap(pd.DataFrame(report).iloc[:-1, :].T, annot=True, ax=ax[0]).get_figure()\n",
        "    sns.heatmap(pd.DataFrame(report_ood).iloc[:-1, :].T, annot=True, ax=ax[1]).get_figure()\n",
        "    fig.savefig(f'{root}/task_A/heatmap.png')\n",
        "\n",
        "    recap = open(f\"{root}/task_A/recap.csv\", \"w\")\n",
        "    txt = [\n",
        "        \"lr,epochs,batch_size,dropout,ood,f1-score\",\n",
        "        f\"{best_hyperp['lr']},{best_hyperp['epochs']},{best_hyperp['batch_size']},{best_hyperp['dropout']},False,{max(f1_scores)}\",\n",
        "        f\"{best_ood_hyperp['lr']},{best_ood_hyperp['epochs']},{best_ood_hyperp['batch_size']}, {best_ood_hyperp['dropout']},True,{max(f1_ood_scores)}\"\n",
        "    ]\n",
        "    recap.write(\"\\n\".join(txt))\n",
        "    recap.close()"
      ]
    },
    {
      "cell_type": "markdown",
      "metadata": {
        "id": "PS39IS2Pv4H1"
      },
      "source": [
        "![No preprocess heatmap](task_A\\heatmap.png)"
      ]
    },
    {
      "cell_type": "code",
      "execution_count": null,
      "metadata": {
        "id": "VqNdBW1UGP08"
      },
      "outputs": [],
      "source": [
        "if not os.path.exists(f'{root}/task_A/heatmap_prep.png'):\n",
        "    preds_prep = []\n",
        "    preds_ood_prep = []\n",
        "    for i in range(4):\n",
        "\n",
        "        weights = torch.load(f'{root}/task_A/prep_runs/{i + 1}/weights.pt')\n",
        "\n",
        "        classifier = Classifier(0, hyperparameters['num_classes'], model).to(device)\n",
        "        classifier.load_state_dict(weights)\n",
        "\n",
        "        preds_prep.append(predict(classifier, test_prep_dataset))\n",
        "        preds_ood_prep.append(predict(classifier, test_ood_prep_dataset))\n",
        "\n",
        "    target_prep = test_prep[classes].to_numpy()\n",
        "    target_prep_ood = test_ood_prep[classes].to_numpy()\n",
        "\n",
        "    f1_prep_scores = [f1(pred_prep, target_prep, average='macro') for pred_prep in preds_prep]\n",
        "    f1_prep_ood_scores = [f1(ood_prep_pred, target_prep_ood, average='macro') for ood_prep_pred in preds_ood_prep]\n",
        "\n",
        "    best_prep_index = f1_prep_scores.index(max(f1_prep_scores))\n",
        "    best_prep_index_ood = f1_prep_ood_scores.index(max(f1_prep_ood_scores))\n",
        "\n",
        "    file = open(f'{root}/task_A/prep_runs/{best_prep_index + 1}/hist.pkl', 'rb')\n",
        "    data = pickle.load(file)\n",
        "    best_prep_hyperp = data['hist']\n",
        "    file.close()\n",
        "\n",
        "    file = open(f'{root}/task_A/prep_runs/{best_prep_index_ood + 1}/hist.pkl', 'rb')\n",
        "    data = pickle.load(file)\n",
        "    best_prep_ood_hyperp = data['hist']\n",
        "    file.close()\n",
        "\n",
        "    if not os.path.exists(f'{root}/task_A/best_prep_weights.pt'):\n",
        "        shutil.copyfile(f'{root}/task_A/prep_runs/{best_prep_index + 1}/weights.pt', f'{root}/task_A/best_prep_weights.pt')\n",
        "        shutil.copyfile(f'{root}/task_A/prep_runs/{best_prep_index_ood + 1}/weights.pt', f'{root}/task_A/best_prep_ood_weights.pt')\n",
        "    fig, ax = plt.subplots(nrows=2, figsize=(10, 10))\n",
        "\n",
        "    ax[0].set_title('In domain')\n",
        "    ax[1].set_title('OOD')\n",
        "    report_prep = cr(preds_prep[best_prep_index], target_prep, target_names=classes, output_dict=True)\n",
        "    report_ood_prep = cr(preds_ood_prep[best_prep_index], target_prep, target_names=classes, output_dict=True)\n",
        "    sns.heatmap(pd.DataFrame(report_prep).iloc[:-1, :].T, annot=True, ax=ax[0]).get_figure()\n",
        "    sns.heatmap(pd.DataFrame(report_ood_prep).iloc[:-1, :].T, annot=True, ax=ax[1]).get_figure()\n",
        "    fig.savefig(f'{root}/task_A/heatmap_prep.png')\n",
        "\n",
        "    recap = open(f\"{root}/task_A/recap_prep.csv\", \"w\")\n",
        "    txt = [\n",
        "        \"lr,epochs,batch_size,dropout,ood,f1-score\",\n",
        "        f\"{best_prep_hyperp['lr']},{best_prep_hyperp['epochs']},{best_prep_hyperp['batch_size']},{best_prep_hyperp['dropout']},False,{max(f1_prep_scores)}\",\n",
        "        f\"{best_prep_ood_hyperp['lr']},{best_prep_ood_hyperp['epochs']},{best_prep_ood_hyperp['batch_size']}, {best_prep_ood_hyperp['dropout']},True,{max(f1_prep_ood_scores)}\"\n",
        "    ]\n",
        "    recap.write(\"\\n\".join(txt))\n",
        "    recap.close()"
      ]
    },
    {
      "cell_type": "markdown",
      "metadata": {
        "id": "ahiFCEyZvase"
      },
      "source": [
        "![Preprocess heatmap](task_A\\heatmap_prep.png)"
      ]
    },
    {
      "cell_type": "markdown",
      "metadata": {
        "id": "XS6kJAIQGP09"
      },
      "source": [
        "Salviamo infine un veloce recap dei migliori risultati ottenuti in dei file _.csv_"
      ]
    },
    {
      "cell_type": "code",
      "execution_count": null,
      "metadata": {
        "id": "66iNcvgnGP09"
      },
      "outputs": [],
      "source": [
        "def scientificNotation(x):\n",
        "    return '{:.0e}'.format(float(str(x).rstrip('0')))\n",
        "\n",
        "def truncateFloat(x):\n",
        "    return '%.2f'%(x)"
      ]
    },
    {
      "cell_type": "code",
      "execution_count": null,
      "metadata": {
        "id": "C-1qxcCUGP09"
      },
      "outputs": [],
      "source": [
        "recap_csv = pd.read_csv(f'{root}/task_A/recap.csv', sep=',')\n",
        "\n",
        "recap_csv['lr'] = recap_csv['lr'].apply(scientificNotation)\n",
        "recap_csv['f1-score'] = recap_csv['f1-score'].apply(truncateFloat)\n",
        "\n",
        "recap_csv.head()"
      ]
    },
    {
      "cell_type": "code",
      "execution_count": null,
      "metadata": {
        "id": "lCEJ8LsIGP09"
      },
      "outputs": [],
      "source": [
        "recap_prep_csv = pd.read_csv(f'{root}/task_A/recap_prep.csv', sep=',')\n",
        "\n",
        "recap_prep_csv['lr'] = recap_prep_csv['lr'].apply(scientificNotation)\n",
        "recap_prep_csv['f1-score'] = recap_prep_csv['f1-score'].apply(truncateFloat)\n",
        "\n",
        "recap_prep_csv.head()"
      ]
    },
    {
      "cell_type": "markdown",
      "metadata": {
        "id": "3KY_RyPQk1jM"
      },
      "source": [
        "### Generazione CSV\n",
        "\n",
        "Procediamo infine con la generazione del csv contenente le predizioni usando pesi che ci hanno permesso di ottenere risultati migliori, ovvero quelli del modello testato su dati in domain e che si è servito di preprocessing delle stringhe."
      ]
    },
    {
      "cell_type": "code",
      "execution_count": null,
      "metadata": {
        "id": "j8G9usIpmBqH"
      },
      "outputs": [],
      "source": [
        "best_weights = torch.load(f'{root}/task_A/best_prep_weights.pt')\n",
        "\n",
        "best_classifier = Classifier(0, hyperparameters['num_classes'], model).to(device)\n",
        "best_classifier.load_state_dict(best_weights)\n",
        "\n",
        "csv_preds = predict(best_classifier, test_prep_dataset)\n",
        "csv_ood_preds = predict(best_classifier, test_ood_prep_dataset)"
      ]
    },
    {
      "cell_type": "code",
      "execution_count": null,
      "metadata": {
        "id": "09vwvAX4pb3g"
      },
      "outputs": [],
      "source": [
        "indom_file = f\"{root}/task_A/Muzio_SubtaskA_in-domain_run1.csv\"\n",
        "indom_csv = open(indom_file, \"w\")\n",
        "\n",
        "header = \"id,Anger,Anticipation,Disgust,Fear,Joy,Love,Neutral,Sadness,Surprise,Trust\"\n",
        "content = []\n",
        "content.append(header)\n",
        "\n",
        "for i in range(len(csv_preds)):\n",
        "  csv_pred = ','.join(str(x) for x in csv_preds[i])\n",
        "  row = test_prep['id'].iloc[i]\n",
        "  content.append(f'{row},{csv_pred}')\n",
        "\n",
        "indom_csv.write(\"\\n\".join(content))\n",
        "indom_csv.close()"
      ]
    },
    {
      "cell_type": "code",
      "execution_count": null,
      "metadata": {
        "id": "u8FfIgWTv5Gl"
      },
      "outputs": [],
      "source": [
        "ood_file = f\"{root}/task_A/Muzio_SubtaskA_out-of-domain_run1.csv\"\n",
        "ood_csv = open(ood_file, \"w\")\n",
        "\n",
        "header = \"id,Anger,Anticipation,Disgust,Fear,Joy,Love,Neutral,Sadness,Surprise,Trust\"\n",
        "content = []\n",
        "content.append(header)\n",
        "\n",
        "for i in range(len(csv_ood_preds)):\n",
        "  csv_ood_pred = ','.join(str(x) for x in csv_ood_preds[i])\n",
        "  row = test_ood_prep['id'].iloc[i]\n",
        "  content.append(f'{row},{csv_ood_pred}')\n",
        "\n",
        "ood_csv.write(\"\\n\".join(content))\n",
        "ood_csv.close()"
      ]
    },
    {
      "cell_type": "markdown",
      "metadata": {
        "id": "APCtrn3OGP09"
      },
      "source": [
        "## Conclusione\n",
        "\n",
        "Effettuando sia operazioni di preprocessing sul testo, sia variazioni in termini di iperparametri del nostro modello, i risultati non sembrano dimostrare grandi variazioni.\n",
        "\n",
        "Possiamo notare come orientativamente le classificazioni con accuracy più alta siano state quelle sulle etichette più frequenti (avevamo già osservato uno sbilanciamento delle etichette).\n",
        "\n",
        "Eventuali modifiche che potrebbero venire adoperate per risultati migliori potrebbero essere:\n",
        "- operazioni di data augmentation (dal momento che i dati di addestramento ammontano a neanche 6000 messaggi totali)\n",
        "- ulteriori tentativi di variazione sugli iperparametri, insistendo magari su diversi valori del learning rate, o introduzione di decadimento dei pesi con un early stopping più generoso\n",
        "\n",
        "In generale, almeno in questo task, non sono stati purtroppo raggiunti dei risultati significativi nonostante gli accorgimenti presi (come un numero di epoche minimo prima dell'entrata in azione dell'early stop, o dei passaggi di pre processing del testo). \n",
        "\n",
        "Sono state effettuate prove usando sia una delle GPU messe a disposizione dal piano Pro di Google Colab, che una configurazione con 32GB di RAM e una 3060ti con 8 GB di VRAM. "
      ]
    }
  ],
  "metadata": {
    "accelerator": "GPU",
    "colab": {
      "gpuType": "L4",
      "machine_shape": "hm",
      "provenance": []
    },
    "kernelspec": {
      "display_name": "Python 3",
      "name": "python3"
    },
    "language_info": {
      "codemirror_mode": {
        "name": "ipython",
        "version": 3
      },
      "file_extension": ".py",
      "mimetype": "text/x-python",
      "name": "python",
      "nbconvert_exporter": "python",
      "pygments_lexer": "ipython3",
      "version": "3.11.7"
    },
    "widgets": {
      "application/vnd.jupyter.widget-state+json": {
        "05057ce0d5074272aa96cf08956e5713": {
          "model_module": "@jupyter-widgets/controls",
          "model_module_version": "1.5.0",
          "model_name": "DescriptionStyleModel",
          "state": {
            "_model_module": "@jupyter-widgets/controls",
            "_model_module_version": "1.5.0",
            "_model_name": "DescriptionStyleModel",
            "_view_count": null,
            "_view_module": "@jupyter-widgets/base",
            "_view_module_version": "1.2.0",
            "_view_name": "StyleView",
            "description_width": ""
          }
        },
        "074694056aee4cad8cdeeaef81a650e7": {
          "model_module": "@jupyter-widgets/base",
          "model_module_version": "1.2.0",
          "model_name": "LayoutModel",
          "state": {
            "_model_module": "@jupyter-widgets/base",
            "_model_module_version": "1.2.0",
            "_model_name": "LayoutModel",
            "_view_count": null,
            "_view_module": "@jupyter-widgets/base",
            "_view_module_version": "1.2.0",
            "_view_name": "LayoutView",
            "align_content": null,
            "align_items": null,
            "align_self": null,
            "border": null,
            "bottom": null,
            "display": null,
            "flex": null,
            "flex_flow": null,
            "grid_area": null,
            "grid_auto_columns": null,
            "grid_auto_flow": null,
            "grid_auto_rows": null,
            "grid_column": null,
            "grid_gap": null,
            "grid_row": null,
            "grid_template_areas": null,
            "grid_template_columns": null,
            "grid_template_rows": null,
            "height": null,
            "justify_content": null,
            "justify_items": null,
            "left": null,
            "margin": null,
            "max_height": null,
            "max_width": null,
            "min_height": null,
            "min_width": null,
            "object_fit": null,
            "object_position": null,
            "order": null,
            "overflow": null,
            "overflow_x": null,
            "overflow_y": null,
            "padding": null,
            "right": null,
            "top": null,
            "visibility": null,
            "width": null
          }
        },
        "0e3f77b0aa7047579ef3a983c5319522": {
          "model_module": "@jupyter-widgets/controls",
          "model_module_version": "1.5.0",
          "model_name": "HTMLModel",
          "state": {
            "_dom_classes": [],
            "_model_module": "@jupyter-widgets/controls",
            "_model_module_version": "1.5.0",
            "_model_name": "HTMLModel",
            "_view_count": null,
            "_view_module": "@jupyter-widgets/controls",
            "_view_module_version": "1.5.0",
            "_view_name": "HTMLView",
            "description": "",
            "description_tooltip": null,
            "layout": "IPY_MODEL_80e7cd995ff04856ae57105131c81faa",
            "placeholder": "​",
            "style": "IPY_MODEL_7ea9a8ad01c64401bc5df340223a6b3d",
            "value": " 4/100 [05:45&lt;1:50:41, 69.18s/it]"
          }
        },
        "0e9786ea7a40490d897fa218c4855c5f": {
          "model_module": "@jupyter-widgets/controls",
          "model_module_version": "1.5.0",
          "model_name": "HBoxModel",
          "state": {
            "_dom_classes": [],
            "_model_module": "@jupyter-widgets/controls",
            "_model_module_version": "1.5.0",
            "_model_name": "HBoxModel",
            "_view_count": null,
            "_view_module": "@jupyter-widgets/controls",
            "_view_module_version": "1.5.0",
            "_view_name": "HBoxView",
            "box_style": "",
            "children": [
              "IPY_MODEL_541b866236cf425a82e3f2dd2b75d936",
              "IPY_MODEL_41bf98fe25f44cc69d1e075bd37245cc",
              "IPY_MODEL_e17b0a245b89404ebb094cc2c593d452"
            ],
            "layout": "IPY_MODEL_9822b729456646c5a04b22e723bad867"
          }
        },
        "155706926813419e81baf4883c7d3835": {
          "model_module": "@jupyter-widgets/base",
          "model_module_version": "1.2.0",
          "model_name": "LayoutModel",
          "state": {
            "_model_module": "@jupyter-widgets/base",
            "_model_module_version": "1.2.0",
            "_model_name": "LayoutModel",
            "_view_count": null,
            "_view_module": "@jupyter-widgets/base",
            "_view_module_version": "1.2.0",
            "_view_name": "LayoutView",
            "align_content": null,
            "align_items": null,
            "align_self": null,
            "border": null,
            "bottom": null,
            "display": null,
            "flex": null,
            "flex_flow": null,
            "grid_area": null,
            "grid_auto_columns": null,
            "grid_auto_flow": null,
            "grid_auto_rows": null,
            "grid_column": null,
            "grid_gap": null,
            "grid_row": null,
            "grid_template_areas": null,
            "grid_template_columns": null,
            "grid_template_rows": null,
            "height": null,
            "justify_content": null,
            "justify_items": null,
            "left": null,
            "margin": null,
            "max_height": null,
            "max_width": null,
            "min_height": null,
            "min_width": null,
            "object_fit": null,
            "object_position": null,
            "order": null,
            "overflow": null,
            "overflow_x": null,
            "overflow_y": null,
            "padding": null,
            "right": null,
            "top": null,
            "visibility": null,
            "width": null
          }
        },
        "1853a871d67e43b2899467c86f46865e": {
          "model_module": "@jupyter-widgets/base",
          "model_module_version": "1.2.0",
          "model_name": "LayoutModel",
          "state": {
            "_model_module": "@jupyter-widgets/base",
            "_model_module_version": "1.2.0",
            "_model_name": "LayoutModel",
            "_view_count": null,
            "_view_module": "@jupyter-widgets/base",
            "_view_module_version": "1.2.0",
            "_view_name": "LayoutView",
            "align_content": null,
            "align_items": null,
            "align_self": null,
            "border": null,
            "bottom": null,
            "display": null,
            "flex": null,
            "flex_flow": null,
            "grid_area": null,
            "grid_auto_columns": null,
            "grid_auto_flow": null,
            "grid_auto_rows": null,
            "grid_column": null,
            "grid_gap": null,
            "grid_row": null,
            "grid_template_areas": null,
            "grid_template_columns": null,
            "grid_template_rows": null,
            "height": null,
            "justify_content": null,
            "justify_items": null,
            "left": null,
            "margin": null,
            "max_height": null,
            "max_width": null,
            "min_height": null,
            "min_width": null,
            "object_fit": null,
            "object_position": null,
            "order": null,
            "overflow": null,
            "overflow_x": null,
            "overflow_y": null,
            "padding": null,
            "right": null,
            "top": null,
            "visibility": null,
            "width": null
          }
        },
        "1e8eff1d355f41098fc56e76f343b68b": {
          "model_module": "@jupyter-widgets/controls",
          "model_module_version": "1.5.0",
          "model_name": "HTMLModel",
          "state": {
            "_dom_classes": [],
            "_model_module": "@jupyter-widgets/controls",
            "_model_module_version": "1.5.0",
            "_model_name": "HTMLModel",
            "_view_count": null,
            "_view_module": "@jupyter-widgets/controls",
            "_view_module_version": "1.5.0",
            "_view_name": "HTMLView",
            "description": "",
            "description_tooltip": null,
            "layout": "IPY_MODEL_7d3913ecb1f94e0393d00bb0cd6a20b0",
            "placeholder": "​",
            "style": "IPY_MODEL_a8a6fe9ffd794b46bee542e857d96a41",
            "value": " 1.96M/1.96M [00:00&lt;00:00, 5.90MB/s]"
          }
        },
        "2149a212f3fb46048a5170bde87e5976": {
          "model_module": "@jupyter-widgets/controls",
          "model_module_version": "1.5.0",
          "model_name": "DescriptionStyleModel",
          "state": {
            "_model_module": "@jupyter-widgets/controls",
            "_model_module_version": "1.5.0",
            "_model_name": "DescriptionStyleModel",
            "_view_count": null,
            "_view_module": "@jupyter-widgets/base",
            "_view_module_version": "1.2.0",
            "_view_name": "StyleView",
            "description_width": ""
          }
        },
        "225c37a674134ef794d5396410d425ea": {
          "model_module": "@jupyter-widgets/base",
          "model_module_version": "1.2.0",
          "model_name": "LayoutModel",
          "state": {
            "_model_module": "@jupyter-widgets/base",
            "_model_module_version": "1.2.0",
            "_model_name": "LayoutModel",
            "_view_count": null,
            "_view_module": "@jupyter-widgets/base",
            "_view_module_version": "1.2.0",
            "_view_name": "LayoutView",
            "align_content": null,
            "align_items": null,
            "align_self": null,
            "border": null,
            "bottom": null,
            "display": null,
            "flex": null,
            "flex_flow": null,
            "grid_area": null,
            "grid_auto_columns": null,
            "grid_auto_flow": null,
            "grid_auto_rows": null,
            "grid_column": null,
            "grid_gap": null,
            "grid_row": null,
            "grid_template_areas": null,
            "grid_template_columns": null,
            "grid_template_rows": null,
            "height": null,
            "justify_content": null,
            "justify_items": null,
            "left": null,
            "margin": null,
            "max_height": null,
            "max_width": null,
            "min_height": null,
            "min_width": null,
            "object_fit": null,
            "object_position": null,
            "order": null,
            "overflow": null,
            "overflow_x": null,
            "overflow_y": null,
            "padding": null,
            "right": null,
            "top": null,
            "visibility": null,
            "width": null
          }
        },
        "253b91fa9cf445c8a363dc9173d0f82e": {
          "model_module": "@jupyter-widgets/controls",
          "model_module_version": "1.5.0",
          "model_name": "FloatProgressModel",
          "state": {
            "_dom_classes": [],
            "_model_module": "@jupyter-widgets/controls",
            "_model_module_version": "1.5.0",
            "_model_name": "FloatProgressModel",
            "_view_count": null,
            "_view_module": "@jupyter-widgets/controls",
            "_view_module_version": "1.5.0",
            "_view_name": "ProgressView",
            "bar_style": "success",
            "description": "",
            "description_tooltip": null,
            "layout": "IPY_MODEL_ec658d585463481fb1d469fa26901cf3",
            "max": 625,
            "min": 0,
            "orientation": "horizontal",
            "style": "IPY_MODEL_4b23241f534d4f099848914125614973",
            "value": 625
          }
        },
        "263681b6ef564bd8b7ccc063d80ea476": {
          "model_module": "@jupyter-widgets/controls",
          "model_module_version": "1.5.0",
          "model_name": "HBoxModel",
          "state": {
            "_dom_classes": [],
            "_model_module": "@jupyter-widgets/controls",
            "_model_module_version": "1.5.0",
            "_model_name": "HBoxModel",
            "_view_count": null,
            "_view_module": "@jupyter-widgets/controls",
            "_view_module_version": "1.5.0",
            "_view_name": "HBoxView",
            "box_style": "",
            "children": [
              "IPY_MODEL_e9dabbc124374e5c93b11e4f9d37577c",
              "IPY_MODEL_a6c6d06810f640109c19db284e246fb3",
              "IPY_MODEL_de457340eb3349b9b29e1e233ce6d0a1"
            ],
            "layout": "IPY_MODEL_3a15583991924af8ba9eeb787e5f8d29"
          }
        },
        "2bd18a5adc06463ea90852c314bb5aad": {
          "model_module": "@jupyter-widgets/controls",
          "model_module_version": "1.5.0",
          "model_name": "DescriptionStyleModel",
          "state": {
            "_model_module": "@jupyter-widgets/controls",
            "_model_module_version": "1.5.0",
            "_model_name": "DescriptionStyleModel",
            "_view_count": null,
            "_view_module": "@jupyter-widgets/base",
            "_view_module_version": "1.2.0",
            "_view_name": "StyleView",
            "description_width": ""
          }
        },
        "318a494a0ed24e8bac9a48be7b9e2f1b": {
          "model_module": "@jupyter-widgets/base",
          "model_module_version": "1.2.0",
          "model_name": "LayoutModel",
          "state": {
            "_model_module": "@jupyter-widgets/base",
            "_model_module_version": "1.2.0",
            "_model_name": "LayoutModel",
            "_view_count": null,
            "_view_module": "@jupyter-widgets/base",
            "_view_module_version": "1.2.0",
            "_view_name": "LayoutView",
            "align_content": null,
            "align_items": null,
            "align_self": null,
            "border": null,
            "bottom": null,
            "display": null,
            "flex": null,
            "flex_flow": null,
            "grid_area": null,
            "grid_auto_columns": null,
            "grid_auto_flow": null,
            "grid_auto_rows": null,
            "grid_column": null,
            "grid_gap": null,
            "grid_row": null,
            "grid_template_areas": null,
            "grid_template_columns": null,
            "grid_template_rows": null,
            "height": null,
            "justify_content": null,
            "justify_items": null,
            "left": null,
            "margin": null,
            "max_height": null,
            "max_width": null,
            "min_height": null,
            "min_width": null,
            "object_fit": null,
            "object_position": null,
            "order": null,
            "overflow": null,
            "overflow_x": null,
            "overflow_y": null,
            "padding": null,
            "right": null,
            "top": null,
            "visibility": null,
            "width": null
          }
        },
        "3633a4787118429da5bdeac5bcdc6e1c": {
          "model_module": "@jupyter-widgets/controls",
          "model_module_version": "1.5.0",
          "model_name": "ProgressStyleModel",
          "state": {
            "_model_module": "@jupyter-widgets/controls",
            "_model_module_version": "1.5.0",
            "_model_name": "ProgressStyleModel",
            "_view_count": null,
            "_view_module": "@jupyter-widgets/base",
            "_view_module_version": "1.2.0",
            "_view_name": "StyleView",
            "bar_color": null,
            "description_width": ""
          }
        },
        "39fe1ce0127945d7961510174e3808d2": {
          "model_module": "@jupyter-widgets/controls",
          "model_module_version": "1.5.0",
          "model_name": "HTMLModel",
          "state": {
            "_dom_classes": [],
            "_model_module": "@jupyter-widgets/controls",
            "_model_module_version": "1.5.0",
            "_model_name": "HTMLModel",
            "_view_count": null,
            "_view_module": "@jupyter-widgets/controls",
            "_view_module_version": "1.5.0",
            "_view_name": "HTMLView",
            "description": "",
            "description_tooltip": null,
            "layout": "IPY_MODEL_6f8770ad6bc0440fb8a54421ef841793",
            "placeholder": "​",
            "style": "IPY_MODEL_451e51876d224a5f9efac3b1ae3813d0",
            "value": " 625/625 [00:00&lt;00:00, 56.2kB/s]"
          }
        },
        "3a15583991924af8ba9eeb787e5f8d29": {
          "model_module": "@jupyter-widgets/base",
          "model_module_version": "1.2.0",
          "model_name": "LayoutModel",
          "state": {
            "_model_module": "@jupyter-widgets/base",
            "_model_module_version": "1.2.0",
            "_model_name": "LayoutModel",
            "_view_count": null,
            "_view_module": "@jupyter-widgets/base",
            "_view_module_version": "1.2.0",
            "_view_name": "LayoutView",
            "align_content": null,
            "align_items": null,
            "align_self": null,
            "border": null,
            "bottom": null,
            "display": null,
            "flex": null,
            "flex_flow": null,
            "grid_area": null,
            "grid_auto_columns": null,
            "grid_auto_flow": null,
            "grid_auto_rows": null,
            "grid_column": null,
            "grid_gap": null,
            "grid_row": null,
            "grid_template_areas": null,
            "grid_template_columns": null,
            "grid_template_rows": null,
            "height": null,
            "justify_content": null,
            "justify_items": null,
            "left": null,
            "margin": null,
            "max_height": null,
            "max_width": null,
            "min_height": null,
            "min_width": null,
            "object_fit": null,
            "object_position": null,
            "order": null,
            "overflow": null,
            "overflow_x": null,
            "overflow_y": null,
            "padding": null,
            "right": null,
            "top": null,
            "visibility": null,
            "width": null
          }
        },
        "3bf545620ba14e44ab085844fc4e5faf": {
          "model_module": "@jupyter-widgets/controls",
          "model_module_version": "1.5.0",
          "model_name": "FloatProgressModel",
          "state": {
            "_dom_classes": [],
            "_model_module": "@jupyter-widgets/controls",
            "_model_module_version": "1.5.0",
            "_model_name": "FloatProgressModel",
            "_view_count": null,
            "_view_module": "@jupyter-widgets/controls",
            "_view_module_version": "1.5.0",
            "_view_name": "ProgressView",
            "bar_style": "success",
            "description": "",
            "description_tooltip": null,
            "layout": "IPY_MODEL_c210b39a93cf4d61af23b35bcaab7a88",
            "max": 49,
            "min": 0,
            "orientation": "horizontal",
            "style": "IPY_MODEL_3633a4787118429da5bdeac5bcdc6e1c",
            "value": 49
          }
        },
        "3cb660c0c5fc4a2982b04796d2df77b9": {
          "model_module": "@jupyter-widgets/controls",
          "model_module_version": "1.5.0",
          "model_name": "ProgressStyleModel",
          "state": {
            "_model_module": "@jupyter-widgets/controls",
            "_model_module_version": "1.5.0",
            "_model_name": "ProgressStyleModel",
            "_view_count": null,
            "_view_module": "@jupyter-widgets/base",
            "_view_module_version": "1.2.0",
            "_view_name": "StyleView",
            "bar_color": null,
            "description_width": ""
          }
        },
        "3e51a23b2bc14628890cd740b1e818c0": {
          "model_module": "@jupyter-widgets/controls",
          "model_module_version": "1.5.0",
          "model_name": "HTMLModel",
          "state": {
            "_dom_classes": [],
            "_model_module": "@jupyter-widgets/controls",
            "_model_module_version": "1.5.0",
            "_model_name": "HTMLModel",
            "_view_count": null,
            "_view_module": "@jupyter-widgets/controls",
            "_view_module_version": "1.5.0",
            "_view_name": "HTMLView",
            "description": "",
            "description_tooltip": null,
            "layout": "IPY_MODEL_57cec9017067438295b16e6c7f49fbc9",
            "placeholder": "​",
            "style": "IPY_MODEL_e5d4c4141417481cbfcf0265011ce626",
            "value": " 49.0/49.0 [00:00&lt;00:00, 2.83kB/s]"
          }
        },
        "41bf98fe25f44cc69d1e075bd37245cc": {
          "model_module": "@jupyter-widgets/controls",
          "model_module_version": "1.5.0",
          "model_name": "FloatProgressModel",
          "state": {
            "_dom_classes": [],
            "_model_module": "@jupyter-widgets/controls",
            "_model_module_version": "1.5.0",
            "_model_name": "FloatProgressModel",
            "_view_count": null,
            "_view_module": "@jupyter-widgets/controls",
            "_view_module_version": "1.5.0",
            "_view_name": "ProgressView",
            "bar_style": "success",
            "description": "",
            "description_tooltip": null,
            "layout": "IPY_MODEL_155706926813419e81baf4883c7d3835",
            "max": 995526,
            "min": 0,
            "orientation": "horizontal",
            "style": "IPY_MODEL_ed639d9a1625482d8eb78fd0472717e6",
            "value": 995526
          }
        },
        "4261284bc9de4d88b1ec40120d35383a": {
          "model_module": "@jupyter-widgets/base",
          "model_module_version": "1.2.0",
          "model_name": "LayoutModel",
          "state": {
            "_model_module": "@jupyter-widgets/base",
            "_model_module_version": "1.2.0",
            "_model_name": "LayoutModel",
            "_view_count": null,
            "_view_module": "@jupyter-widgets/base",
            "_view_module_version": "1.2.0",
            "_view_name": "LayoutView",
            "align_content": null,
            "align_items": null,
            "align_self": null,
            "border": null,
            "bottom": null,
            "display": null,
            "flex": null,
            "flex_flow": null,
            "grid_area": null,
            "grid_auto_columns": null,
            "grid_auto_flow": null,
            "grid_auto_rows": null,
            "grid_column": null,
            "grid_gap": null,
            "grid_row": null,
            "grid_template_areas": null,
            "grid_template_columns": null,
            "grid_template_rows": null,
            "height": null,
            "justify_content": null,
            "justify_items": null,
            "left": null,
            "margin": null,
            "max_height": null,
            "max_width": null,
            "min_height": null,
            "min_width": null,
            "object_fit": null,
            "object_position": null,
            "order": null,
            "overflow": null,
            "overflow_x": null,
            "overflow_y": null,
            "padding": null,
            "right": null,
            "top": null,
            "visibility": null,
            "width": null
          }
        },
        "451e51876d224a5f9efac3b1ae3813d0": {
          "model_module": "@jupyter-widgets/controls",
          "model_module_version": "1.5.0",
          "model_name": "DescriptionStyleModel",
          "state": {
            "_model_module": "@jupyter-widgets/controls",
            "_model_module_version": "1.5.0",
            "_model_name": "DescriptionStyleModel",
            "_view_count": null,
            "_view_module": "@jupyter-widgets/base",
            "_view_module_version": "1.2.0",
            "_view_name": "StyleView",
            "description_width": ""
          }
        },
        "46c9f2b74d344cc4b274cc4e85ba1c2c": {
          "model_module": "@jupyter-widgets/controls",
          "model_module_version": "1.5.0",
          "model_name": "FloatProgressModel",
          "state": {
            "_dom_classes": [],
            "_model_module": "@jupyter-widgets/controls",
            "_model_module_version": "1.5.0",
            "_model_name": "FloatProgressModel",
            "_view_count": null,
            "_view_module": "@jupyter-widgets/controls",
            "_view_module_version": "1.5.0",
            "_view_name": "ProgressView",
            "bar_style": "success",
            "description": "",
            "description_tooltip": null,
            "layout": "IPY_MODEL_318a494a0ed24e8bac9a48be7b9e2f1b",
            "max": 1961828,
            "min": 0,
            "orientation": "horizontal",
            "style": "IPY_MODEL_a42a5fa833594fca8c0e0bf6b0f47586",
            "value": 1961828
          }
        },
        "4b23241f534d4f099848914125614973": {
          "model_module": "@jupyter-widgets/controls",
          "model_module_version": "1.5.0",
          "model_name": "ProgressStyleModel",
          "state": {
            "_model_module": "@jupyter-widgets/controls",
            "_model_module_version": "1.5.0",
            "_model_name": "ProgressStyleModel",
            "_view_count": null,
            "_view_module": "@jupyter-widgets/base",
            "_view_module_version": "1.2.0",
            "_view_name": "StyleView",
            "bar_color": null,
            "description_width": ""
          }
        },
        "541b866236cf425a82e3f2dd2b75d936": {
          "model_module": "@jupyter-widgets/controls",
          "model_module_version": "1.5.0",
          "model_name": "HTMLModel",
          "state": {
            "_dom_classes": [],
            "_model_module": "@jupyter-widgets/controls",
            "_model_module_version": "1.5.0",
            "_model_name": "HTMLModel",
            "_view_count": null,
            "_view_module": "@jupyter-widgets/controls",
            "_view_module_version": "1.5.0",
            "_view_name": "HTMLView",
            "description": "",
            "description_tooltip": null,
            "layout": "IPY_MODEL_5c7cc493311b41149ddc31d9e58782aa",
            "placeholder": "​",
            "style": "IPY_MODEL_2149a212f3fb46048a5170bde87e5976",
            "value": "vocab.txt: 100%"
          }
        },
        "57cec9017067438295b16e6c7f49fbc9": {
          "model_module": "@jupyter-widgets/base",
          "model_module_version": "1.2.0",
          "model_name": "LayoutModel",
          "state": {
            "_model_module": "@jupyter-widgets/base",
            "_model_module_version": "1.2.0",
            "_model_name": "LayoutModel",
            "_view_count": null,
            "_view_module": "@jupyter-widgets/base",
            "_view_module_version": "1.2.0",
            "_view_name": "LayoutView",
            "align_content": null,
            "align_items": null,
            "align_self": null,
            "border": null,
            "bottom": null,
            "display": null,
            "flex": null,
            "flex_flow": null,
            "grid_area": null,
            "grid_auto_columns": null,
            "grid_auto_flow": null,
            "grid_auto_rows": null,
            "grid_column": null,
            "grid_gap": null,
            "grid_row": null,
            "grid_template_areas": null,
            "grid_template_columns": null,
            "grid_template_rows": null,
            "height": null,
            "justify_content": null,
            "justify_items": null,
            "left": null,
            "margin": null,
            "max_height": null,
            "max_width": null,
            "min_height": null,
            "min_width": null,
            "object_fit": null,
            "object_position": null,
            "order": null,
            "overflow": null,
            "overflow_x": null,
            "overflow_y": null,
            "padding": null,
            "right": null,
            "top": null,
            "visibility": null,
            "width": null
          }
        },
        "5be51cbf0be2452ebcc35b74a1338216": {
          "model_module": "@jupyter-widgets/base",
          "model_module_version": "1.2.0",
          "model_name": "LayoutModel",
          "state": {
            "_model_module": "@jupyter-widgets/base",
            "_model_module_version": "1.2.0",
            "_model_name": "LayoutModel",
            "_view_count": null,
            "_view_module": "@jupyter-widgets/base",
            "_view_module_version": "1.2.0",
            "_view_name": "LayoutView",
            "align_content": null,
            "align_items": null,
            "align_self": null,
            "border": null,
            "bottom": null,
            "display": null,
            "flex": null,
            "flex_flow": null,
            "grid_area": null,
            "grid_auto_columns": null,
            "grid_auto_flow": null,
            "grid_auto_rows": null,
            "grid_column": null,
            "grid_gap": null,
            "grid_row": null,
            "grid_template_areas": null,
            "grid_template_columns": null,
            "grid_template_rows": null,
            "height": null,
            "justify_content": null,
            "justify_items": null,
            "left": null,
            "margin": null,
            "max_height": null,
            "max_width": null,
            "min_height": null,
            "min_width": null,
            "object_fit": null,
            "object_position": null,
            "order": null,
            "overflow": null,
            "overflow_x": null,
            "overflow_y": null,
            "padding": null,
            "right": null,
            "top": null,
            "visibility": null,
            "width": null
          }
        },
        "5c7cc493311b41149ddc31d9e58782aa": {
          "model_module": "@jupyter-widgets/base",
          "model_module_version": "1.2.0",
          "model_name": "LayoutModel",
          "state": {
            "_model_module": "@jupyter-widgets/base",
            "_model_module_version": "1.2.0",
            "_model_name": "LayoutModel",
            "_view_count": null,
            "_view_module": "@jupyter-widgets/base",
            "_view_module_version": "1.2.0",
            "_view_name": "LayoutView",
            "align_content": null,
            "align_items": null,
            "align_self": null,
            "border": null,
            "bottom": null,
            "display": null,
            "flex": null,
            "flex_flow": null,
            "grid_area": null,
            "grid_auto_columns": null,
            "grid_auto_flow": null,
            "grid_auto_rows": null,
            "grid_column": null,
            "grid_gap": null,
            "grid_row": null,
            "grid_template_areas": null,
            "grid_template_columns": null,
            "grid_template_rows": null,
            "height": null,
            "justify_content": null,
            "justify_items": null,
            "left": null,
            "margin": null,
            "max_height": null,
            "max_width": null,
            "min_height": null,
            "min_width": null,
            "object_fit": null,
            "object_position": null,
            "order": null,
            "overflow": null,
            "overflow_x": null,
            "overflow_y": null,
            "padding": null,
            "right": null,
            "top": null,
            "visibility": null,
            "width": null
          }
        },
        "61178b8349e3458198b8811a23dcff31": {
          "model_module": "@jupyter-widgets/base",
          "model_module_version": "1.2.0",
          "model_name": "LayoutModel",
          "state": {
            "_model_module": "@jupyter-widgets/base",
            "_model_module_version": "1.2.0",
            "_model_name": "LayoutModel",
            "_view_count": null,
            "_view_module": "@jupyter-widgets/base",
            "_view_module_version": "1.2.0",
            "_view_name": "LayoutView",
            "align_content": null,
            "align_items": null,
            "align_self": null,
            "border": null,
            "bottom": null,
            "display": null,
            "flex": null,
            "flex_flow": null,
            "grid_area": null,
            "grid_auto_columns": null,
            "grid_auto_flow": null,
            "grid_auto_rows": null,
            "grid_column": null,
            "grid_gap": null,
            "grid_row": null,
            "grid_template_areas": null,
            "grid_template_columns": null,
            "grid_template_rows": null,
            "height": null,
            "justify_content": null,
            "justify_items": null,
            "left": null,
            "margin": null,
            "max_height": null,
            "max_width": null,
            "min_height": null,
            "min_width": null,
            "object_fit": null,
            "object_position": null,
            "order": null,
            "overflow": null,
            "overflow_x": null,
            "overflow_y": null,
            "padding": null,
            "right": null,
            "top": null,
            "visibility": null,
            "width": null
          }
        },
        "683b0bdbd12f43938cd21d1c503a3630": {
          "model_module": "@jupyter-widgets/base",
          "model_module_version": "1.2.0",
          "model_name": "LayoutModel",
          "state": {
            "_model_module": "@jupyter-widgets/base",
            "_model_module_version": "1.2.0",
            "_model_name": "LayoutModel",
            "_view_count": null,
            "_view_module": "@jupyter-widgets/base",
            "_view_module_version": "1.2.0",
            "_view_name": "LayoutView",
            "align_content": null,
            "align_items": null,
            "align_self": null,
            "border": null,
            "bottom": null,
            "display": null,
            "flex": null,
            "flex_flow": null,
            "grid_area": null,
            "grid_auto_columns": null,
            "grid_auto_flow": null,
            "grid_auto_rows": null,
            "grid_column": null,
            "grid_gap": null,
            "grid_row": null,
            "grid_template_areas": null,
            "grid_template_columns": null,
            "grid_template_rows": null,
            "height": null,
            "justify_content": null,
            "justify_items": null,
            "left": null,
            "margin": null,
            "max_height": null,
            "max_width": null,
            "min_height": null,
            "min_width": null,
            "object_fit": null,
            "object_position": null,
            "order": null,
            "overflow": null,
            "overflow_x": null,
            "overflow_y": null,
            "padding": null,
            "right": null,
            "top": null,
            "visibility": null,
            "width": null
          }
        },
        "6f8770ad6bc0440fb8a54421ef841793": {
          "model_module": "@jupyter-widgets/base",
          "model_module_version": "1.2.0",
          "model_name": "LayoutModel",
          "state": {
            "_model_module": "@jupyter-widgets/base",
            "_model_module_version": "1.2.0",
            "_model_name": "LayoutModel",
            "_view_count": null,
            "_view_module": "@jupyter-widgets/base",
            "_view_module_version": "1.2.0",
            "_view_name": "LayoutView",
            "align_content": null,
            "align_items": null,
            "align_self": null,
            "border": null,
            "bottom": null,
            "display": null,
            "flex": null,
            "flex_flow": null,
            "grid_area": null,
            "grid_auto_columns": null,
            "grid_auto_flow": null,
            "grid_auto_rows": null,
            "grid_column": null,
            "grid_gap": null,
            "grid_row": null,
            "grid_template_areas": null,
            "grid_template_columns": null,
            "grid_template_rows": null,
            "height": null,
            "justify_content": null,
            "justify_items": null,
            "left": null,
            "margin": null,
            "max_height": null,
            "max_width": null,
            "min_height": null,
            "min_width": null,
            "object_fit": null,
            "object_position": null,
            "order": null,
            "overflow": null,
            "overflow_x": null,
            "overflow_y": null,
            "padding": null,
            "right": null,
            "top": null,
            "visibility": null,
            "width": null
          }
        },
        "7161ef23025f45c785234a49af502f53": {
          "model_module": "@jupyter-widgets/controls",
          "model_module_version": "1.5.0",
          "model_name": "HTMLModel",
          "state": {
            "_dom_classes": [],
            "_model_module": "@jupyter-widgets/controls",
            "_model_module_version": "1.5.0",
            "_model_name": "HTMLModel",
            "_view_count": null,
            "_view_module": "@jupyter-widgets/controls",
            "_view_module_version": "1.5.0",
            "_view_name": "HTMLView",
            "description": "",
            "description_tooltip": null,
            "layout": "IPY_MODEL_683b0bdbd12f43938cd21d1c503a3630",
            "placeholder": "​",
            "style": "IPY_MODEL_cf8b921a1a554149a5858ae88ed78b3e",
            "value": "tokenizer.json: 100%"
          }
        },
        "73cb61e3969e4f3dbc4edbc572c6eabe": {
          "model_module": "@jupyter-widgets/controls",
          "model_module_version": "1.5.0",
          "model_name": "DescriptionStyleModel",
          "state": {
            "_model_module": "@jupyter-widgets/controls",
            "_model_module_version": "1.5.0",
            "_model_name": "DescriptionStyleModel",
            "_view_count": null,
            "_view_module": "@jupyter-widgets/base",
            "_view_module_version": "1.2.0",
            "_view_name": "StyleView",
            "description_width": ""
          }
        },
        "7408070f93674254b1fbad23019f9c4e": {
          "model_module": "@jupyter-widgets/base",
          "model_module_version": "1.2.0",
          "model_name": "LayoutModel",
          "state": {
            "_model_module": "@jupyter-widgets/base",
            "_model_module_version": "1.2.0",
            "_model_name": "LayoutModel",
            "_view_count": null,
            "_view_module": "@jupyter-widgets/base",
            "_view_module_version": "1.2.0",
            "_view_name": "LayoutView",
            "align_content": null,
            "align_items": null,
            "align_self": null,
            "border": null,
            "bottom": null,
            "display": null,
            "flex": null,
            "flex_flow": null,
            "grid_area": null,
            "grid_auto_columns": null,
            "grid_auto_flow": null,
            "grid_auto_rows": null,
            "grid_column": null,
            "grid_gap": null,
            "grid_row": null,
            "grid_template_areas": null,
            "grid_template_columns": null,
            "grid_template_rows": null,
            "height": null,
            "justify_content": null,
            "justify_items": null,
            "left": null,
            "margin": null,
            "max_height": null,
            "max_width": null,
            "min_height": null,
            "min_width": null,
            "object_fit": null,
            "object_position": null,
            "order": null,
            "overflow": null,
            "overflow_x": null,
            "overflow_y": null,
            "padding": null,
            "right": null,
            "top": null,
            "visibility": null,
            "width": null
          }
        },
        "7d3913ecb1f94e0393d00bb0cd6a20b0": {
          "model_module": "@jupyter-widgets/base",
          "model_module_version": "1.2.0",
          "model_name": "LayoutModel",
          "state": {
            "_model_module": "@jupyter-widgets/base",
            "_model_module_version": "1.2.0",
            "_model_name": "LayoutModel",
            "_view_count": null,
            "_view_module": "@jupyter-widgets/base",
            "_view_module_version": "1.2.0",
            "_view_name": "LayoutView",
            "align_content": null,
            "align_items": null,
            "align_self": null,
            "border": null,
            "bottom": null,
            "display": null,
            "flex": null,
            "flex_flow": null,
            "grid_area": null,
            "grid_auto_columns": null,
            "grid_auto_flow": null,
            "grid_auto_rows": null,
            "grid_column": null,
            "grid_gap": null,
            "grid_row": null,
            "grid_template_areas": null,
            "grid_template_columns": null,
            "grid_template_rows": null,
            "height": null,
            "justify_content": null,
            "justify_items": null,
            "left": null,
            "margin": null,
            "max_height": null,
            "max_width": null,
            "min_height": null,
            "min_width": null,
            "object_fit": null,
            "object_position": null,
            "order": null,
            "overflow": null,
            "overflow_x": null,
            "overflow_y": null,
            "padding": null,
            "right": null,
            "top": null,
            "visibility": null,
            "width": null
          }
        },
        "7ea9a8ad01c64401bc5df340223a6b3d": {
          "model_module": "@jupyter-widgets/controls",
          "model_module_version": "1.5.0",
          "model_name": "DescriptionStyleModel",
          "state": {
            "_model_module": "@jupyter-widgets/controls",
            "_model_module_version": "1.5.0",
            "_model_name": "DescriptionStyleModel",
            "_view_count": null,
            "_view_module": "@jupyter-widgets/base",
            "_view_module_version": "1.2.0",
            "_view_name": "StyleView",
            "description_width": ""
          }
        },
        "80e7cd995ff04856ae57105131c81faa": {
          "model_module": "@jupyter-widgets/base",
          "model_module_version": "1.2.0",
          "model_name": "LayoutModel",
          "state": {
            "_model_module": "@jupyter-widgets/base",
            "_model_module_version": "1.2.0",
            "_model_name": "LayoutModel",
            "_view_count": null,
            "_view_module": "@jupyter-widgets/base",
            "_view_module_version": "1.2.0",
            "_view_name": "LayoutView",
            "align_content": null,
            "align_items": null,
            "align_self": null,
            "border": null,
            "bottom": null,
            "display": null,
            "flex": null,
            "flex_flow": null,
            "grid_area": null,
            "grid_auto_columns": null,
            "grid_auto_flow": null,
            "grid_auto_rows": null,
            "grid_column": null,
            "grid_gap": null,
            "grid_row": null,
            "grid_template_areas": null,
            "grid_template_columns": null,
            "grid_template_rows": null,
            "height": null,
            "justify_content": null,
            "justify_items": null,
            "left": null,
            "margin": null,
            "max_height": null,
            "max_width": null,
            "min_height": null,
            "min_width": null,
            "object_fit": null,
            "object_position": null,
            "order": null,
            "overflow": null,
            "overflow_x": null,
            "overflow_y": null,
            "padding": null,
            "right": null,
            "top": null,
            "visibility": null,
            "width": null
          }
        },
        "82b379815cbc439e85e51e9dbf37da3e": {
          "model_module": "@jupyter-widgets/controls",
          "model_module_version": "1.5.0",
          "model_name": "HTMLModel",
          "state": {
            "_dom_classes": [],
            "_model_module": "@jupyter-widgets/controls",
            "_model_module_version": "1.5.0",
            "_model_name": "HTMLModel",
            "_view_count": null,
            "_view_module": "@jupyter-widgets/controls",
            "_view_module_version": "1.5.0",
            "_view_name": "HTMLView",
            "description": "",
            "description_tooltip": null,
            "layout": "IPY_MODEL_92127c84d02d4e31b75fe756aa621504",
            "placeholder": "​",
            "style": "IPY_MODEL_73cb61e3969e4f3dbc4edbc572c6eabe",
            "value": "config.json: 100%"
          }
        },
        "90340ca90e634e28b0786e711eb1f184": {
          "model_module": "@jupyter-widgets/base",
          "model_module_version": "1.2.0",
          "model_name": "LayoutModel",
          "state": {
            "_model_module": "@jupyter-widgets/base",
            "_model_module_version": "1.2.0",
            "_model_name": "LayoutModel",
            "_view_count": null,
            "_view_module": "@jupyter-widgets/base",
            "_view_module_version": "1.2.0",
            "_view_name": "LayoutView",
            "align_content": null,
            "align_items": null,
            "align_self": null,
            "border": null,
            "bottom": null,
            "display": null,
            "flex": null,
            "flex_flow": null,
            "grid_area": null,
            "grid_auto_columns": null,
            "grid_auto_flow": null,
            "grid_auto_rows": null,
            "grid_column": null,
            "grid_gap": null,
            "grid_row": null,
            "grid_template_areas": null,
            "grid_template_columns": null,
            "grid_template_rows": null,
            "height": null,
            "justify_content": null,
            "justify_items": null,
            "left": null,
            "margin": null,
            "max_height": null,
            "max_width": null,
            "min_height": null,
            "min_width": null,
            "object_fit": null,
            "object_position": null,
            "order": null,
            "overflow": null,
            "overflow_x": null,
            "overflow_y": null,
            "padding": null,
            "right": null,
            "top": null,
            "visibility": null,
            "width": null
          }
        },
        "92127c84d02d4e31b75fe756aa621504": {
          "model_module": "@jupyter-widgets/base",
          "model_module_version": "1.2.0",
          "model_name": "LayoutModel",
          "state": {
            "_model_module": "@jupyter-widgets/base",
            "_model_module_version": "1.2.0",
            "_model_name": "LayoutModel",
            "_view_count": null,
            "_view_module": "@jupyter-widgets/base",
            "_view_module_version": "1.2.0",
            "_view_name": "LayoutView",
            "align_content": null,
            "align_items": null,
            "align_self": null,
            "border": null,
            "bottom": null,
            "display": null,
            "flex": null,
            "flex_flow": null,
            "grid_area": null,
            "grid_auto_columns": null,
            "grid_auto_flow": null,
            "grid_auto_rows": null,
            "grid_column": null,
            "grid_gap": null,
            "grid_row": null,
            "grid_template_areas": null,
            "grid_template_columns": null,
            "grid_template_rows": null,
            "height": null,
            "justify_content": null,
            "justify_items": null,
            "left": null,
            "margin": null,
            "max_height": null,
            "max_width": null,
            "min_height": null,
            "min_width": null,
            "object_fit": null,
            "object_position": null,
            "order": null,
            "overflow": null,
            "overflow_x": null,
            "overflow_y": null,
            "padding": null,
            "right": null,
            "top": null,
            "visibility": null,
            "width": null
          }
        },
        "97d3e8c5de3d4050ac6f3e1e0d7d16c0": {
          "model_module": "@jupyter-widgets/controls",
          "model_module_version": "1.5.0",
          "model_name": "DescriptionStyleModel",
          "state": {
            "_model_module": "@jupyter-widgets/controls",
            "_model_module_version": "1.5.0",
            "_model_name": "DescriptionStyleModel",
            "_view_count": null,
            "_view_module": "@jupyter-widgets/base",
            "_view_module_version": "1.2.0",
            "_view_name": "StyleView",
            "description_width": ""
          }
        },
        "9822b729456646c5a04b22e723bad867": {
          "model_module": "@jupyter-widgets/base",
          "model_module_version": "1.2.0",
          "model_name": "LayoutModel",
          "state": {
            "_model_module": "@jupyter-widgets/base",
            "_model_module_version": "1.2.0",
            "_model_name": "LayoutModel",
            "_view_count": null,
            "_view_module": "@jupyter-widgets/base",
            "_view_module_version": "1.2.0",
            "_view_name": "LayoutView",
            "align_content": null,
            "align_items": null,
            "align_self": null,
            "border": null,
            "bottom": null,
            "display": null,
            "flex": null,
            "flex_flow": null,
            "grid_area": null,
            "grid_auto_columns": null,
            "grid_auto_flow": null,
            "grid_auto_rows": null,
            "grid_column": null,
            "grid_gap": null,
            "grid_row": null,
            "grid_template_areas": null,
            "grid_template_columns": null,
            "grid_template_rows": null,
            "height": null,
            "justify_content": null,
            "justify_items": null,
            "left": null,
            "margin": null,
            "max_height": null,
            "max_width": null,
            "min_height": null,
            "min_width": null,
            "object_fit": null,
            "object_position": null,
            "order": null,
            "overflow": null,
            "overflow_x": null,
            "overflow_y": null,
            "padding": null,
            "right": null,
            "top": null,
            "visibility": null,
            "width": null
          }
        },
        "9b58d9f91dfc4e08ac30837ac77fc586": {
          "model_module": "@jupyter-widgets/controls",
          "model_module_version": "1.5.0",
          "model_name": "FloatProgressModel",
          "state": {
            "_dom_classes": [],
            "_model_module": "@jupyter-widgets/controls",
            "_model_module_version": "1.5.0",
            "_model_name": "FloatProgressModel",
            "_view_count": null,
            "_view_module": "@jupyter-widgets/controls",
            "_view_module_version": "1.5.0",
            "_view_name": "ProgressView",
            "bar_style": "danger",
            "description": "",
            "description_tooltip": null,
            "layout": "IPY_MODEL_1853a871d67e43b2899467c86f46865e",
            "max": 100,
            "min": 0,
            "orientation": "horizontal",
            "style": "IPY_MODEL_d3e8e68df5804f1d8f908cb44d39a35c",
            "value": 4
          }
        },
        "9c33d3c52e794905b806dbf8ca53d052": {
          "model_module": "@jupyter-widgets/controls",
          "model_module_version": "1.5.0",
          "model_name": "HBoxModel",
          "state": {
            "_dom_classes": [],
            "_model_module": "@jupyter-widgets/controls",
            "_model_module_version": "1.5.0",
            "_model_name": "HBoxModel",
            "_view_count": null,
            "_view_module": "@jupyter-widgets/controls",
            "_view_module_version": "1.5.0",
            "_view_name": "HBoxView",
            "box_style": "",
            "children": [
              "IPY_MODEL_ac61c48eab864e6998774029ce0abdea",
              "IPY_MODEL_9b58d9f91dfc4e08ac30837ac77fc586",
              "IPY_MODEL_0e3f77b0aa7047579ef3a983c5319522"
            ],
            "layout": "IPY_MODEL_5be51cbf0be2452ebcc35b74a1338216"
          }
        },
        "a40306a81e7a4ae7b21b267c69e42ffd": {
          "model_module": "@jupyter-widgets/controls",
          "model_module_version": "1.5.0",
          "model_name": "HTMLModel",
          "state": {
            "_dom_classes": [],
            "_model_module": "@jupyter-widgets/controls",
            "_model_module_version": "1.5.0",
            "_model_name": "HTMLModel",
            "_view_count": null,
            "_view_module": "@jupyter-widgets/controls",
            "_view_module_version": "1.5.0",
            "_view_name": "HTMLView",
            "description": "",
            "description_tooltip": null,
            "layout": "IPY_MODEL_d91c6d8175f24bd685611cc90e70766a",
            "placeholder": "​",
            "style": "IPY_MODEL_fb5731ca3c1e4ddebf89e61ef339a988",
            "value": "tokenizer_config.json: 100%"
          }
        },
        "a42a5fa833594fca8c0e0bf6b0f47586": {
          "model_module": "@jupyter-widgets/controls",
          "model_module_version": "1.5.0",
          "model_name": "ProgressStyleModel",
          "state": {
            "_model_module": "@jupyter-widgets/controls",
            "_model_module_version": "1.5.0",
            "_model_name": "ProgressStyleModel",
            "_view_count": null,
            "_view_module": "@jupyter-widgets/base",
            "_view_module_version": "1.2.0",
            "_view_name": "StyleView",
            "bar_color": null,
            "description_width": ""
          }
        },
        "a6c6d06810f640109c19db284e246fb3": {
          "model_module": "@jupyter-widgets/controls",
          "model_module_version": "1.5.0",
          "model_name": "FloatProgressModel",
          "state": {
            "_dom_classes": [],
            "_model_module": "@jupyter-widgets/controls",
            "_model_module_version": "1.5.0",
            "_model_name": "FloatProgressModel",
            "_view_count": null,
            "_view_module": "@jupyter-widgets/controls",
            "_view_module_version": "1.5.0",
            "_view_name": "ProgressView",
            "bar_style": "success",
            "description": "",
            "description_tooltip": null,
            "layout": "IPY_MODEL_61178b8349e3458198b8811a23dcff31",
            "max": 714290682,
            "min": 0,
            "orientation": "horizontal",
            "style": "IPY_MODEL_3cb660c0c5fc4a2982b04796d2df77b9",
            "value": 714290682
          }
        },
        "a8a6fe9ffd794b46bee542e857d96a41": {
          "model_module": "@jupyter-widgets/controls",
          "model_module_version": "1.5.0",
          "model_name": "DescriptionStyleModel",
          "state": {
            "_model_module": "@jupyter-widgets/controls",
            "_model_module_version": "1.5.0",
            "_model_name": "DescriptionStyleModel",
            "_view_count": null,
            "_view_module": "@jupyter-widgets/base",
            "_view_module_version": "1.2.0",
            "_view_name": "StyleView",
            "description_width": ""
          }
        },
        "ab1959fcb2b24da28a41bcfbcd1bad6b": {
          "model_module": "@jupyter-widgets/base",
          "model_module_version": "1.2.0",
          "model_name": "LayoutModel",
          "state": {
            "_model_module": "@jupyter-widgets/base",
            "_model_module_version": "1.2.0",
            "_model_name": "LayoutModel",
            "_view_count": null,
            "_view_module": "@jupyter-widgets/base",
            "_view_module_version": "1.2.0",
            "_view_name": "LayoutView",
            "align_content": null,
            "align_items": null,
            "align_self": null,
            "border": null,
            "bottom": null,
            "display": null,
            "flex": null,
            "flex_flow": null,
            "grid_area": null,
            "grid_auto_columns": null,
            "grid_auto_flow": null,
            "grid_auto_rows": null,
            "grid_column": null,
            "grid_gap": null,
            "grid_row": null,
            "grid_template_areas": null,
            "grid_template_columns": null,
            "grid_template_rows": null,
            "height": null,
            "justify_content": null,
            "justify_items": null,
            "left": null,
            "margin": null,
            "max_height": null,
            "max_width": null,
            "min_height": null,
            "min_width": null,
            "object_fit": null,
            "object_position": null,
            "order": null,
            "overflow": null,
            "overflow_x": null,
            "overflow_y": null,
            "padding": null,
            "right": null,
            "top": null,
            "visibility": null,
            "width": null
          }
        },
        "ac61c48eab864e6998774029ce0abdea": {
          "model_module": "@jupyter-widgets/controls",
          "model_module_version": "1.5.0",
          "model_name": "HTMLModel",
          "state": {
            "_dom_classes": [],
            "_model_module": "@jupyter-widgets/controls",
            "_model_module_version": "1.5.0",
            "_model_name": "HTMLModel",
            "_view_count": null,
            "_view_module": "@jupyter-widgets/controls",
            "_view_module_version": "1.5.0",
            "_view_name": "HTMLView",
            "description": "",
            "description_tooltip": null,
            "layout": "IPY_MODEL_ab1959fcb2b24da28a41bcfbcd1bad6b",
            "placeholder": "​",
            "style": "IPY_MODEL_ece8193b0ce34fdab9c689074badc227",
            "value": "  4%"
          }
        },
        "b226e3a099d646abb5580041b20af50a": {
          "model_module": "@jupyter-widgets/controls",
          "model_module_version": "1.5.0",
          "model_name": "HBoxModel",
          "state": {
            "_dom_classes": [],
            "_model_module": "@jupyter-widgets/controls",
            "_model_module_version": "1.5.0",
            "_model_name": "HBoxModel",
            "_view_count": null,
            "_view_module": "@jupyter-widgets/controls",
            "_view_module_version": "1.5.0",
            "_view_name": "HBoxView",
            "box_style": "",
            "children": [
              "IPY_MODEL_7161ef23025f45c785234a49af502f53",
              "IPY_MODEL_46c9f2b74d344cc4b274cc4e85ba1c2c",
              "IPY_MODEL_1e8eff1d355f41098fc56e76f343b68b"
            ],
            "layout": "IPY_MODEL_074694056aee4cad8cdeeaef81a650e7"
          }
        },
        "c210b39a93cf4d61af23b35bcaab7a88": {
          "model_module": "@jupyter-widgets/base",
          "model_module_version": "1.2.0",
          "model_name": "LayoutModel",
          "state": {
            "_model_module": "@jupyter-widgets/base",
            "_model_module_version": "1.2.0",
            "_model_name": "LayoutModel",
            "_view_count": null,
            "_view_module": "@jupyter-widgets/base",
            "_view_module_version": "1.2.0",
            "_view_name": "LayoutView",
            "align_content": null,
            "align_items": null,
            "align_self": null,
            "border": null,
            "bottom": null,
            "display": null,
            "flex": null,
            "flex_flow": null,
            "grid_area": null,
            "grid_auto_columns": null,
            "grid_auto_flow": null,
            "grid_auto_rows": null,
            "grid_column": null,
            "grid_gap": null,
            "grid_row": null,
            "grid_template_areas": null,
            "grid_template_columns": null,
            "grid_template_rows": null,
            "height": null,
            "justify_content": null,
            "justify_items": null,
            "left": null,
            "margin": null,
            "max_height": null,
            "max_width": null,
            "min_height": null,
            "min_width": null,
            "object_fit": null,
            "object_position": null,
            "order": null,
            "overflow": null,
            "overflow_x": null,
            "overflow_y": null,
            "padding": null,
            "right": null,
            "top": null,
            "visibility": null,
            "width": null
          }
        },
        "cf8b921a1a554149a5858ae88ed78b3e": {
          "model_module": "@jupyter-widgets/controls",
          "model_module_version": "1.5.0",
          "model_name": "DescriptionStyleModel",
          "state": {
            "_model_module": "@jupyter-widgets/controls",
            "_model_module_version": "1.5.0",
            "_model_name": "DescriptionStyleModel",
            "_view_count": null,
            "_view_module": "@jupyter-widgets/base",
            "_view_module_version": "1.2.0",
            "_view_name": "StyleView",
            "description_width": ""
          }
        },
        "d3e8e68df5804f1d8f908cb44d39a35c": {
          "model_module": "@jupyter-widgets/controls",
          "model_module_version": "1.5.0",
          "model_name": "ProgressStyleModel",
          "state": {
            "_model_module": "@jupyter-widgets/controls",
            "_model_module_version": "1.5.0",
            "_model_name": "ProgressStyleModel",
            "_view_count": null,
            "_view_module": "@jupyter-widgets/base",
            "_view_module_version": "1.2.0",
            "_view_name": "StyleView",
            "bar_color": null,
            "description_width": ""
          }
        },
        "d8b406e384854ff08fa16c4ac0c6aba5": {
          "model_module": "@jupyter-widgets/base",
          "model_module_version": "1.2.0",
          "model_name": "LayoutModel",
          "state": {
            "_model_module": "@jupyter-widgets/base",
            "_model_module_version": "1.2.0",
            "_model_name": "LayoutModel",
            "_view_count": null,
            "_view_module": "@jupyter-widgets/base",
            "_view_module_version": "1.2.0",
            "_view_name": "LayoutView",
            "align_content": null,
            "align_items": null,
            "align_self": null,
            "border": null,
            "bottom": null,
            "display": null,
            "flex": null,
            "flex_flow": null,
            "grid_area": null,
            "grid_auto_columns": null,
            "grid_auto_flow": null,
            "grid_auto_rows": null,
            "grid_column": null,
            "grid_gap": null,
            "grid_row": null,
            "grid_template_areas": null,
            "grid_template_columns": null,
            "grid_template_rows": null,
            "height": null,
            "justify_content": null,
            "justify_items": null,
            "left": null,
            "margin": null,
            "max_height": null,
            "max_width": null,
            "min_height": null,
            "min_width": null,
            "object_fit": null,
            "object_position": null,
            "order": null,
            "overflow": null,
            "overflow_x": null,
            "overflow_y": null,
            "padding": null,
            "right": null,
            "top": null,
            "visibility": null,
            "width": null
          }
        },
        "d91c6d8175f24bd685611cc90e70766a": {
          "model_module": "@jupyter-widgets/base",
          "model_module_version": "1.2.0",
          "model_name": "LayoutModel",
          "state": {
            "_model_module": "@jupyter-widgets/base",
            "_model_module_version": "1.2.0",
            "_model_name": "LayoutModel",
            "_view_count": null,
            "_view_module": "@jupyter-widgets/base",
            "_view_module_version": "1.2.0",
            "_view_name": "LayoutView",
            "align_content": null,
            "align_items": null,
            "align_self": null,
            "border": null,
            "bottom": null,
            "display": null,
            "flex": null,
            "flex_flow": null,
            "grid_area": null,
            "grid_auto_columns": null,
            "grid_auto_flow": null,
            "grid_auto_rows": null,
            "grid_column": null,
            "grid_gap": null,
            "grid_row": null,
            "grid_template_areas": null,
            "grid_template_columns": null,
            "grid_template_rows": null,
            "height": null,
            "justify_content": null,
            "justify_items": null,
            "left": null,
            "margin": null,
            "max_height": null,
            "max_width": null,
            "min_height": null,
            "min_width": null,
            "object_fit": null,
            "object_position": null,
            "order": null,
            "overflow": null,
            "overflow_x": null,
            "overflow_y": null,
            "padding": null,
            "right": null,
            "top": null,
            "visibility": null,
            "width": null
          }
        },
        "de457340eb3349b9b29e1e233ce6d0a1": {
          "model_module": "@jupyter-widgets/controls",
          "model_module_version": "1.5.0",
          "model_name": "HTMLModel",
          "state": {
            "_dom_classes": [],
            "_model_module": "@jupyter-widgets/controls",
            "_model_module_version": "1.5.0",
            "_model_name": "HTMLModel",
            "_view_count": null,
            "_view_module": "@jupyter-widgets/controls",
            "_view_module_version": "1.5.0",
            "_view_name": "HTMLView",
            "description": "",
            "description_tooltip": null,
            "layout": "IPY_MODEL_225c37a674134ef794d5396410d425ea",
            "placeholder": "​",
            "style": "IPY_MODEL_97d3e8c5de3d4050ac6f3e1e0d7d16c0",
            "value": " 714M/714M [00:02&lt;00:00, 321MB/s]"
          }
        },
        "e17b0a245b89404ebb094cc2c593d452": {
          "model_module": "@jupyter-widgets/controls",
          "model_module_version": "1.5.0",
          "model_name": "HTMLModel",
          "state": {
            "_dom_classes": [],
            "_model_module": "@jupyter-widgets/controls",
            "_model_module_version": "1.5.0",
            "_model_name": "HTMLModel",
            "_view_count": null,
            "_view_module": "@jupyter-widgets/controls",
            "_view_module_version": "1.5.0",
            "_view_name": "HTMLView",
            "description": "",
            "description_tooltip": null,
            "layout": "IPY_MODEL_7408070f93674254b1fbad23019f9c4e",
            "placeholder": "​",
            "style": "IPY_MODEL_05057ce0d5074272aa96cf08956e5713",
            "value": " 996k/996k [00:00&lt;00:00, 5.07MB/s]"
          }
        },
        "e5d4c4141417481cbfcf0265011ce626": {
          "model_module": "@jupyter-widgets/controls",
          "model_module_version": "1.5.0",
          "model_name": "DescriptionStyleModel",
          "state": {
            "_model_module": "@jupyter-widgets/controls",
            "_model_module_version": "1.5.0",
            "_model_name": "DescriptionStyleModel",
            "_view_count": null,
            "_view_module": "@jupyter-widgets/base",
            "_view_module_version": "1.2.0",
            "_view_name": "StyleView",
            "description_width": ""
          }
        },
        "e9dabbc124374e5c93b11e4f9d37577c": {
          "model_module": "@jupyter-widgets/controls",
          "model_module_version": "1.5.0",
          "model_name": "HTMLModel",
          "state": {
            "_dom_classes": [],
            "_model_module": "@jupyter-widgets/controls",
            "_model_module_version": "1.5.0",
            "_model_name": "HTMLModel",
            "_view_count": null,
            "_view_module": "@jupyter-widgets/controls",
            "_view_module_version": "1.5.0",
            "_view_name": "HTMLView",
            "description": "",
            "description_tooltip": null,
            "layout": "IPY_MODEL_90340ca90e634e28b0786e711eb1f184",
            "placeholder": "​",
            "style": "IPY_MODEL_2bd18a5adc06463ea90852c314bb5aad",
            "value": "model.safetensors: 100%"
          }
        },
        "ec658d585463481fb1d469fa26901cf3": {
          "model_module": "@jupyter-widgets/base",
          "model_module_version": "1.2.0",
          "model_name": "LayoutModel",
          "state": {
            "_model_module": "@jupyter-widgets/base",
            "_model_module_version": "1.2.0",
            "_model_name": "LayoutModel",
            "_view_count": null,
            "_view_module": "@jupyter-widgets/base",
            "_view_module_version": "1.2.0",
            "_view_name": "LayoutView",
            "align_content": null,
            "align_items": null,
            "align_self": null,
            "border": null,
            "bottom": null,
            "display": null,
            "flex": null,
            "flex_flow": null,
            "grid_area": null,
            "grid_auto_columns": null,
            "grid_auto_flow": null,
            "grid_auto_rows": null,
            "grid_column": null,
            "grid_gap": null,
            "grid_row": null,
            "grid_template_areas": null,
            "grid_template_columns": null,
            "grid_template_rows": null,
            "height": null,
            "justify_content": null,
            "justify_items": null,
            "left": null,
            "margin": null,
            "max_height": null,
            "max_width": null,
            "min_height": null,
            "min_width": null,
            "object_fit": null,
            "object_position": null,
            "order": null,
            "overflow": null,
            "overflow_x": null,
            "overflow_y": null,
            "padding": null,
            "right": null,
            "top": null,
            "visibility": null,
            "width": null
          }
        },
        "ece8193b0ce34fdab9c689074badc227": {
          "model_module": "@jupyter-widgets/controls",
          "model_module_version": "1.5.0",
          "model_name": "DescriptionStyleModel",
          "state": {
            "_model_module": "@jupyter-widgets/controls",
            "_model_module_version": "1.5.0",
            "_model_name": "DescriptionStyleModel",
            "_view_count": null,
            "_view_module": "@jupyter-widgets/base",
            "_view_module_version": "1.2.0",
            "_view_name": "StyleView",
            "description_width": ""
          }
        },
        "ed639d9a1625482d8eb78fd0472717e6": {
          "model_module": "@jupyter-widgets/controls",
          "model_module_version": "1.5.0",
          "model_name": "ProgressStyleModel",
          "state": {
            "_model_module": "@jupyter-widgets/controls",
            "_model_module_version": "1.5.0",
            "_model_name": "ProgressStyleModel",
            "_view_count": null,
            "_view_module": "@jupyter-widgets/base",
            "_view_module_version": "1.2.0",
            "_view_name": "StyleView",
            "bar_color": null,
            "description_width": ""
          }
        },
        "f4b94465ad63434ebb5abc34a3138375": {
          "model_module": "@jupyter-widgets/controls",
          "model_module_version": "1.5.0",
          "model_name": "HBoxModel",
          "state": {
            "_dom_classes": [],
            "_model_module": "@jupyter-widgets/controls",
            "_model_module_version": "1.5.0",
            "_model_name": "HBoxModel",
            "_view_count": null,
            "_view_module": "@jupyter-widgets/controls",
            "_view_module_version": "1.5.0",
            "_view_name": "HBoxView",
            "box_style": "",
            "children": [
              "IPY_MODEL_82b379815cbc439e85e51e9dbf37da3e",
              "IPY_MODEL_253b91fa9cf445c8a363dc9173d0f82e",
              "IPY_MODEL_39fe1ce0127945d7961510174e3808d2"
            ],
            "layout": "IPY_MODEL_4261284bc9de4d88b1ec40120d35383a"
          }
        },
        "f4ffb112775d4588ade189061c81e407": {
          "model_module": "@jupyter-widgets/controls",
          "model_module_version": "1.5.0",
          "model_name": "HBoxModel",
          "state": {
            "_dom_classes": [],
            "_model_module": "@jupyter-widgets/controls",
            "_model_module_version": "1.5.0",
            "_model_name": "HBoxModel",
            "_view_count": null,
            "_view_module": "@jupyter-widgets/controls",
            "_view_module_version": "1.5.0",
            "_view_name": "HBoxView",
            "box_style": "",
            "children": [
              "IPY_MODEL_a40306a81e7a4ae7b21b267c69e42ffd",
              "IPY_MODEL_3bf545620ba14e44ab085844fc4e5faf",
              "IPY_MODEL_3e51a23b2bc14628890cd740b1e818c0"
            ],
            "layout": "IPY_MODEL_d8b406e384854ff08fa16c4ac0c6aba5"
          }
        },
        "fb5731ca3c1e4ddebf89e61ef339a988": {
          "model_module": "@jupyter-widgets/controls",
          "model_module_version": "1.5.0",
          "model_name": "DescriptionStyleModel",
          "state": {
            "_model_module": "@jupyter-widgets/controls",
            "_model_module_version": "1.5.0",
            "_model_name": "DescriptionStyleModel",
            "_view_count": null,
            "_view_module": "@jupyter-widgets/base",
            "_view_module_version": "1.2.0",
            "_view_name": "StyleView",
            "description_width": ""
          }
        }
      }
    }
  },
  "nbformat": 4,
  "nbformat_minor": 0
}
