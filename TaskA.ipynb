{
 "cells": [
  {
   "cell_type": "markdown",
   "metadata": {},
   "source": [
    "# EMit - Emotions in Italian\n",
    "## Emotion and Target detection\n",
    "### Emanuele Muzio - 0766230\n",
    "Il presente notebook rappresenta un'illustrazione dello svolgimento dei due task del contest EMit (Emotions in Italian):\n",
    "- il primo task, o Task A, è mirato alla classificazione dei sentimenti espressi dai messaggi sui social media riguardanti i prodotti RAI\n",
    "- il secondo task, o Task B, è mirato alla classificazione del target del messaggio, se sul topic o sulla direzione\n",
    "Entrambi i task sono classificazione multiclasse e multilabel (nel Task A abbiamo 8 emozioni di base, più _Love_, nel Task B il target può essere uno dei due, entrambi o nessuno).\n",
    "\n",
    "Ai fini della valutazione dei due task, sono stati forniti dei dataset da utilizzare sia per l'addestramento che per i test, comprensivi di annotazioni."
   ]
  },
  {
   "cell_type": "code",
   "execution_count": 1,
   "metadata": {},
   "outputs": [],
   "source": [
    "from transformers import AutoTokenizer, BertModel\n",
    "import pandas as pd\n",
    "import nltk\n",
    "from nltk.corpus import stopwords\n",
    "import matplotlib.pyplot as plt\n",
    "from sklearn.model_selection import train_test_split\n",
    "import shutil, sys\n",
    "import numpy as np\n",
    "from sklearn.metrics import accuracy_score, f1_score, multilabel_confusion_matrix as mcm, classification_report\n",
    "\n",
    "#Import torch\n",
    "import torch\n",
    "from torch import nn\n",
    "import torch.nn.functional as F\n",
    "from torch.utils.data import Dataset\n",
    "from torch.optim import Adam\n",
    "\n",
    "# Gestione delle emoji\n",
    "import emot as emot_imp\n",
    "emot = emot_imp.core.emot()\n",
    "\n",
    "# TODO: preprocessing (eliminazione di stopword e keyword X, eliminazione hashtag, eliminazione link esterni, eliminazione menzioni) \n",
    "# TODO: valutare: lowercase del testo, rimozione punteggiatura\n",
    "# TODO: tokenizzazione \n",
    "# TODO: classificazione tramite modello neurale pytorch"
   ]
  },
  {
   "cell_type": "markdown",
   "metadata": {},
   "source": [
    "## Task A: Emotion detection\n",
    "Per il primo task, procediamo in due step, partendo dal preprocessing del testo (principalmente pulizia dei messaggi) per poi andare alla classificazione.\n",
    "\n",
    "Per la tokenizzazione del testo e la generazione degli embeddings da usare come input al modello neurale, è stato scelto un modello multilingua (dal momento che i messaggi riguardano un'emittente italiana) case-sensitive. \n",
    "\n",
    "Il supporto alle emoji/emoticons è stato aggiunto rilevando quelle presenti nel testo e facendo un resize del modello per poterle gestire.\n",
    "\n",
    "Il modello BERT-like da HuggingFace utilizzato è il seguente: _bert-base-multilingual-cased_.\n",
    "Elenco delle librerie speciali utilizzate in questa fase:\n",
    "- nltk per il recupero delle stopwords italiane da rimuovere\n",
    "- emot per la gestione delle emoji/emoticons"
   ]
  },
  {
   "cell_type": "markdown",
   "metadata": {},
   "source": [
    "### Task A: Preprocessing\n",
    "Al fine di valutare soltanto le parti più importanti dei messaggi, con un contributo semantico più corposo, sono state prese diverse decisioni:\n",
    "- Eliminazione delle menzioni degli utenti (nomi utenti già oscurati nel dataset utilizzato)\n",
    "- Eliminazione delle stopword da NLTK\n",
    "- Eliminazione delle keyword legate a X (RT per i retweet e FAV per i messaggi preferiti)\n",
    "- Eliminazione link esterni\n",
    "- Eliminazione hashtag\n",
    "Per quest'ultima fase in particolare, la scelta è stata presa dopo una veloce analisi degli hashtag più frequenti, scelta che verrà motivata a breve."
   ]
  },
  {
   "cell_type": "code",
   "execution_count": 2,
   "metadata": {},
   "outputs": [
    {
     "name": "stderr",
     "output_type": "stream",
     "text": [
      "[nltk_data] Downloading package stopwords to\n",
      "[nltk_data]     C:\\Users\\emanu\\AppData\\Roaming\\nltk_data...\n",
      "[nltk_data]   Package stopwords is already up-to-date!\n"
     ]
    }
   ],
   "source": [
    "data = pd.read_csv(\"release\\emit_2023-v1\\emit_train_A.csv\")\n",
    "text = data[\"text\"]\n",
    "emotions = data.drop([\"id\",\"text\"], axis=1)\n",
    "model_name = 'bert-base-multilingual-cased'\n",
    "tokenizer = AutoTokenizer.from_pretrained(model_name)\n",
    "model = BertModel.from_pretrained(model_name)\n",
    "nltk.download('stopwords')\n",
    "stopwords_it = stopwords.words('italian')\n",
    "X_keywords = ['RT', 'FAV']\n",
    "checkpoint_fpath = '.'\n",
    "classes = list(data.columns[2:])"
   ]
  },
  {
   "cell_type": "code",
   "execution_count": 3,
   "metadata": {},
   "outputs": [],
   "source": [
    "# Funzione che raccoglie i principali 4 controlli che vengono effettuati sul testo, ovvero: \n",
    "# - presenza di menzioni ad altri utenti\n",
    "# - presenza di collegamenti esterni\n",
    "# - presenza di keyword relative a X (RT, FAV, quest'ultima non presente nei nostri dati)\n",
    "# - presenza di stop-words in lingua italiana dalla lista fornita dal NaturalLanguageToolKit\n",
    "\n",
    "def preprocess(text):\n",
    "    new_text = []\n",
    "    for t in text.split(\" \"):\n",
    "        if t.startswith('@') and len(t) > 1 or t.startswith('http') or t in X_keywords or t.lower() in stopwords_it:\n",
    "            continue\n",
    "        else:\n",
    "            new_text.append(t)\n",
    "    return \" \".join(new_text)\n",
    "\n",
    "def getHashtags(text):\n",
    "    hashtags = []\n",
    "    for t in text.split(\" \"):\n",
    "        if t.startswith('#') and len(t) > 1:\n",
    "            hashtags.append(t)\n",
    "        else:\n",
    "            continue\n",
    "    return hashtags\n",
    "\n",
    "def removeHashTags(text):\n",
    "    new_text = []\n",
    "    for t in text.split(\" \"):\n",
    "        if t.startswith('#') and len(t) > 1:\n",
    "            continue\n",
    "        else:\n",
    "            new_text.append(t)\n",
    "    return \" \".join(new_text)\n",
    "\n",
    "def intersection(lst1, lst2):\n",
    "    lst3 = [value for value in lst1 if value in lst2]\n",
    "    return lst3"
   ]
  },
  {
   "cell_type": "code",
   "execution_count": 4,
   "metadata": {},
   "outputs": [
    {
     "data": {
      "text/plain": [
       "id              0\n",
       "text            0\n",
       "Anger           0\n",
       "Anticipation    0\n",
       "Disgust         0\n",
       "Fear            0\n",
       "Joy             0\n",
       "Love            0\n",
       "Neutral         0\n",
       "Sadness         0\n",
       "Surprise        0\n",
       "Trust           0\n",
       "dtype: int64"
      ]
     },
     "execution_count": 4,
     "metadata": {},
     "output_type": "execute_result"
    }
   ],
   "source": [
    "data.isna().sum()"
   ]
  },
  {
   "cell_type": "code",
   "execution_count": 5,
   "metadata": {},
   "outputs": [
    {
     "data": {
      "text/plain": [
       "<BarContainer object of 10 artists>"
      ]
     },
     "execution_count": 5,
     "metadata": {},
     "output_type": "execute_result"
    },
    {
     "data": {
      "image/png": "[encoded data removed]",
      "text/plain": [
       "<Figure size 640x480 with 1 Axes>"
      ]
     },
     "metadata": {},
     "output_type": "display_data"
    }
   ],
   "source": [
    "plt.barh(emotions.columns, [emotions[column].sum() for column in emotions.columns])"
   ]
  },
  {
   "cell_type": "markdown",
   "metadata": {},
   "source": [
    "Non è necessario fare imputazione in quanto non ci sono dati mancanti all'interno del dataset di addestramento.\n",
    "\n",
    "Possiamo adesso procedere alla pulizia del testo, elemento centrale della nostra indagine."
   ]
  },
  {
   "cell_type": "code",
   "execution_count": 6,
   "metadata": {},
   "outputs": [],
   "source": [
    "text = text.apply(preprocess)"
   ]
  },
  {
   "cell_type": "markdown",
   "metadata": {},
   "source": [
    "Dopo un primo passo di preprocessing del testo, è sorto un dubbio riguardante l'utilità degli hashtag e la conseguente decisione sul mantenerli o meno. \n",
    "La scelta finale è stata quella di rimuoverli, dal momento che gli hashtag più diffusi almeno in questa prima fase non aggiungono valore al testo essendo relativi al topic (generalmente il nome del programma televisivo interessato).\n",
    "\n",
    "Potrebbe essere interessante mantenere queste informazioni per fare uno studio di sentiment analysis differenziata per singolo programma televisivo, tuttavia non è il focus principale del progetto.\n",
    "\n",
    "Sono stati rilevati in totale 1126 hashtag unici su 5990 totali, con una distribuzione sbilanciata fortemente verso i 20-30 circa più usati, che sono risultati essere hashtag relativi appunto al nome della trasmissione televisiva oggetto del testo."
   ]
  },
  {
   "cell_type": "code",
   "execution_count": 7,
   "metadata": {},
   "outputs": [],
   "source": [
    "hashtag_list = list(map(getHashtags, text))\n",
    "hashtags = []\n",
    "\n",
    "for h in hashtag_list:\n",
    "    hashtags.extend(h)\n",
    "\n",
    "hashtags = list(sorted(hashtags))\n",
    "unique_hashtags = list(set(hashtags))\n",
    "hasht_count = [hashtags.count(h) for h in unique_hashtags]\n",
    "\n",
    "sorted_h = [x for _, x in sorted(zip(hasht_count, unique_hashtags), reverse=True)]\n",
    "sorted_h_c = list(sorted(hasht_count,reverse=True))"
   ]
  },
  {
   "cell_type": "code",
   "execution_count": 8,
   "metadata": {},
   "outputs": [
    {
     "data": {
      "text/plain": [
       "<BarContainer object of 25 artists>"
      ]
     },
     "execution_count": 8,
     "metadata": {},
     "output_type": "execute_result"
    },
    {
     "data": {
      "image/png": "[encoded data removed]",
      "text/plain": [
       "<Figure size 640x480 with 1 Axes>"
      ]
     },
     "metadata": {},
     "output_type": "display_data"
    }
   ],
   "source": [
    "plt.barh(sorted_h[:25], sorted_h_c[:25])"
   ]
  },
  {
   "cell_type": "code",
   "execution_count": 9,
   "metadata": {},
   "outputs": [],
   "source": [
    "text = text.apply(removeHashTags)"
   ]
  },
  {
   "cell_type": "code",
   "execution_count": 10,
   "metadata": {},
   "outputs": [
    {
     "data": {
      "text/plain": [
       "0                   Serve aggiungere altro? INIZIA ORA\n",
       "1    differenza studiato donna forte indipendente m...\n",
       "2            Metà sobrietà dovrebbe essere distribuita\n",
       "3                   LENÙ PIACERE SCAPPA ANSIA TE PREGO\n",
       "4                         Nooooo!!! signora Cecchini 😢\n",
       "Name: text, dtype: object"
      ]
     },
     "execution_count": 10,
     "metadata": {},
     "output_type": "execute_result"
    }
   ],
   "source": [
    "text.head()"
   ]
  },
  {
   "cell_type": "markdown",
   "metadata": {},
   "source": [
    "Prima di procedere alla classificazione vera e propria, dobbiamo adattare il tokenizer alla presenza delle emoji nel testo, elemento importante per l'interpretazione del testo.\n",
    "\n",
    "Facciamo quindi una ricerca di emoji ed emoticons presenti e aggiungiamole al tokenizer tramite la funzione add_tokens(), per poi fare un resize del modello e completare questo step."
   ]
  },
  {
   "cell_type": "code",
   "execution_count": 11,
   "metadata": {},
   "outputs": [],
   "source": [
    "bulk_emoji = emot.bulk_emoji(text)\n",
    "\n",
    "unique_emoji = []\n",
    "\n",
    "for i in range(len(bulk_emoji)):\n",
    "    res = bulk_emoji[i]\n",
    "    if res['flag']:\n",
    "        unique_emoji.extend(res['value'])\n",
    "\n",
    "unique_emoji = list(set(unique_emoji))\n",
    "\n",
    "emoji_to_add = set(unique_emoji) - set(tokenizer.vocab.keys())"
   ]
  },
  {
   "cell_type": "code",
   "execution_count": 12,
   "metadata": {},
   "outputs": [],
   "source": [
    "bulk_emoticons = emot.bulk_emoticons(text)\n",
    "\n",
    "unique_emoticons = []\n",
    "\n",
    "for i in range(len(bulk_emoticons)):\n",
    "    res = bulk_emoticons[i]\n",
    "    if res['flag']:\n",
    "        unique_emoticons.extend(res['value'])\n",
    "\n",
    "unique_emoticons = list(set(unique_emoticons))\n",
    "\n",
    "emoticons_to_add = set(unique_emoticons) - set(tokenizer.vocab.keys())"
   ]
  },
  {
   "cell_type": "code",
   "execution_count": 13,
   "metadata": {},
   "outputs": [],
   "source": [
    "new_tokens = []\n",
    "new_tokens.extend(emoji_to_add)\n",
    "new_tokens.extend(emoticons_to_add)"
   ]
  },
  {
   "cell_type": "code",
   "execution_count": 14,
   "metadata": {},
   "outputs": [
    {
     "name": "stdout",
     "output_type": "stream",
     "text": [
      "Adding: 261 emoji/emoticons\n"
     ]
    }
   ],
   "source": [
    "print(f\"Adding: {len(new_tokens)} emoji/emoticons\")"
   ]
  },
  {
   "cell_type": "code",
   "execution_count": 15,
   "metadata": {},
   "outputs": [
    {
     "data": {
      "text/plain": [
       "Embedding(119808, 768)"
      ]
     },
     "execution_count": 15,
     "metadata": {},
     "output_type": "execute_result"
    }
   ],
   "source": [
    "tokenizer.add_tokens(list(new_tokens))\n",
    "model.resize_token_embeddings(len(tokenizer))"
   ]
  },
  {
   "cell_type": "markdown",
   "metadata": {},
   "source": [
    "Durante le prove è emerso che alcuni messaggi sono composti soltanto da menzioni o semplici hashtag, per cui facciamo una veloce pulizia prima di procedere (al contrario, alcuni messaggi non verrebbero processati dal tokenizer, causando degli errori)"
   ]
  },
  {
   "cell_type": "code",
   "execution_count": 16,
   "metadata": {},
   "outputs": [],
   "source": [
    "for i in range(len(text)):\n",
    "    if(len(text[i]) == 0):\n",
    "        text.drop(i, axis=0, inplace=True)\n",
    "        emotions.drop(i, axis=0, inplace=True)"
   ]
  },
  {
   "cell_type": "markdown",
   "metadata": {},
   "source": [
    "Vediamo adesso di stabilire brevemente una lunghezza massima in parole dei messaggi.\n",
    "\n",
    "Possiamo vedere come la stragrande maggioranza dei messaggi abbia una lunghezza inferiore a 25-30 parole, per cui useremo 30 come tetto massimo."
   ]
  },
  {
   "cell_type": "code",
   "execution_count": 17,
   "metadata": {},
   "outputs": [
    {
     "data": {
      "image/png": "[encoded data removed]",
      "text/plain": [
       "<Figure size 640x480 with 1 Axes>"
      ]
     },
     "metadata": {},
     "output_type": "display_data"
    }
   ],
   "source": [
    "plt.hist([len(t) for t in text])\n",
    "MAX_LEN = 30"
   ]
  },
  {
   "cell_type": "markdown",
   "metadata": {},
   "source": [
    "## Task A: Classificazione\n",
    "\n",
    "Arrivati a questo punto, dobbiamo per prima cosa addestrare il nostro classificatore per il task che dovrà svolgere.\n",
    "\n",
    "Procediamo a passare tutti i dati etichettati al nostro classificatore "
   ]
  },
  {
   "cell_type": "code",
   "execution_count": 18,
   "metadata": {},
   "outputs": [
    {
     "name": "stdout",
     "output_type": "stream",
     "text": [
      "Using cuda device\n"
     ]
    }
   ],
   "source": [
    "device = (\n",
    "    \"cuda\"\n",
    "    if torch.cuda.is_available()\n",
    "    else \"cpu\"\n",
    ")\n",
    "print(f\"Using {device} device\")"
   ]
  },
  {
   "cell_type": "code",
   "execution_count": 19,
   "metadata": {},
   "outputs": [],
   "source": [
    "hyperparameters = {\n",
    "    'model_name' : model_name,\n",
    "    'dropout' : 0.2,\n",
    "    'train_batch_size' : 16,\n",
    "    'epochs' : 30,\n",
    "    'lr' : 1e-06,\n",
    "    'max_len' : MAX_LEN,\n",
    "    'num_classes' : 10,\n",
    "    'h_dim' : 768\n",
    "}"
   ]
  },
  {
   "cell_type": "code",
   "execution_count": 36,
   "metadata": {},
   "outputs": [],
   "source": [
    "class _Dataset(Dataset):\n",
    "    def __init__(self, inputs, labels, tokenizer, MAX_LEN, transform=None):\n",
    "        self.transform = transform\n",
    "        self.inputs = inputs\n",
    "        self.labels = labels           \n",
    "        self.tokenizer = tokenizer\n",
    "        self.MAX_LEN = MAX_LEN\n",
    "      \n",
    "    def __len__(self):\n",
    "        return len(self.labels)       \n",
    "\n",
    "    def __getitem__(self, idx):\n",
    "        inputs = tokenizer(self.inputs[idx], add_special_tokens=True,\n",
    "                            return_tensors='pt', padding='max_length',\n",
    "                            max_length = self.MAX_LEN, truncation=True) \n",
    "        labels = self.labels.iloc[idx]\n",
    "        return {\n",
    "            'ids': inputs['input_ids'],\n",
    "            'mask': inputs['attention_mask'],\n",
    "            'token_type_ids': inputs['token_type_ids'],\n",
    "            'labels': labels\n",
    "        } "
   ]
  },
  {
   "cell_type": "code",
   "execution_count": 37,
   "metadata": {},
   "outputs": [],
   "source": [
    "class BTEClassifier(nn.Module):\n",
    "    def __init__(self, hyperparameters, model_name):\n",
    "        super(BTEClassifier, self).__init__()\n",
    "        self.bte = BertModel.from_pretrained(model_name) # Blocco BTE - Bidirectional Transformer Encoder\n",
    "        self.classifier = nn.Sequential(\n",
    "            nn.Dropout(hyperparameters['dropout']), # Layer di dropout,\n",
    "            nn.Linear(768, hyperparameters['num_classes']), # Layer dense su cui fare fine tuning\n",
    "            nn.Sigmoid()\n",
    "        )\n",
    "\n",
    "    def forward(self, ids, mask, token_type_ids):\n",
    "        output = self.bte(ids, attention_mask = mask, token_type_ids = token_type_ids).last_hidden_state\n",
    "        output = output[:,0,:]\n",
    "        output = self.classifier(output)\n",
    "        return output"
   ]
  },
  {
   "cell_type": "code",
   "execution_count": 38,
   "metadata": {},
   "outputs": [],
   "source": [
    "X_train, X_test, Y_train, Y_test = train_test_split(text, emotions, test_size=0.2)\n",
    "train_dataset = _Dataset(X_train, Y_train, tokenizer, hyperparameters['max_len'])\n",
    "val_dataset = _Dataset(X_test, Y_test, tokenizer, hyperparameters['max_len'])"
   ]
  },
  {
   "cell_type": "code",
   "execution_count": 39,
   "metadata": {},
   "outputs": [
    {
     "data": {
      "text/plain": [
       "BTEClassifier(\n",
       "  (bte): BertModel(\n",
       "    (embeddings): BertEmbeddings(\n",
       "      (word_embeddings): Embedding(119547, 768, padding_idx=0)\n",
       "      (position_embeddings): Embedding(512, 768)\n",
       "      (token_type_embeddings): Embedding(2, 768)\n",
       "      (LayerNorm): LayerNorm((768,), eps=1e-12, elementwise_affine=True)\n",
       "      (dropout): Dropout(p=0.1, inplace=False)\n",
       "    )\n",
       "    (encoder): BertEncoder(\n",
       "      (layer): ModuleList(\n",
       "        (0-11): 12 x BertLayer(\n",
       "          (attention): BertAttention(\n",
       "            (self): BertSelfAttention(\n",
       "              (query): Linear(in_features=768, out_features=768, bias=True)\n",
       "              (key): Linear(in_features=768, out_features=768, bias=True)\n",
       "              (value): Linear(in_features=768, out_features=768, bias=True)\n",
       "              (dropout): Dropout(p=0.1, inplace=False)\n",
       "            )\n",
       "            (output): BertSelfOutput(\n",
       "              (dense): Linear(in_features=768, out_features=768, bias=True)\n",
       "              (LayerNorm): LayerNorm((768,), eps=1e-12, elementwise_affine=True)\n",
       "              (dropout): Dropout(p=0.1, inplace=False)\n",
       "            )\n",
       "          )\n",
       "          (intermediate): BertIntermediate(\n",
       "            (dense): Linear(in_features=768, out_features=3072, bias=True)\n",
       "            (intermediate_act_fn): GELUActivation()\n",
       "          )\n",
       "          (output): BertOutput(\n",
       "            (dense): Linear(in_features=3072, out_features=768, bias=True)\n",
       "            (LayerNorm): LayerNorm((768,), eps=1e-12, elementwise_affine=True)\n",
       "            (dropout): Dropout(p=0.1, inplace=False)\n",
       "          )\n",
       "        )\n",
       "      )\n",
       "    )\n",
       "    (pooler): BertPooler(\n",
       "      (dense): Linear(in_features=768, out_features=768, bias=True)\n",
       "      (activation): Tanh()\n",
       "    )\n",
       "  )\n",
       "  (classifier): Sequential(\n",
       "    (0): Dropout(p=0.2, inplace=False)\n",
       "    (1): Linear(in_features=768, out_features=10, bias=True)\n",
       "    (2): Sigmoid()\n",
       "  )\n",
       ")"
      ]
     },
     "execution_count": 39,
     "metadata": {},
     "output_type": "execute_result"
    }
   ],
   "source": [
    "classifier = BTEClassifier(hyperparameters, model_name)\n",
    "classifier.to(device)"
   ]
  },
  {
   "cell_type": "code",
   "execution_count": 52,
   "metadata": {},
   "outputs": [],
   "source": [
    "def train_step(model, dataset, tokenizer, loss, optimizer, device):\n",
    "    model.train()\n",
    "\n",
    "    epoch_acc = 0\n",
    "    epoch_loss = 0\n",
    "\n",
    "    for i in range(len(dataset)):\n",
    "        d = dataset[i]\n",
    "        (ids, mask, token_type_ids, labels_) = d.values()\n",
    "\n",
    "        optimizer.zero_grad()\n",
    "\n",
    "        input_ids = ids.squeeze(1).to(device)\n",
    "        input_mask = mask.squeeze(1).to(device)\n",
    "        input_token_type_ids = token_type_ids.squeeze(1).to(device)\n",
    "        labels_ = torch.tensor(labels_)\n",
    "        labels = labels_.to(device)\n",
    "\n",
    "        output = model(input_ids, input_mask, input_token_type_ids)\n",
    "\n",
    "\n",
    "        # loss_test = loss(output, labels.unsqueeze(-1).float())\n",
    "        # _loss = loss(output, labels)\n",
    "        # epoch_loss += _loss.item()\n",
    "        \n",
    "        return output.reshape(-1, 1)\n",
    "        break"
   ]
  },
  {
   "cell_type": "code",
   "execution_count": 45,
   "metadata": {},
   "outputs": [],
   "source": [
    "optimizer = Adam(classifier.parameters(), lr=hyperparameters[\"lr\"])\n",
    "loss = nn.BCELoss()"
   ]
  },
  {
   "cell_type": "code",
   "execution_count": 64,
   "metadata": {},
   "outputs": [
    {
     "name": "stdout",
     "output_type": "stream",
     "text": [
      "[1, 0, 0, 0, 0, 0, 1, 1, 0, 0]\n",
      "[0, 1, 0, 0, 1, 1, 0, 0, 0, 0]\n"
     ]
    },
    {
     "name": "stderr",
     "output_type": "stream",
     "text": [
      "C:\\Users\\emanu\\AppData\\Local\\Temp\\ipykernel_2844\\2555772266.py:16: FutureWarning: Series.__getitem__ treating keys as positions is deprecated. In a future version, integer keys will always be treated as labels (consistent with DataFrame behavior). To access a value by position, use `ser.iloc[pos]`\n",
      "  labels_ = torch.tensor(labels_)\n"
     ]
    }
   ],
   "source": [
    "loss_test = train_step(classifier, train_dataset, tokenizer, loss, optimizer, device)\n",
    "loss_test.shape\n",
    "result = [1 if lt > 0.55 else 0 for lt in loss_test]\n",
    "print(result)\n",
    "print(data.iloc[0, 2:].to_list())"
   ]
  }
 ],
 "metadata": {
  "kernelspec": {
   "display_name": "base",
   "language": "python",
   "name": "python3"
  },
  "language_info": {
   "codemirror_mode": {
    "name": "ipython",
    "version": 3
   },
   "file_extension": ".py",
   "mimetype": "text/x-python",
   "name": "python",
   "nbconvert_exporter": "python",
   "pygments_lexer": "ipython3",
   "version": "3.11.7"
  }
 },
 "nbformat": 4,
 "nbformat_minor": 2
}
