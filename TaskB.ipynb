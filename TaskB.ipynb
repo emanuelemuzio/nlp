{
  "nbformat": 4,
  "nbformat_minor": 0,
  "metadata": {
    "colab": {
      "provenance": [],
      "authorship_tag": "ABX9TyNJB0mdW16zWmCzzlhTwQn3"
    },
    "kernelspec": {
      "name": "python3",
      "display_name": "Python 3"
    },
    "language_info": {
      "name": "python"
    }
  },
  "cells": [
    {
      "cell_type": "markdown",
      "source": [
        "# EMit - Emotions in Italian\n",
        "## Emotion and Target detection\n",
        "### Emanuele Muzio - 0766230\n",
        "Il presente notebook rappresenta un'illustrazione dello svolgimento dei due task del contest EMit (Emotions in Italian):\n",
        "- il primo task, o Task A, è mirato alla classificazione dei sentimenti espressi dai messaggi sui social media riguardanti i prodotti RAI\n",
        "- il secondo task, o Task B, è mirato alla classificazione del target del messaggio, se sul topic o sulla direzione\n",
        "Entrambi i task sono classificazione multiclasse e multilabel (nel Task A abbiamo 8 emozioni di base, più _Love_, nel Task B il target può essere uno dei due, entrambi o nessuno).\n",
        "\n",
        "Ai fini della valutazione dei due task, sono stati forniti dei dataset da utilizzare sia per l'addestramento che per i test, comprensivi di annotazioni.\n",
        "\n",
        "Per i test del modello sono stati forniti nello specifico due dataset: uno con dati presi all'interno del dominio dei messaggi relativi alle trasmissioni RAI, uno con dati presi fuori da questo dominio (detti OOD, Out of Domain)."
      ],
      "metadata": {
        "id": "7oZp5ea4Sa-a"
      }
    }
  ]
}