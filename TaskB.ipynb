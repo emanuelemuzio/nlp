{
  "cells": [
    {
      "cell_type": "markdown",
      "metadata": {
        "id": "ALrsepd2GP0x"
      },
      "source": [
        "# EMit - Emotions in Italian\n",
        "## Emotion and Target detection\n",
        "### Emanuele Muzio - 0766230\n",
        "Il presente notebook rappresenta un'illustrazione dello svolgimento dei due task del contest EMit (Emotions in Italian):\n",
        "- il primo task, o Task A, è mirato alla classificazione dei sentimenti espressi dai messaggi sui social media riguardanti i prodotti RAI\n",
        "- il secondo task, o Task B, è mirato alla classificazione del target del messaggio, se sul topic o sulla direzione\n",
        "Entrambi i task sono classificazione multiclasse e multilabel (nel Task A abbiamo 8 emozioni di base, più _Love_, nel Task B il target può essere uno dei due, entrambi o nessuno).\n",
        "\n",
        "Ai fini della valutazione dei due task, sono stati forniti dei dataset da utilizzare sia per l'addestramento che per i test, comprensivi di annotazioni.\n",
        "\n",
        "Per i test del modello sono stati forniti nello specifico due dataset: uno con dati presi all'interno del dominio dei messaggi relativi alle trasmissioni RAI, uno con dati presi fuori da questo dominio (detti OOD, Out of Domain)."
      ]
    },
    {
      "cell_type": "code",
      "source": [
        "!pip install nltk torch torchmetrics transformers emot pandas scikit-learn"
      ],
      "metadata": {
        "id": "G-umei68GV3K"
      },
      "execution_count": null,
      "outputs": []
    },
    {
      "cell_type": "code",
      "source": [
        "from google.colab import drive\n",
        "drive.mount('/content/drive')"
      ],
      "metadata": {
        "colab": {
          "base_uri": "https://localhost:8080/"
        },
        "id": "GOukA51KnXYV",
        "outputId": "7e37f827-9f4d-4ad5-84f5-1777a421e416"
      },
      "execution_count": null,
      "outputs": [
        {
          "output_type": "stream",
          "name": "stdout",
          "text": [
            "Drive already mounted at /content/drive; to attempt to forcibly remount, call drive.mount(\"/content/drive\", force_remount=True).\n"
          ]
        }
      ]
    },
    {
      "cell_type": "code",
      "execution_count": null,
      "metadata": {
        "id": "ty1qtSTyGP0z"
      },
      "outputs": [],
      "source": [
        "import pandas as pd\n",
        "import nltk\n",
        "from nltk.corpus import stopwords\n",
        "import matplotlib.pyplot as plt\n",
        "from sklearn.model_selection import train_test_split\n",
        "from tqdm.notebook import tqdm\n",
        "import copy, os\n",
        "import numpy as np\n",
        "from sklearn.metrics import classification_report as cr, f1_score as f1\n",
        "import seaborn as sns\n",
        "import random as rand\n",
        "import pickle\n",
        "import matplotlib.image as mpimg\n",
        "\n",
        "#Import torch\n",
        "import torch\n",
        "from torch import nn\n",
        "from torch.utils.data import DataLoader, Dataset\n",
        "from torch.optim import Adam\n",
        "from torchmetrics.classification import MultilabelAccuracy\n",
        "from transformers import AutoTokenizer, AutoModel\n",
        "\n",
        "# Gestione delle emoji\n",
        "import emot as emot_imp\n",
        "emot = emot_imp.core.emot()"
      ]
    },
    {
      "cell_type": "markdown",
      "metadata": {
        "id": "RerXrA1KGP00"
      },
      "source": [
        "## Task A: Emotion detection\n",
        "\n",
        "Per andare a ricercare la massima precisione (sia per quanto riguarda i dati che il modello), verranno effettuate diverse prove:\n",
        "- dati: verranno effettuati dei test usando sia dei dati preprocessati che i dati originali (dal momento che il blocco BERT-like del nostro modello trae informazioni anche da punteggiatura, stopwords ecc...)\n",
        "- modello: verranno testati diverse combinazioni di iperparametri usando un approccio randomizzato per trovare il modello migliore (valutato tramite F1 score)\n",
        "\n",
        "Per il primo task, procediamo in due step, partendo dal preprocessing del testo (rimozione stopwords, hashtag, menzioni, keyword RT, collegamenti ipertestuali) per poi andare alla classificazione.\n",
        "\n",
        "Per la tokenizzazione del testo è stato scelto un modello multilingua (dal momento che i messaggi riguardano un'emittente italiana) case-sensitive.\n",
        "\n",
        "Il supporto alle emoji/emoticons è stato aggiunto rilevando quelle presenti nel testo e facendo un resize del modello per poterle gestire.\n",
        "\n",
        "Il modello BERT-like da HuggingFace utilizzato è il seguente: _bert-base-multilingual-cased_."
      ]
    },
    {
      "cell_type": "code",
      "execution_count": null,
      "metadata": {
        "colab": {
          "base_uri": "https://localhost:8080/"
        },
        "id": "VW9NXDt8GP00",
        "outputId": "cebc2f09-7bc1-491a-d7c7-068b60de71f4"
      },
      "outputs": [
        {
          "output_type": "stream",
          "name": "stderr",
          "text": [
            "[nltk_data] Downloading package stopwords to /root/nltk_data...\n",
            "[nltk_data]   Package stopwords is already up-to-date!\n"
          ]
        }
      ],
      "source": [
        "data = pd.read_csv(\"/content/drive/MyDrive/NLP/release/emit_2023-v1/emit_train_A.csv\")\n",
        "text_prep = data[\"text\"]\n",
        "text = data[\"text\"]\n",
        "emotions = data.drop([\"id\",\"text\"], axis=1)\n",
        "emotions_prep = data.drop([\"id\",\"text\"], axis=1)\n",
        "model_name = 'bert-base-multilingual-cased'\n",
        "tokenizer = AutoTokenizer.from_pretrained(model_name)\n",
        "model = AutoModel.from_pretrained(model_name)\n",
        "nltk.download('stopwords')\n",
        "stopwords_it = stopwords.words('italian')\n",
        "X_keywords = ['RT', 'FAV']"
      ]
    },
    {
      "cell_type": "code",
      "execution_count": null,
      "metadata": {
        "id": "AnWAPKe6GP00"
      },
      "outputs": [],
      "source": [
        "# Funzione che raccoglie i principali 4 controlli che vengono effettuati sul testo, ovvero:\n",
        "# - presenza di menzioni ad altri utenti\n",
        "# - presenza di collegamenti esterni\n",
        "# - presenza di keyword relative a X (RT, FAV, quest'ultima non presente nei nostri dati)\n",
        "# - presenza di stop-words in lingua italiana dalla lista fornita dal NaturalLanguageToolKit\n",
        "\n",
        "def preprocess(text):\n",
        "    new_text = []\n",
        "    for t in text.split(\" \"):\n",
        "        if t.startswith('@') and len(t) > 1 or t.startswith('http') or t in X_keywords or t.lower() in stopwords_it:\n",
        "            continue\n",
        "        else:\n",
        "            new_text.append(t)\n",
        "    return \" \".join(new_text)\n",
        "\n",
        "# Funzione per l'estrazione degli hashtag dai messaggi\n",
        "\n",
        "def getHashtags(text):\n",
        "    hashtags = []\n",
        "    for t in text.split(\" \"):\n",
        "        if t.startswith('#') and len(t) > 1:\n",
        "            hashtags.append(t)\n",
        "        else:\n",
        "            continue\n",
        "    return hashtags\n",
        "\n",
        "# Funzione per la rimozione degli hashtag dai messaggi\n",
        "\n",
        "def removeHashTags(text):\n",
        "    new_text = []\n",
        "    for t in text.split(\" \"):\n",
        "        if t.startswith('#') and len(t) > 1:\n",
        "            continue\n",
        "        else:\n",
        "            new_text.append(t)\n",
        "    return \" \".join(new_text)\n",
        "\n",
        "def intersection(lst1, lst2):\n",
        "    lst3 = [value for value in lst1 if value in lst2]\n",
        "    return lst3"
      ]
    },
    {
      "cell_type": "markdown",
      "metadata": {
        "id": "TnDSfrjQGP01"
      },
      "source": [
        "### Task A: Preprocessing\n",
        "Al fine di valutare soltanto le parti più importanti dei messaggi, con un contributo semantico più corposo, sono state prese diverse decisioni:\n",
        "- Eliminazione delle menzioni degli utenti (nomi utenti già oscurati nel dataset utilizzato)\n",
        "- Eliminazione delle stopword da NLTK\n",
        "- Eliminazione delle keyword legate a X (RT per i retweet e FAV per i messaggi preferiti)\n",
        "- Eliminazione link esterni\n",
        "- Eliminazione hashtag"
      ]
    },
    {
      "cell_type": "markdown",
      "metadata": {
        "id": "DmKm03Q2GP01"
      },
      "source": [
        "Controlliamo innanzitutto l'integrità dei dati di addestramento"
      ]
    },
    {
      "cell_type": "code",
      "execution_count": null,
      "metadata": {
        "colab": {
          "base_uri": "https://localhost:8080/"
        },
        "id": "fS22aHu2GP01",
        "outputId": "85167684-b060-45ab-df71-ee3159b09b9c"
      },
      "outputs": [
        {
          "output_type": "execute_result",
          "data": {
            "text/plain": [
              "id              0\n",
              "text            0\n",
              "Anger           0\n",
              "Anticipation    0\n",
              "Disgust         0\n",
              "Fear            0\n",
              "Joy             0\n",
              "Love            0\n",
              "Neutral         0\n",
              "Sadness         0\n",
              "Surprise        0\n",
              "Trust           0\n",
              "dtype: int64"
            ]
          },
          "metadata": {},
          "execution_count": 46
        }
      ],
      "source": [
        "data.isna().sum()"
      ]
    },
    {
      "cell_type": "markdown",
      "metadata": {
        "id": "gPPEMgefGP01"
      },
      "source": [
        "Non è necessario fare imputazione in quanto non ci sono dati mancanti all'interno del dataset di addestramento."
      ]
    },
    {
      "cell_type": "markdown",
      "metadata": {
        "id": "n83p0L6vGP01"
      },
      "source": [
        "Controlliamo anche velocemente quali sono le emozioni maggiormente espresse nei messaggi.\n",
        "\n",
        "Possiamo vedere come i messaggi esprimano emozioni variegate (con un picco nei messaggi di fiducia/incoraggiamento e un minimo nei messaggi che esprimono timore o paura, fatto comprensibile dal momento che la maggior parte dei commenti riguarda trasmissioni in onda)."
      ]
    },
    {
      "cell_type": "code",
      "execution_count": null,
      "metadata": {
        "colab": {
          "base_uri": "https://localhost:8080/",
          "height": 447
        },
        "id": "ln62veltGP01",
        "outputId": "e761251e-56bc-4867-9499-4615ded6f08c"
      },
      "outputs": [
        {
          "output_type": "execute_result",
          "data": {
            "text/plain": [
              "<BarContainer object of 10 artists>"
            ]
          },
          "metadata": {},
          "execution_count": 47
        },
        {
          "output_type": "display_data",
          "data": {
            "text/plain": [
              "<Figure size 640x480 with 1 Axes>"
            ],
            "image/png": "[encoded data removed]"
          },
          "metadata": {}
        }
      ],
      "source": [
        "plt.barh(emotions.columns, [emotions[column].sum() for column in emotions.columns])"
      ]
    },
    {
      "cell_type": "markdown",
      "metadata": {
        "id": "yTUQ2__dGP01"
      },
      "source": [
        "Possiamo adesso procedere al preprocessing del testo."
      ]
    },
    {
      "cell_type": "code",
      "execution_count": null,
      "metadata": {
        "id": "OF44hBPdGP01"
      },
      "outputs": [],
      "source": [
        "text_prep = text_prep.apply(preprocess)"
      ]
    },
    {
      "cell_type": "markdown",
      "metadata": {
        "id": "G6Lx7XbgGP02"
      },
      "source": [
        "Dopo questo primo passo, è sorto un dubbio riguardante l'utilità degli hashtag e la conseguente decisione sul mantenerli o meno.\n",
        "La scelta finale è stata quella di rimuoverli, dal momento che gli hashtag più diffusi almeno in questa prima fase non aggiungono molto valore al testo essendo relativi al topic (generalmente il nome del programma televisivo interessato).\n",
        "\n",
        "Potrebbe essere interessante mantenere queste informazioni per fare uno studio di sentiment analysis differenziata per singolo programma televisivo, tuttavia non è il focus principale del progetto.\n",
        "\n",
        "Sono stati rilevati in totale 1126 hashtag unici su 5990 totali (in riferimento ai dati di addestramento), con una distribuzione sbilanciata fortemente verso i 20-30 circa più usati, che sono risultati essere hashtag relativi appunto al nome della trasmissione televisiva oggetto del testo."
      ]
    },
    {
      "cell_type": "code",
      "execution_count": null,
      "metadata": {
        "id": "GPR4SI31GP02"
      },
      "outputs": [],
      "source": [
        "hashtag_list = list(map(getHashtags, text_prep))\n",
        "hashtags = []\n",
        "\n",
        "for h in hashtag_list:\n",
        "    hashtags.extend(h)\n",
        "\n",
        "hashtags = list(sorted(hashtags))\n",
        "unique_hashtags = list(set(hashtags))\n",
        "hasht_count = [hashtags.count(h) for h in unique_hashtags]\n",
        "\n",
        "sorted_h = [x for _, x in sorted(zip(hasht_count, unique_hashtags), reverse=True)]\n",
        "sorted_h_c = list(sorted(hasht_count,reverse=True))"
      ]
    },
    {
      "cell_type": "code",
      "execution_count": null,
      "metadata": {
        "colab": {
          "base_uri": "https://localhost:8080/",
          "height": 470
        },
        "id": "OYaao8tCGP02",
        "outputId": "8d8f2a63-a633-421a-ccad-1fc945c67d0c"
      },
      "outputs": [
        {
          "output_type": "execute_result",
          "data": {
            "text/plain": [
              "<BarContainer object of 25 artists>"
            ]
          },
          "metadata": {},
          "execution_count": 50
        },
        {
          "output_type": "display_data",
          "data": {
            "text/plain": [
              "<Figure size 640x480 with 1 Axes>"
            ],
            "image/png": "[encoded data removed]"
          },
          "metadata": {}
        }
      ],
      "source": [
        "plt.title(\"Top 25 Hashtag più frequenti\")\n",
        "plt.barh(sorted_h[:25], sorted_h_c[:25])"
      ]
    },
    {
      "cell_type": "code",
      "execution_count": null,
      "metadata": {
        "id": "U6OSqQwkGP02"
      },
      "outputs": [],
      "source": [
        "text_prep = text_prep.apply(removeHashTags)"
      ]
    },
    {
      "cell_type": "markdown",
      "metadata": {
        "id": "NVdXWZOyGP02"
      },
      "source": [
        "Alcuni messaggi sono composti soltanto da menzioni\n",
        "o semplici hashtag, per cui facciamo una veloce pulizia prima di procedere\n",
        "(al contrario, alcuni messaggi non verrebbero processati dal tokenizer, causando degli errori)"
      ]
    },
    {
      "cell_type": "code",
      "execution_count": null,
      "metadata": {
        "id": "K5WsMnEsGP02"
      },
      "outputs": [],
      "source": [
        "for i in range(len(text_prep)):\n",
        "    if(len(text_prep[i]) == 0):\n",
        "        text_prep.drop(i, axis=0, inplace=True)\n",
        "        emotions_prep.drop(i, axis=0, inplace=True)"
      ]
    },
    {
      "cell_type": "markdown",
      "metadata": {
        "id": "KAwUVz1cGP02"
      },
      "source": [
        "Prima di procedere alla classificazione vera e propria, dobbiamo adattare il tokenizer alla presenza delle emoji nel testo, elemento importante per l'interpretazione dei messaggi.\n",
        "\n",
        "Facciamo quindi una ricerca di emoji ed emoticons presenti e aggiungiamole al tokenizer tramite la funzione add_tokens(), per poi fare un resize del modello e completare questo step."
      ]
    },
    {
      "cell_type": "code",
      "execution_count": null,
      "metadata": {
        "colab": {
          "base_uri": "https://localhost:8080/"
        },
        "id": "l6XxfhurGP02",
        "outputId": "ad5ffa3f-7d38-492e-86b6-e945479dd7b5"
      },
      "outputs": [
        {
          "output_type": "stream",
          "name": "stderr",
          "text": [
            "/usr/lib/python3.10/multiprocessing/popen_fork.py:66: RuntimeWarning: os.fork() was called. os.fork() is incompatible with multithreaded code, and JAX is multithreaded, so this will likely lead to a deadlock.\n",
            "  self.pid = os.fork()\n"
          ]
        }
      ],
      "source": [
        "bulk_emoji = emot.bulk_emoji(text_prep)\n",
        "\n",
        "unique_emoji = []\n",
        "\n",
        "for i in range(len(bulk_emoji)):\n",
        "    res = bulk_emoji[i]\n",
        "    if res['flag']:\n",
        "        unique_emoji.extend(res['value'])\n",
        "\n",
        "unique_emoji = list(set(unique_emoji))\n",
        "\n",
        "emoji_to_add = set(unique_emoji) - set(tokenizer.vocab.keys())"
      ]
    },
    {
      "cell_type": "code",
      "execution_count": null,
      "metadata": {
        "id": "jAftr0dYGP02"
      },
      "outputs": [],
      "source": [
        "bulk_emoticons = emot.bulk_emoticons(text_prep)\n",
        "\n",
        "unique_emoticons = []\n",
        "\n",
        "for i in range(len(bulk_emoticons)):\n",
        "    res = bulk_emoticons[i]\n",
        "    if res['flag']:\n",
        "        unique_emoticons.extend(res['value'])\n",
        "\n",
        "unique_emoticons = list(set(unique_emoticons))\n",
        "\n",
        "emoticons_to_add = set(unique_emoticons) - set(tokenizer.vocab.keys())"
      ]
    },
    {
      "cell_type": "code",
      "execution_count": null,
      "metadata": {
        "id": "Zl0rvKtDGP02"
      },
      "outputs": [],
      "source": [
        "new_tokens = []\n",
        "new_tokens.extend(emoji_to_add)\n",
        "new_tokens.extend(emoticons_to_add)"
      ]
    },
    {
      "cell_type": "code",
      "execution_count": null,
      "metadata": {
        "colab": {
          "base_uri": "https://localhost:8080/"
        },
        "id": "ev9tp0KdGP02",
        "outputId": "0de0c7da-afc2-49a4-fae0-e691d22491a2"
      },
      "outputs": [
        {
          "output_type": "stream",
          "name": "stdout",
          "text": [
            "Adding: 261 emoji/emoticons\n"
          ]
        }
      ],
      "source": [
        "print(f\"Adding: {len(new_tokens)} emoji/emoticons\")"
      ]
    },
    {
      "cell_type": "code",
      "execution_count": null,
      "metadata": {
        "colab": {
          "base_uri": "https://localhost:8080/"
        },
        "id": "-qKkG4XsGP03",
        "outputId": "2138ff21-855d-409e-d974-30c67f2d7684"
      },
      "outputs": [
        {
          "output_type": "execute_result",
          "data": {
            "text/plain": [
              "Embedding(119808, 768)"
            ]
          },
          "metadata": {},
          "execution_count": 57
        }
      ],
      "source": [
        "tokenizer.add_tokens(list(new_tokens))\n",
        "model.resize_token_embeddings(len(tokenizer))"
      ]
    },
    {
      "cell_type": "markdown",
      "metadata": {
        "id": "tNGGSYDWGP03"
      },
      "source": [
        "Vediamo adesso di stabilire brevemente una lunghezza massima in parole dei messaggi.\n",
        "\n",
        "Possiamo vedere come la stragrande maggioranza dei messaggi abbia una lunghezza inferiore a 25-30 parole, per cui useremo 30 come tetto massimo."
      ]
    },
    {
      "cell_type": "code",
      "execution_count": null,
      "metadata": {
        "colab": {
          "base_uri": "https://localhost:8080/",
          "height": 430
        },
        "id": "0yTS6gYqGP03",
        "outputId": "3e300426-c461-4a7f-b81d-3119eaa7f1de"
      },
      "outputs": [
        {
          "output_type": "display_data",
          "data": {
            "text/plain": [
              "<Figure size 640x480 with 1 Axes>"
            ],
            "image/png": "[encoded data removed]"
          },
          "metadata": {}
        }
      ],
      "source": [
        "plt.hist([len(t.split(' ')) for t in text_prep])\n",
        "MAX_LEN = 30"
      ]
    },
    {
      "cell_type": "markdown",
      "metadata": {
        "id": "nwtmqXHiGP03"
      },
      "source": [
        "Vediamo come appare il testo dei messaggi dopo questa operazione di pulizia"
      ]
    },
    {
      "cell_type": "code",
      "execution_count": null,
      "metadata": {
        "colab": {
          "base_uri": "https://localhost:8080/"
        },
        "id": "P3Ru52UCGP03",
        "outputId": "a444fc76-4f27-466f-bd7b-d516bed4c892"
      },
      "outputs": [
        {
          "output_type": "stream",
          "name": "stdout",
          "text": [
            "@user Appunto Maurizio 😁 e i loro marchio di fabbrica 😉 \n",
            " Appunto Maurizio 😁 marchio fabbrica 😉\n"
          ]
        }
      ],
      "source": [
        "print(text[5], '\\n',text_prep[5])"
      ]
    },
    {
      "cell_type": "markdown",
      "metadata": {
        "id": "mhzrmJWZGP03"
      },
      "source": [
        "### Task A: Classificazione\n",
        "\n",
        "Arrivati a questo punto, dobbiamo per prima cosa addestrare il nostro classificatore per il task che dovrà svolgere.\n",
        "\n",
        "La struttura adottata sarà composta da un BTE (Bidirectional Transformer Encoder) per l'encoding degli embeddings generati dal tokenizer.\n",
        "A questa base aggiungiamo un layer dense e infine una sigmoide che ci permette di fare la classificazione multi-label richiesta.\n",
        "\n",
        "Procediamo a passare tutti i dati etichettati al nostro classificatore.\n",
        "\n",
        "Sfruttiamo, se possibile, l'architettura CUDA."
      ]
    },
    {
      "cell_type": "code",
      "execution_count": null,
      "metadata": {
        "colab": {
          "base_uri": "https://localhost:8080/"
        },
        "id": "x9qcMwvOGP03",
        "outputId": "d121fc96-6130-470c-e1e1-c7e453ca561d"
      },
      "outputs": [
        {
          "output_type": "stream",
          "name": "stdout",
          "text": [
            "Using cuda device\n"
          ]
        }
      ],
      "source": [
        "device = (\"cpu\")\n",
        "\n",
        "if torch.cuda.is_available():\n",
        "    torch.cuda.empty_cache()\n",
        "    device = (\"cuda\")\n",
        "\n",
        "print(f\"Using {device} device\")"
      ]
    },
    {
      "cell_type": "markdown",
      "metadata": {
        "id": "ik-90b5DGP03"
      },
      "source": [
        "Definiamo in anticipo la struttura del nostro dataset sfruttando le API di Pytorch: trasformeremo infatti i nostri dataset attraverso un dataloader, classe che ci permette di dividere in batch i nostri dati durante l'addestramento."
      ]
    },
    {
      "cell_type": "code",
      "execution_count": null,
      "metadata": {
        "id": "CLwhgn97GP03"
      },
      "outputs": [],
      "source": [
        "# inputs: testi dei messaggi\n",
        "# labels: target relativo alle reali emozioni espresse dal messaggio, es. [0, 0, 1, 0...]\n",
        "# tokenizer: il tokenizer a cui abbiamo aggiunto le emoji precedentemente\n",
        "# MAX_LEN: lunghezza massima oltre il quale il tokenizer effettuerà un truncate sui messaggi\n",
        "\n",
        "class _Dataset(Dataset):\n",
        "    def __init__(self, inputs, labels, tokenizer, MAX_LEN, transform=None):\n",
        "        self.transform = transform\n",
        "        self.inputs = inputs\n",
        "        self.labels = [torch.tensor(l) for l in labels]\n",
        "        self.tokenizer = tokenizer\n",
        "        self.MAX_LEN = MAX_LEN\n",
        "\n",
        "    def __len__(self):\n",
        "        return len(self.inputs)\n",
        "\n",
        "    # Estraiamo tramite tokenizer gli id dell'input da passare al modello\n",
        "    # Dobbiamo infatti lavorare con gli embeddings per\n",
        "    # poter classificare il nostro testo\n",
        "\n",
        "    def __getitem__(self, idx):\n",
        "        inputs = tokenizer(self.inputs.iloc[idx], add_special_tokens=True,\n",
        "                            return_tensors='pt', padding='max_length',\n",
        "                            max_length = self.MAX_LEN, truncation=True)\n",
        "        labels = self.labels[idx]\n",
        "        return {\n",
        "            'ids': inputs['input_ids'],\n",
        "            'mask': inputs['attention_mask'],\n",
        "            'token_type_ids': inputs['token_type_ids'],\n",
        "            'labels': labels\n",
        "        }"
      ]
    },
    {
      "cell_type": "markdown",
      "metadata": {
        "id": "wQ65Ke8uGP04"
      },
      "source": [
        "Andiamo adesso a definire la struttura del nostro classificatore, che possiamo dividere in due macro blocchi:\n",
        "- blocco BERT-like che gestisce l'input (ovvero i dati testuali tokenizzati)\n",
        "- blocco di classificazione multi-classe multi-label (principalmente un layer dense e una sigmoide in uscita)\n",
        "\n",
        "Ci interessa in particolare andare a recuperare l'ultimo strato nascosto del blocco BERT-like in modo da passarlo al classificatore e ottenere le logits."
      ]
    },
    {
      "cell_type": "code",
      "execution_count": null,
      "metadata": {
        "id": "DdHnB4hSGP04"
      },
      "outputs": [],
      "source": [
        "\n",
        "\n",
        "class BTEClassifier(nn.Module):\n",
        "    def __init__(self, dropout, num_classes, bte):\n",
        "        super(BTEClassifier, self).__init__()\n",
        "        self.bte = bte # Blocco BTE - Bidirectional Transformer Encoder\n",
        "        self.classifier = nn.Sequential(\n",
        "            nn.Dropout(dropout), # Layer di dropout,\n",
        "            nn.Linear(768, num_classes), # Layer dense su cui fare fine tuning\n",
        "            nn.Sigmoid()\n",
        "        )\n",
        "\n",
        "    def forward(self, ids, mask, token_type_ids):\n",
        "        output = self.bte(ids, attention_mask = mask, token_type_ids = token_type_ids).last_hidden_state\n",
        "        output = output[:,0,:]\n",
        "        output = self.classifier(output)\n",
        "        return output"
      ]
    },
    {
      "cell_type": "markdown",
      "metadata": {
        "id": "Ks3uvdvzGP04"
      },
      "source": [
        "E' stato scelto di implementare un piccolo meccanismo di early stopping per l'addestramento in modo da velocizzare il processo e non sprecare inutilmente tempo su configurazioni non particolarmente proficue di iperparametri della rete.\n",
        "\n",
        "E' stato poi impostato con un livello di pazienza molto sensibile e un delta ragionevolmente alto in base ai risultati osservati (ovvero generalmente una minimizzazione della loss lenta) e a causa dei rallentamenti osservati con il procedere dell'addestramento."
      ]
    },
    {
      "cell_type": "code",
      "execution_count": null,
      "metadata": {
        "id": "s-G5QwqwGP04"
      },
      "outputs": [],
      "source": [
        "class EarlyStopper:\n",
        "    def __init__(self, patience=1, min_delta=0):\n",
        "        self.patience = patience\n",
        "        self.min_delta = min_delta\n",
        "        self.counter = 0\n",
        "        self.min_validation_loss = float('inf')\n",
        "\n",
        "    # Ad ogni epoca, se non è stato osservato un miglioramento vero e proprio per più di n epoche\n",
        "    # (dove n = patience dell'early stopper) verrà interrotto l'addestramento di quel modello\n",
        "\n",
        "    def early_stop(self, validation_loss):\n",
        "        if validation_loss < self.min_validation_loss:\n",
        "            self.min_validation_loss = validation_loss\n",
        "            self.counter = 0\n",
        "        elif validation_loss > (self.min_validation_loss + self.min_delta):\n",
        "            self.counter += 1\n",
        "            if self.counter >= self.patience:\n",
        "                return True\n",
        "        return False"
      ]
    },
    {
      "cell_type": "markdown",
      "metadata": {
        "id": "-t8AqLnbGP04"
      },
      "source": [
        "Vediamo adesso il loop di addestramento, dal momento che andremo a fare fine tuning del modello per adattarlo ai nostri dati:\n",
        "- segnaliamo a pytorch l'inizio dell'addestramento tramite invocazione del metodo _.train()_\n",
        "- calcoliamo la loss sui risultati ottenuti tramite Binary Cross-Entropy\n",
        "- aggiornamento del gradiente trmaite funzione _.backward()_\n",
        "- tramite optimizer (Adam nel nostro caso) faccio un singolo step di ottimizzazione (_.step()_)\n",
        "- aggiorno la loss e l'accuracy dell'epoca (quest'ultima misurata tramite la MultiLabelAccuracy da Pytorch) e ripeto"
      ]
    },
    {
      "cell_type": "code",
      "execution_count": null,
      "metadata": {
        "id": "KKlbEpGKGP04"
      },
      "outputs": [],
      "source": [
        "def train(model, dataloader, loss, accuracy, optimizer, device):\n",
        "    model.train()\n",
        "\n",
        "    epoch_acc = 0\n",
        "    epoch_loss = 0\n",
        "\n",
        "    for d in dataloader:\n",
        "        (ids, mask, token_type_ids, labels_) = d.values()\n",
        "\n",
        "        optimizer.zero_grad()\n",
        "\n",
        "        input_ids = ids.squeeze(1).to(device)\n",
        "        input_mask = mask.squeeze(1).to(device)\n",
        "        input_token_type_ids = token_type_ids.squeeze(1).to(device)\n",
        "        labels_ = labels_.squeeze(1).to(device).float()\n",
        "\n",
        "        output = model(input_ids, input_mask, input_token_type_ids)\n",
        "\n",
        "        batch_loss = loss(output, labels_)\n",
        "        batch_loss.backward()\n",
        "        optimizer.step()\n",
        "\n",
        "        epoch_loss += batch_loss.item()\n",
        "        epoch_acc += accuracy(output, labels_).item()\n",
        "\n",
        "        input_ids = input_ids.detach().cpu()\n",
        "        input_mask = input_mask.detach().cpu()\n",
        "        input_token_type_ids = input_token_type_ids.detach().cpu()\n",
        "        labels_ = labels_.detach().cpu()\n",
        "\n",
        "    return epoch_loss/len(dataloader), epoch_acc/len(dataloader)"
      ]
    },
    {
      "cell_type": "markdown",
      "metadata": {
        "id": "yROG_Z-5GP05"
      },
      "source": [
        "Passiamo invece alla fase di valiazione:\n",
        "- informo il modello che siamo in fase di valutazione (_.eval()_) e che non ho necessità di avere informazioni sul gradiente (_.no grad()_)\n",
        "- aggiorno loss e accuracy del modello come in fase di addestramento, e se durante quest'epoca ho raggiunto l'accuracy massima ottenuta fino ad ora, conservo il risultato e i pesi, effettuando un salvataggio dello stato del modello"
      ]
    },
    {
      "cell_type": "code",
      "execution_count": null,
      "metadata": {
        "id": "sEjya2JyGP05"
      },
      "outputs": [],
      "source": [
        "def val(model, dataloader, loss, accuracy, device, best_acc, best_weights):\n",
        "    model.eval()\n",
        "\n",
        "    epoch_acc = 0\n",
        "    epoch_loss = 0\n",
        "\n",
        "    with torch.no_grad():\n",
        "        for d in dataloader:\n",
        "            (ids, mask, token_type_ids, labels_) = d.values()\n",
        "\n",
        "            input_ids = ids.squeeze(1).to(device)\n",
        "            input_mask = mask.squeeze(1).to(device)\n",
        "            input_token_type_ids = token_type_ids.squeeze(1).to(device)\n",
        "            labels_ = labels_.squeeze(1).to(device).float()\n",
        "\n",
        "            output = model(input_ids, input_mask, input_token_type_ids)\n",
        "\n",
        "            batch_loss = loss(output, labels_)\n",
        "            epoch_loss += batch_loss.item()\n",
        "\n",
        "            epoch_acc += accuracy(output, labels_).item()\n",
        "\n",
        "            input_ids = input_ids.detach().cpu()\n",
        "            input_mask = input_mask.detach().cpu()\n",
        "            input_token_type_ids = input_token_type_ids.detach().cpu()\n",
        "            labels_ = labels_.detach().cpu()\n",
        "\n",
        "        acc = float(epoch_acc/len(dataloader))\n",
        "        if acc > best_acc:\n",
        "            best_acc = acc\n",
        "            best_weights = copy.deepcopy(model.state_dict())\n",
        "\n",
        "    return epoch_loss/len(dataloader), epoch_acc/len(dataloader), best_acc, best_weights"
      ]
    },
    {
      "cell_type": "markdown",
      "metadata": {
        "id": "pT-_n4VfGP05"
      },
      "source": [
        "Vediamo adesso il ciclo completo di addestramento:\n",
        "- passaggio dei dataset ai dataloader\n",
        "- per ogni epoca:\n",
        "    - misuro loss e accuracy per quell'epoca\n",
        "    - effettuo la validazione\n",
        "    - faccio un controllo tramite meccanismo di early stopping definito in precedenza\n",
        "    - ripeto fino a incontrare i criteri di early stop o a completamento del loop"
      ]
    },
    {
      "cell_type": "code",
      "execution_count": null,
      "metadata": {
        "id": "msJBdnZlGP06"
      },
      "outputs": [],
      "source": [
        "def evaluate(model, epochs, optimizer, device, train_data, val_data,\n",
        "               batch_size, accuracy, loss, early_stopper):\n",
        "\n",
        "  train_dataloader = DataLoader(train_data, batch_size=batch_size, shuffle=True)\n",
        "  val_dataloader = DataLoader(val_data, batch_size=batch_size)\n",
        "\n",
        "  # liste dei valori di loss e accuracy epoca per epoca per il plot\n",
        "  train_loss = []\n",
        "  val_loss = []\n",
        "\n",
        "  train_acc = []\n",
        "  val_acc = []\n",
        "  best_acc = - np.inf\n",
        "  best_weights = None\n",
        "\n",
        "  # Ciclo di addestramento\n",
        "  for epoch in tqdm(range(1, epochs+1)):\n",
        "    epoch_train_loss, epoch_train_acc = train(model, train_dataloader, loss, accuracy, optimizer, device)\n",
        "    train_loss.append(epoch_train_loss)\n",
        "    train_acc.append(epoch_train_acc)\n",
        "\n",
        "    epoch_val_loss, epoch_val_acc, best_acc, best_weights = val(model, val_dataloader, loss, accuracy, device, best_acc, best_weights)\n",
        "    val_loss.append(epoch_val_loss)\n",
        "    val_acc.append(epoch_val_acc)\n",
        "\n",
        "    if early_stopper.early_stop(epoch_val_loss):\n",
        "      break\n",
        "\n",
        "    print(f\"\\nTrain loss: {epoch_train_loss:6.4f} Val loss: {epoch_val_loss:6.4f}\")\n",
        "    print(f\"Train accuracy: {(epoch_train_acc):6.4f} Val accuracy: {(epoch_val_acc):6.4f}\")\n",
        "\n",
        "  return train_loss, val_loss, train_acc, val_acc, best_acc, best_weights"
      ]
    },
    {
      "cell_type": "markdown",
      "metadata": {
        "id": "jwU_YxqIGP06"
      },
      "source": [
        "L'inferenza sul modello addestrato verrà infine effettuata in questo modo, assegnando una label se la rispettiva logit supera il valore di 0.5 (o equivalentemente il 50% di probabilità)."
      ]
    },
    {
      "cell_type": "code",
      "execution_count": null,
      "metadata": {
        "id": "rtp3c29eGP06"
      },
      "outputs": [],
      "source": [
        "def predict(model, dataset):\n",
        "    dataloader = DataLoader(dataset)\n",
        "    predictions = []\n",
        "\n",
        "    with torch.no_grad():\n",
        "        for d in tqdm(dataloader):\n",
        "            (ids, mask, token_type_ids, labels_) = d.values()\n",
        "\n",
        "            input_ids = ids.squeeze(1).to(device)\n",
        "            input_mask = mask.squeeze(1).to(device)\n",
        "            input_token_type_ids = token_type_ids.squeeze(1).to(device)\n",
        "            labels_ = labels_.squeeze(1).to(device).float()\n",
        "\n",
        "            output = model(input_ids, input_mask, input_token_type_ids)\n",
        "\n",
        "            output = output.squeeze(0).detach().cpu().tolist()\n",
        "            pred = [1 if o > .5 else 0 for o in output]\n",
        "            input_ids= input_ids.detach().cpu()\n",
        "            input_mask = input_mask.detach().cpu()\n",
        "            input_token_type_ids = input_token_type_ids.detach().cpu()\n",
        "            labels_ = labels_.detach().cpu()\n",
        "            predictions.append(pred)\n",
        "\n",
        "    return predictions"
      ]
    },
    {
      "cell_type": "markdown",
      "metadata": {
        "id": "ousspbPPGP06"
      },
      "source": [
        "Come detto in precedenza, è stato usato un approccio simil Randomized Search CV, ovvero:\n",
        "\n",
        "A partire dalla seguente griglia di iperparametri, sono state effettuati in totale 8 addestramenti (4 per i testi preprocessati, 4 per quelli non preprocessati).\n",
        "\n",
        "Per ogni addestramento, sono stati presi casualmente dei parametri (in modo tale ovviamente da non incappare in due addestramenti con gli stessi parametri) e salvati pesi e history dell'addestramento (iperparametri usati, train e validation loss/accuracy nel tempo).\n",
        "\n",
        "I grafici sono stati salvati per non dover ripetere l'addestramento in futuro, così come i file .pt contenenti i pesi.\n",
        "\n",
        "Non è possibile condividere tramite github i pesi a causa delle dimensioni dei singoli file (circa 6-700MB), tuttavia è possibile richiederli e verranno condivisi per eventuali prove e/o miglioramenti."
      ]
    },
    {
      "cell_type": "code",
      "execution_count": null,
      "metadata": {
        "id": "hZfnamgyGP06"
      },
      "outputs": [],
      "source": [
        "hyperparameters = {\n",
        "    'dropout' : [0, 0.1, 0.2],\n",
        "    'batch_size' : [16, 32, 64],\n",
        "    'epochs' : [5, 10, 15, 20, 25, 30],\n",
        "    'lr' : [1e-5, 1e-6],\n",
        "    'max_len' : MAX_LEN,\n",
        "    'num_classes' : 10,\n",
        "}\n",
        "\n",
        "loss = nn.BCELoss()"
      ]
    },
    {
      "cell_type": "code",
      "execution_count": null,
      "metadata": {
        "id": "3dIuofczGP07"
      },
      "outputs": [],
      "source": [
        "X_train, X_val, Y_train, Y_val = train_test_split(text, emotions.to_numpy(), test_size=0.3)\n",
        "train_dataset = _Dataset(X_train, Y_train, tokenizer, hyperparameters['max_len'])\n",
        "val_dataset = _Dataset(X_val, Y_val, tokenizer, hyperparameters['max_len'])\n",
        "\n",
        "X_train_prep, X_val_prep, Y_train_prep, Y_val_prep = train_test_split(text_prep, emotions_prep.to_numpy(), test_size=0.3)\n",
        "train_dataset_prep = _Dataset(X_train_prep, Y_train_prep, tokenizer, hyperparameters['max_len'])\n",
        "val_dataset_prep = _Dataset(X_val_prep, Y_val_prep, tokenizer, hyperparameters['max_len'])"
      ]
    },
    {
      "cell_type": "markdown",
      "metadata": {
        "id": "DFuPPajlGP07"
      },
      "source": [
        "Salviamo i risultati serializzandoli tramite il pacchetto pickle (i file non sono disponbili su github per lo stesso motivo per cui non lo sono i pesi, tuttavia i risultati sono mostrati a seguire tramite grafici)."
      ]
    },
    {
      "cell_type": "code",
      "execution_count": null,
      "metadata": {
        "id": "a_y6UeAaGP07"
      },
      "outputs": [],
      "source": [
        "runs = []\n",
        "n_runs = 4\n",
        "run = None\n",
        "i = 0\n",
        "\n",
        "if not os.path.exists('/content/drive/MyDrive/NLP/task_A/best_weights.pt'):\n",
        "    os.mkdir('/content/drive/MyDrive/NLP/task_A/runs')\n",
        "    while i < n_runs:\n",
        "        if torch.cuda.is_available():\n",
        "            torch.cuda.empty_cache()\n",
        "        accuracy = MultilabelAccuracy(num_labels=10).to(device)\n",
        "\n",
        "        dropout = rand.choice(hyperparameters['dropout'])\n",
        "        lr = rand.choice(hyperparameters['lr'])\n",
        "        epochs = rand.choice(hyperparameters['epochs'])\n",
        "        batch_size = rand.choice(hyperparameters['batch_size'])\n",
        "        run = [dropout, lr, epochs, batch_size]\n",
        "\n",
        "        if run in runs:\n",
        "            continue\n",
        "\n",
        "        i = i + 1\n",
        "\n",
        "        os.mkdir(f'/content/drive/MyDrive/NLP/task_A/runs/{i}')\n",
        "\n",
        "        runs.append(run)\n",
        "\n",
        "        early_stopper = EarlyStopper(patience=1, min_delta=0.008)\n",
        "        classifier = BTEClassifier(dropout, hyperparameters['num_classes'], model).to(device)\n",
        "        optimizer = Adam(classifier.parameters(), lr=lr)\n",
        "\n",
        "        train_loss, val_loss, train_acc, val_acc, best_acc, best_weights = evaluate(\n",
        "            classifier,\n",
        "            epochs,\n",
        "            optimizer,\n",
        "            device,\n",
        "            train_dataset,\n",
        "            val_dataset,\n",
        "            batch_size,\n",
        "            accuracy,\n",
        "            loss,\n",
        "            early_stopper\n",
        "        )\n",
        "\n",
        "        classifier = classifier.cpu()\n",
        "        accuracy = accuracy.cpu()\n",
        "\n",
        "        hist = {\n",
        "              \"epochs\" : epochs,\n",
        "              \"dropout\" : dropout,\n",
        "              \"lr\" : lr,\n",
        "              \"batch_size\" : batch_size,\n",
        "              \"train_loss\" : train_loss,\n",
        "              \"val_loss\" : val_loss,\n",
        "              \"train_acc\" : train_acc,\n",
        "              \"val_acc\" : val_acc,\n",
        "              \"best_acc\" : best_acc\n",
        "        }\n",
        "\n",
        "        torch.save(best_weights, f'/content/drive/MyDrive/NLP/task_A/runs/{i}/weights.pt')\n",
        "        with open(f'/content/drive/MyDrive/NLP/task_A/runs/{i}/hist.pkl', 'wb') as handle:\n",
        "          save = {\n",
        "            \"hist\" : hist,\n",
        "            \"run\" : run\n",
        "          }\n",
        "          pickle.dump(save, handle)\n",
        "          handle.close()"
      ]
    },
    {
      "cell_type": "code",
      "execution_count": null,
      "metadata": {
        "id": "ox5x-cVsGP07"
      },
      "outputs": [],
      "source": [
        "if not os.path.exists('/content/drive/MyDrive/NLP/task_A/train.png'):\n",
        "    fig, (ax) = plt.subplots( nrows=2, ncols=2, figsize=(10, 10))\n",
        "    n_epochs = list(range(0, 22, 2))\n",
        "\n",
        "    for i in range(2):\n",
        "        for j in range(2):\n",
        "            file = open(f'/content/drive/MyDrive/NLP/task_A/runs/{(i * 2) + j + 1}/hist.pkl', 'rb')\n",
        "            r = pickle.load(file)\n",
        "            hist = r['hist']\n",
        "            file.close()\n",
        "            ax[i][j].set_title(f\"Lr:{hist['lr']}, epochs:{hist['epochs']}, \\ndropout:{hist['dropout']}, batch:{hist['batch_size']}\")\n",
        "            ax[i][j].plot(hist['train_loss'], label='training loss')\n",
        "            ax[i][j].plot(hist['val_loss'], label='val loss')\n",
        "            ax[i][j].legend(loc='lower right')\n",
        "            ax[i][j].set_xticks(n_epochs)\n",
        "\n",
        "    plt.show()\n",
        "    fig.savefig('/content/drive/MyDrive/NLP/task_A/train.png')\n",
        "    plt.close(fig)"
      ]
    },
    {
      "cell_type": "markdown",
      "source": [
        "![No preprocess train](https://drive.google.com/uc?id=1-f_sPsrS2iRLIklvD3dj4PEiyalielHu)"
      ],
      "metadata": {
        "id": "SQAQtJgKs18S"
      }
    },
    {
      "cell_type": "markdown",
      "metadata": {
        "id": "AsztE-sZGP07"
      },
      "source": [
        "Facciamo lo stesso ma per i dati preprocessati"
      ]
    },
    {
      "cell_type": "code",
      "execution_count": null,
      "metadata": {
        "id": "TMkuckXuGP07"
      },
      "outputs": [],
      "source": [
        "prep_runs = []\n",
        "prep_run = None\n",
        "i = 0\n",
        "\n",
        "if not os.path.exists('/content/drive/MyDrive/NLP/task_A/prep_runs'):\n",
        "    os.mkdir('/content/drive/MyDrive/NLP/task_A/prep_runs')\n",
        "    while i < n_runs:\n",
        "        if torch.cuda.is_available():\n",
        "            torch.cuda.empty_cache()\n",
        "        accuracy = MultilabelAccuracy(num_labels=10).to(device)\n",
        "\n",
        "        dropout = rand.choice(hyperparameters['dropout'])\n",
        "        lr = rand.choice(hyperparameters['lr'])\n",
        "        epochs = rand.choice(hyperparameters['epochs'])\n",
        "        batch_size = rand.choice(hyperparameters['batch_size'])\n",
        "        prep_run = [dropout, lr, epochs, batch_size]\n",
        "\n",
        "        if prep_run in prep_runs:\n",
        "            continue\n",
        "\n",
        "        i = i + 1\n",
        "\n",
        "        os.mkdir(f'/content/drive/MyDrive/NLP/task_A/prep_runs/{i}')\n",
        "\n",
        "        prep_runs.append(prep_run)\n",
        "\n",
        "        early_stopper = EarlyStopper(patience=1, min_delta=0.008)\n",
        "        classifier = BTEClassifier(dropout, hyperparameters['num_classes'], model).to(device)\n",
        "        optimizer = Adam(classifier.parameters(), lr=lr)\n",
        "\n",
        "        train_loss, val_loss, train_acc, val_acc, best_acc, best_weights = evaluate(\n",
        "            classifier,\n",
        "            epochs,\n",
        "            optimizer,\n",
        "            device,\n",
        "            train_dataset,\n",
        "            val_dataset,\n",
        "            batch_size,\n",
        "            accuracy,\n",
        "            loss,\n",
        "            early_stopper\n",
        "        )\n",
        "\n",
        "        classifier = classifier.cpu()\n",
        "        accuracy = accuracy.cpu()\n",
        "\n",
        "        hist = {\n",
        "              \"epochs\" : epochs,\n",
        "              \"dropout\" : dropout,\n",
        "              \"lr\" : lr,\n",
        "              \"batch_size\" : batch_size,\n",
        "              \"train_loss\" : train_loss,\n",
        "              \"val_loss\" : val_loss,\n",
        "              \"train_acc\" : train_acc,\n",
        "              \"val_acc\" : val_acc,\n",
        "              \"best_acc\" : best_acc\n",
        "        }\n",
        "\n",
        "        torch.save(best_weights, f'/content/drive/MyDrive/NLP/task_A/prep_runs/{i}/weights.pt')\n",
        "        with open(f'/content/drive/MyDrive/NLP/task_A/prep_runs/{i}/hist.pkl', 'wb') as handle:\n",
        "          save = {\n",
        "            \"hist\" : hist,\n",
        "            \"run\" : run\n",
        "          }\n",
        "          pickle.dump(save, handle)\n",
        "          handle.close()"
      ]
    },
    {
      "cell_type": "code",
      "execution_count": null,
      "metadata": {
        "id": "gr0euQgXGP08"
      },
      "outputs": [],
      "source": [
        "if not os.path.exists('/content/drive/MyDrive/NLP/task_A/train_prep.png'):\n",
        "    fig, (ax) = plt.subplots( nrows=2, ncols=2, figsize=(10, 10))\n",
        "    n_epochs = list(range(0, 22, 2))\n",
        "\n",
        "    for i in range(2):\n",
        "        for j in range(2):\n",
        "            file = open(f'/content/drive/MyDrive/NLP/task_A/prep_runs/{(i * 2) + j + 1}/hist.pkl', 'rb')\n",
        "            r = pickle.load(file)\n",
        "            hist = r['hist']\n",
        "            ax[i][j].set_title(f\"Lr:{hist['lr']}, epochs:{hist['epochs']}, \\ndropout:{hist['dropout']}, batch:{hist['batch_size']}\")\n",
        "            ax[i][j].plot(hist['train_loss'], label='training loss')\n",
        "            ax[i][j].plot(hist['val_loss'], label='val loss')\n",
        "            ax[i][j].legend(loc='lower right')\n",
        "            ax[i][j].set_xticks(n_epochs)\n",
        "            file.close()\n",
        "\n",
        "    plt.show()\n",
        "    fig.savefig('/content/drive/MyDrive/NLP/task_A/train_prep.png')\n",
        "    plt.close(fig)"
      ]
    },
    {
      "cell_type": "markdown",
      "source": [
        "![Preprocess train](https://drive.google.com/uc?id=10jq9pShIaNE6JC61cx6Wah5aZUFGUXNw)"
      ],
      "metadata": {
        "id": "3XMhM2aqvKBQ"
      }
    },
    {
      "cell_type": "markdown",
      "metadata": {
        "id": "oU-ahZRJGP08"
      },
      "source": [
        "Procediamo adesso a caricare i dati su cui fare test (sia id che ood)"
      ]
    },
    {
      "cell_type": "code",
      "execution_count": null,
      "metadata": {
        "id": "8HCYKrsJGP08"
      },
      "outputs": [],
      "source": [
        "classes = emotions.columns\n",
        "\n",
        "test = pd.read_csv(\"/content/drive/MyDrive/NLP/release/emit_2023-test-labels/emit_test.csv\")\n",
        "test_prep = test.copy()\n",
        "\n",
        "test_ood = pd.read_csv(\"/content/drive/MyDrive/NLP/release/emit_2023-test-labels/emit_test_ood.csv\")\n",
        "test_ood_prep = test_ood.copy()\n",
        "\n",
        "test.drop([\"Topic\", \"Direction\"], axis=1, inplace=True)\n",
        "test_ood.drop([\"Topic\", \"Direction\"], axis=1, inplace=True)\n",
        "\n",
        "test_prep.drop([\"Topic\", \"Direction\"], axis=1, inplace=True)\n",
        "test_ood_prep.drop([\"Topic\", \"Direction\"], axis=1, inplace=True)\n",
        "\n",
        "test_prep['text'] = test_prep['text'].apply(preprocess).apply(removeHashTags)\n",
        "test_ood_prep['text'] = test_ood_prep['text'].apply(preprocess).apply(removeHashTags)\n",
        "\n",
        "test_prep = test_prep.loc[test_prep['text'].str.len() > 0]\n",
        "test_ood_prep = test_ood_prep.loc[test_ood_prep['text'].str.len() > 0]\n",
        "\n",
        "test_prep_dataset = _Dataset(test_prep['text'], test_prep.drop(['id','text'], axis=1).to_numpy(), tokenizer, hyperparameters['max_len'])\n",
        "test_ood_prep_dataset = _Dataset(test_ood_prep['text'], test_ood_prep.drop(['id','text'], axis=1).to_numpy(), tokenizer, hyperparameters['max_len'])\n",
        "\n",
        "test_dataset = _Dataset(test['text'], test.drop(['id','text'], axis=1).to_numpy(), tokenizer, hyperparameters['max_len'])\n",
        "test_ood_dataset = _Dataset(test_ood['text'], test_ood.drop(['id','text'], axis=1).to_numpy(), tokenizer, hyperparameters['max_len'])"
      ]
    },
    {
      "cell_type": "code",
      "source": [
        "import shutil"
      ],
      "metadata": {
        "id": "Qo4uOitD5QJ5"
      },
      "execution_count": null,
      "outputs": []
    },
    {
      "cell_type": "markdown",
      "metadata": {
        "id": "wI49CrXQGP08"
      },
      "source": [
        "Generiamo per ogni dataset (4 in totali: no prep ood e in-domain, prep ood e in-domain) le nostre predizioni.\n",
        "\n",
        "Su queste poi andremo a valutare i risultati usando come metrica l'F1 score, in particolare impostando la media per ogni dato con il parametro _macro_, ovvero calcoliamo la metrica per ogni label per trovare la media NON pesata (non teniamo conto sbilanciamenti relativi alle label)."
      ]
    },
    {
      "cell_type": "code",
      "execution_count": null,
      "metadata": {
        "id": "Ze-NkavmGP08"
      },
      "outputs": [],
      "source": [
        "if not os.path.exists('/content/drive/MyDrive/NLP/task_A/heatmap.png'):\n",
        "    preds = []\n",
        "    preds_ood = []\n",
        "    for i in range(4):\n",
        "\n",
        "        weights = torch.load(f'/content/drive/MyDrive/NLP/task_A/runs/{i + 1}/weights.pt')\n",
        "\n",
        "        classifier = BTEClassifier(0, hyperparameters['num_classes'], model).to(device)\n",
        "        classifier.load_state_dict(weights)\n",
        "\n",
        "        preds.append(predict(classifier, test_dataset))\n",
        "        preds_ood.append(predict(classifier, test_ood_dataset))\n",
        "\n",
        "    target = test[classes].to_numpy()\n",
        "    target_ood = test_ood[classes].to_numpy()\n",
        "\n",
        "    f1_scores = [f1(pred, target, average='macro') for pred in preds]\n",
        "    f1_ood_scores = [f1(ood_pred, target_ood, average='macro') for ood_pred in preds_ood]\n",
        "\n",
        "    best_index = f1_scores.index(max(f1_scores))\n",
        "\n",
        "    file = open(f'/content/drive/MyDrive/NLP/task_A/runs/{best_index + 1}/hist.pkl', 'rb')\n",
        "    data = pickle.load(file)\n",
        "    best_hyperp = data['hist']\n",
        "    file.close()\n",
        "\n",
        "    best_index_ood = f1_ood_scores.index(max(f1_ood_scores))\n",
        "\n",
        "    file = open(f'/content/drive/MyDrive/NLP/task_A/runs/{best_index_ood + 1}/hist.pkl', 'rb')\n",
        "    data = pickle.load(file)\n",
        "    best_ood_hyperp = data['hist']\n",
        "    file.close()\n",
        "\n",
        "    # Salviamo i risultati migliori ottenuti\n",
        "    # (in termini di f1 score, la stessa metrica usata come evaluation del task in generale di evalita)\n",
        "\n",
        "    if not os.path.exists('/content/drive/MyDrive/NLP/task_A/best_weights.pt'):\n",
        "        shutil.copyfile(f'/content/drive/MyDrive/NLP/task_A/runs/{best_index + 1}/weights.pt', '/content/drive/MyDrive/NLP/task_A/best_weights.pt')\n",
        "        shutil.copyfile(f'/content/drive/MyDrive/NLP/task_A/runs/{best_index_ood + 1}/weights.pt', '/content/drive/MyDrive/NLP/task_A/best_ood_weights.pt')\n",
        "\n",
        "    # Generiamo le heatmap tramite seaborn dopo aver generato il report di classificazione\n",
        "    # usiamo classification_report da sklearn\n",
        "\n",
        "    fig, ax = plt.subplots(nrows=2, figsize=(10, 10))\n",
        "\n",
        "    ax[0].set_title('In domain')\n",
        "    ax[1].set_title('OOD')\n",
        "    report = cr(preds[best_index], target, target_names=classes, output_dict=True)\n",
        "    report_ood = cr(preds_ood[best_index], target, target_names=classes, output_dict=True)\n",
        "    sns.heatmap(pd.DataFrame(report).iloc[:-1, :].T, annot=True, ax=ax[0]).get_figure()\n",
        "    sns.heatmap(pd.DataFrame(report_ood).iloc[:-1, :].T, annot=True, ax=ax[1]).get_figure()\n",
        "    fig.savefig('/content/drive/MyDrive/NLP/task_A/heatmap.png')\n",
        "\n",
        "    recap = open(\"/content/drive/MyDrive/NLP/task_A/recap.csv\", \"w\")\n",
        "    txt = [\n",
        "        \"lr,epochs,batch_size,dropout,ood,f1-score\",\n",
        "        f\"{best_hyperp['lr']},{best_hyperp['epochs']},{best_hyperp['batch_size']},{best_hyperp['dropout']},False,{max(f1_scores)}\",\n",
        "        f\"{best_ood_hyperp['lr']},{best_ood_hyperp['epochs']},{best_ood_hyperp['batch_size']}, {best_ood_hyperp['dropout']},True,{max(f1_ood_scores)}\"\n",
        "    ]\n",
        "    recap.write(\"\\n\".join(txt))\n",
        "    recap.close()"
      ]
    },
    {
      "cell_type": "markdown",
      "source": [
        "![No preprocess heatmap](https://drive.google.com/uc?id=11-pCtFeLMspG9QpULR2YMhUK8wtpAO3S)"
      ],
      "metadata": {
        "id": "PS39IS2Pv4H1"
      }
    },
    {
      "cell_type": "code",
      "execution_count": null,
      "metadata": {
        "id": "VqNdBW1UGP08"
      },
      "outputs": [],
      "source": [
        "if not os.path.exists('heatmap_prep.png'):\n",
        "    preds_prep = []\n",
        "    preds_ood_prep = []\n",
        "    for i in range(4):\n",
        "\n",
        "        weights = torch.load(f'/content/drive/MyDrive/NLP/task_A/prep_runs/{i + 1}/weights.pt')\n",
        "\n",
        "        classifier = BTEClassifier(0, hyperparameters['num_classes'], model).to(device)\n",
        "        classifier.load_state_dict(weights)\n",
        "\n",
        "        preds_prep.append(predict(classifier, test_prep_dataset))\n",
        "        preds_ood_prep.append(predict(classifier, test_ood_prep_dataset))\n",
        "\n",
        "    target_prep = test_prep[classes].to_numpy()\n",
        "    target_prep_ood = test_ood_prep[classes].to_numpy()\n",
        "\n",
        "    f1_prep_scores = [f1(pred_prep, target_prep, average='macro') for pred_prep in preds_prep]\n",
        "    f1_prep_ood_scores = [f1(ood_prep_pred, target_prep_ood, average='macro') for ood_prep_pred in preds_ood_prep]\n",
        "\n",
        "    best_prep_index = f1_prep_scores.index(max(f1_prep_scores))\n",
        "    best_prep_index_ood = f1_prep_ood_scores.index(max(f1_prep_ood_scores))\n",
        "\n",
        "    file = open(f'/content/drive/MyDrive/NLP/task_A/prep_runs/{best_prep_index + 1}/hist.pkl', 'rb')\n",
        "    data = pickle.load(file)\n",
        "    best_prep_hyperp = data['hist']\n",
        "    file.close()\n",
        "\n",
        "    file = open(f'/content/drive/MyDrive/NLP/task_A/prep_runs/{best_prep_index_ood + 1}/hist.pkl', 'rb')\n",
        "    data = pickle.load(file)\n",
        "    best_prep_ood_hyperp = data['hist']\n",
        "    file.close()\n",
        "\n",
        "    if not os.path.exists('/content/drive/MyDrive/NLP/task_A/best_prep_weights.pt'):\n",
        "        shutil.copyfile(f'/content/drive/MyDrive/NLP/task_A/prep_runs/{best_prep_index + 1}/weights.pt', '/content/drive/MyDrive/NLP/task_A/best_prep_weights.pt')\n",
        "        shutil.copyfile(f'/content/drive/MyDrive/NLP/task_A/prep_runs/{best_prep_index_ood + 1}/weights.pt', '/content/drive/MyDrive/NLP/task_A/best_prep_ood_weights.pt')\n",
        "    fig, ax = plt.subplots(nrows=2, figsize=(10, 10))\n",
        "\n",
        "    ax[0].set_title('In domain')\n",
        "    ax[1].set_title('OOD')\n",
        "    report_prep = cr(preds_prep[best_prep_index], target_prep, target_names=classes, output_dict=True)\n",
        "    report_ood_prep = cr(preds_ood_prep[best_prep_index], target_prep, target_names=classes, output_dict=True)\n",
        "    sns.heatmap(pd.DataFrame(report_prep).iloc[:-1, :].T, annot=True, ax=ax[0]).get_figure()\n",
        "    sns.heatmap(pd.DataFrame(report_ood_prep).iloc[:-1, :].T, annot=True, ax=ax[1]).get_figure()\n",
        "    fig.savefig('/content/drive/MyDrive/NLP/task_A/heatmap.png')\n",
        "\n",
        "    recap = open(\"/content/drive/MyDrive/NLP/task_A/recap_prep.csv\", \"w\")\n",
        "    txt = [\n",
        "        \"lr,epochs,batch_size,dropout,ood,f1-score\",\n",
        "        f\"{best_prep_hyperp['lr']},{best_prep_hyperp['epochs']},{best_prep_hyperp['batch_size']},{best_prep_hyperp['dropout']},False,{max(f1_prep_scores)}\",\n",
        "        f\"{best_prep_ood_hyperp['lr']},{best_prep_ood_hyperp['epochs']},{best_prep_ood_hyperp['batch_size']}, {best_prep_ood_hyperp['dropout']},True,{max(f1_prep_ood_scores)}\"\n",
        "    ]\n",
        "    recap.write(\"\\n\".join(txt))\n",
        "    recap.close()"
      ]
    },
    {
      "cell_type": "markdown",
      "source": [
        "![Preprocess heatmap](https://drive.google.com/uc?id=11Yud-dDbbhVpNsQypTobZ1TSLZJigoEr)"
      ],
      "metadata": {
        "id": "ahiFCEyZvase"
      }
    },
    {
      "cell_type": "markdown",
      "metadata": {
        "id": "XS6kJAIQGP09"
      },
      "source": [
        "Salviamo infine un veloce recap dei migliori risultati ottenuti in dei file _.txt_"
      ]
    },
    {
      "cell_type": "code",
      "execution_count": null,
      "metadata": {
        "id": "66iNcvgnGP09"
      },
      "outputs": [],
      "source": [
        "def scientificNotation(x):\n",
        "    return '{:.0e}'.format(float(str(x).rstrip('0')))\n",
        "\n",
        "def truncateFloat(x):\n",
        "    return '%.2f'%(x)"
      ]
    },
    {
      "cell_type": "code",
      "execution_count": null,
      "metadata": {
        "id": "C-1qxcCUGP09",
        "colab": {
          "base_uri": "https://localhost:8080/",
          "height": 112
        },
        "outputId": "81d68d5b-f0cb-4cf3-878f-31aa654d2c93"
      },
      "outputs": [
        {
          "output_type": "execute_result",
          "data": {
            "text/plain": [
              "      lr  epochs  batch_size  dropout    ood f1-score\n",
              "0  1e-05      10          16        0  False     0.29\n",
              "1  1e-05      10          16        0   True     0.29"
            ],
            "text/html": [
              "\n",
              "  <div id=\"df-05efdc3b-eab0-41d4-8d9f-a365c4d0a86a\" class=\"colab-df-container\">\n",
              "    <div>\n",
              "<style scoped>\n",
              "    .dataframe tbody tr th:only-of-type {\n",
              "        vertical-align: middle;\n",
              "    }\n",
              "\n",
              "    .dataframe tbody tr th {\n",
              "        vertical-align: top;\n",
              "    }\n",
              "\n",
              "    .dataframe thead th {\n",
              "        text-align: right;\n",
              "    }\n",
              "</style>\n",
              "<table border=\"1\" class=\"dataframe\">\n",
              "  <thead>\n",
              "    <tr style=\"text-align: right;\">\n",
              "      <th></th>\n",
              "      <th>lr</th>\n",
              "      <th>epochs</th>\n",
              "      <th>batch_size</th>\n",
              "      <th>dropout</th>\n",
              "      <th>ood</th>\n",
              "      <th>f1-score</th>\n",
              "    </tr>\n",
              "  </thead>\n",
              "  <tbody>\n",
              "    <tr>\n",
              "      <th>0</th>\n",
              "      <td>1e-05</td>\n",
              "      <td>10</td>\n",
              "      <td>16</td>\n",
              "      <td>0</td>\n",
              "      <td>False</td>\n",
              "      <td>0.29</td>\n",
              "    </tr>\n",
              "    <tr>\n",
              "      <th>1</th>\n",
              "      <td>1e-05</td>\n",
              "      <td>10</td>\n",
              "      <td>16</td>\n",
              "      <td>0</td>\n",
              "      <td>True</td>\n",
              "      <td>0.29</td>\n",
              "    </tr>\n",
              "  </tbody>\n",
              "</table>\n",
              "</div>\n",
              "    <div class=\"colab-df-buttons\">\n",
              "\n",
              "  <div class=\"colab-df-container\">\n",
              "    <button class=\"colab-df-convert\" onclick=\"convertToInteractive('df-05efdc3b-eab0-41d4-8d9f-a365c4d0a86a')\"\n",
              "            title=\"Convert this dataframe to an interactive table.\"\n",
              "            style=\"display:none;\">\n",
              "\n",
              "  <svg xmlns=\"http://www.w3.org/2000/svg\" height=\"24px\" viewBox=\"0 -960 960 960\">\n",
              "    <path d=\"M120-120v-720h720v720H120Zm60-500h600v-160H180v160Zm220 220h160v-160H400v160Zm0 220h160v-160H400v160ZM180-400h160v-160H180v160Zm440 0h160v-160H620v160ZM180-180h160v-160H180v160Zm440 0h160v-160H620v160Z\"/>\n",
              "  </svg>\n",
              "    </button>\n",
              "\n",
              "  <style>\n",
              "    .colab-df-container {\n",
              "      display:flex;\n",
              "      gap: 12px;\n",
              "    }\n",
              "\n",
              "    .colab-df-convert {\n",
              "      background-color: #E8F0FE;\n",
              "      border: none;\n",
              "      border-radius: 50%;\n",
              "      cursor: pointer;\n",
              "      display: none;\n",
              "      fill: #1967D2;\n",
              "      height: 32px;\n",
              "      padding: 0 0 0 0;\n",
              "      width: 32px;\n",
              "    }\n",
              "\n",
              "    .colab-df-convert:hover {\n",
              "      background-color: #E2EBFA;\n",
              "      box-shadow: 0px 1px 2px rgba(60, 64, 67, 0.3), 0px 1px 3px 1px rgba(60, 64, 67, 0.15);\n",
              "      fill: #174EA6;\n",
              "    }\n",
              "\n",
              "    .colab-df-buttons div {\n",
              "      margin-bottom: 4px;\n",
              "    }\n",
              "\n",
              "    [theme=dark] .colab-df-convert {\n",
              "      background-color: #3B4455;\n",
              "      fill: #D2E3FC;\n",
              "    }\n",
              "\n",
              "    [theme=dark] .colab-df-convert:hover {\n",
              "      background-color: #434B5C;\n",
              "      box-shadow: 0px 1px 3px 1px rgba(0, 0, 0, 0.15);\n",
              "      filter: drop-shadow(0px 1px 2px rgba(0, 0, 0, 0.3));\n",
              "      fill: #FFFFFF;\n",
              "    }\n",
              "  </style>\n",
              "\n",
              "    <script>\n",
              "      const buttonEl =\n",
              "        document.querySelector('#df-05efdc3b-eab0-41d4-8d9f-a365c4d0a86a button.colab-df-convert');\n",
              "      buttonEl.style.display =\n",
              "        google.colab.kernel.accessAllowed ? 'block' : 'none';\n",
              "\n",
              "      async function convertToInteractive(key) {\n",
              "        const element = document.querySelector('#df-05efdc3b-eab0-41d4-8d9f-a365c4d0a86a');\n",
              "        const dataTable =\n",
              "          await google.colab.kernel.invokeFunction('convertToInteractive',\n",
              "                                                    [key], {});\n",
              "        if (!dataTable) return;\n",
              "\n",
              "        const docLinkHtml = 'Like what you see? Visit the ' +\n",
              "          '<a target=\"_blank\" href=https://colab.research.google.com/notebooks/data_table.ipynb>data table notebook</a>'\n",
              "          + ' to learn more about interactive tables.';\n",
              "        element.innerHTML = '';\n",
              "        dataTable['output_type'] = 'display_data';\n",
              "        await google.colab.output.renderOutput(dataTable, element);\n",
              "        const docLink = document.createElement('div');\n",
              "        docLink.innerHTML = docLinkHtml;\n",
              "        element.appendChild(docLink);\n",
              "      }\n",
              "    </script>\n",
              "  </div>\n",
              "\n",
              "\n",
              "<div id=\"df-345a4cef-a854-47ba-86c7-32c3deee18bd\">\n",
              "  <button class=\"colab-df-quickchart\" onclick=\"quickchart('df-345a4cef-a854-47ba-86c7-32c3deee18bd')\"\n",
              "            title=\"Suggest charts\"\n",
              "            style=\"display:none;\">\n",
              "\n",
              "<svg xmlns=\"http://www.w3.org/2000/svg\" height=\"24px\"viewBox=\"0 0 24 24\"\n",
              "     width=\"24px\">\n",
              "    <g>\n",
              "        <path d=\"M19 3H5c-1.1 0-2 .9-2 2v14c0 1.1.9 2 2 2h14c1.1 0 2-.9 2-2V5c0-1.1-.9-2-2-2zM9 17H7v-7h2v7zm4 0h-2V7h2v10zm4 0h-2v-4h2v4z\"/>\n",
              "    </g>\n",
              "</svg>\n",
              "  </button>\n",
              "\n",
              "<style>\n",
              "  .colab-df-quickchart {\n",
              "      --bg-color: #E8F0FE;\n",
              "      --fill-color: #1967D2;\n",
              "      --hover-bg-color: #E2EBFA;\n",
              "      --hover-fill-color: #174EA6;\n",
              "      --disabled-fill-color: #AAA;\n",
              "      --disabled-bg-color: #DDD;\n",
              "  }\n",
              "\n",
              "  [theme=dark] .colab-df-quickchart {\n",
              "      --bg-color: #3B4455;\n",
              "      --fill-color: #D2E3FC;\n",
              "      --hover-bg-color: #434B5C;\n",
              "      --hover-fill-color: #FFFFFF;\n",
              "      --disabled-bg-color: #3B4455;\n",
              "      --disabled-fill-color: #666;\n",
              "  }\n",
              "\n",
              "  .colab-df-quickchart {\n",
              "    background-color: var(--bg-color);\n",
              "    border: none;\n",
              "    border-radius: 50%;\n",
              "    cursor: pointer;\n",
              "    display: none;\n",
              "    fill: var(--fill-color);\n",
              "    height: 32px;\n",
              "    padding: 0;\n",
              "    width: 32px;\n",
              "  }\n",
              "\n",
              "  .colab-df-quickchart:hover {\n",
              "    background-color: var(--hover-bg-color);\n",
              "    box-shadow: 0 1px 2px rgba(60, 64, 67, 0.3), 0 1px 3px 1px rgba(60, 64, 67, 0.15);\n",
              "    fill: var(--button-hover-fill-color);\n",
              "  }\n",
              "\n",
              "  .colab-df-quickchart-complete:disabled,\n",
              "  .colab-df-quickchart-complete:disabled:hover {\n",
              "    background-color: var(--disabled-bg-color);\n",
              "    fill: var(--disabled-fill-color);\n",
              "    box-shadow: none;\n",
              "  }\n",
              "\n",
              "  .colab-df-spinner {\n",
              "    border: 2px solid var(--fill-color);\n",
              "    border-color: transparent;\n",
              "    border-bottom-color: var(--fill-color);\n",
              "    animation:\n",
              "      spin 1s steps(1) infinite;\n",
              "  }\n",
              "\n",
              "  @keyframes spin {\n",
              "    0% {\n",
              "      border-color: transparent;\n",
              "      border-bottom-color: var(--fill-color);\n",
              "      border-left-color: var(--fill-color);\n",
              "    }\n",
              "    20% {\n",
              "      border-color: transparent;\n",
              "      border-left-color: var(--fill-color);\n",
              "      border-top-color: var(--fill-color);\n",
              "    }\n",
              "    30% {\n",
              "      border-color: transparent;\n",
              "      border-left-color: var(--fill-color);\n",
              "      border-top-color: var(--fill-color);\n",
              "      border-right-color: var(--fill-color);\n",
              "    }\n",
              "    40% {\n",
              "      border-color: transparent;\n",
              "      border-right-color: var(--fill-color);\n",
              "      border-top-color: var(--fill-color);\n",
              "    }\n",
              "    60% {\n",
              "      border-color: transparent;\n",
              "      border-right-color: var(--fill-color);\n",
              "    }\n",
              "    80% {\n",
              "      border-color: transparent;\n",
              "      border-right-color: var(--fill-color);\n",
              "      border-bottom-color: var(--fill-color);\n",
              "    }\n",
              "    90% {\n",
              "      border-color: transparent;\n",
              "      border-bottom-color: var(--fill-color);\n",
              "    }\n",
              "  }\n",
              "</style>\n",
              "\n",
              "  <script>\n",
              "    async function quickchart(key) {\n",
              "      const quickchartButtonEl =\n",
              "        document.querySelector('#' + key + ' button');\n",
              "      quickchartButtonEl.disabled = true;  // To prevent multiple clicks.\n",
              "      quickchartButtonEl.classList.add('colab-df-spinner');\n",
              "      try {\n",
              "        const charts = await google.colab.kernel.invokeFunction(\n",
              "            'suggestCharts', [key], {});\n",
              "      } catch (error) {\n",
              "        console.error('Error during call to suggestCharts:', error);\n",
              "      }\n",
              "      quickchartButtonEl.classList.remove('colab-df-spinner');\n",
              "      quickchartButtonEl.classList.add('colab-df-quickchart-complete');\n",
              "    }\n",
              "    (() => {\n",
              "      let quickchartButtonEl =\n",
              "        document.querySelector('#df-345a4cef-a854-47ba-86c7-32c3deee18bd button');\n",
              "      quickchartButtonEl.style.display =\n",
              "        google.colab.kernel.accessAllowed ? 'block' : 'none';\n",
              "    })();\n",
              "  </script>\n",
              "</div>\n",
              "    </div>\n",
              "  </div>\n"
            ],
            "application/vnd.google.colaboratory.intrinsic+json": {
              "type": "dataframe",
              "variable_name": "recap_csv",
              "summary": "{\n  \"name\": \"recap_csv\",\n  \"rows\": 2,\n  \"fields\": [\n    {\n      \"column\": \"lr\",\n      \"properties\": {\n        \"dtype\": \"string\",\n        \"num_unique_values\": 1,\n        \"samples\": [\n          \"1e-05\"\n        ],\n        \"semantic_type\": \"\",\n        \"description\": \"\"\n      }\n    },\n    {\n      \"column\": \"epochs\",\n      \"properties\": {\n        \"dtype\": \"number\",\n        \"std\": 0,\n        \"min\": 10,\n        \"max\": 10,\n        \"num_unique_values\": 1,\n        \"samples\": [\n          10\n        ],\n        \"semantic_type\": \"\",\n        \"description\": \"\"\n      }\n    },\n    {\n      \"column\": \"batch_size\",\n      \"properties\": {\n        \"dtype\": \"number\",\n        \"std\": 0,\n        \"min\": 16,\n        \"max\": 16,\n        \"num_unique_values\": 1,\n        \"samples\": [\n          16\n        ],\n        \"semantic_type\": \"\",\n        \"description\": \"\"\n      }\n    },\n    {\n      \"column\": \"dropout\",\n      \"properties\": {\n        \"dtype\": \"number\",\n        \"std\": 0,\n        \"min\": 0,\n        \"max\": 0,\n        \"num_unique_values\": 1,\n        \"samples\": [\n          0\n        ],\n        \"semantic_type\": \"\",\n        \"description\": \"\"\n      }\n    },\n    {\n      \"column\": \"ood\",\n      \"properties\": {\n        \"dtype\": \"boolean\",\n        \"num_unique_values\": 2,\n        \"samples\": [\n          true\n        ],\n        \"semantic_type\": \"\",\n        \"description\": \"\"\n      }\n    },\n    {\n      \"column\": \"f1-score\",\n      \"properties\": {\n        \"dtype\": \"string\",\n        \"num_unique_values\": 1,\n        \"samples\": [\n          \"0.29\"\n        ],\n        \"semantic_type\": \"\",\n        \"description\": \"\"\n      }\n    }\n  ]\n}"
            }
          },
          "metadata": {},
          "execution_count": 79
        }
      ],
      "source": [
        "recap_csv = pd.read_csv('/content/drive/MyDrive/NLP/task_A/recap.csv', sep=',')\n",
        "\n",
        "recap_csv['lr'] = recap_csv['lr'].apply(scientificNotation)\n",
        "recap_csv['f1-score'] = recap_csv['f1-score'].apply(truncateFloat)\n",
        "\n",
        "recap_csv.head()"
      ]
    },
    {
      "cell_type": "code",
      "execution_count": null,
      "metadata": {
        "id": "lCEJ8LsIGP09",
        "colab": {
          "base_uri": "https://localhost:8080/",
          "height": 112
        },
        "outputId": "f034b72b-05e4-48c6-d3b0-1669de085c36"
      },
      "outputs": [
        {
          "output_type": "execute_result",
          "data": {
            "text/plain": [
              "      lr  epochs  batch_size  dropout    ood f1-score\n",
              "0  1e-05       5          16      0.1  False     0.33\n",
              "1  1e-05       5          16      0.1   True     0.30"
            ],
            "text/html": [
              "\n",
              "  <div id=\"df-90324cec-25fe-43f9-9dff-2edf4c518805\" class=\"colab-df-container\">\n",
              "    <div>\n",
              "<style scoped>\n",
              "    .dataframe tbody tr th:only-of-type {\n",
              "        vertical-align: middle;\n",
              "    }\n",
              "\n",
              "    .dataframe tbody tr th {\n",
              "        vertical-align: top;\n",
              "    }\n",
              "\n",
              "    .dataframe thead th {\n",
              "        text-align: right;\n",
              "    }\n",
              "</style>\n",
              "<table border=\"1\" class=\"dataframe\">\n",
              "  <thead>\n",
              "    <tr style=\"text-align: right;\">\n",
              "      <th></th>\n",
              "      <th>lr</th>\n",
              "      <th>epochs</th>\n",
              "      <th>batch_size</th>\n",
              "      <th>dropout</th>\n",
              "      <th>ood</th>\n",
              "      <th>f1-score</th>\n",
              "    </tr>\n",
              "  </thead>\n",
              "  <tbody>\n",
              "    <tr>\n",
              "      <th>0</th>\n",
              "      <td>1e-05</td>\n",
              "      <td>5</td>\n",
              "      <td>16</td>\n",
              "      <td>0.1</td>\n",
              "      <td>False</td>\n",
              "      <td>0.33</td>\n",
              "    </tr>\n",
              "    <tr>\n",
              "      <th>1</th>\n",
              "      <td>1e-05</td>\n",
              "      <td>5</td>\n",
              "      <td>16</td>\n",
              "      <td>0.1</td>\n",
              "      <td>True</td>\n",
              "      <td>0.30</td>\n",
              "    </tr>\n",
              "  </tbody>\n",
              "</table>\n",
              "</div>\n",
              "    <div class=\"colab-df-buttons\">\n",
              "\n",
              "  <div class=\"colab-df-container\">\n",
              "    <button class=\"colab-df-convert\" onclick=\"convertToInteractive('df-90324cec-25fe-43f9-9dff-2edf4c518805')\"\n",
              "            title=\"Convert this dataframe to an interactive table.\"\n",
              "            style=\"display:none;\">\n",
              "\n",
              "  <svg xmlns=\"http://www.w3.org/2000/svg\" height=\"24px\" viewBox=\"0 -960 960 960\">\n",
              "    <path d=\"M120-120v-720h720v720H120Zm60-500h600v-160H180v160Zm220 220h160v-160H400v160Zm0 220h160v-160H400v160ZM180-400h160v-160H180v160Zm440 0h160v-160H620v160ZM180-180h160v-160H180v160Zm440 0h160v-160H620v160Z\"/>\n",
              "  </svg>\n",
              "    </button>\n",
              "\n",
              "  <style>\n",
              "    .colab-df-container {\n",
              "      display:flex;\n",
              "      gap: 12px;\n",
              "    }\n",
              "\n",
              "    .colab-df-convert {\n",
              "      background-color: #E8F0FE;\n",
              "      border: none;\n",
              "      border-radius: 50%;\n",
              "      cursor: pointer;\n",
              "      display: none;\n",
              "      fill: #1967D2;\n",
              "      height: 32px;\n",
              "      padding: 0 0 0 0;\n",
              "      width: 32px;\n",
              "    }\n",
              "\n",
              "    .colab-df-convert:hover {\n",
              "      background-color: #E2EBFA;\n",
              "      box-shadow: 0px 1px 2px rgba(60, 64, 67, 0.3), 0px 1px 3px 1px rgba(60, 64, 67, 0.15);\n",
              "      fill: #174EA6;\n",
              "    }\n",
              "\n",
              "    .colab-df-buttons div {\n",
              "      margin-bottom: 4px;\n",
              "    }\n",
              "\n",
              "    [theme=dark] .colab-df-convert {\n",
              "      background-color: #3B4455;\n",
              "      fill: #D2E3FC;\n",
              "    }\n",
              "\n",
              "    [theme=dark] .colab-df-convert:hover {\n",
              "      background-color: #434B5C;\n",
              "      box-shadow: 0px 1px 3px 1px rgba(0, 0, 0, 0.15);\n",
              "      filter: drop-shadow(0px 1px 2px rgba(0, 0, 0, 0.3));\n",
              "      fill: #FFFFFF;\n",
              "    }\n",
              "  </style>\n",
              "\n",
              "    <script>\n",
              "      const buttonEl =\n",
              "        document.querySelector('#df-90324cec-25fe-43f9-9dff-2edf4c518805 button.colab-df-convert');\n",
              "      buttonEl.style.display =\n",
              "        google.colab.kernel.accessAllowed ? 'block' : 'none';\n",
              "\n",
              "      async function convertToInteractive(key) {\n",
              "        const element = document.querySelector('#df-90324cec-25fe-43f9-9dff-2edf4c518805');\n",
              "        const dataTable =\n",
              "          await google.colab.kernel.invokeFunction('convertToInteractive',\n",
              "                                                    [key], {});\n",
              "        if (!dataTable) return;\n",
              "\n",
              "        const docLinkHtml = 'Like what you see? Visit the ' +\n",
              "          '<a target=\"_blank\" href=https://colab.research.google.com/notebooks/data_table.ipynb>data table notebook</a>'\n",
              "          + ' to learn more about interactive tables.';\n",
              "        element.innerHTML = '';\n",
              "        dataTable['output_type'] = 'display_data';\n",
              "        await google.colab.output.renderOutput(dataTable, element);\n",
              "        const docLink = document.createElement('div');\n",
              "        docLink.innerHTML = docLinkHtml;\n",
              "        element.appendChild(docLink);\n",
              "      }\n",
              "    </script>\n",
              "  </div>\n",
              "\n",
              "\n",
              "<div id=\"df-427680d7-6fb7-43b2-9382-26765a40f147\">\n",
              "  <button class=\"colab-df-quickchart\" onclick=\"quickchart('df-427680d7-6fb7-43b2-9382-26765a40f147')\"\n",
              "            title=\"Suggest charts\"\n",
              "            style=\"display:none;\">\n",
              "\n",
              "<svg xmlns=\"http://www.w3.org/2000/svg\" height=\"24px\"viewBox=\"0 0 24 24\"\n",
              "     width=\"24px\">\n",
              "    <g>\n",
              "        <path d=\"M19 3H5c-1.1 0-2 .9-2 2v14c0 1.1.9 2 2 2h14c1.1 0 2-.9 2-2V5c0-1.1-.9-2-2-2zM9 17H7v-7h2v7zm4 0h-2V7h2v10zm4 0h-2v-4h2v4z\"/>\n",
              "    </g>\n",
              "</svg>\n",
              "  </button>\n",
              "\n",
              "<style>\n",
              "  .colab-df-quickchart {\n",
              "      --bg-color: #E8F0FE;\n",
              "      --fill-color: #1967D2;\n",
              "      --hover-bg-color: #E2EBFA;\n",
              "      --hover-fill-color: #174EA6;\n",
              "      --disabled-fill-color: #AAA;\n",
              "      --disabled-bg-color: #DDD;\n",
              "  }\n",
              "\n",
              "  [theme=dark] .colab-df-quickchart {\n",
              "      --bg-color: #3B4455;\n",
              "      --fill-color: #D2E3FC;\n",
              "      --hover-bg-color: #434B5C;\n",
              "      --hover-fill-color: #FFFFFF;\n",
              "      --disabled-bg-color: #3B4455;\n",
              "      --disabled-fill-color: #666;\n",
              "  }\n",
              "\n",
              "  .colab-df-quickchart {\n",
              "    background-color: var(--bg-color);\n",
              "    border: none;\n",
              "    border-radius: 50%;\n",
              "    cursor: pointer;\n",
              "    display: none;\n",
              "    fill: var(--fill-color);\n",
              "    height: 32px;\n",
              "    padding: 0;\n",
              "    width: 32px;\n",
              "  }\n",
              "\n",
              "  .colab-df-quickchart:hover {\n",
              "    background-color: var(--hover-bg-color);\n",
              "    box-shadow: 0 1px 2px rgba(60, 64, 67, 0.3), 0 1px 3px 1px rgba(60, 64, 67, 0.15);\n",
              "    fill: var(--button-hover-fill-color);\n",
              "  }\n",
              "\n",
              "  .colab-df-quickchart-complete:disabled,\n",
              "  .colab-df-quickchart-complete:disabled:hover {\n",
              "    background-color: var(--disabled-bg-color);\n",
              "    fill: var(--disabled-fill-color);\n",
              "    box-shadow: none;\n",
              "  }\n",
              "\n",
              "  .colab-df-spinner {\n",
              "    border: 2px solid var(--fill-color);\n",
              "    border-color: transparent;\n",
              "    border-bottom-color: var(--fill-color);\n",
              "    animation:\n",
              "      spin 1s steps(1) infinite;\n",
              "  }\n",
              "\n",
              "  @keyframes spin {\n",
              "    0% {\n",
              "      border-color: transparent;\n",
              "      border-bottom-color: var(--fill-color);\n",
              "      border-left-color: var(--fill-color);\n",
              "    }\n",
              "    20% {\n",
              "      border-color: transparent;\n",
              "      border-left-color: var(--fill-color);\n",
              "      border-top-color: var(--fill-color);\n",
              "    }\n",
              "    30% {\n",
              "      border-color: transparent;\n",
              "      border-left-color: var(--fill-color);\n",
              "      border-top-color: var(--fill-color);\n",
              "      border-right-color: var(--fill-color);\n",
              "    }\n",
              "    40% {\n",
              "      border-color: transparent;\n",
              "      border-right-color: var(--fill-color);\n",
              "      border-top-color: var(--fill-color);\n",
              "    }\n",
              "    60% {\n",
              "      border-color: transparent;\n",
              "      border-right-color: var(--fill-color);\n",
              "    }\n",
              "    80% {\n",
              "      border-color: transparent;\n",
              "      border-right-color: var(--fill-color);\n",
              "      border-bottom-color: var(--fill-color);\n",
              "    }\n",
              "    90% {\n",
              "      border-color: transparent;\n",
              "      border-bottom-color: var(--fill-color);\n",
              "    }\n",
              "  }\n",
              "</style>\n",
              "\n",
              "  <script>\n",
              "    async function quickchart(key) {\n",
              "      const quickchartButtonEl =\n",
              "        document.querySelector('#' + key + ' button');\n",
              "      quickchartButtonEl.disabled = true;  // To prevent multiple clicks.\n",
              "      quickchartButtonEl.classList.add('colab-df-spinner');\n",
              "      try {\n",
              "        const charts = await google.colab.kernel.invokeFunction(\n",
              "            'suggestCharts', [key], {});\n",
              "      } catch (error) {\n",
              "        console.error('Error during call to suggestCharts:', error);\n",
              "      }\n",
              "      quickchartButtonEl.classList.remove('colab-df-spinner');\n",
              "      quickchartButtonEl.classList.add('colab-df-quickchart-complete');\n",
              "    }\n",
              "    (() => {\n",
              "      let quickchartButtonEl =\n",
              "        document.querySelector('#df-427680d7-6fb7-43b2-9382-26765a40f147 button');\n",
              "      quickchartButtonEl.style.display =\n",
              "        google.colab.kernel.accessAllowed ? 'block' : 'none';\n",
              "    })();\n",
              "  </script>\n",
              "</div>\n",
              "    </div>\n",
              "  </div>\n"
            ],
            "application/vnd.google.colaboratory.intrinsic+json": {
              "type": "dataframe",
              "variable_name": "recap_prep_csv",
              "summary": "{\n  \"name\": \"recap_prep_csv\",\n  \"rows\": 2,\n  \"fields\": [\n    {\n      \"column\": \"lr\",\n      \"properties\": {\n        \"dtype\": \"string\",\n        \"num_unique_values\": 1,\n        \"samples\": [\n          \"1e-05\"\n        ],\n        \"semantic_type\": \"\",\n        \"description\": \"\"\n      }\n    },\n    {\n      \"column\": \"epochs\",\n      \"properties\": {\n        \"dtype\": \"number\",\n        \"std\": 0,\n        \"min\": 5,\n        \"max\": 5,\n        \"num_unique_values\": 1,\n        \"samples\": [\n          5\n        ],\n        \"semantic_type\": \"\",\n        \"description\": \"\"\n      }\n    },\n    {\n      \"column\": \"batch_size\",\n      \"properties\": {\n        \"dtype\": \"number\",\n        \"std\": 0,\n        \"min\": 16,\n        \"max\": 16,\n        \"num_unique_values\": 1,\n        \"samples\": [\n          16\n        ],\n        \"semantic_type\": \"\",\n        \"description\": \"\"\n      }\n    },\n    {\n      \"column\": \"dropout\",\n      \"properties\": {\n        \"dtype\": \"number\",\n        \"std\": 0.0,\n        \"min\": 0.1,\n        \"max\": 0.1,\n        \"num_unique_values\": 1,\n        \"samples\": [\n          0.1\n        ],\n        \"semantic_type\": \"\",\n        \"description\": \"\"\n      }\n    },\n    {\n      \"column\": \"ood\",\n      \"properties\": {\n        \"dtype\": \"boolean\",\n        \"num_unique_values\": 2,\n        \"samples\": [\n          true\n        ],\n        \"semantic_type\": \"\",\n        \"description\": \"\"\n      }\n    },\n    {\n      \"column\": \"f1-score\",\n      \"properties\": {\n        \"dtype\": \"string\",\n        \"num_unique_values\": 2,\n        \"samples\": [\n          \"0.30\"\n        ],\n        \"semantic_type\": \"\",\n        \"description\": \"\"\n      }\n    }\n  ]\n}"
            }
          },
          "metadata": {},
          "execution_count": 80
        }
      ],
      "source": [
        "recap_prep_csv = pd.read_csv('/content/drive/MyDrive/NLP/task_A/recap_prep.csv', sep=',')\n",
        "\n",
        "recap_prep_csv['lr'] = recap_prep_csv['lr'].apply(scientificNotation)\n",
        "recap_prep_csv['f1-score'] = recap_prep_csv['f1-score'].apply(truncateFloat)\n",
        "\n",
        "recap_prep_csv.head()"
      ]
    },
    {
      "cell_type": "markdown",
      "metadata": {
        "id": "APCtrn3OGP09"
      },
      "source": [
        "## Conclusione\n",
        "\n",
        "Effettuando sia operazioni di preprocessing sul testo, sia variazioni in termini di iperparametri del nostro modello, i risultati esposti poco prima sono stati i migliori ottenuti, nonostante i risultati non siano esattamente soddisfacenti (sopratutto sui dati OOD).\n",
        "\n",
        "In particolare, i risultati ottenuti su dati preprocessati e OOD sono stati quelli con il punteggio più alto.\n",
        "\n",
        "Possiamo notare come orientativamente le classificazioni con accuracy più alta siano state quelle sulle etichette più frequenti (avevamo già osservato uno sbilanciamento delle etichette).\n",
        "\n",
        "Eventuali modifiche che potrebbero venire adoperate per risultati migliori potrebbero essere:\n",
        "- operazioni di data augmentation (dal momento che i dati di addestramento ammontano a neanche 6000 messaggi totali)\n",
        "- ulteriori tentativi di variazione sugli iperparametri\n",
        "\n",
        "Sono state effettuate prove usando sia una delle GPU messe a disposizione dal piano Pro di Google Colab, che una configurazione con 32GB di RAM e una 3060ti con 8 GB di VRAM, ed è emerso che a lungo andare una saturazione della memoria della GPU ha un impatto drastico sulla velocità di addestramento (fattore discriminante sulla scelta ahimé delle epoche). Senza dubbio un addestramento che spazia dalle 30 alle 50 epoche con un learning rate molto basso (dal momento che andiamo a fare fine tuning su un modello già esistente, parte fondamentale per la sequence classification) potrebbe essere una scelta ideale per mirare a uno score generale più elevato."
      ]
    }
  ],
  "metadata": {
    "kernelspec": {
      "display_name": "Python 3",
      "name": "python3"
    },
    "language_info": {
      "codemirror_mode": {
        "name": "ipython",
        "version": 3
      },
      "file_extension": ".py",
      "mimetype": "text/x-python",
      "name": "python",
      "nbconvert_exporter": "python",
      "pygments_lexer": "ipython3",
      "version": "3.10.14"
    },
    "colab": {
      "provenance": [],
      "gpuType": "L4",
      "machine_shape": "hm"
    },
    "accelerator": "GPU"
  },
  "nbformat": 4,
  "nbformat_minor": 0
}